{
 "cells": [
  {
   "cell_type": "markdown",
   "metadata": {},
   "source": [
    "# BT4222 Final Project\n",
    "\n",
    "## COVID-19 Fake News Classifier\n",
    "\n",
    "Group 13"
   ]
  },
  {
   "cell_type": "markdown",
   "metadata": {},
   "source": [
    "## Importing Packages"
   ]
  },
  {
   "cell_type": "code",
   "execution_count": 107,
   "metadata": {},
   "outputs": [
    {
     "name": "stderr",
     "output_type": "stream",
     "text": [
      "[nltk_data] Downloading package stopwords to\n",
      "[nltk_data]     C:\\Users\\edmun\\AppData\\Roaming\\nltk_data...\n",
      "[nltk_data]   Package stopwords is already up-to-date!\n",
      "[nltk_data] Downloading package wordnet to\n",
      "[nltk_data]     C:\\Users\\edmun\\AppData\\Roaming\\nltk_data...\n",
      "[nltk_data]   Package wordnet is already up-to-date!\n"
     ]
    }
   ],
   "source": [
    "# EDA\n",
    "import pandas as pd\n",
    "import matplotlib.pyplot as plt\n",
    "import numpy as np\n",
    "from numpy import save,load\n",
    "from yellowbrick.cluster import KElbowVisualizer\n",
    "from yellowbrick.cluster.elbow import kelbow_visualizer\n",
    "import seaborn as sns\n",
    "from wordcloud import WordCloud, STOPWORDS, ImageColorGenerator\n",
    "\n",
    "# NLP \n",
    "from sklearn.model_selection import train_test_split\n",
    "from sklearn.preprocessing import LabelEncoder\n",
    "from sklearn.metrics import confusion_matrix, classification_report, accuracy_score, log_loss, precision_score, recall_score, roc_auc_score\n",
    "from sklearn.manifold import TSNE\n",
    "from sklearn.feature_extraction.text import TfidfVectorizer, CountVectorizer\n",
    "from sklearn.cluster import KMeans\n",
    "\n",
    "import nltk\n",
    "from nltk.corpus import stopwords\n",
    "from  nltk.stem import SnowballStemmer\n",
    "from nltk.stem.wordnet import WordNetLemmatizer\n",
    "nltk.download('stopwords')\n",
    "nltk.download('wordnet')\n",
    "\n",
    "from gensim.models import Word2Vec\n",
    "import gensim\n",
    "\n",
    "# Deep Learning\n",
    "import tensorflow as tf\n",
    "from tensorflow import keras\n",
    "from keras.preprocessing.text import Tokenizer\n",
    "from keras.preprocessing.sequence import pad_sequences\n",
    "from keras.models import Sequential\n",
    "from keras import utils, layers\n",
    "from keras.callbacks import ReduceLROnPlateau, EarlyStopping\n",
    "\n",
    "# Ensemble\n",
    "import xgboost\n",
    "from sklearn.ensemble import RandomForestClassifier\n",
    "\n",
    "# Probabilistic \n",
    "from sklearn.naive_bayes import GaussianNB\n",
    "from sklearn.naive_bayes import MultinomialNB\n",
    "\n",
    "# Online\n",
    "from sklearn.linear_model import PassiveAggressiveClassifier\n",
    "\n",
    "\n",
    "# Support\n",
    "import re\n",
    "import os\n",
    "from collections import Counter\n",
    "import logging\n",
    "import time\n",
    "import pickle\n",
    "import itertools\n",
    "import gc"
   ]
  },
  {
   "cell_type": "markdown",
   "metadata": {},
   "source": [
    "## Settings"
   ]
  },
  {
   "cell_type": "code",
   "execution_count": 2,
   "metadata": {},
   "outputs": [
    {
     "data": {
      "text/plain": [
       "0"
      ]
     },
     "execution_count": 2,
     "metadata": {},
     "output_type": "execute_result"
    }
   ],
   "source": [
    "# SETTINGS\n",
    "GOOGLE_COLAB = False # If using Google Colab, set to true, else false.\n",
    "RANDOM_STATE = 42\n",
    "\n",
    "# DATASET\n",
    "TRAIN_SIZE = 0.8\n",
    "\n",
    "#SETTINGS\n",
    "RANDOM_STATE = 42\n",
    "\n",
    "#DATASET\n",
    "TRAIN_SIZE = 0.8\n",
    "\n",
    "# WORD2VEC \n",
    "W2V_SIZE = 300\n",
    "W2V_WINDOW = 7\n",
    "W2V_EPOCH = 32\n",
    "W2V_MIN_COUNT = 10\n",
    "\n",
    "# TENSORFLOW\n",
    "SEQUENCE_LENGTH = 300\n",
    "EPOCHS = 32\n",
    "BATCH_SIZE = 1024\n",
    "\n",
    "gc.collect()"
   ]
  },
  {
   "cell_type": "markdown",
   "metadata": {},
   "source": [
    "## Loading Datasets"
   ]
  },
  {
   "cell_type": "code",
   "execution_count": 3,
   "metadata": {},
   "outputs": [],
   "source": [
    "train_ds = pd.read_csv(\"https://raw.githubusercontent.com/edologgerbird/BT4222_project/main/data/Constraint_Train.csv\")\n",
    "val_ds = pd.read_csv(\"https://raw.githubusercontent.com/edologgerbird/BT4222_project/main/data/Constraint_Val.csv\")\n",
    "df = pd.concat([train_ds,val_ds]).reset_index()"
   ]
  },
  {
   "cell_type": "code",
   "execution_count": 4,
   "metadata": {},
   "outputs": [
    {
     "data": {
      "text/html": [
       "<div>\n",
       "<style scoped>\n",
       "    .dataframe tbody tr th:only-of-type {\n",
       "        vertical-align: middle;\n",
       "    }\n",
       "\n",
       "    .dataframe tbody tr th {\n",
       "        vertical-align: top;\n",
       "    }\n",
       "\n",
       "    .dataframe thead th {\n",
       "        text-align: right;\n",
       "    }\n",
       "</style>\n",
       "<table border=\"1\" class=\"dataframe\">\n",
       "  <thead>\n",
       "    <tr style=\"text-align: right;\">\n",
       "      <th></th>\n",
       "      <th>index</th>\n",
       "      <th>id</th>\n",
       "      <th>tweet</th>\n",
       "      <th>label</th>\n",
       "    </tr>\n",
       "  </thead>\n",
       "  <tbody>\n",
       "    <tr>\n",
       "      <th>0</th>\n",
       "      <td>0</td>\n",
       "      <td>1</td>\n",
       "      <td>The CDC currently reports 99031 deaths. In gen...</td>\n",
       "      <td>real</td>\n",
       "    </tr>\n",
       "    <tr>\n",
       "      <th>1</th>\n",
       "      <td>1</td>\n",
       "      <td>2</td>\n",
       "      <td>States reported 1121 deaths a small rise from ...</td>\n",
       "      <td>real</td>\n",
       "    </tr>\n",
       "    <tr>\n",
       "      <th>2</th>\n",
       "      <td>2</td>\n",
       "      <td>3</td>\n",
       "      <td>Politically Correct Woman (Almost) Uses Pandem...</td>\n",
       "      <td>fake</td>\n",
       "    </tr>\n",
       "    <tr>\n",
       "      <th>3</th>\n",
       "      <td>3</td>\n",
       "      <td>4</td>\n",
       "      <td>#IndiaFightsCorona: We have 1524 #COVID testin...</td>\n",
       "      <td>real</td>\n",
       "    </tr>\n",
       "    <tr>\n",
       "      <th>4</th>\n",
       "      <td>4</td>\n",
       "      <td>5</td>\n",
       "      <td>Populous states can generate large case counts...</td>\n",
       "      <td>real</td>\n",
       "    </tr>\n",
       "  </tbody>\n",
       "</table>\n",
       "</div>"
      ],
      "text/plain": [
       "   index  id                                              tweet label\n",
       "0      0   1  The CDC currently reports 99031 deaths. In gen...  real\n",
       "1      1   2  States reported 1121 deaths a small rise from ...  real\n",
       "2      2   3  Politically Correct Woman (Almost) Uses Pandem...  fake\n",
       "3      3   4  #IndiaFightsCorona: We have 1524 #COVID testin...  real\n",
       "4      4   5  Populous states can generate large case counts...  real"
      ]
     },
     "execution_count": 4,
     "metadata": {},
     "output_type": "execute_result"
    }
   ],
   "source": [
    "df.head()"
   ]
  },
  {
   "cell_type": "code",
   "execution_count": 5,
   "metadata": {},
   "outputs": [
    {
     "data": {
      "text/plain": [
       "array(['real', 'fake'], dtype=object)"
      ]
     },
     "execution_count": 5,
     "metadata": {},
     "output_type": "execute_result"
    }
   ],
   "source": [
    "df.label.unique()"
   ]
  },
  {
   "cell_type": "code",
   "execution_count": 6,
   "metadata": {},
   "outputs": [],
   "source": [
    "df = df.drop('id', axis=1)"
   ]
  },
  {
   "cell_type": "markdown",
   "metadata": {},
   "source": [
    "## Sanity Check\n",
    "\n",
    "\n"
   ]
  },
  {
   "cell_type": "markdown",
   "metadata": {},
   "source": [
    "In this section, we check for:\n",
    "1.   Null inputs\n",
    "2.   Duplicated rows"
   ]
  },
  {
   "cell_type": "code",
   "execution_count": 7,
   "metadata": {},
   "outputs": [
    {
     "name": "stdout",
     "output_type": "stream",
     "text": [
      "<class 'pandas.core.frame.DataFrame'>\n",
      "RangeIndex: 8560 entries, 0 to 8559\n",
      "Data columns (total 3 columns):\n",
      " #   Column  Non-Null Count  Dtype \n",
      "---  ------  --------------  ----- \n",
      " 0   index   8560 non-null   int64 \n",
      " 1   tweet   8560 non-null   object\n",
      " 2   label   8560 non-null   object\n",
      "dtypes: int64(1), object(2)\n",
      "memory usage: 200.8+ KB\n"
     ]
    }
   ],
   "source": [
    "df.info()"
   ]
  },
  {
   "cell_type": "code",
   "execution_count": 8,
   "metadata": {},
   "outputs": [
    {
     "data": {
      "text/plain": [
       "0"
      ]
     },
     "execution_count": 8,
     "metadata": {},
     "output_type": "execute_result"
    }
   ],
   "source": [
    "df.duplicated().sum()"
   ]
  },
  {
   "cell_type": "code",
   "execution_count": 9,
   "metadata": {},
   "outputs": [
    {
     "data": {
      "text/plain": [
       "real    4480\n",
       "fake    4080\n",
       "Name: label, dtype: int64"
      ]
     },
     "execution_count": 9,
     "metadata": {},
     "output_type": "execute_result"
    }
   ],
   "source": [
    "df.label.value_counts()"
   ]
  },
  {
   "cell_type": "code",
   "execution_count": 10,
   "metadata": {},
   "outputs": [
    {
     "data": {
      "text/plain": [
       "<AxesSubplot:>"
      ]
     },
     "execution_count": 10,
     "metadata": {},
     "output_type": "execute_result"
    },
    {
     "data": {
      "image/png": "[encoded data removed]",
      "text/plain": [
       "<Figure size 576x396 with 1 Axes>"
      ]
     },
     "metadata": {},
     "output_type": "display_data"
    }
   ],
   "source": [
    "df.label.value_counts().plot(kind='bar')"
   ]
  },
  {
   "cell_type": "markdown",
   "metadata": {},
   "source": [
    "## Data Pre-processing"
   ]
  },
  {
   "cell_type": "code",
   "execution_count": 11,
   "metadata": {},
   "outputs": [],
   "source": [
    "stop_words = stopwords.words(\"english\")\n",
    "stemmer = SnowballStemmer(\"english\")\n",
    "lemmer = WordNetLemmatizer()"
   ]
  },
  {
   "cell_type": "code",
   "execution_count": 12,
   "metadata": {},
   "outputs": [
    {
     "data": {
      "text/plain": [
       "\"i, me, my, myself, we, our, ours, ourselves, you, you're, you've, you'll, you'd, your, yours, yourself, yourselves, he, him, his, himself, she, she's, her, hers, herself, it, it's, its, itself, they, them, their, theirs, themselves, what, which, who, whom, this, that, that'll, these, those, am, is, are, was, were, be, been, being, have, has, had, having, do, does, did, doing, a, an, the, and, but, if, or, because, as, until, while, of, at, by, for, with, about, against, between, into, through, during, before, after, above, below, to, from, up, down, in, out, on, off, over, under, again, further, then, once, here, there, when, where, why, how, all, any, both, each, few, more, most, other, some, such, no, nor, not, only, own, same, so, than, too, very, s, t, can, will, just, don, don't, should, should've, now, d, ll, m, o, re, ve, y, ain, aren, aren't, couldn, couldn't, didn, didn't, doesn, doesn't, hadn, hadn't, hasn, hasn't, haven, haven't, isn, isn't, ma, mightn, mightn't, mustn, mustn't, needn, needn't, shan, shan't, shouldn, shouldn't, wasn, wasn't, weren, weren't, won, won't, wouldn, wouldn't\""
      ]
     },
     "execution_count": 12,
     "metadata": {},
     "output_type": "execute_result"
    }
   ],
   "source": [
    "\", \".join(stop_words)\n"
   ]
  },
  {
   "cell_type": "markdown",
   "metadata": {},
   "source": [
    "### Previewing Tweets"
   ]
  },
  {
   "cell_type": "code",
   "execution_count": 13,
   "metadata": {},
   "outputs": [
    {
     "name": "stdout",
     "output_type": "stream",
     "text": [
      "['States are in the dark about available beds and ICU capacity after the White House halted #COVID19 reports to the CDC. https://t.co/89HAk004ue'\n",
      " 'Thankful to Montana business leaders stepping up to keep us safe. \"If strict stay-at-home protocols are followed for the next three months the model shows a peak June 15 with 59 hospitalizations.\" via @DailyInterLake https://t.co/ayFKe7keT0'\n",
      " '#IndiaFightsCorona: A total of 86961 new cases have been reported in the last 24 hours in the country. 76% of the new confirmed cases are concentrated in 10 States/UTs. #StaySafe #IndiaWillWin https://t.co/3Wt2zkKKy4'\n",
      " 'Claim: Cow urine/dung could treat COVID-19: Assam legislator Haripriya https://t.co/6EIJ9P1TJv Fact: Such claims only add to misinformation/fear-mongering should fight disease scientifically: Anant Bhan health researcher. No preventive med/cure yet: WHO https://t.co/b3QfVqWv7U'\n",
      " '#IndiaFightsCorona: As many as 1130 deaths have been registered in the past 24 hours. 10 States/UTs account for 86% of the deaths in the last 24 hours due to COVID. Details : https://t.co/F8TWTytFVw #StaySafe #IndiaWillWin https://t.co/pZxIUabxfp'\n",
      " 'Multiple studies ???all said for decades, masks do not work with viruses.??�'\n",
      " 'A post that shows a doctor from Santiago del Estero (Argentina) who is fighting against the coronavirus.'\n",
      " '#covid19 #coronavirus #coronavirusupdate Cases /total tests in India (7 Apr): 4,911/1,40,293 = only 3.5%!\\nReasons for this GOOD NEWS:\\n\\nTB vaccination (BCG) effect.\\nTimely travel restrictions and #lockdown.\\n\\nLet’s build on the gain. #StayHome https://t.co/czCHbzTlcS'\n",
      " '“As at today a total of 323 confirmed cases of #COVID19 has been recorded and unfortunately 10 deaths. We continue to intensify our contact tracing efforts. 92% of the contacts of confirmed cases have been identified” @MBuhari on #COVID19Nigeria https://t.co/PgDbBTs0oU'\n",
      " 'A video has been viewed hundreds of thousands of times on Facebook and YouTube in March and April 2020 alongside a claim it shows a Koran recitation during a US Senate meeting attended by President Donald Trump during the COVID-19 pandemic.'\n",
      " 'RT @PIB_India: India has 3102 cases per million population one of the lowest in the world. Tests per million population are also continuo…'\n",
      " 'Although #COVID19 cases in many states declined over the last 7 days daily cases are now increasing in some states particularly in the upper Great Plains Midwest and South. Wear a mask. Stay 6 ft from others. Wash your hands. See more data: https://t.co/4Ku7nKLZCq https://t.co/3mVOhU0nqA'\n",
      " 'The pandemic is a fake excuse for Bill Gates to depopulate the Earth.'\n",
      " 'Acc to @BiharHealthDept as of 24 July 2020 a total of 429664 samples have been tested for #COVID19 of which 10456 #COVID_19 tests were conducted yesterday. #Bihar #Covid__19 #COVIDー19 #CoronaUpdates #CoronavirusIndia #CoronaVirusUpdates #coronavirus #COVIDUpdates https://t.co/9eoAVk1wbD'\n",
      " 'In the first half of 2020 WHO coordinated the logistics &amp; shipped 😷More than 3M surgical masks 🧤More than 2M gloves 🧰More than 1M diagnostic kits 🥼More than 200K gowns 🛡️More than 100K face shields to 135 countries across the🌍🌎🌏. https://t.co/iz4YQkbSGM']\n"
     ]
    }
   ],
   "source": [
    "print(df.tweet.sample(15).values)"
   ]
  },
  {
   "cell_type": "markdown",
   "metadata": {},
   "source": [
    "### Creating a column for word count"
   ]
  },
  {
   "cell_type": "code",
   "execution_count": 14,
   "metadata": {},
   "outputs": [],
   "source": [
    "df['length'] = df['tweet'].apply(lambda x: len(x.split()))"
   ]
  },
  {
   "cell_type": "markdown",
   "metadata": {},
   "source": [
    "### Preliminary Length Analysis"
   ]
  },
  {
   "cell_type": "code",
   "execution_count": 15,
   "metadata": {},
   "outputs": [
    {
     "data": {
      "text/plain": [
       "count    8560.00000\n",
       "mean       26.94778\n",
       "std        22.45087\n",
       "min         3.00000\n",
       "25%        15.00000\n",
       "50%        25.00000\n",
       "75%        37.00000\n",
       "max      1456.00000\n",
       "Name: length, dtype: float64"
      ]
     },
     "execution_count": 15,
     "metadata": {},
     "output_type": "execute_result"
    }
   ],
   "source": [
    "df['length'].describe()"
   ]
  },
  {
   "cell_type": "code",
   "execution_count": 16,
   "metadata": {},
   "outputs": [
    {
     "data": {
      "text/plain": [
       "<AxesSubplot:>"
      ]
     },
     "execution_count": 16,
     "metadata": {},
     "output_type": "execute_result"
    },
    {
     "data": {
      "image/png": "[encoded data removed]",
      "text/plain": [
       "<Figure size 576x396 with 1 Axes>"
      ]
     },
     "metadata": {},
     "output_type": "display_data"
    }
   ],
   "source": [
    "df.boxplot(column=['length'])"
   ]
  },
  {
   "cell_type": "markdown",
   "metadata": {},
   "source": [
    "We notice outliers with extreme number of words. Previewing outlier articles here."
   ]
  },
  {
   "cell_type": "code",
   "execution_count": 17,
   "metadata": {},
   "outputs": [
    {
     "data": {
      "text/html": [
       "<div>\n",
       "<style scoped>\n",
       "    .dataframe tbody tr th:only-of-type {\n",
       "        vertical-align: middle;\n",
       "    }\n",
       "\n",
       "    .dataframe tbody tr th {\n",
       "        vertical-align: top;\n",
       "    }\n",
       "\n",
       "    .dataframe thead th {\n",
       "        text-align: right;\n",
       "    }\n",
       "</style>\n",
       "<table border=\"1\" class=\"dataframe\">\n",
       "  <thead>\n",
       "    <tr style=\"text-align: right;\">\n",
       "      <th></th>\n",
       "      <th>index</th>\n",
       "      <th>tweet</th>\n",
       "      <th>label</th>\n",
       "      <th>length</th>\n",
       "    </tr>\n",
       "  </thead>\n",
       "  <tbody>\n",
       "    <tr>\n",
       "      <th>270</th>\n",
       "      <td>270</td>\n",
       "      <td>Amoxi\" Capsule made in US is the only medicine...</td>\n",
       "      <td>fake</td>\n",
       "      <td>1456</td>\n",
       "    </tr>\n",
       "    <tr>\n",
       "      <th>1109</th>\n",
       "      <td>1109</td>\n",
       "      <td>Actors\" applauded Macron when he visited the s...</td>\n",
       "      <td>fake</td>\n",
       "      <td>847</td>\n",
       "    </tr>\n",
       "    <tr>\n",
       "      <th>6306</th>\n",
       "      <td>6306</td>\n",
       "      <td>Man visited Albany N.Y. days before dying from...</td>\n",
       "      <td>fake</td>\n",
       "      <td>336</td>\n",
       "    </tr>\n",
       "    <tr>\n",
       "      <th>8153</th>\n",
       "      <td>1733</td>\n",
       "      <td>I'm so happy that we’re able to do something v...</td>\n",
       "      <td>real</td>\n",
       "      <td>304</td>\n",
       "    </tr>\n",
       "  </tbody>\n",
       "</table>\n",
       "</div>"
      ],
      "text/plain": [
       "      index                                              tweet label  length\n",
       "270     270  Amoxi\" Capsule made in US is the only medicine...  fake    1456\n",
       "1109   1109  Actors\" applauded Macron when he visited the s...  fake     847\n",
       "6306   6306  Man visited Albany N.Y. days before dying from...  fake     336\n",
       "8153   1733  I'm so happy that we’re able to do something v...  real     304"
      ]
     },
     "execution_count": 17,
     "metadata": {},
     "output_type": "execute_result"
    }
   ],
   "source": [
    "df[df['length']>150]"
   ]
  },
  {
   "cell_type": "code",
   "execution_count": 18,
   "metadata": {},
   "outputs": [
    {
     "name": "stdout",
     "output_type": "stream",
     "text": [
      "Amoxi\" Capsule made in US is the only medicine that can completely cure COVID-19.\n",
      "Egyptian Health Minister arrive in Italy with secret coronavirus cure.\n",
      " Dr Charles Lieber a Harvard professor has been arrested in the USA for manufacturing the coronavirus and selling it to China. A video news report from WCVB a TV station in Boston Massachusetts is shared with the Facebook post.\n",
      "Mountain Matterhorn in Switzerland was lit in three colours of Indian flag as a token of gratitude to India for sending Hydroxychloroquine.\n",
      "Al-Azhar Imam said he is considering exceptions on Ramadan fasting as the research says that the mouth must be kept wet to prevent COVID-19\n",
      " Japanese Nobel Tasuku Honjo says coronavirus was created in the Wuhan laboratory\n",
      "A man collapses in 5 minutes after showing COVID-19 symptoms in India.\n",
      "Celebrities spreading misinformation about coronavirus and the Janata curfew in India.\n",
      " Multiple posts shared repeatedly on Facebook and Twitter since March 2020 claim that Israel has reported zero deaths from the novel coronavirus which causes the disease COVID-19. The posts also claim Israeli citizens have protected themselves from COVID-19 by drinking a remedy of hot water lemon and baking soda which purportedly “kills” the virus.\n",
      " CDC suddenly lost 30000 deaths from coronavirus from its data thus proving the virus is not as serious as it seems.\n",
      "Photos of coronavirus patients being treated on the road in Italy.\n",
      "Indian actor Shah Rukh Khan donated money to Pakistan to fight coronavirus and did not help India at all.\n",
      "Russian President Vladimir Putin has ordered Russia’s population to stay at home for 15 days or face five years in jail.\n",
      "Indian Army has set-up a 1000 bed quarantine facility in Rajasthan's Barmer.\n",
      "Leonardo Da Vinci Hospital a COVID-19 reference hospital in Fortaleza Brazil is empty. A video \"proves\" there was no one at the areas open to the public.\n",
      " President Trump's claim that he inherited no ventilators from the Obama administration.\n",
      "An audio where an unidentified person links the virus that causes COVID-19 with the massive flu vaccination campaign.\n",
      "Black body bags being referred to as deaths in New York and the reason a lockdown is essential.\n",
      "Mustard oil prevents a person from getting infected with COVID-19.\n",
      "North Carolina’s health department is \"telling hospitals that if they decide to do elective surgeries they won’t be eligible to receive (protective equipment) from the state.”\n",
      " After coronavirus pandemic Chinese president said it's China's time to lead the world.\n",
      "The nurses that Boris Johnson claimed saved his life are not registered in the UK.\n",
      "A claim that India’s Ministry of Home Affairs has made it a “punishable offense” for citizens to publish posts on social media about the novel coronavirus has been shared repeatedly on Facebook Twitter and WhatsApp.\n",
      " Says Nancy Pelosi was “caught trying to include abortion funding in bill to combat coronavirus.”\n",
      "A video of a man rebuking foreigners has been viewed thousands of times on social media alongside a claim that the Guinean government has ordered the arrest of all Chinese nationals in the country while awaiting the safe return of Guineans from China.\n",
      " The U.S. is the only country on earth that is protesting being locked down.\n",
      "Photo of Kurnool MLA (Hafeez Khan) making a nurse to touch the feet of a religious head in Viswabharathi Medical College who had to come to the COVID-19 quarantine facility.\n",
      "New York State Governor shows data that proves that isolation is ineffective against COVID-19.\n",
      "Homeopathic product Oscillococcinum protects against COVID-19.\n",
      "CDC admitted to lying about COVID-19 death stats.\n",
      "Notice for preparing emergency drugs was released on social media for alumni of Seoul National University College of Medicine.\n",
      "Belgian doctors turn their back on WHO director.\n",
      "Dr. Li Wenliang (the Chinese whistleblower doctor) has proposed that drinking tea can cure COVID-19.\n",
      "Any person arrested for violating lockdown in the night will not get bail until the lockdown is over in the state of Gujarat in India.\n",
      " US President Donald Trump tested positive for COVID-19.\n",
      "A picture with a quote from doctor Vincenzo Puro who allegedly said that asymptomatic people cannot infect others that the virus is not lethal and that the pandemic is a \"hoax\".\n",
      " Prince Charles recovered from COVID-19 with the help of Ayurvedic treatment.\n",
      " A video shows a Superintendent of police announcing the extension of Lokckdown in Maharashtra India till May 30.\n",
      " A WhatsApp audio claims that the Infanta Sofía Hospital in Madrid has 15 children in serious condition due to COVID-19 and that there are three other children in the Talavera de la Reina Hospital.\n",
      "Video shows coronavirus patients and doctors.\n",
      "A video claims to show that the Nigerian government has spent US$2 million to \"import\" Chinese doctors and supplies.\n",
      "Riots in London due to the unavailability of food items. The United Kingdom will be locked down by tonight. Army soldiers take to the UK streets.\n",
      "A set of claims passed as instructions to be followed during the COVID-19 pandemic period.\n",
      " Facebook post claims that the Latvian app Apturi Covid (Stop Covid) which was created to warn people who have been close to an infected person will be used so the government can track all the people from the contact list and record their locations.\n",
      "Aaj Tak channel aired a program that said drinking alcohol or smoking weed can cure COVID-19.\n",
      " President Donald Trump tweeted “Coronavirus vaccine from Israel! Stock market up! Economy even stronger now! Besides US Israel best at inventions: Judaism olives. Wonderful vaccine will stop Corona DEAD around world. Can’t make vaccines when being bombed not have been possible without peace I created in Israel!”\n",
      "Italy official Giulio Gallera: China lies to us. The date China provided is false. Italy has become Wuhan and the medical system has a breakdown.\n",
      "João Doria governor of São Paulo forbade doctors to give chloroquine to COVID-19 patients.\n",
      "A blog post has been shared thousands of times in multiple Facebook posts which claim it shows a video of a baby who died after being infected with the novel coronavirus which causes the disease COVID-19.\n",
      " A vaccine for coronavirus was available since 2001.\n",
      " Video showing policemen picking banknotes with sticks linking it with coronavirus.\n",
      "We can't make a vaccine that works for flu no vaccine for the respiratory syncytial virus (RSV) and we can't cure cancer. Yet somehow scientists can make a vaccine for COVID-19 in six months?\n",
      "Mumbai and Pune is going under military lockdown\n",
      "What we need to do to defeat the coronavirus is to consume more alkaline foods above the virus’ pH level.\n",
      "Indian Actor Aamir Khan gives Rs. 15000 to poor people in 1Kg wheat flour.\n",
      " The photo shows the funeral of Turkish deceased general Aytac Yalman due to COVID-19.\n",
      "The coronavirus responsible for COVID-19 is a mix of SARS and HIV.\n",
      "Two doctors in Bakersfield California said at a press conference that isolation measures affect the immune system and that unrestrictive controls in countries like Sweden have worked.\n",
      " Article says that the Vatican confirmed that the Pope and two assistants have coronavirus.\n",
      "Herbal tea made of malunggay and kamias leaves is a cure for COVID-19 the disease caused by the novel coronavirus.\n",
      "A video of police officers immobilizing a screaming woman. The caption states that they were being beaten by the police because they refuse to go to their houses during lockdown in Minas Gerais Brazil\n",
      " Cuba's low number of COVID-19 deaths is due to its use of hydroxychloroquine to treat patients\n",
      "A video of the doctor linked to the anti-vaccine movement Chinda Brandolino on the origin of COVID-19.\n",
      " There is a confirmed case of coronavirus in a Bogotá hospital.\n",
      "A video showing migrant laborers from Surat city in India are being sent back to Surat after their home states refused to take them back at the state border.\n",
      "Ohio Gov. Mike DeWine released 4300 prisoners and is now warning residents of a possible crime wave.\n",
      " It's not a virus but 5G that is causing disease and deaths\n",
      "An arrest by the Federal Bureau of Investigation (FBI) of a professor who had ties to China is connected to the coronavirus pandemic.\n",
      "A photo of a list of purported symptoms and treatments for the novel coronavirus which causes the disease COVID-19 has been shared hundreds of times in multiple posts on Facebook Twitter and Instagram. The purported remedies include a daily dose of vitamins; exposure to sunlight; and a diet of alkaline foods.\n",
      " Police catches coronavirus positive patient on the road.\n",
      " In the 30-second viral video a man lifts his shirt and challenges aa police officer who is pointing a gun at him. Another police officer kicks the man from behind pins him down on the road and makes an arrest. The text overlaid on the video reads \"Italy says lockdown they mean it.\n",
      "Actors\" applauded Macron when he visited the suburban city of Pantin near Paris.\n",
      " A video of a man in front of the Pacaembu Stadium in São Paulo where a field hospital for COVID-19 patients was built. He claims that since there's no movement in the entrance no one waiting to get in there's no one inside either.\n",
      " The dean of the College of Biologists of Euskadi states that there are a lot of PCR false positives and asymptomatic don't spread coronavirus.\n",
      " In Nagpur's Medical Hospital the kidney of the patient was removed and the excuse was made that the patient had corona.\n",
      " With the novel coronavirus sending the US economy into freefall posts that list phone numbers for job seekers to call and find work have been shared thousands of times on Facebook and Instagram.\n",
      "People in Italy are threw away their money after they lost their family members to coronavirus.\n",
      "COVID-19 is human-made and an American biological weapon\n",
      "“Fish tank additive may treat coronavirus.”\n",
      " “Everyone is only dying of coronavirus now.”\n",
      "There has been no death due to COVID-19 in Israel as they mix lemon and baking soda in their tea. This combination kills coronavirus.\n",
      " A alleged tweet from General Heleno Minister of Institutional Security (sort of like Ministry for the Interior) in Brazil. It says COVID-19 is not strong since he himself and president Jair Bolsonaro had it and recovered easily. Bolsonaro always denied having COVID-19.\n",
      " A post says that Donald Trump has said on March 17th that people who never died before are dying now.\n",
      " There is no home vaccination against coronavirus in Cuba.\n",
      " Picture shows clothes of those who have died of coronavirus in China. Beijing is now shipping these clothes to Africa.\n",
      "An American CEO drew the Indian map comparing the population of each Indian state to that of countries across the world highlighting how India is indirectly handling the COVID-19 crisis of so many countries.\n",
      "A picture showing many hospital beds with patients on it concentrated in very small area. The caption states that this is how public health was like in Brazil in 2016 but the media never talked about it.\n",
      "President Barack Obama “waited six months to call swine flu an emergency after thousands died.”\n",
      " The men of India's railway minister demanding money from helpless workers for walking on the tracks.\n",
      "These are doctors in Tijuana taking a nap on the floor of a hospital.\n",
      "Photo of a mannequin being wheeled into a hospital shows the COVID-19 coverup.\n",
      " Four people have died in Zanzibar after handling a chicken infected with COVID-19.\n",
      "Post says no one has died from the coronavirus in the United States.\n",
      " Video showing a Muslim man throwing notes to spread coronavirus\n",
      "Industrialist Ratan Tata's view on economic downfall due to COVID-19.\n",
      "If you can hold your breath for 10 seconds then you don't have fibrosis and therefore no infection. Picture of text in English describing the method.\n",
      "“Hydroxychloroquine cures this ‘virus.’ It just so happens this is the treatment used for radiation sickness!!”\n",
      " Senegalese doctor says chloroquine is the secret for a very low number of deaths by COVID-19 in Senegal.\n",
      "Medical report of Hospital General Universitario Santa Lucía de Cartagena (Murcia) from a person with possible coronavirus.\n",
      " The NBA is asking President Donald Trump to “resign or we’ll never play again.”\n",
      "Image of a critically ill COVID-19 infected woman hugging her child for the last time before her death\n",
      "“Every election year has a disease” -- SARS in 2004; avian flu in 2008; swine flu in 2010; MERS in 2012; Ebola in 2014 and 2018; Zika in 2016 and the coronavirus in 2020.\n",
      " Details of three coronavirus positive cases reported in Kothapet (Hyderabad India).\n",
      "All social media group admins are requested to close their groups for two days.\n",
      " João Doria governor of São Paulo caught COVID-19 while isolated. He also took a Chinese vaccine that is being tested in Brazil\n",
      "An Instagram post claims Microsoft founder Bill Gates said up to 700000 people could die from a COVID-19 vaccine.\n",
      "Priyanka Gandhi has started buses to help migrants travel during the COVID-19 lockdown.\n",
      "A claim was made that India found a cure to coronavirus\n",
      " Saddam Hussein talked about coronavirus to his cabinet and army in the nineties. He said that America has threatened him to spread this virus if he doesn't follow their command.\n",
      "A photo has been shared hundreds of times on Facebook and Twitter alongside a claim it shows a nurse apologising to a Muslim man after she blamed the Muslim community for spreading COVID-19 in India. The posts claim the nurse was forced to apologise by a local politician.\n",
      "A document that talks about the benefits of wine to prevent coronavirus.\n",
      "Pregnant women must undergo a caesarean section during the pandemic.\n",
      "“All U.S. citizens are entitled to $700 USD per week to stay at home to avoid the spread of COVID-19 novel coronavirus starting 3/17/20.”\n",
      " A picture with a quote attributed to Bill Gates stating: \"The vaccine won't be safe but let's get it out quickly anyway and worry about the consequences later\n",
      "Man visited Albany N.Y. days before dying from coronavirus.”\n",
      "A video (allegedly) of the Hospital das Clínicas São Paulo. It shows an empty waiting room. The person filming says that the government is lying when it says there are COVID-19 patients in the hospital.\n",
      "US state-owned media-services provider Nites TV is now free for everyone to encourage people to stay home.\n",
      " 31 coronavirus patients have recovered in Ghana.\n",
      "Claims that drinking boiled garlic water cures novel coronavirus.\n",
      "The total number of COVID-19 deaths decreased in Manaus Brazil from 150 to 2 after a visit from health minister Nelson Teich. This happened because he started to investigate fraudulent deaths.\n",
      " 30 cases of new coronavirus in the city of Barranquilla in Colombia.\n",
      "Mumbai city's municipal body asks people to drink boiled water as a remedy to coronavirus.\n",
      " Trump claims Speaker Nancy Pelosi deleted a tweet about her visit to Chinatown in February\n",
      " Some reporters visited the British Prime Minister Boris Johnson after he recovered from his illness. His home looks like an old abandoned military hut with very old brick walls. The living room was too small so brought out the tea tray for the reporters. All the cups are different. He met them with disheveled hair and casual clothes but with the confident smile of a Prime Minister\n",
      " The Bill and Melinda Gates Foundation headquarters is called the \"Centre for Global Human Population Reduction\".\n",
      "Doctors cannon lose their professional license for refusing to prescribe hydroxychloroquine.\n",
      "Mass disinfection of people using a chemical solution will eradicate COVID-19 .\n",
      " The image shows COVID-19 patients and the state of coronavirus isolation ward in Pakistan.\n",
      "A viral image of a doctor who died from treating patients with coronavirus at the Llano de Corrientes Hospital Argentina.\n",
      "Fennel tea is a cure against the new coronavirus.\n",
      "Komal Mishra a staff nurse at a hospital in Pune India died while due to coronavirus.\n",
      " Tablik Jamaat Chief Maulana Saad: \"If 70000 people get coronavirus India will be destroyed. The country will be in our possession.\n",
      "I'm so happy that we’re able to do something very concrete that will help people” says Cynthia Ogden who leads a team at the National Health and Nutrition Examination Survey. The team turned their lab vehicles into mobile #COVID19 testing sites: https://t.co/JDbd7PMZ4z. https://t.co/B1pBH5j6ul\n",
      "A statewide survey of Indiana residents in late April estimated that #COVID19 infections were 10 times that of reported cases which is in line with previous antibody studies. Learn more in @CDCMMWR: https://t.co/wsN4MvDIKk. https://t.co/4bcpBPulRN\n",
      "Late April/early May antibody tests from some Atlanta households showed most residents had not been infected with #COVID19. Black residents had higher rates of past infection highlighting the need to address racial &amp; ethnic health inequities. Learn more: https://t.co/LXO2LpafJq. https://t.co/liNvsdrkQ8\n",
      "Parents: Help your grad stay healthy no matter where life takes them. Whether it’s finding a doctor scheduling checkups filling prescriptions or handling emergencies use these tips to help them make their health a priority. https://t.co/t52MyNZwPk #ClassOf2020 https://t.co/7juvWI9U1d\n",
      "New report: Based on a study of the number of people with SARS-CoV-2 antibodies in 10 U.S. metro areas in spring 2020 the estimated number of #COVID19 cases in 7 of the 10 areas studied was 10x higher than the number of reported cases. Read more: https://t.co/fz4OgRsHjI. https://t.co/pwYazN2Iq1\n",
      "Wearing a cloth face covering correctly can help prevent the spread of #COVID19 to others. When you go out on essential trips follow these “do’s”. If you have a child remember those under age 2 should not wear a face covering. See https://t.co/lxWMe4NUBD. https://t.co/tIDUpq6mBO\n",
      "Public health professionals and students: Join us live on Facebook today at 1pm ET for #CDCGrandRounds to hear acute flaccid myelitis (AFM) experts discuss clinical presentation treatment rehabilitation and prevention research updates. https://t.co/uD0xXEe4PR https://t.co/9EjyNX7S13\n",
      "RT @CDC_HIVAIDS: CDC's COVID-19 and HIV\" webpage is updated as new facts and resources become available. Visit today to learn how people w…\n"
     ]
    }
   ],
   "source": [
    "for tweet in df['tweet'][df['length']>150].values:\n",
    "  print(tweet)"
   ]
  },
  {
   "cell_type": "markdown",
   "metadata": {},
   "source": [
    "We will remove the outlier articles to reduce noise when building our models."
   ]
  },
  {
   "cell_type": "code",
   "execution_count": 19,
   "metadata": {},
   "outputs": [],
   "source": [
    "df = df[df['length'] < 150]"
   ]
  },
  {
   "cell_type": "code",
   "execution_count": 20,
   "metadata": {},
   "outputs": [
    {
     "data": {
      "text/plain": [
       "(0.0, 200.0)"
      ]
     },
     "execution_count": 20,
     "metadata": {},
     "output_type": "execute_result"
    },
    {
     "data": {
      "image/png": "[encoded data removed]",
      "text/plain": [
       "<Figure size 576x396 with 1 Axes>"
      ]
     },
     "metadata": {},
     "output_type": "display_data"
    }
   ],
   "source": [
    "plt.hist(df['length'],bins=30)\n",
    "plt.gca().set(title='Frequency Histogram of Article Length', ylabel='Frequency', xlabel='Length')\n",
    "plt.xlim(0,200)\n"
   ]
  },
  {
   "cell_type": "markdown",
   "metadata": {},
   "source": [
    "### Text Cleaning\n",
    "\n",
    "- Transform to lowercase\n",
    "- Remove trailing white spaces\n",
    "- Remove stopwords\n",
    "- Stem and lemmatize words to root form"
   ]
  },
  {
   "cell_type": "code",
   "execution_count": 21,
   "metadata": {},
   "outputs": [],
   "source": [
    "TEXT_CLEANING_RE = \"https?:\\S+|http?:\\S|[^A-Za-z0-9]+\"\n",
    "\n",
    "def preprocess(text):\n",
    "    text = re.sub(TEXT_CLEANING_RE, ' ', str(text).lower()).strip()\n",
    "    tokens = []\n",
    "    for token in text.split():\n",
    "        if token not in stop_words:\n",
    "            tokens.append(lemmer.lemmatize(stemmer.stem(token)))\n",
    "    return \" \".join(tokens)"
   ]
  },
  {
   "cell_type": "code",
   "execution_count": 22,
   "metadata": {},
   "outputs": [],
   "source": [
    "df.tweet = df.tweet.apply(lambda x:preprocess(x))"
   ]
  },
  {
   "cell_type": "code",
   "execution_count": 23,
   "metadata": {},
   "outputs": [
    {
     "name": "stdout",
     "output_type": "stream",
     "text": [
      "['indiafightscorona 8 lakh averag test everi day india scale covid 19 test test per million tpm 27000 staysaf indiawillwin'\n",
      " 'polic personnel infect coronavirus bihar hajipur'\n",
      " 'accord vegetarian affect coronavirus need anim fat bodi surviv'\n",
      " 'inhal hot water steam kill coronavirus'\n",
      " 'italian mp sara cunial say bill gate kill peopl vaccin termin seed behind covid 19 pandem'\n",
      " 'doctor give rescu pack peopl pre exist respiratori condit'\n",
      " 'news racist furious suggest wear muslim style face veil fight dead coronavirus'\n",
      " 'cdelis benzorn tri maxim transpar given wild uneven qualiti data come state site explain number tabl alexismadrig'\n",
      " 'coronavirus live 12 hour surfac'\n",
      " 'nashvill man momentarili lap polit correct regular correct health coronavirus'\n",
      " 'see latest cdc covidview report new data covid19 like ill hospit rate death check'\n",
      " 'video news report claim whatsapp go suspend brazil caption state suspens go take place misinform regard covid 19'\n",
      " 'updat minhealthnz new case covid 19 report today number activ case nz remain 22 activ case recent return oversea manag isol facil case communiti transmiss'\n",
      " 'african union au valid covid organ malagasi remedi 2019 ncov new coronavirus'\n",
      " 'latest cdc covidview report show percentag peopl test posit nation covid19 continu increas particular southeast southwest coast south central part countri learn']\n"
     ]
    }
   ],
   "source": [
    "print(df.tweet.sample(15).values)"
   ]
  },
  {
   "cell_type": "markdown",
   "metadata": {},
   "source": [
    "## Exploratory Data Analysis"
   ]
  },
  {
   "cell_type": "markdown",
   "metadata": {},
   "source": [
    "### Length Analysis"
   ]
  },
  {
   "cell_type": "code",
   "execution_count": 24,
   "metadata": {},
   "outputs": [
    {
     "data": {
      "text/plain": [
       "<AxesSubplot:title={'center':'length'}, xlabel='label'>"
      ]
     },
     "execution_count": 24,
     "metadata": {},
     "output_type": "execute_result"
    },
    {
     "data": {
      "image/png": "[encoded data removed]",
      "text/plain": [
       "<Figure size 576x396 with 1 Axes>"
      ]
     },
     "metadata": {},
     "output_type": "display_data"
    }
   ],
   "source": [
    "df.boxplot(column=[\"length\"], by=\"label\")"
   ]
  },
  {
   "cell_type": "code",
   "execution_count": 25,
   "metadata": {},
   "outputs": [
    {
     "data": {
      "text/plain": [
       "<AxesSubplot:xlabel='length', ylabel='Density'>"
      ]
     },
     "execution_count": 25,
     "metadata": {},
     "output_type": "execute_result"
    },
    {
     "data": {
      "image/png": "[encoded data removed]",
      "text/plain": [
       "<Figure size 576x396 with 1 Axes>"
      ]
     },
     "metadata": {},
     "output_type": "display_data"
    }
   ],
   "source": [
    "sns.kdeplot(data=df, x=\"length\", hue=\"label\", shade=True)"
   ]
  },
  {
   "cell_type": "markdown",
   "metadata": {},
   "source": [
    "Fake news tends to be short than real news. "
   ]
  },
  {
   "cell_type": "markdown",
   "metadata": {},
   "source": [
    "### Word Clouds"
   ]
  },
  {
   "cell_type": "markdown",
   "metadata": {},
   "source": [
    "#### Setting word exclusions from our wordclouds"
   ]
  },
  {
   "cell_type": "code",
   "execution_count": 26,
   "metadata": {},
   "outputs": [],
   "source": [
    "cloud_stop = set(STOPWORDS)\n",
    "cloud_stop.update([\"covid\", \"coronavirus\", \"case\", \"covid-19\", \"peopl\", \"covid19\", \"amp\"])"
   ]
  },
  {
   "cell_type": "code",
   "execution_count": 27,
   "metadata": {},
   "outputs": [],
   "source": [
    "def generate_wordcloud(text):\n",
    "    wordcloud = WordCloud(stopwords=cloud_stop, background_color=\"white\").generate(text)\n",
    "    plt.imshow(wordcloud, interpolation='bilinear')\n",
    "    plt.axis(\"off\")\n",
    "    plt.show()"
   ]
  },
  {
   "cell_type": "markdown",
   "metadata": {},
   "source": [
    "#### Word Cloud for ALL text"
   ]
  },
  {
   "cell_type": "code",
   "execution_count": 28,
   "metadata": {},
   "outputs": [
    {
     "data": {
      "image/png": "[encoded data removed]",
      "text/plain": [
       "<Figure size 576x396 with 1 Axes>"
      ]
     },
     "metadata": {},
     "output_type": "display_data"
    }
   ],
   "source": [
    "all_text = \" \".join(tweet for tweet in df.tweet)\n",
    "generate_wordcloud(all_text)"
   ]
  },
  {
   "cell_type": "markdown",
   "metadata": {},
   "source": [
    "#### Word Cloud for Fake News"
   ]
  },
  {
   "cell_type": "code",
   "execution_count": 28,
   "metadata": {},
   "outputs": [
    {
     "data": {
      "image/png": "[encoded data removed]",
      "text/plain": [
       "<Figure size 576x396 with 1 Axes>"
      ]
     },
     "metadata": {},
     "output_type": "display_data"
    }
   ],
   "source": [
    "fake_text = \" \".join(tweet for tweet in df[df['label']== 'fake'].tweet)\n",
    "generate_wordcloud(fake_text)"
   ]
  },
  {
   "cell_type": "markdown",
   "metadata": {},
   "source": [
    "#### Word Cloud for Real News"
   ]
  },
  {
   "cell_type": "code",
   "execution_count": 29,
   "metadata": {},
   "outputs": [
    {
     "data": {
      "image/png": "[encoded data removed]",
      "text/plain": [
       "<Figure size 576x396 with 1 Axes>"
      ]
     },
     "metadata": {},
     "output_type": "display_data"
    }
   ],
   "source": [
    "real_text = \" \".join(tweet for tweet in df[df['label']== 'real'].tweet)\n",
    "generate_wordcloud(real_text)"
   ]
  },
  {
   "cell_type": "markdown",
   "metadata": {},
   "source": [
    "## Preparing Training and Testing Data"
   ]
  },
  {
   "cell_type": "code",
   "execution_count": 30,
   "metadata": {},
   "outputs": [
    {
     "name": "stdout",
     "output_type": "stream",
     "text": [
      "TRAIN size:  6844\n",
      "TEST size:  1712\n"
     ]
    }
   ],
   "source": [
    "df_train, df_test = train_test_split(df, test_size=1-TRAIN_SIZE, random_state=RANDOM_STATE)\n",
    "print(\"TRAIN size: \", len(df_train))\n",
    "print(\"TEST size: \", len(df_test))"
   ]
  },
  {
   "cell_type": "markdown",
   "metadata": {},
   "source": [
    "### Label Encoding"
   ]
  },
  {
   "cell_type": "code",
   "execution_count": 31,
   "metadata": {},
   "outputs": [],
   "source": [
    "encoder = LabelEncoder()\n",
    "encoder.fit(df_train.label.tolist())\n",
    "\n",
    "y_train  = encoder.transform(df_train.label.tolist())\n",
    "y_test  = encoder.transform(df_test.label.tolist())\n",
    "\n",
    "y_train  = y_train .reshape(-1,1)\n",
    "y_test  = y_test.reshape(-1,1)"
   ]
  },
  {
   "cell_type": "code",
   "execution_count": 32,
   "metadata": {},
   "outputs": [
    {
     "name": "stdout",
     "output_type": "stream",
     "text": [
      "y_train (6844, 1)\n",
      "y_test (1712, 1)\n"
     ]
    }
   ],
   "source": [
    "print(\"y_train\", y_train.shape)\n",
    "print(\"y_test\", y_test.shape)"
   ]
  },
  {
   "cell_type": "markdown",
   "metadata": {},
   "source": [
    "## Text Vectorisation Methods"
   ]
  },
  {
   "cell_type": "markdown",
   "metadata": {},
   "source": [
    "### Count Vectorisation"
   ]
  },
  {
   "cell_type": "code",
   "execution_count": 33,
   "metadata": {},
   "outputs": [],
   "source": [
    "count_vectorizer = CountVectorizer()\n",
    "x_train_countv = count_vectorizer.fit_transform(df_train.tweet).astype(np.float64)\n",
    "x_test_countv = count_vectorizer.transform(df_test.tweet).astype(np.float64)"
   ]
  },
  {
   "cell_type": "markdown",
   "metadata": {},
   "source": [
    "#### Previewing Vocabulary"
   ]
  },
  {
   "cell_type": "code",
   "execution_count": 34,
   "metadata": {},
   "outputs": [
    {
     "data": {
      "text/html": [
       "<div>\n",
       "<style scoped>\n",
       "    .dataframe tbody tr th:only-of-type {\n",
       "        vertical-align: middle;\n",
       "    }\n",
       "\n",
       "    .dataframe tbody tr th {\n",
       "        vertical-align: top;\n",
       "    }\n",
       "\n",
       "    .dataframe thead th {\n",
       "        text-align: right;\n",
       "    }\n",
       "</style>\n",
       "<table border=\"1\" class=\"dataframe\">\n",
       "  <thead>\n",
       "    <tr style=\"text-align: right;\">\n",
       "      <th></th>\n",
       "      <th>0</th>\n",
       "    </tr>\n",
       "  </thead>\n",
       "  <tbody>\n",
       "    <tr>\n",
       "      <th>nasser</th>\n",
       "      <td>7401</td>\n",
       "    </tr>\n",
       "    <tr>\n",
       "      <th>ziberi</th>\n",
       "      <td>11036</td>\n",
       "    </tr>\n",
       "    <tr>\n",
       "      <th>test</th>\n",
       "      <td>10015</td>\n",
       "    </tr>\n",
       "    <tr>\n",
       "      <th>posit</th>\n",
       "      <td>8212</td>\n",
       "    </tr>\n",
       "    <tr>\n",
       "      <th>covid</th>\n",
       "      <td>3796</td>\n",
       "    </tr>\n",
       "    <tr>\n",
       "      <th>...</th>\n",
       "      <td>...</td>\n",
       "    </tr>\n",
       "    <tr>\n",
       "      <th>danielleiwood</th>\n",
       "      <td>3974</td>\n",
       "    </tr>\n",
       "    <tr>\n",
       "      <th>bleak</th>\n",
       "      <td>2863</td>\n",
       "    </tr>\n",
       "    <tr>\n",
       "      <th>bankofamerica</th>\n",
       "      <td>2638</td>\n",
       "    </tr>\n",
       "    <tr>\n",
       "      <th>mandetta</th>\n",
       "      <td>6870</td>\n",
       "    </tr>\n",
       "    <tr>\n",
       "      <th>repo</th>\n",
       "      <td>8729</td>\n",
       "    </tr>\n",
       "  </tbody>\n",
       "</table>\n",
       "<p>11056 rows × 1 columns</p>\n",
       "</div>"
      ],
      "text/plain": [
       "                   0\n",
       "nasser          7401\n",
       "ziberi         11036\n",
       "test           10015\n",
       "posit           8212\n",
       "covid           3796\n",
       "...              ...\n",
       "danielleiwood   3974\n",
       "bleak           2863\n",
       "bankofamerica   2638\n",
       "mandetta        6870\n",
       "repo            8729\n",
       "\n",
       "[11056 rows x 1 columns]"
      ]
     },
     "execution_count": 34,
     "metadata": {},
     "output_type": "execute_result"
    }
   ],
   "source": [
    "pd.DataFrame(count_vectorizer.vocabulary_, index=[0]).T"
   ]
  },
  {
   "cell_type": "markdown",
   "metadata": {},
   "source": [
    "### TF-IDF Vectorisation"
   ]
  },
  {
   "cell_type": "markdown",
   "metadata": {},
   "source": [
    "#### Vectorising Text Using TF-IDF Vectorizer"
   ]
  },
  {
   "cell_type": "code",
   "execution_count": 35,
   "metadata": {},
   "outputs": [],
   "source": [
    "tfidf_vectorizer = TfidfVectorizer()\n",
    "x_train_tfidf = tfidf_vectorizer.fit_transform(df_train.tweet)\n",
    "x_test_tfidf = tfidf_vectorizer.transform(df_test.tweet)"
   ]
  },
  {
   "cell_type": "markdown",
   "metadata": {},
   "source": [
    "#### Previewing Sparse TF-IDF Vector"
   ]
  },
  {
   "cell_type": "code",
   "execution_count": 36,
   "metadata": {},
   "outputs": [
    {
     "data": {
      "text/html": [
       "<div>\n",
       "<style scoped>\n",
       "    .dataframe tbody tr th:only-of-type {\n",
       "        vertical-align: middle;\n",
       "    }\n",
       "\n",
       "    .dataframe tbody tr th {\n",
       "        vertical-align: top;\n",
       "    }\n",
       "\n",
       "    .dataframe thead th {\n",
       "        text-align: right;\n",
       "    }\n",
       "</style>\n",
       "<table border=\"1\" class=\"dataframe\">\n",
       "  <thead>\n",
       "    <tr style=\"text-align: right;\">\n",
       "      <th></th>\n",
       "      <th>00</th>\n",
       "      <th>000</th>\n",
       "      <th>006</th>\n",
       "      <th>00ice</th>\n",
       "      <th>00pm</th>\n",
       "      <th>01</th>\n",
       "      <th>011</th>\n",
       "      <th>0141</th>\n",
       "      <th>02</th>\n",
       "      <th>03</th>\n",
       "      <th>...</th>\n",
       "      <th>zoo</th>\n",
       "      <th>zoodirector</th>\n",
       "      <th>zookeep</th>\n",
       "      <th>zoolog</th>\n",
       "      <th>zoom</th>\n",
       "      <th>zoonot</th>\n",
       "      <th>zuckoff</th>\n",
       "      <th>zurich</th>\n",
       "      <th>zydus</th>\n",
       "      <th>zyphr</th>\n",
       "    </tr>\n",
       "  </thead>\n",
       "  <tbody>\n",
       "    <tr>\n",
       "      <th>0</th>\n",
       "      <td>0.0</td>\n",
       "      <td>0.0</td>\n",
       "      <td>0.0</td>\n",
       "      <td>0.0</td>\n",
       "      <td>0.0</td>\n",
       "      <td>0.0</td>\n",
       "      <td>0.0</td>\n",
       "      <td>0.0</td>\n",
       "      <td>0.0</td>\n",
       "      <td>0.0</td>\n",
       "      <td>...</td>\n",
       "      <td>0.0</td>\n",
       "      <td>0.0</td>\n",
       "      <td>0.0</td>\n",
       "      <td>0.0</td>\n",
       "      <td>0.0</td>\n",
       "      <td>0.0</td>\n",
       "      <td>0.0</td>\n",
       "      <td>0.0</td>\n",
       "      <td>0.0</td>\n",
       "      <td>0.0</td>\n",
       "    </tr>\n",
       "    <tr>\n",
       "      <th>1</th>\n",
       "      <td>0.0</td>\n",
       "      <td>0.0</td>\n",
       "      <td>0.0</td>\n",
       "      <td>0.0</td>\n",
       "      <td>0.0</td>\n",
       "      <td>0.0</td>\n",
       "      <td>0.0</td>\n",
       "      <td>0.0</td>\n",
       "      <td>0.0</td>\n",
       "      <td>0.0</td>\n",
       "      <td>...</td>\n",
       "      <td>0.0</td>\n",
       "      <td>0.0</td>\n",
       "      <td>0.0</td>\n",
       "      <td>0.0</td>\n",
       "      <td>0.0</td>\n",
       "      <td>0.0</td>\n",
       "      <td>0.0</td>\n",
       "      <td>0.0</td>\n",
       "      <td>0.0</td>\n",
       "      <td>0.0</td>\n",
       "    </tr>\n",
       "    <tr>\n",
       "      <th>2</th>\n",
       "      <td>0.0</td>\n",
       "      <td>0.0</td>\n",
       "      <td>0.0</td>\n",
       "      <td>0.0</td>\n",
       "      <td>0.0</td>\n",
       "      <td>0.0</td>\n",
       "      <td>0.0</td>\n",
       "      <td>0.0</td>\n",
       "      <td>0.0</td>\n",
       "      <td>0.0</td>\n",
       "      <td>...</td>\n",
       "      <td>0.0</td>\n",
       "      <td>0.0</td>\n",
       "      <td>0.0</td>\n",
       "      <td>0.0</td>\n",
       "      <td>0.0</td>\n",
       "      <td>0.0</td>\n",
       "      <td>0.0</td>\n",
       "      <td>0.0</td>\n",
       "      <td>0.0</td>\n",
       "      <td>0.0</td>\n",
       "    </tr>\n",
       "    <tr>\n",
       "      <th>3</th>\n",
       "      <td>0.0</td>\n",
       "      <td>0.0</td>\n",
       "      <td>0.0</td>\n",
       "      <td>0.0</td>\n",
       "      <td>0.0</td>\n",
       "      <td>0.0</td>\n",
       "      <td>0.0</td>\n",
       "      <td>0.0</td>\n",
       "      <td>0.0</td>\n",
       "      <td>0.0</td>\n",
       "      <td>...</td>\n",
       "      <td>0.0</td>\n",
       "      <td>0.0</td>\n",
       "      <td>0.0</td>\n",
       "      <td>0.0</td>\n",
       "      <td>0.0</td>\n",
       "      <td>0.0</td>\n",
       "      <td>0.0</td>\n",
       "      <td>0.0</td>\n",
       "      <td>0.0</td>\n",
       "      <td>0.0</td>\n",
       "    </tr>\n",
       "    <tr>\n",
       "      <th>4</th>\n",
       "      <td>0.0</td>\n",
       "      <td>0.0</td>\n",
       "      <td>0.0</td>\n",
       "      <td>0.0</td>\n",
       "      <td>0.0</td>\n",
       "      <td>0.0</td>\n",
       "      <td>0.0</td>\n",
       "      <td>0.0</td>\n",
       "      <td>0.0</td>\n",
       "      <td>0.0</td>\n",
       "      <td>...</td>\n",
       "      <td>0.0</td>\n",
       "      <td>0.0</td>\n",
       "      <td>0.0</td>\n",
       "      <td>0.0</td>\n",
       "      <td>0.0</td>\n",
       "      <td>0.0</td>\n",
       "      <td>0.0</td>\n",
       "      <td>0.0</td>\n",
       "      <td>0.0</td>\n",
       "      <td>0.0</td>\n",
       "    </tr>\n",
       "    <tr>\n",
       "      <th>...</th>\n",
       "      <td>...</td>\n",
       "      <td>...</td>\n",
       "      <td>...</td>\n",
       "      <td>...</td>\n",
       "      <td>...</td>\n",
       "      <td>...</td>\n",
       "      <td>...</td>\n",
       "      <td>...</td>\n",
       "      <td>...</td>\n",
       "      <td>...</td>\n",
       "      <td>...</td>\n",
       "      <td>...</td>\n",
       "      <td>...</td>\n",
       "      <td>...</td>\n",
       "      <td>...</td>\n",
       "      <td>...</td>\n",
       "      <td>...</td>\n",
       "      <td>...</td>\n",
       "      <td>...</td>\n",
       "      <td>...</td>\n",
       "      <td>...</td>\n",
       "    </tr>\n",
       "    <tr>\n",
       "      <th>6839</th>\n",
       "      <td>0.0</td>\n",
       "      <td>0.0</td>\n",
       "      <td>0.0</td>\n",
       "      <td>0.0</td>\n",
       "      <td>0.0</td>\n",
       "      <td>0.0</td>\n",
       "      <td>0.0</td>\n",
       "      <td>0.0</td>\n",
       "      <td>0.0</td>\n",
       "      <td>0.0</td>\n",
       "      <td>...</td>\n",
       "      <td>0.0</td>\n",
       "      <td>0.0</td>\n",
       "      <td>0.0</td>\n",
       "      <td>0.0</td>\n",
       "      <td>0.0</td>\n",
       "      <td>0.0</td>\n",
       "      <td>0.0</td>\n",
       "      <td>0.0</td>\n",
       "      <td>0.0</td>\n",
       "      <td>0.0</td>\n",
       "    </tr>\n",
       "    <tr>\n",
       "      <th>6840</th>\n",
       "      <td>0.0</td>\n",
       "      <td>0.0</td>\n",
       "      <td>0.0</td>\n",
       "      <td>0.0</td>\n",
       "      <td>0.0</td>\n",
       "      <td>0.0</td>\n",
       "      <td>0.0</td>\n",
       "      <td>0.0</td>\n",
       "      <td>0.0</td>\n",
       "      <td>0.0</td>\n",
       "      <td>...</td>\n",
       "      <td>0.0</td>\n",
       "      <td>0.0</td>\n",
       "      <td>0.0</td>\n",
       "      <td>0.0</td>\n",
       "      <td>0.0</td>\n",
       "      <td>0.0</td>\n",
       "      <td>0.0</td>\n",
       "      <td>0.0</td>\n",
       "      <td>0.0</td>\n",
       "      <td>0.0</td>\n",
       "    </tr>\n",
       "    <tr>\n",
       "      <th>6841</th>\n",
       "      <td>0.0</td>\n",
       "      <td>0.0</td>\n",
       "      <td>0.0</td>\n",
       "      <td>0.0</td>\n",
       "      <td>0.0</td>\n",
       "      <td>0.0</td>\n",
       "      <td>0.0</td>\n",
       "      <td>0.0</td>\n",
       "      <td>0.0</td>\n",
       "      <td>0.0</td>\n",
       "      <td>...</td>\n",
       "      <td>0.0</td>\n",
       "      <td>0.0</td>\n",
       "      <td>0.0</td>\n",
       "      <td>0.0</td>\n",
       "      <td>0.0</td>\n",
       "      <td>0.0</td>\n",
       "      <td>0.0</td>\n",
       "      <td>0.0</td>\n",
       "      <td>0.0</td>\n",
       "      <td>0.0</td>\n",
       "    </tr>\n",
       "    <tr>\n",
       "      <th>6842</th>\n",
       "      <td>0.0</td>\n",
       "      <td>0.0</td>\n",
       "      <td>0.0</td>\n",
       "      <td>0.0</td>\n",
       "      <td>0.0</td>\n",
       "      <td>0.0</td>\n",
       "      <td>0.0</td>\n",
       "      <td>0.0</td>\n",
       "      <td>0.0</td>\n",
       "      <td>0.0</td>\n",
       "      <td>...</td>\n",
       "      <td>0.0</td>\n",
       "      <td>0.0</td>\n",
       "      <td>0.0</td>\n",
       "      <td>0.0</td>\n",
       "      <td>0.0</td>\n",
       "      <td>0.0</td>\n",
       "      <td>0.0</td>\n",
       "      <td>0.0</td>\n",
       "      <td>0.0</td>\n",
       "      <td>0.0</td>\n",
       "    </tr>\n",
       "    <tr>\n",
       "      <th>6843</th>\n",
       "      <td>0.0</td>\n",
       "      <td>0.0</td>\n",
       "      <td>0.0</td>\n",
       "      <td>0.0</td>\n",
       "      <td>0.0</td>\n",
       "      <td>0.0</td>\n",
       "      <td>0.0</td>\n",
       "      <td>0.0</td>\n",
       "      <td>0.0</td>\n",
       "      <td>0.0</td>\n",
       "      <td>...</td>\n",
       "      <td>0.0</td>\n",
       "      <td>0.0</td>\n",
       "      <td>0.0</td>\n",
       "      <td>0.0</td>\n",
       "      <td>0.0</td>\n",
       "      <td>0.0</td>\n",
       "      <td>0.0</td>\n",
       "      <td>0.0</td>\n",
       "      <td>0.0</td>\n",
       "      <td>0.0</td>\n",
       "    </tr>\n",
       "  </tbody>\n",
       "</table>\n",
       "<p>6844 rows × 11056 columns</p>\n",
       "</div>"
      ],
      "text/plain": [
       "       00  000  006  00ice  00pm   01  011  0141   02   03  ...  zoo  \\\n",
       "0     0.0  0.0  0.0    0.0   0.0  0.0  0.0   0.0  0.0  0.0  ...  0.0   \n",
       "1     0.0  0.0  0.0    0.0   0.0  0.0  0.0   0.0  0.0  0.0  ...  0.0   \n",
       "2     0.0  0.0  0.0    0.0   0.0  0.0  0.0   0.0  0.0  0.0  ...  0.0   \n",
       "3     0.0  0.0  0.0    0.0   0.0  0.0  0.0   0.0  0.0  0.0  ...  0.0   \n",
       "4     0.0  0.0  0.0    0.0   0.0  0.0  0.0   0.0  0.0  0.0  ...  0.0   \n",
       "...   ...  ...  ...    ...   ...  ...  ...   ...  ...  ...  ...  ...   \n",
       "6839  0.0  0.0  0.0    0.0   0.0  0.0  0.0   0.0  0.0  0.0  ...  0.0   \n",
       "6840  0.0  0.0  0.0    0.0   0.0  0.0  0.0   0.0  0.0  0.0  ...  0.0   \n",
       "6841  0.0  0.0  0.0    0.0   0.0  0.0  0.0   0.0  0.0  0.0  ...  0.0   \n",
       "6842  0.0  0.0  0.0    0.0   0.0  0.0  0.0   0.0  0.0  0.0  ...  0.0   \n",
       "6843  0.0  0.0  0.0    0.0   0.0  0.0  0.0   0.0  0.0  0.0  ...  0.0   \n",
       "\n",
       "      zoodirector  zookeep  zoolog  zoom  zoonot  zuckoff  zurich  zydus  \\\n",
       "0             0.0      0.0     0.0   0.0     0.0      0.0     0.0    0.0   \n",
       "1             0.0      0.0     0.0   0.0     0.0      0.0     0.0    0.0   \n",
       "2             0.0      0.0     0.0   0.0     0.0      0.0     0.0    0.0   \n",
       "3             0.0      0.0     0.0   0.0     0.0      0.0     0.0    0.0   \n",
       "4             0.0      0.0     0.0   0.0     0.0      0.0     0.0    0.0   \n",
       "...           ...      ...     ...   ...     ...      ...     ...    ...   \n",
       "6839          0.0      0.0     0.0   0.0     0.0      0.0     0.0    0.0   \n",
       "6840          0.0      0.0     0.0   0.0     0.0      0.0     0.0    0.0   \n",
       "6841          0.0      0.0     0.0   0.0     0.0      0.0     0.0    0.0   \n",
       "6842          0.0      0.0     0.0   0.0     0.0      0.0     0.0    0.0   \n",
       "6843          0.0      0.0     0.0   0.0     0.0      0.0     0.0    0.0   \n",
       "\n",
       "      zyphr  \n",
       "0       0.0  \n",
       "1       0.0  \n",
       "2       0.0  \n",
       "3       0.0  \n",
       "4       0.0  \n",
       "...     ...  \n",
       "6839    0.0  \n",
       "6840    0.0  \n",
       "6841    0.0  \n",
       "6842    0.0  \n",
       "6843    0.0  \n",
       "\n",
       "[6844 rows x 11056 columns]"
      ]
     },
     "execution_count": 36,
     "metadata": {},
     "output_type": "execute_result"
    }
   ],
   "source": [
    "train_tfidf_sklearn = pd.DataFrame(x_train_tfidf.toarray(),columns=tfidf_vectorizer.get_feature_names_out())\n",
    "train_tfidf_sklearn.sort_index().round(decimals=5)\n",
    "train_tfidf_sklearn "
   ]
  },
  {
   "cell_type": "markdown",
   "metadata": {},
   "source": [
    "#### Previewing Words with Highest TFIDF Score"
   ]
  },
  {
   "cell_type": "code",
   "execution_count": 37,
   "metadata": {},
   "outputs": [],
   "source": [
    "train_tfidf_sklearn = train_tfidf_sklearn.stack().reset_index()\n",
    "train_tfidf_sklearn = train_tfidf_sklearn.rename(columns={0:'tfidf', 'level_0': 'id','level_1': 'term', 'level_2': 'term'})\n",
    "train_tfidf_sklearn_sorted = train_tfidf_sklearn.sort_values(by=['id','tfidf'], ascending=[True,False]).groupby(['id'])\n"
   ]
  },
  {
   "cell_type": "code",
   "execution_count": 38,
   "metadata": {},
   "outputs": [
    {
     "data": {
      "text/html": [
       "<div>\n",
       "<style scoped>\n",
       "    .dataframe tbody tr th:only-of-type {\n",
       "        vertical-align: middle;\n",
       "    }\n",
       "\n",
       "    .dataframe tbody tr th {\n",
       "        vertical-align: top;\n",
       "    }\n",
       "\n",
       "    .dataframe thead th {\n",
       "        text-align: right;\n",
       "    }\n",
       "</style>\n",
       "<table border=\"1\" class=\"dataframe\">\n",
       "  <thead>\n",
       "    <tr style=\"text-align: right;\">\n",
       "      <th></th>\n",
       "      <th>id</th>\n",
       "      <th>term</th>\n",
       "      <th>tfidf</th>\n",
       "    </tr>\n",
       "  </thead>\n",
       "  <tbody>\n",
       "    <tr>\n",
       "      <th>7401</th>\n",
       "      <td>0</td>\n",
       "      <td>nasser</td>\n",
       "      <td>0.644215</td>\n",
       "    </tr>\n",
       "    <tr>\n",
       "      <th>11036</th>\n",
       "      <td>0</td>\n",
       "      <td>ziberi</td>\n",
       "      <td>0.644215</td>\n",
       "    </tr>\n",
       "    <tr>\n",
       "      <th>8212</th>\n",
       "      <td>0</td>\n",
       "      <td>posit</td>\n",
       "      <td>0.284045</td>\n",
       "    </tr>\n",
       "    <tr>\n",
       "      <th>10015</th>\n",
       "      <td>0</td>\n",
       "      <td>test</td>\n",
       "      <td>0.196617</td>\n",
       "    </tr>\n",
       "    <tr>\n",
       "      <th>488</th>\n",
       "      <td>0</td>\n",
       "      <td>19</td>\n",
       "      <td>0.164663</td>\n",
       "    </tr>\n",
       "    <tr>\n",
       "      <th>...</th>\n",
       "      <td>...</td>\n",
       "      <td>...</td>\n",
       "      <td>...</td>\n",
       "    </tr>\n",
       "    <tr>\n",
       "      <th>75656208</th>\n",
       "      <td>6843</td>\n",
       "      <td>00</td>\n",
       "      <td>0.000000</td>\n",
       "    </tr>\n",
       "    <tr>\n",
       "      <th>75656209</th>\n",
       "      <td>6843</td>\n",
       "      <td>000</td>\n",
       "      <td>0.000000</td>\n",
       "    </tr>\n",
       "    <tr>\n",
       "      <th>75656210</th>\n",
       "      <td>6843</td>\n",
       "      <td>006</td>\n",
       "      <td>0.000000</td>\n",
       "    </tr>\n",
       "    <tr>\n",
       "      <th>75656211</th>\n",
       "      <td>6843</td>\n",
       "      <td>00ice</td>\n",
       "      <td>0.000000</td>\n",
       "    </tr>\n",
       "    <tr>\n",
       "      <th>75656212</th>\n",
       "      <td>6843</td>\n",
       "      <td>00pm</td>\n",
       "      <td>0.000000</td>\n",
       "    </tr>\n",
       "  </tbody>\n",
       "</table>\n",
       "<p>68440 rows × 3 columns</p>\n",
       "</div>"
      ],
      "text/plain": [
       "            id    term     tfidf\n",
       "7401         0  nasser  0.644215\n",
       "11036        0  ziberi  0.644215\n",
       "8212         0   posit  0.284045\n",
       "10015        0    test  0.196617\n",
       "488          0      19  0.164663\n",
       "...        ...     ...       ...\n",
       "75656208  6843      00  0.000000\n",
       "75656209  6843     000  0.000000\n",
       "75656210  6843     006  0.000000\n",
       "75656211  6843   00ice  0.000000\n",
       "75656212  6843    00pm  0.000000\n",
       "\n",
       "[68440 rows x 3 columns]"
      ]
     },
     "execution_count": 38,
     "metadata": {},
     "output_type": "execute_result"
    }
   ],
   "source": [
    "train_tfidf_sklearn_sorted.head(10)"
   ]
  },
  {
   "cell_type": "code",
   "execution_count": 39,
   "metadata": {},
   "outputs": [
    {
     "data": {
      "text/plain": [
       "0"
      ]
     },
     "execution_count": 39,
     "metadata": {},
     "output_type": "execute_result"
    }
   ],
   "source": [
    "gc.collect()"
   ]
  },
  {
   "cell_type": "markdown",
   "metadata": {},
   "source": [
    "### Word2Vec Model"
   ]
  },
  {
   "cell_type": "markdown",
   "metadata": {},
   "source": [
    "#### Building Documents"
   ]
  },
  {
   "cell_type": "code",
   "execution_count": 40,
   "metadata": {},
   "outputs": [],
   "source": [
    "documents = [tweet.split() for tweet in df_train.tweet]"
   ]
  },
  {
   "cell_type": "markdown",
   "metadata": {},
   "source": [
    "#### Initialising word2vec model with hyperparameters"
   ]
  },
  {
   "cell_type": "code",
   "execution_count": 41,
   "metadata": {},
   "outputs": [],
   "source": [
    "if GOOGLE_COLAB:\n",
    "    w2v_model = gensim.models.word2vec.Word2Vec(size=W2V_SIZE, \n",
    "                                                window=W2V_WINDOW, \n",
    "                                                min_count=W2V_MIN_COUNT, \n",
    "                                                workers=8)\n",
    "else:\n",
    "    w2v_model = gensim.models.word2vec.Word2Vec(vector_size=W2V_SIZE, \n",
    "                                                window=W2V_WINDOW, \n",
    "                                                min_count=W2V_MIN_COUNT, \n",
    "                                                workers=8)\n"
   ]
  },
  {
   "cell_type": "markdown",
   "metadata": {},
   "source": [
    "#### Building Vocab"
   ]
  },
  {
   "cell_type": "code",
   "execution_count": 42,
   "metadata": {},
   "outputs": [],
   "source": [
    "w2v_model.build_vocab(documents)"
   ]
  },
  {
   "cell_type": "markdown",
   "metadata": {},
   "source": [
    "#### Training word2vec model"
   ]
  },
  {
   "cell_type": "code",
   "execution_count": 43,
   "metadata": {},
   "outputs": [
    {
     "data": {
      "text/plain": [
       "(2663631, 3787264)"
      ]
     },
     "execution_count": 43,
     "metadata": {},
     "output_type": "execute_result"
    }
   ],
   "source": [
    "w2v_model.train(documents, total_examples=len(documents), epochs=W2V_EPOCH)"
   ]
  },
  {
   "cell_type": "code",
   "execution_count": 44,
   "metadata": {},
   "outputs": [
    {
     "data": {
      "text/plain": [
       "[('coronaupd', 0.34565937519073486),\n",
       " ('drhvoffic', 0.33668240904808044),\n",
       " ('covidupd', 0.32415440678596497),\n",
       " ('coronavirusindia', 0.31309735774993896),\n",
       " ('link', 0.30916911363601685),\n",
       " ('rash', 0.29898005723953247),\n",
       " ('acquir', 0.29192471504211426),\n",
       " ('nine', 0.2917903959751129),\n",
       " ('covid19india', 0.2869429588317871),\n",
       " ('pneumonia', 0.28672856092453003)]"
      ]
     },
     "execution_count": 44,
     "metadata": {},
     "output_type": "execute_result"
    }
   ],
   "source": [
    "w2v_model.wv.most_similar(\"covid\")\n"
   ]
  },
  {
   "cell_type": "markdown",
   "metadata": {},
   "source": [
    "#### Tokenise Text"
   ]
  },
  {
   "cell_type": "code",
   "execution_count": 45,
   "metadata": {},
   "outputs": [
    {
     "name": "stdout",
     "output_type": "stream",
     "text": [
      "Total unique words 11088\n"
     ]
    }
   ],
   "source": [
    "tokenizer = Tokenizer()\n",
    "tokenizer.fit_on_texts(df_train.tweet)\n",
    "\n",
    "vocab_size = len(tokenizer.word_index) + 1\n",
    "print(\"Total unique words\", vocab_size)"
   ]
  },
  {
   "cell_type": "markdown",
   "metadata": {},
   "source": [
    "#### Previewing top 20 words by Count"
   ]
  },
  {
   "cell_type": "code",
   "execution_count": 46,
   "metadata": {},
   "outputs": [
    {
     "data": {
      "text/html": [
       "<div>\n",
       "<style scoped>\n",
       "    .dataframe tbody tr th:only-of-type {\n",
       "        vertical-align: middle;\n",
       "    }\n",
       "\n",
       "    .dataframe tbody tr th {\n",
       "        vertical-align: top;\n",
       "    }\n",
       "\n",
       "    .dataframe thead th {\n",
       "        text-align: right;\n",
       "    }\n",
       "</style>\n",
       "<table border=\"1\" class=\"dataframe\">\n",
       "  <thead>\n",
       "    <tr style=\"text-align: right;\">\n",
       "      <th></th>\n",
       "      <th>Count</th>\n",
       "    </tr>\n",
       "  </thead>\n",
       "  <tbody>\n",
       "    <tr>\n",
       "      <th>covid</th>\n",
       "      <td>2538</td>\n",
       "    </tr>\n",
       "    <tr>\n",
       "      <th>case</th>\n",
       "      <td>2176</td>\n",
       "    </tr>\n",
       "    <tr>\n",
       "      <th>19</th>\n",
       "      <td>2137</td>\n",
       "    </tr>\n",
       "    <tr>\n",
       "      <th>test</th>\n",
       "      <td>1810</td>\n",
       "    </tr>\n",
       "    <tr>\n",
       "      <th>coronavirus</th>\n",
       "      <td>1706</td>\n",
       "    </tr>\n",
       "    <tr>\n",
       "      <th>covid19</th>\n",
       "      <td>1584</td>\n",
       "    </tr>\n",
       "    <tr>\n",
       "      <th>new</th>\n",
       "      <td>1163</td>\n",
       "    </tr>\n",
       "    <tr>\n",
       "      <th>report</th>\n",
       "      <td>1099</td>\n",
       "    </tr>\n",
       "    <tr>\n",
       "      <th>state</th>\n",
       "      <td>1095</td>\n",
       "    </tr>\n",
       "    <tr>\n",
       "      <th>death</th>\n",
       "      <td>870</td>\n",
       "    </tr>\n",
       "    <tr>\n",
       "      <th>india</th>\n",
       "      <td>799</td>\n",
       "    </tr>\n",
       "    <tr>\n",
       "      <th>peopl</th>\n",
       "      <td>782</td>\n",
       "    </tr>\n",
       "    <tr>\n",
       "      <th>number</th>\n",
       "      <td>754</td>\n",
       "    </tr>\n",
       "    <tr>\n",
       "      <th>1</th>\n",
       "      <td>673</td>\n",
       "    </tr>\n",
       "    <tr>\n",
       "      <th>day</th>\n",
       "      <td>639</td>\n",
       "    </tr>\n",
       "    <tr>\n",
       "      <th>hospit</th>\n",
       "      <td>616</td>\n",
       "    </tr>\n",
       "    <tr>\n",
       "      <th>total</th>\n",
       "      <td>613</td>\n",
       "    </tr>\n",
       "    <tr>\n",
       "      <th>confirm</th>\n",
       "      <td>576</td>\n",
       "    </tr>\n",
       "    <tr>\n",
       "      <th>2</th>\n",
       "      <td>569</td>\n",
       "    </tr>\n",
       "    <tr>\n",
       "      <th>amp</th>\n",
       "      <td>513</td>\n",
       "    </tr>\n",
       "  </tbody>\n",
       "</table>\n",
       "</div>"
      ],
      "text/plain": [
       "             Count\n",
       "covid         2538\n",
       "case          2176\n",
       "19            2137\n",
       "test          1810\n",
       "coronavirus   1706\n",
       "covid19       1584\n",
       "new           1163\n",
       "report        1099\n",
       "state         1095\n",
       "death          870\n",
       "india          799\n",
       "peopl          782\n",
       "number         754\n",
       "1              673\n",
       "day            639\n",
       "hospit         616\n",
       "total          613\n",
       "confirm        576\n",
       "2              569\n",
       "amp            513"
      ]
     },
     "execution_count": 46,
     "metadata": {},
     "output_type": "execute_result"
    }
   ],
   "source": [
    "token_count = dict(tokenizer.word_counts)\n",
    "token_count_df = pd.DataFrame(dict(sorted(token_count.items(), key=lambda item: item[1], reverse=True)),index=[\"Count\"]).T\n",
    "token_count_df.head(20)"
   ]
  },
  {
   "cell_type": "markdown",
   "metadata": {},
   "source": [
    "#### Converting text to sequence of integers"
   ]
  },
  {
   "cell_type": "code",
   "execution_count": 47,
   "metadata": {},
   "outputs": [],
   "source": [
    "x_train_word2vec = tokenizer.texts_to_sequences(df_train.tweet)\n",
    "x_test_word2vec = tokenizer.texts_to_sequences(df_test.tweet)"
   ]
  },
  {
   "cell_type": "markdown",
   "metadata": {},
   "source": [
    "#### Padding"
   ]
  },
  {
   "cell_type": "code",
   "execution_count": 48,
   "metadata": {},
   "outputs": [],
   "source": [
    "x_train_word2vec  = pad_sequences(x_train_word2vec , maxlen=SEQUENCE_LENGTH)\n",
    "x_test_word2vec  = pad_sequences(x_test_word2vec , maxlen=SEQUENCE_LENGTH)"
   ]
  },
  {
   "cell_type": "markdown",
   "metadata": {},
   "source": [
    "#### Embedding Matrix\n",
    "\n",
    "Populating matrix with weights"
   ]
  },
  {
   "cell_type": "code",
   "execution_count": 49,
   "metadata": {},
   "outputs": [
    {
     "name": "stdout",
     "output_type": "stream",
     "text": [
      "(11088, 300)\n"
     ]
    }
   ],
   "source": [
    "embedding_matrix = np.zeros((vocab_size, W2V_SIZE))\n",
    "for word, i in tokenizer.word_index.items():\n",
    "  if word in w2v_model.wv:\n",
    "    embedding_matrix[i] = w2v_model.wv[word]\n",
    "print(embedding_matrix.shape)"
   ]
  },
  {
   "cell_type": "markdown",
   "metadata": {},
   "source": [
    "## Model Building"
   ]
  },
  {
   "cell_type": "code",
   "execution_count": 50,
   "metadata": {},
   "outputs": [],
   "source": [
    "training_data = [x_train_countv, x_train_tfidf, x_train_word2vec]\n",
    "testing_data = [x_test_countv, x_test_tfidf, x_test_word2vec]\n",
    "\n",
    "METRICS = ['accuracy', 'Precision','Recall','AUC']\n",
    "\n",
    "CALLBACKS = [ ReduceLROnPlateau(monitor='val_loss', patience=5, cooldown=0),\n",
    "              EarlyStopping(monitor='val_accuracy', min_delta=1e-4, patience=5)]\n",
    "\n",
    "EPOCHS = 1\n",
    "\n",
    "results_store = {}"
   ]
  },
  {
   "cell_type": "markdown",
   "metadata": {},
   "source": [
    "### Helper Functions"
   ]
  },
  {
   "cell_type": "code",
   "execution_count": 51,
   "metadata": {},
   "outputs": [],
   "source": [
    "def batch_generator(x, y, batch_size):\n",
    "    samples_per_epoch = x.shape[0]\n",
    "    number_of_batches = samples_per_epoch/batch_size\n",
    "    counter=0\n",
    "    index = np.arange(np.shape(y)[0])\n",
    "    while 1:\n",
    "        index_batch = index[batch_size*counter:batch_size*(counter+1)]\n",
    "        x_batch = x[index_batch,:].toarray()\n",
    "        y_batch = y[min(index_batch):max(index_batch)+1]\n",
    "        counter += 1\n",
    "        x_batch = np.expand_dims(x_batch, axis=2)\n",
    "        yield x_batch, np.array(y_batch)\n",
    "        if (counter > number_of_batches):\n",
    "            counter=0\n",
    "\n",
    "def get_F1(precision, recall):\n",
    "    if precision == recall == 0:\n",
    "        return 0\n",
    "    return 2* (precision*recall)/(precision+recall)\n",
    "\n",
    "def get_results(history):\n",
    "    loss = history[0]\n",
    "    accuracy = history[1]\n",
    "    precision = history[2]\n",
    "    recall = history[3]\n",
    "    auc = history[4]\n",
    "    F1 = get_F1(precision,recall)\n",
    "    results ={\n",
    "        \"Loss\": loss,\n",
    "        \"Accuracy\": accuracy,\n",
    "        \"Precision\": precision,\n",
    "        \"Recall\": recall,\n",
    "        \"AUC\": auc,\n",
    "        \"F1 Score\": F1\n",
    "    }\n",
    "    return results\n",
    "\n",
    "def get_evaluation_vect(model, x_test, model_name, vectoriser):\n",
    "    name = model_name + \" \" + vectoriser\n",
    "    x_test_DL = np.expand_dims(x_test.toarray(), axis=2)\n",
    "    eval = model.evaluate(x_test_DL, y_test, batch_size=32)\n",
    "    result = get_results(eval)\n",
    "    results_store[name] = result\n",
    "    return result\n",
    "\n",
    "def get_deep_learning_results_vect(model, model_name):\n",
    "\n",
    "    model.compile(loss='binary_crossentropy',\n",
    "              optimizer=\"adam\",\n",
    "              metrics=METRICS)\n",
    "    \n",
    "    #count_vectorizer\n",
    "    print(\"\\n >>> Training Count Vectorisation Model ========================================= \\n\")\n",
    "    fit_countv = model.fit(\n",
    "        batch_generator(x_train_countv, y_train, 32),\n",
    "        epochs = EPOCHS,\n",
    "        steps_per_epoch=x_train_countv.shape[0]/32\n",
    "    )\n",
    "    result_countv = get_evaluation_vect(model, x_test_countv, model_name, \"count\")\n",
    "\n",
    "    #tf-idf vectorizer\n",
    "    print(\"\\n >>> Training TFIDF Vectorisation Model ========================================= \\n\")\n",
    "    fit_tfidf = model.fit(\n",
    "        batch_generator(x_train_tfidf, y_train, 32),\n",
    "        epochs = EPOCHS,\n",
    "        steps_per_epoch=x_train_tfidf.shape[0]/32      \n",
    "    )\n",
    "    result_tfidf = get_evaluation_vect(model, x_test_tfidf, model_name, \"tfidf\")\n",
    "\n",
    "\n",
    "    return pd.DataFrame(results_store).T\n",
    "\n",
    "def get_evaluation_w2v(model, model_name, vectoriser):\n",
    "    name = model_name + \" \" + vectoriser\n",
    "    eval = model.evaluate(x_test_word2vec , y_test , batch_size=BATCH_SIZE)\n",
    "    result = get_results(eval)\n",
    "    results_store[name] = result\n",
    "    return result\n",
    "\n",
    "def get_deep_learning_results_w2v(model, model_name):\n",
    "\n",
    "    model.compile(loss='binary_crossentropy',\n",
    "              optimizer=\"adam\",\n",
    "              metrics=METRICS)\n",
    "              \n",
    "    print(\"\\n >>> Training Word2Vec Model ========================================= \\n\")\n",
    "    fit_word2vec = model.fit(\n",
    "        x_train_word2vec , y_train ,\n",
    "        batch_size=BATCH_SIZE,\n",
    "        epochs=EPOCHS,\n",
    "        validation_split=0.1,\n",
    "        verbose=1,\n",
    "        callbacks=CALLBACKS\n",
    "    )\n",
    "    result_word2vec = get_evaluation_w2v(model, model_name, \"word2vec\")\n",
    "\n",
    "    return pd.DataFrame(results_store).T"
   ]
  },
  {
   "cell_type": "markdown",
   "metadata": {},
   "source": [
    "## Deep Learning Models"
   ]
  },
  {
   "cell_type": "markdown",
   "metadata": {},
   "source": [
    "### TextCNN"
   ]
  },
  {
   "cell_type": "code",
   "execution_count": 52,
   "metadata": {},
   "outputs": [
    {
     "name": "stdout",
     "output_type": "stream",
     "text": [
      "\n",
      " >>> Training Count Vectorisation Model ========================================= \n",
      "\n",
      "213/213 [==============================] - 16s 67ms/step - loss: 0.6934 - accuracy: 0.5273 - precision: 0.5293 - recall: 0.9293 - auc: 0.4963\n",
      "54/54 [==============================] - 2s 25ms/step - loss: 0.6930 - accuracy: 0.5099 - precision: 0.5099 - recall: 1.0000 - auc: 0.5000\n",
      "\n",
      " >>> Training TFIDF Vectorisation Model ========================================= \n",
      "\n",
      "213/213 [==============================] - 15s 71ms/step - loss: 0.6920 - accuracy: 0.5269 - precision: 0.5269 - recall: 1.0000 - auc: 0.4962\n",
      "54/54 [==============================] - 1s 25ms/step - loss: 0.6931 - accuracy: 0.5099 - precision: 0.5099 - recall: 1.0000 - auc: 0.5000\n"
     ]
    },
    {
     "data": {
      "text/html": [
       "<div>\n",
       "<style scoped>\n",
       "    .dataframe tbody tr th:only-of-type {\n",
       "        vertical-align: middle;\n",
       "    }\n",
       "\n",
       "    .dataframe tbody tr th {\n",
       "        vertical-align: top;\n",
       "    }\n",
       "\n",
       "    .dataframe thead th {\n",
       "        text-align: right;\n",
       "    }\n",
       "</style>\n",
       "<table border=\"1\" class=\"dataframe\">\n",
       "  <thead>\n",
       "    <tr style=\"text-align: right;\">\n",
       "      <th></th>\n",
       "      <th>Loss</th>\n",
       "      <th>Accuracy</th>\n",
       "      <th>Precision</th>\n",
       "      <th>Recall</th>\n",
       "      <th>AUC</th>\n",
       "      <th>F1 Score</th>\n",
       "    </tr>\n",
       "  </thead>\n",
       "  <tbody>\n",
       "    <tr>\n",
       "      <th>CNN count</th>\n",
       "      <td>0.692952</td>\n",
       "      <td>0.50993</td>\n",
       "      <td>0.50993</td>\n",
       "      <td>1.0</td>\n",
       "      <td>0.5</td>\n",
       "      <td>0.675435</td>\n",
       "    </tr>\n",
       "    <tr>\n",
       "      <th>CNN tfidf</th>\n",
       "      <td>0.693075</td>\n",
       "      <td>0.50993</td>\n",
       "      <td>0.50993</td>\n",
       "      <td>1.0</td>\n",
       "      <td>0.5</td>\n",
       "      <td>0.675435</td>\n",
       "    </tr>\n",
       "  </tbody>\n",
       "</table>\n",
       "</div>"
      ],
      "text/plain": [
       "               Loss  Accuracy  Precision  Recall  AUC  F1 Score\n",
       "CNN count  0.692952   0.50993    0.50993     1.0  0.5  0.675435\n",
       "CNN tfidf  0.693075   0.50993    0.50993     1.0  0.5  0.675435"
      ]
     },
     "execution_count": 52,
     "metadata": {},
     "output_type": "execute_result"
    }
   ],
   "source": [
    "cnn_vect_model = tf.keras.Sequential([\n",
    "    layers.Conv1D(128, 5, activation='relu', input_shape=(None,1)),\n",
    "    layers.GlobalMaxPooling1D(),\n",
    "    layers.Dense(10, activation='relu'),\n",
    "    tf.keras.layers.Dense(1, activation='sigmoid')\n",
    "])\n",
    "\n",
    "get_deep_learning_results_vect(cnn_vect_model, \"CNN\")\n"
   ]
  },
  {
   "cell_type": "code",
   "execution_count": 53,
   "metadata": {},
   "outputs": [
    {
     "name": "stdout",
     "output_type": "stream",
     "text": [
      "\n",
      " >>> Training Word2Vec Model ========================================= \n",
      "\n",
      "7/7 [==============================] - 4s 364ms/step - loss: 0.4625 - accuracy: 0.7595 - precision: 0.7715 - recall: 0.7693 - auc: 0.8549 - val_loss: 0.2991 - val_accuracy: 0.8672 - val_precision: 0.8926 - val_recall: 0.8617 - val_auc: 0.9453\n",
      "2/2 [==============================] - 0s 339ms/step - loss: 0.2889 - accuracy: 0.8808 - precision: 0.8968 - recall: 0.8660 - auc: 0.9493\n"
     ]
    },
    {
     "data": {
      "text/html": [
       "<div>\n",
       "<style scoped>\n",
       "    .dataframe tbody tr th:only-of-type {\n",
       "        vertical-align: middle;\n",
       "    }\n",
       "\n",
       "    .dataframe tbody tr th {\n",
       "        vertical-align: top;\n",
       "    }\n",
       "\n",
       "    .dataframe thead th {\n",
       "        text-align: right;\n",
       "    }\n",
       "</style>\n",
       "<table border=\"1\" class=\"dataframe\">\n",
       "  <thead>\n",
       "    <tr style=\"text-align: right;\">\n",
       "      <th></th>\n",
       "      <th>Loss</th>\n",
       "      <th>Accuracy</th>\n",
       "      <th>Precision</th>\n",
       "      <th>Recall</th>\n",
       "      <th>AUC</th>\n",
       "      <th>F1 Score</th>\n",
       "    </tr>\n",
       "  </thead>\n",
       "  <tbody>\n",
       "    <tr>\n",
       "      <th>CNN count</th>\n",
       "      <td>0.692952</td>\n",
       "      <td>0.509930</td>\n",
       "      <td>0.509930</td>\n",
       "      <td>1.000000</td>\n",
       "      <td>0.500000</td>\n",
       "      <td>0.675435</td>\n",
       "    </tr>\n",
       "    <tr>\n",
       "      <th>CNN tfidf</th>\n",
       "      <td>0.693075</td>\n",
       "      <td>0.509930</td>\n",
       "      <td>0.509930</td>\n",
       "      <td>1.000000</td>\n",
       "      <td>0.500000</td>\n",
       "      <td>0.675435</td>\n",
       "    </tr>\n",
       "    <tr>\n",
       "      <th>CNN word2vec</th>\n",
       "      <td>0.288949</td>\n",
       "      <td>0.880841</td>\n",
       "      <td>0.896797</td>\n",
       "      <td>0.865979</td>\n",
       "      <td>0.949326</td>\n",
       "      <td>0.881119</td>\n",
       "    </tr>\n",
       "  </tbody>\n",
       "</table>\n",
       "</div>"
      ],
      "text/plain": [
       "                  Loss  Accuracy  Precision    Recall       AUC  F1 Score\n",
       "CNN count     0.692952  0.509930   0.509930  1.000000  0.500000  0.675435\n",
       "CNN tfidf     0.693075  0.509930   0.509930  1.000000  0.500000  0.675435\n",
       "CNN word2vec  0.288949  0.880841   0.896797  0.865979  0.949326  0.881119"
      ]
     },
     "execution_count": 53,
     "metadata": {},
     "output_type": "execute_result"
    }
   ],
   "source": [
    "cnn_word2vec_model = tf.keras.Sequential([\n",
    "    layers.Embedding(vocab_size, W2V_SIZE, weights=[embedding_matrix], input_length=SEQUENCE_LENGTH, trainable=False),\n",
    "    layers. Conv1D(128, 5, activation='relu'),\n",
    "    layers.GlobalMaxPooling1D(),\n",
    "    layers.Dense(10, activation='relu'),\n",
    "    tf.keras.layers.Dense(1, activation='sigmoid')\n",
    "])\n",
    "\n",
    "get_deep_learning_results_w2v(cnn_word2vec_model, \"CNN\")"
   ]
  },
  {
   "cell_type": "markdown",
   "metadata": {},
   "source": [
    "### LSTM (Unidirectional)"
   ]
  },
  {
   "cell_type": "code",
   "execution_count": 54,
   "metadata": {},
   "outputs": [
    {
     "name": "stdout",
     "output_type": "stream",
     "text": [
      "\n",
      " >>> Training Count Vectorisation Model ========================================= \n",
      "\n",
      "213/213 [==============================] - 82s 372ms/step - loss: 0.6562 - accuracy: 0.5989 - precision: 0.5844 - recall: 0.8270 - auc: 0.6622\n",
      "54/54 [==============================] - 9s 148ms/step - loss: 0.6090 - accuracy: 0.7074 - precision: 0.7095 - recall: 0.7216 - auc: 0.7494\n",
      "\n",
      " >>> Training TFIDF Vectorisation Model ========================================= \n",
      "\n",
      "213/213 [==============================] - 82s 382ms/step - loss: 0.6960 - accuracy: 0.5117 - precision: 0.5595 - recall: 0.3444 - auc: 0.5237\n",
      "54/54 [==============================] - 8s 154ms/step - loss: 0.6922 - accuracy: 0.5099 - precision: 0.5099 - recall: 1.0000 - auc: 0.6186\n"
     ]
    },
    {
     "data": {
      "text/html": [
       "<div>\n",
       "<style scoped>\n",
       "    .dataframe tbody tr th:only-of-type {\n",
       "        vertical-align: middle;\n",
       "    }\n",
       "\n",
       "    .dataframe tbody tr th {\n",
       "        vertical-align: top;\n",
       "    }\n",
       "\n",
       "    .dataframe thead th {\n",
       "        text-align: right;\n",
       "    }\n",
       "</style>\n",
       "<table border=\"1\" class=\"dataframe\">\n",
       "  <thead>\n",
       "    <tr style=\"text-align: right;\">\n",
       "      <th></th>\n",
       "      <th>Loss</th>\n",
       "      <th>Accuracy</th>\n",
       "      <th>Precision</th>\n",
       "      <th>Recall</th>\n",
       "      <th>AUC</th>\n",
       "      <th>F1 Score</th>\n",
       "    </tr>\n",
       "  </thead>\n",
       "  <tbody>\n",
       "    <tr>\n",
       "      <th>CNN count</th>\n",
       "      <td>0.692952</td>\n",
       "      <td>0.509930</td>\n",
       "      <td>0.509930</td>\n",
       "      <td>1.000000</td>\n",
       "      <td>0.500000</td>\n",
       "      <td>0.675435</td>\n",
       "    </tr>\n",
       "    <tr>\n",
       "      <th>CNN tfidf</th>\n",
       "      <td>0.693075</td>\n",
       "      <td>0.509930</td>\n",
       "      <td>0.509930</td>\n",
       "      <td>1.000000</td>\n",
       "      <td>0.500000</td>\n",
       "      <td>0.675435</td>\n",
       "    </tr>\n",
       "    <tr>\n",
       "      <th>CNN word2vec</th>\n",
       "      <td>0.288949</td>\n",
       "      <td>0.880841</td>\n",
       "      <td>0.896797</td>\n",
       "      <td>0.865979</td>\n",
       "      <td>0.949326</td>\n",
       "      <td>0.881119</td>\n",
       "    </tr>\n",
       "    <tr>\n",
       "      <th>LSTM count</th>\n",
       "      <td>0.608992</td>\n",
       "      <td>0.707360</td>\n",
       "      <td>0.709459</td>\n",
       "      <td>0.721649</td>\n",
       "      <td>0.749366</td>\n",
       "      <td>0.715503</td>\n",
       "    </tr>\n",
       "    <tr>\n",
       "      <th>LSTM tfidf</th>\n",
       "      <td>0.692189</td>\n",
       "      <td>0.509930</td>\n",
       "      <td>0.509930</td>\n",
       "      <td>1.000000</td>\n",
       "      <td>0.618570</td>\n",
       "      <td>0.675435</td>\n",
       "    </tr>\n",
       "  </tbody>\n",
       "</table>\n",
       "</div>"
      ],
      "text/plain": [
       "                  Loss  Accuracy  Precision    Recall       AUC  F1 Score\n",
       "CNN count     0.692952  0.509930   0.509930  1.000000  0.500000  0.675435\n",
       "CNN tfidf     0.693075  0.509930   0.509930  1.000000  0.500000  0.675435\n",
       "CNN word2vec  0.288949  0.880841   0.896797  0.865979  0.949326  0.881119\n",
       "LSTM count    0.608992  0.707360   0.709459  0.721649  0.749366  0.715503\n",
       "LSTM tfidf    0.692189  0.509930   0.509930  1.000000  0.618570  0.675435"
      ]
     },
     "execution_count": 54,
     "metadata": {},
     "output_type": "execute_result"
    }
   ],
   "source": [
    "lstm_vect_model = tf.keras.Sequential([\n",
    "    layers.LSTM(64, return_sequences=True, input_shape=(None,1)),\n",
    "    layers.GlobalMaxPooling1D(),\n",
    "    layers.Dense(10, activation='relu'),\n",
    "    tf.keras.layers.Dense(1, activation='sigmoid')\n",
    "])\n",
    "\n",
    "get_deep_learning_results_vect(lstm_vect_model, \"LSTM\")\n"
   ]
  },
  {
   "cell_type": "code",
   "execution_count": 55,
   "metadata": {},
   "outputs": [
    {
     "name": "stdout",
     "output_type": "stream",
     "text": [
      "\n",
      " >>> Training Word2Vec Model ========================================= \n",
      "\n",
      "7/7 [==============================] - 6s 540ms/step - loss: 0.5802 - accuracy: 0.6657 - precision: 0.6167 - recall: 0.9579 - auc: 0.8472 - val_loss: 0.4697 - val_accuracy: 0.8102 - val_precision: 0.7697 - val_recall: 0.9335 - val_auc: 0.9222\n",
      "2/2 [==============================] - 0s 113ms/step - loss: 0.4740 - accuracy: 0.8113 - precision: 0.7551 - recall: 0.9324 - auc: 0.9324\n"
     ]
    },
    {
     "data": {
      "text/html": [
       "<div>\n",
       "<style scoped>\n",
       "    .dataframe tbody tr th:only-of-type {\n",
       "        vertical-align: middle;\n",
       "    }\n",
       "\n",
       "    .dataframe tbody tr th {\n",
       "        vertical-align: top;\n",
       "    }\n",
       "\n",
       "    .dataframe thead th {\n",
       "        text-align: right;\n",
       "    }\n",
       "</style>\n",
       "<table border=\"1\" class=\"dataframe\">\n",
       "  <thead>\n",
       "    <tr style=\"text-align: right;\">\n",
       "      <th></th>\n",
       "      <th>Loss</th>\n",
       "      <th>Accuracy</th>\n",
       "      <th>Precision</th>\n",
       "      <th>Recall</th>\n",
       "      <th>AUC</th>\n",
       "      <th>F1 Score</th>\n",
       "    </tr>\n",
       "  </thead>\n",
       "  <tbody>\n",
       "    <tr>\n",
       "      <th>CNN count</th>\n",
       "      <td>0.692952</td>\n",
       "      <td>0.509930</td>\n",
       "      <td>0.509930</td>\n",
       "      <td>1.000000</td>\n",
       "      <td>0.500000</td>\n",
       "      <td>0.675435</td>\n",
       "    </tr>\n",
       "    <tr>\n",
       "      <th>CNN tfidf</th>\n",
       "      <td>0.693075</td>\n",
       "      <td>0.509930</td>\n",
       "      <td>0.509930</td>\n",
       "      <td>1.000000</td>\n",
       "      <td>0.500000</td>\n",
       "      <td>0.675435</td>\n",
       "    </tr>\n",
       "    <tr>\n",
       "      <th>CNN word2vec</th>\n",
       "      <td>0.288949</td>\n",
       "      <td>0.880841</td>\n",
       "      <td>0.896797</td>\n",
       "      <td>0.865979</td>\n",
       "      <td>0.949326</td>\n",
       "      <td>0.881119</td>\n",
       "    </tr>\n",
       "    <tr>\n",
       "      <th>LSTM count</th>\n",
       "      <td>0.608992</td>\n",
       "      <td>0.707360</td>\n",
       "      <td>0.709459</td>\n",
       "      <td>0.721649</td>\n",
       "      <td>0.749366</td>\n",
       "      <td>0.715503</td>\n",
       "    </tr>\n",
       "    <tr>\n",
       "      <th>LSTM tfidf</th>\n",
       "      <td>0.692189</td>\n",
       "      <td>0.509930</td>\n",
       "      <td>0.509930</td>\n",
       "      <td>1.000000</td>\n",
       "      <td>0.618570</td>\n",
       "      <td>0.675435</td>\n",
       "    </tr>\n",
       "    <tr>\n",
       "      <th>LSTM word2vec</th>\n",
       "      <td>0.474007</td>\n",
       "      <td>0.811332</td>\n",
       "      <td>0.755102</td>\n",
       "      <td>0.932417</td>\n",
       "      <td>0.932364</td>\n",
       "      <td>0.834444</td>\n",
       "    </tr>\n",
       "  </tbody>\n",
       "</table>\n",
       "</div>"
      ],
      "text/plain": [
       "                   Loss  Accuracy  Precision    Recall       AUC  F1 Score\n",
       "CNN count      0.692952  0.509930   0.509930  1.000000  0.500000  0.675435\n",
       "CNN tfidf      0.693075  0.509930   0.509930  1.000000  0.500000  0.675435\n",
       "CNN word2vec   0.288949  0.880841   0.896797  0.865979  0.949326  0.881119\n",
       "LSTM count     0.608992  0.707360   0.709459  0.721649  0.749366  0.715503\n",
       "LSTM tfidf     0.692189  0.509930   0.509930  1.000000  0.618570  0.675435\n",
       "LSTM word2vec  0.474007  0.811332   0.755102  0.932417  0.932364  0.834444"
      ]
     },
     "execution_count": 55,
     "metadata": {},
     "output_type": "execute_result"
    }
   ],
   "source": [
    "lstm_word2vec_model = tf.keras.Sequential([\n",
    "    layers.Embedding(vocab_size, W2V_SIZE, weights=[embedding_matrix], input_length=SEQUENCE_LENGTH, trainable=False),\n",
    "    layers.LSTM(64, return_sequences=True),\n",
    "    layers.GlobalMaxPooling1D(),\n",
    "    layers.Dense(10, activation='relu'),\n",
    "    tf.keras.layers.Dense(1, activation='sigmoid')\n",
    "])\n",
    "\n",
    "get_deep_learning_results_w2v(lstm_word2vec_model, \"LSTM\")"
   ]
  },
  {
   "cell_type": "markdown",
   "metadata": {},
   "source": [
    "### LSTM (Bidirectional)"
   ]
  },
  {
   "cell_type": "code",
   "execution_count": 56,
   "metadata": {},
   "outputs": [
    {
     "name": "stdout",
     "output_type": "stream",
     "text": [
      "\n",
      " >>> Training Count Vectorisation Model ========================================= \n",
      "\n",
      "213/213 [==============================] - 215s 988ms/step - loss: 0.6475 - accuracy: 0.6314 - precision: 0.6411 - recall: 0.6822 - auc: 0.6724\n",
      "54/54 [==============================] - 22s 390ms/step - loss: 0.5971 - accuracy: 0.7068 - precision: 0.7082 - recall: 0.7228 - auc: 0.7569\n",
      "\n",
      " >>> Training TFIDF Vectorisation Model ========================================= \n",
      "\n",
      "213/213 [==============================] - 212s 990ms/step - loss: 0.6957 - accuracy: 0.5172 - precision: 0.5258 - recall: 0.8541 - auc: 0.4984\n",
      "54/54 [==============================] - 19s 357ms/step - loss: 0.6941 - accuracy: 0.5099 - precision: 0.5099 - recall: 1.0000 - auc: 0.5016\n"
     ]
    },
    {
     "data": {
      "text/html": [
       "<div>\n",
       "<style scoped>\n",
       "    .dataframe tbody tr th:only-of-type {\n",
       "        vertical-align: middle;\n",
       "    }\n",
       "\n",
       "    .dataframe tbody tr th {\n",
       "        vertical-align: top;\n",
       "    }\n",
       "\n",
       "    .dataframe thead th {\n",
       "        text-align: right;\n",
       "    }\n",
       "</style>\n",
       "<table border=\"1\" class=\"dataframe\">\n",
       "  <thead>\n",
       "    <tr style=\"text-align: right;\">\n",
       "      <th></th>\n",
       "      <th>Loss</th>\n",
       "      <th>Accuracy</th>\n",
       "      <th>Precision</th>\n",
       "      <th>Recall</th>\n",
       "      <th>AUC</th>\n",
       "      <th>F1 Score</th>\n",
       "    </tr>\n",
       "  </thead>\n",
       "  <tbody>\n",
       "    <tr>\n",
       "      <th>CNN count</th>\n",
       "      <td>0.692952</td>\n",
       "      <td>0.509930</td>\n",
       "      <td>0.509930</td>\n",
       "      <td>1.000000</td>\n",
       "      <td>0.500000</td>\n",
       "      <td>0.675435</td>\n",
       "    </tr>\n",
       "    <tr>\n",
       "      <th>CNN tfidf</th>\n",
       "      <td>0.693075</td>\n",
       "      <td>0.509930</td>\n",
       "      <td>0.509930</td>\n",
       "      <td>1.000000</td>\n",
       "      <td>0.500000</td>\n",
       "      <td>0.675435</td>\n",
       "    </tr>\n",
       "    <tr>\n",
       "      <th>CNN word2vec</th>\n",
       "      <td>0.288949</td>\n",
       "      <td>0.880841</td>\n",
       "      <td>0.896797</td>\n",
       "      <td>0.865979</td>\n",
       "      <td>0.949326</td>\n",
       "      <td>0.881119</td>\n",
       "    </tr>\n",
       "    <tr>\n",
       "      <th>LSTM count</th>\n",
       "      <td>0.608992</td>\n",
       "      <td>0.707360</td>\n",
       "      <td>0.709459</td>\n",
       "      <td>0.721649</td>\n",
       "      <td>0.749366</td>\n",
       "      <td>0.715503</td>\n",
       "    </tr>\n",
       "    <tr>\n",
       "      <th>LSTM tfidf</th>\n",
       "      <td>0.692189</td>\n",
       "      <td>0.509930</td>\n",
       "      <td>0.509930</td>\n",
       "      <td>1.000000</td>\n",
       "      <td>0.618570</td>\n",
       "      <td>0.675435</td>\n",
       "    </tr>\n",
       "    <tr>\n",
       "      <th>LSTM word2vec</th>\n",
       "      <td>0.474007</td>\n",
       "      <td>0.811332</td>\n",
       "      <td>0.755102</td>\n",
       "      <td>0.932417</td>\n",
       "      <td>0.932364</td>\n",
       "      <td>0.834444</td>\n",
       "    </tr>\n",
       "    <tr>\n",
       "      <th>BiLSTM count</th>\n",
       "      <td>0.597137</td>\n",
       "      <td>0.706776</td>\n",
       "      <td>0.708193</td>\n",
       "      <td>0.722795</td>\n",
       "      <td>0.756864</td>\n",
       "      <td>0.715420</td>\n",
       "    </tr>\n",
       "    <tr>\n",
       "      <th>BiLSTM tfidf</th>\n",
       "      <td>0.694104</td>\n",
       "      <td>0.509930</td>\n",
       "      <td>0.509930</td>\n",
       "      <td>1.000000</td>\n",
       "      <td>0.501602</td>\n",
       "      <td>0.675435</td>\n",
       "    </tr>\n",
       "  </tbody>\n",
       "</table>\n",
       "</div>"
      ],
      "text/plain": [
       "                   Loss  Accuracy  Precision    Recall       AUC  F1 Score\n",
       "CNN count      0.692952  0.509930   0.509930  1.000000  0.500000  0.675435\n",
       "CNN tfidf      0.693075  0.509930   0.509930  1.000000  0.500000  0.675435\n",
       "CNN word2vec   0.288949  0.880841   0.896797  0.865979  0.949326  0.881119\n",
       "LSTM count     0.608992  0.707360   0.709459  0.721649  0.749366  0.715503\n",
       "LSTM tfidf     0.692189  0.509930   0.509930  1.000000  0.618570  0.675435\n",
       "LSTM word2vec  0.474007  0.811332   0.755102  0.932417  0.932364  0.834444\n",
       "BiLSTM count   0.597137  0.706776   0.708193  0.722795  0.756864  0.715420\n",
       "BiLSTM tfidf   0.694104  0.509930   0.509930  1.000000  0.501602  0.675435"
      ]
     },
     "execution_count": 56,
     "metadata": {},
     "output_type": "execute_result"
    }
   ],
   "source": [
    "bilstm_vect_model = tf.keras.Sequential([\n",
    "    layers.Bidirectional(layers.LSTM(100, return_sequences=True, input_shape=(None,1))),\n",
    "    layers.GlobalMaxPooling1D(),\n",
    "    layers.Dense(10, activation='relu'),\n",
    "    tf.keras.layers.Dense(1, activation='sigmoid')\n",
    "])\n",
    "\n",
    "get_deep_learning_results_vect(bilstm_vect_model, \"BiLSTM\")\n"
   ]
  },
  {
   "cell_type": "code",
   "execution_count": 59,
   "metadata": {},
   "outputs": [
    {
     "name": "stdout",
     "output_type": "stream",
     "text": [
      "\n",
      " >>> Training Word2Vec Model ========================================= \n",
      "\n"
     ]
    },
    {
     "ename": "InternalError",
     "evalue": "stream did not block host until done; was already in an error state",
     "output_type": "error",
     "traceback": [
      "\u001b[1;31m---------------------------------------------------------------------------\u001b[0m",
      "\u001b[1;31mInternalError\u001b[0m                             Traceback (most recent call last)",
      "\u001b[1;32m~\\AppData\\Local\\Temp/ipykernel_25916/165072115.py\u001b[0m in \u001b[0;36m<module>\u001b[1;34m\u001b[0m\n\u001b[0;32m      7\u001b[0m ])\n\u001b[0;32m      8\u001b[0m \u001b[1;33m\u001b[0m\u001b[0m\n\u001b[1;32m----> 9\u001b[1;33m \u001b[0mget_deep_learning_results_w2v\u001b[0m\u001b[1;33m(\u001b[0m\u001b[0mbilstm_word2vec_model\u001b[0m\u001b[1;33m,\u001b[0m \u001b[1;34m\"BiLSTM\"\u001b[0m\u001b[1;33m)\u001b[0m\u001b[1;33m\u001b[0m\u001b[1;33m\u001b[0m\u001b[0m\n\u001b[0m",
      "\u001b[1;32m~\\AppData\\Local\\Temp/ipykernel_25916/2804540356.py\u001b[0m in \u001b[0;36mget_deep_learning_results_w2v\u001b[1;34m(model, model_name)\u001b[0m\n\u001b[0;32m     85\u001b[0m \u001b[1;33m\u001b[0m\u001b[0m\n\u001b[0;32m     86\u001b[0m     \u001b[0mprint\u001b[0m\u001b[1;33m(\u001b[0m\u001b[1;34m\"\\n >>> Training Word2Vec Model ========================================= \\n\"\u001b[0m\u001b[1;33m)\u001b[0m\u001b[1;33m\u001b[0m\u001b[1;33m\u001b[0m\u001b[0m\n\u001b[1;32m---> 87\u001b[1;33m     fit_word2vec = model.fit(\n\u001b[0m\u001b[0;32m     88\u001b[0m         \u001b[0mx_train_word2vec\u001b[0m \u001b[1;33m,\u001b[0m \u001b[0my_train\u001b[0m \u001b[1;33m,\u001b[0m\u001b[1;33m\u001b[0m\u001b[1;33m\u001b[0m\u001b[0m\n\u001b[0;32m     89\u001b[0m         \u001b[0mbatch_size\u001b[0m\u001b[1;33m=\u001b[0m\u001b[0mBATCH_SIZE\u001b[0m\u001b[1;33m,\u001b[0m\u001b[1;33m\u001b[0m\u001b[1;33m\u001b[0m\u001b[0m\n",
      "\u001b[1;32m~\\anaconda3\\envs\\gpuEnv\\lib\\site-packages\\tensorflow\\python\\keras\\engine\\training.py\u001b[0m in \u001b[0;36mfit\u001b[1;34m(self, x, y, batch_size, epochs, verbose, callbacks, validation_split, validation_data, shuffle, class_weight, sample_weight, initial_epoch, steps_per_epoch, validation_steps, validation_batch_size, validation_freq, max_queue_size, workers, use_multiprocessing)\u001b[0m\n\u001b[0;32m   1131\u001b[0m          \u001b[0mtraining_utils\u001b[0m\u001b[1;33m.\u001b[0m\u001b[0mRespectCompiledTrainableState\u001b[0m\u001b[1;33m(\u001b[0m\u001b[0mself\u001b[0m\u001b[1;33m)\u001b[0m\u001b[1;33m:\u001b[0m\u001b[1;33m\u001b[0m\u001b[1;33m\u001b[0m\u001b[0m\n\u001b[0;32m   1132\u001b[0m       \u001b[1;31m# Creates a `tf.data.Dataset` and handles batch and epoch iteration.\u001b[0m\u001b[1;33m\u001b[0m\u001b[1;33m\u001b[0m\u001b[1;33m\u001b[0m\u001b[0m\n\u001b[1;32m-> 1133\u001b[1;33m       data_handler = data_adapter.get_data_handler(\n\u001b[0m\u001b[0;32m   1134\u001b[0m           \u001b[0mx\u001b[0m\u001b[1;33m=\u001b[0m\u001b[0mx\u001b[0m\u001b[1;33m,\u001b[0m\u001b[1;33m\u001b[0m\u001b[1;33m\u001b[0m\u001b[0m\n\u001b[0;32m   1135\u001b[0m           \u001b[0my\u001b[0m\u001b[1;33m=\u001b[0m\u001b[0my\u001b[0m\u001b[1;33m,\u001b[0m\u001b[1;33m\u001b[0m\u001b[1;33m\u001b[0m\u001b[0m\n",
      "\u001b[1;32m~\\anaconda3\\envs\\gpuEnv\\lib\\site-packages\\tensorflow\\python\\keras\\engine\\data_adapter.py\u001b[0m in \u001b[0;36mget_data_handler\u001b[1;34m(*args, **kwargs)\u001b[0m\n\u001b[0;32m   1362\u001b[0m   \u001b[1;32mif\u001b[0m \u001b[0mgetattr\u001b[0m\u001b[1;33m(\u001b[0m\u001b[0mkwargs\u001b[0m\u001b[1;33m[\u001b[0m\u001b[1;34m\"model\"\u001b[0m\u001b[1;33m]\u001b[0m\u001b[1;33m,\u001b[0m \u001b[1;34m\"_cluster_coordinator\"\u001b[0m\u001b[1;33m,\u001b[0m \u001b[1;32mNone\u001b[0m\u001b[1;33m)\u001b[0m\u001b[1;33m:\u001b[0m\u001b[1;33m\u001b[0m\u001b[1;33m\u001b[0m\u001b[0m\n\u001b[0;32m   1363\u001b[0m     \u001b[1;32mreturn\u001b[0m \u001b[0m_ClusterCoordinatorDataHandler\u001b[0m\u001b[1;33m(\u001b[0m\u001b[1;33m*\u001b[0m\u001b[0margs\u001b[0m\u001b[1;33m,\u001b[0m \u001b[1;33m**\u001b[0m\u001b[0mkwargs\u001b[0m\u001b[1;33m)\u001b[0m\u001b[1;33m\u001b[0m\u001b[1;33m\u001b[0m\u001b[0m\n\u001b[1;32m-> 1364\u001b[1;33m   \u001b[1;32mreturn\u001b[0m \u001b[0mDataHandler\u001b[0m\u001b[1;33m(\u001b[0m\u001b[1;33m*\u001b[0m\u001b[0margs\u001b[0m\u001b[1;33m,\u001b[0m \u001b[1;33m**\u001b[0m\u001b[0mkwargs\u001b[0m\u001b[1;33m)\u001b[0m\u001b[1;33m\u001b[0m\u001b[1;33m\u001b[0m\u001b[0m\n\u001b[0m\u001b[0;32m   1365\u001b[0m \u001b[1;33m\u001b[0m\u001b[0m\n\u001b[0;32m   1366\u001b[0m \u001b[1;33m\u001b[0m\u001b[0m\n",
      "\u001b[1;32m~\\anaconda3\\envs\\gpuEnv\\lib\\site-packages\\tensorflow\\python\\keras\\engine\\data_adapter.py\u001b[0m in \u001b[0;36m__init__\u001b[1;34m(self, x, y, sample_weight, batch_size, steps_per_epoch, initial_epoch, epochs, shuffle, class_weight, max_queue_size, workers, use_multiprocessing, model, steps_per_execution, distribute)\u001b[0m\n\u001b[0;32m   1148\u001b[0m     \u001b[1;32melse\u001b[0m\u001b[1;33m:\u001b[0m\u001b[1;33m\u001b[0m\u001b[1;33m\u001b[0m\u001b[0m\n\u001b[0;32m   1149\u001b[0m       \u001b[0mself\u001b[0m\u001b[1;33m.\u001b[0m\u001b[0m_steps_per_execution\u001b[0m \u001b[1;33m=\u001b[0m \u001b[0msteps_per_execution\u001b[0m\u001b[1;33m\u001b[0m\u001b[1;33m\u001b[0m\u001b[0m\n\u001b[1;32m-> 1150\u001b[1;33m       \u001b[0mself\u001b[0m\u001b[1;33m.\u001b[0m\u001b[0m_steps_per_execution_value\u001b[0m \u001b[1;33m=\u001b[0m \u001b[0msteps_per_execution\u001b[0m\u001b[1;33m.\u001b[0m\u001b[0mnumpy\u001b[0m\u001b[1;33m(\u001b[0m\u001b[1;33m)\u001b[0m\u001b[1;33m.\u001b[0m\u001b[0mitem\u001b[0m\u001b[1;33m(\u001b[0m\u001b[1;33m)\u001b[0m\u001b[1;33m\u001b[0m\u001b[1;33m\u001b[0m\u001b[0m\n\u001b[0m\u001b[0;32m   1151\u001b[0m \u001b[1;33m\u001b[0m\u001b[0m\n\u001b[0;32m   1152\u001b[0m     \u001b[0madapter_cls\u001b[0m \u001b[1;33m=\u001b[0m \u001b[0mselect_data_adapter\u001b[0m\u001b[1;33m(\u001b[0m\u001b[0mx\u001b[0m\u001b[1;33m,\u001b[0m \u001b[0my\u001b[0m\u001b[1;33m)\u001b[0m\u001b[1;33m\u001b[0m\u001b[1;33m\u001b[0m\u001b[0m\n",
      "\u001b[1;32m~\\anaconda3\\envs\\gpuEnv\\lib\\site-packages\\tensorflow\\python\\ops\\resource_variable_ops.py\u001b[0m in \u001b[0;36mnumpy\u001b[1;34m(self)\u001b[0m\n\u001b[0;32m    626\u001b[0m   \u001b[1;32mdef\u001b[0m \u001b[0mnumpy\u001b[0m\u001b[1;33m(\u001b[0m\u001b[0mself\u001b[0m\u001b[1;33m)\u001b[0m\u001b[1;33m:\u001b[0m\u001b[1;33m\u001b[0m\u001b[1;33m\u001b[0m\u001b[0m\n\u001b[0;32m    627\u001b[0m     \u001b[1;32mif\u001b[0m \u001b[0mcontext\u001b[0m\u001b[1;33m.\u001b[0m\u001b[0mexecuting_eagerly\u001b[0m\u001b[1;33m(\u001b[0m\u001b[1;33m)\u001b[0m\u001b[1;33m:\u001b[0m\u001b[1;33m\u001b[0m\u001b[1;33m\u001b[0m\u001b[0m\n\u001b[1;32m--> 628\u001b[1;33m       \u001b[1;32mreturn\u001b[0m \u001b[0mself\u001b[0m\u001b[1;33m.\u001b[0m\u001b[0mread_value\u001b[0m\u001b[1;33m(\u001b[0m\u001b[1;33m)\u001b[0m\u001b[1;33m.\u001b[0m\u001b[0mnumpy\u001b[0m\u001b[1;33m(\u001b[0m\u001b[1;33m)\u001b[0m\u001b[1;33m\u001b[0m\u001b[1;33m\u001b[0m\u001b[0m\n\u001b[0m\u001b[0;32m    629\u001b[0m     raise NotImplementedError(\n\u001b[0;32m    630\u001b[0m         \"numpy() is only available when eager execution is enabled.\")\n",
      "\u001b[1;32m~\\anaconda3\\envs\\gpuEnv\\lib\\site-packages\\tensorflow\\python\\framework\\ops.py\u001b[0m in \u001b[0;36mnumpy\u001b[1;34m(self)\u001b[0m\n\u001b[0;32m   1092\u001b[0m     \"\"\"\n\u001b[0;32m   1093\u001b[0m     \u001b[1;31m# TODO(slebedev): Consider avoiding a copy for non-CPU or remote tensors.\u001b[0m\u001b[1;33m\u001b[0m\u001b[1;33m\u001b[0m\u001b[1;33m\u001b[0m\u001b[0m\n\u001b[1;32m-> 1094\u001b[1;33m     \u001b[0mmaybe_arr\u001b[0m \u001b[1;33m=\u001b[0m \u001b[0mself\u001b[0m\u001b[1;33m.\u001b[0m\u001b[0m_numpy\u001b[0m\u001b[1;33m(\u001b[0m\u001b[1;33m)\u001b[0m  \u001b[1;31m# pylint: disable=protected-access\u001b[0m\u001b[1;33m\u001b[0m\u001b[1;33m\u001b[0m\u001b[0m\n\u001b[0m\u001b[0;32m   1095\u001b[0m     \u001b[1;32mreturn\u001b[0m \u001b[0mmaybe_arr\u001b[0m\u001b[1;33m.\u001b[0m\u001b[0mcopy\u001b[0m\u001b[1;33m(\u001b[0m\u001b[1;33m)\u001b[0m \u001b[1;32mif\u001b[0m \u001b[0misinstance\u001b[0m\u001b[1;33m(\u001b[0m\u001b[0mmaybe_arr\u001b[0m\u001b[1;33m,\u001b[0m \u001b[0mnp\u001b[0m\u001b[1;33m.\u001b[0m\u001b[0mndarray\u001b[0m\u001b[1;33m)\u001b[0m \u001b[1;32melse\u001b[0m \u001b[0mmaybe_arr\u001b[0m\u001b[1;33m\u001b[0m\u001b[1;33m\u001b[0m\u001b[0m\n\u001b[0;32m   1096\u001b[0m \u001b[1;33m\u001b[0m\u001b[0m\n",
      "\u001b[1;32m~\\anaconda3\\envs\\gpuEnv\\lib\\site-packages\\tensorflow\\python\\framework\\ops.py\u001b[0m in \u001b[0;36m_numpy\u001b[1;34m(self)\u001b[0m\n\u001b[0;32m   1060\u001b[0m       \u001b[1;32mreturn\u001b[0m \u001b[0mself\u001b[0m\u001b[1;33m.\u001b[0m\u001b[0m_numpy_internal\u001b[0m\u001b[1;33m(\u001b[0m\u001b[1;33m)\u001b[0m\u001b[1;33m\u001b[0m\u001b[1;33m\u001b[0m\u001b[0m\n\u001b[0;32m   1061\u001b[0m     \u001b[1;32mexcept\u001b[0m \u001b[0mcore\u001b[0m\u001b[1;33m.\u001b[0m\u001b[0m_NotOkStatusException\u001b[0m \u001b[1;32mas\u001b[0m \u001b[0me\u001b[0m\u001b[1;33m:\u001b[0m  \u001b[1;31m# pylint: disable=protected-access\u001b[0m\u001b[1;33m\u001b[0m\u001b[1;33m\u001b[0m\u001b[0m\n\u001b[1;32m-> 1062\u001b[1;33m       \u001b[0msix\u001b[0m\u001b[1;33m.\u001b[0m\u001b[0mraise_from\u001b[0m\u001b[1;33m(\u001b[0m\u001b[0mcore\u001b[0m\u001b[1;33m.\u001b[0m\u001b[0m_status_to_exception\u001b[0m\u001b[1;33m(\u001b[0m\u001b[0me\u001b[0m\u001b[1;33m.\u001b[0m\u001b[0mcode\u001b[0m\u001b[1;33m,\u001b[0m \u001b[0me\u001b[0m\u001b[1;33m.\u001b[0m\u001b[0mmessage\u001b[0m\u001b[1;33m)\u001b[0m\u001b[1;33m,\u001b[0m \u001b[1;32mNone\u001b[0m\u001b[1;33m)\u001b[0m  \u001b[1;31m# pylint: disable=protected-access\u001b[0m\u001b[1;33m\u001b[0m\u001b[1;33m\u001b[0m\u001b[0m\n\u001b[0m\u001b[0;32m   1063\u001b[0m \u001b[1;33m\u001b[0m\u001b[0m\n\u001b[0;32m   1064\u001b[0m   \u001b[1;33m@\u001b[0m\u001b[0mproperty\u001b[0m\u001b[1;33m\u001b[0m\u001b[1;33m\u001b[0m\u001b[0m\n",
      "\u001b[1;32m~\\anaconda3\\envs\\gpuEnv\\lib\\site-packages\\six.py\u001b[0m in \u001b[0;36mraise_from\u001b[1;34m(value, from_value)\u001b[0m\n",
      "\u001b[1;31mInternalError\u001b[0m: stream did not block host until done; was already in an error state"
     ]
    }
   ],
   "source": [
    "bilstm_word2vec_model = tf.keras.Sequential([\n",
    "    layers.Embedding(vocab_size, W2V_SIZE, weights=[embedding_matrix], input_length=SEQUENCE_LENGTH, trainable=False),\n",
    "    layers.Bidirectional(layers.LSTM(64, return_sequences=True, dropout=0.5)),\n",
    "    layers.GlobalMaxPooling1D(),\n",
    "    layers.Dense(10, activation='relu'),\n",
    "    tf.keras.layers.Dense(1, activation='sigmoid')\n",
    "])\n",
    "\n",
    "get_deep_learning_results_w2v(bilstm_word2vec_model, \"BiLSTM\")"
   ]
  },
  {
   "cell_type": "markdown",
   "metadata": {},
   "source": [
    "### LSTM + CNN"
   ]
  },
  {
   "cell_type": "code",
   "execution_count": 60,
   "metadata": {},
   "outputs": [
    {
     "name": "stdout",
     "output_type": "stream",
     "text": [
      "WARNING:tensorflow:Layer lstm_5 will not use cuDNN kernels since it doesn't meet the criteria. It will use a generic GPU kernel as fallback when running on GPU.\n",
      "\n",
      " >>> Training Count Vectorisation Model ========================================= \n",
      "\n"
     ]
    },
    {
     "ename": "InternalError",
     "evalue": "stream did not block host until done; was already in an error state",
     "output_type": "error",
     "traceback": [
      "\u001b[1;31m---------------------------------------------------------------------------\u001b[0m",
      "\u001b[1;31mInternalError\u001b[0m                             Traceback (most recent call last)",
      "\u001b[1;32m~\\AppData\\Local\\Temp/ipykernel_25916/101812833.py\u001b[0m in \u001b[0;36m<module>\u001b[1;34m\u001b[0m\n\u001b[0;32m      8\u001b[0m ])\n\u001b[0;32m      9\u001b[0m \u001b[1;33m\u001b[0m\u001b[0m\n\u001b[1;32m---> 10\u001b[1;33m \u001b[0mget_deep_learning_results_vect\u001b[0m\u001b[1;33m(\u001b[0m\u001b[0mlstmcnn_vect_model\u001b[0m\u001b[1;33m,\u001b[0m \u001b[1;34m\"LSTM+CNN\"\u001b[0m\u001b[1;33m)\u001b[0m\u001b[1;33m\u001b[0m\u001b[1;33m\u001b[0m\u001b[0m\n\u001b[0m",
      "\u001b[1;32m~\\AppData\\Local\\Temp/ipykernel_25916/2804540356.py\u001b[0m in \u001b[0;36mget_deep_learning_results_vect\u001b[1;34m(model, model_name)\u001b[0m\n\u001b[0;32m     52\u001b[0m     \u001b[1;31m#count_vectorizer\u001b[0m\u001b[1;33m\u001b[0m\u001b[1;33m\u001b[0m\u001b[1;33m\u001b[0m\u001b[0m\n\u001b[0;32m     53\u001b[0m     \u001b[0mprint\u001b[0m\u001b[1;33m(\u001b[0m\u001b[1;34m\"\\n >>> Training Count Vectorisation Model ========================================= \\n\"\u001b[0m\u001b[1;33m)\u001b[0m\u001b[1;33m\u001b[0m\u001b[1;33m\u001b[0m\u001b[0m\n\u001b[1;32m---> 54\u001b[1;33m     fit_countv = model.fit(\n\u001b[0m\u001b[0;32m     55\u001b[0m         \u001b[0mbatch_generator\u001b[0m\u001b[1;33m(\u001b[0m\u001b[0mx_train_countv\u001b[0m\u001b[1;33m,\u001b[0m \u001b[0my_train\u001b[0m\u001b[1;33m,\u001b[0m \u001b[1;36m32\u001b[0m\u001b[1;33m)\u001b[0m\u001b[1;33m,\u001b[0m\u001b[1;33m\u001b[0m\u001b[1;33m\u001b[0m\u001b[0m\n\u001b[0;32m     56\u001b[0m         \u001b[0mepochs\u001b[0m \u001b[1;33m=\u001b[0m \u001b[0mEPOCHS\u001b[0m\u001b[1;33m,\u001b[0m\u001b[1;33m\u001b[0m\u001b[1;33m\u001b[0m\u001b[0m\n",
      "\u001b[1;32m~\\anaconda3\\envs\\gpuEnv\\lib\\site-packages\\tensorflow\\python\\keras\\engine\\training.py\u001b[0m in \u001b[0;36mfit\u001b[1;34m(self, x, y, batch_size, epochs, verbose, callbacks, validation_split, validation_data, shuffle, class_weight, sample_weight, initial_epoch, steps_per_epoch, validation_steps, validation_batch_size, validation_freq, max_queue_size, workers, use_multiprocessing)\u001b[0m\n\u001b[0;32m   1131\u001b[0m          \u001b[0mtraining_utils\u001b[0m\u001b[1;33m.\u001b[0m\u001b[0mRespectCompiledTrainableState\u001b[0m\u001b[1;33m(\u001b[0m\u001b[0mself\u001b[0m\u001b[1;33m)\u001b[0m\u001b[1;33m:\u001b[0m\u001b[1;33m\u001b[0m\u001b[1;33m\u001b[0m\u001b[0m\n\u001b[0;32m   1132\u001b[0m       \u001b[1;31m# Creates a `tf.data.Dataset` and handles batch and epoch iteration.\u001b[0m\u001b[1;33m\u001b[0m\u001b[1;33m\u001b[0m\u001b[1;33m\u001b[0m\u001b[0m\n\u001b[1;32m-> 1133\u001b[1;33m       data_handler = data_adapter.get_data_handler(\n\u001b[0m\u001b[0;32m   1134\u001b[0m           \u001b[0mx\u001b[0m\u001b[1;33m=\u001b[0m\u001b[0mx\u001b[0m\u001b[1;33m,\u001b[0m\u001b[1;33m\u001b[0m\u001b[1;33m\u001b[0m\u001b[0m\n\u001b[0;32m   1135\u001b[0m           \u001b[0my\u001b[0m\u001b[1;33m=\u001b[0m\u001b[0my\u001b[0m\u001b[1;33m,\u001b[0m\u001b[1;33m\u001b[0m\u001b[1;33m\u001b[0m\u001b[0m\n",
      "\u001b[1;32m~\\anaconda3\\envs\\gpuEnv\\lib\\site-packages\\tensorflow\\python\\keras\\engine\\data_adapter.py\u001b[0m in \u001b[0;36mget_data_handler\u001b[1;34m(*args, **kwargs)\u001b[0m\n\u001b[0;32m   1362\u001b[0m   \u001b[1;32mif\u001b[0m \u001b[0mgetattr\u001b[0m\u001b[1;33m(\u001b[0m\u001b[0mkwargs\u001b[0m\u001b[1;33m[\u001b[0m\u001b[1;34m\"model\"\u001b[0m\u001b[1;33m]\u001b[0m\u001b[1;33m,\u001b[0m \u001b[1;34m\"_cluster_coordinator\"\u001b[0m\u001b[1;33m,\u001b[0m \u001b[1;32mNone\u001b[0m\u001b[1;33m)\u001b[0m\u001b[1;33m:\u001b[0m\u001b[1;33m\u001b[0m\u001b[1;33m\u001b[0m\u001b[0m\n\u001b[0;32m   1363\u001b[0m     \u001b[1;32mreturn\u001b[0m \u001b[0m_ClusterCoordinatorDataHandler\u001b[0m\u001b[1;33m(\u001b[0m\u001b[1;33m*\u001b[0m\u001b[0margs\u001b[0m\u001b[1;33m,\u001b[0m \u001b[1;33m**\u001b[0m\u001b[0mkwargs\u001b[0m\u001b[1;33m)\u001b[0m\u001b[1;33m\u001b[0m\u001b[1;33m\u001b[0m\u001b[0m\n\u001b[1;32m-> 1364\u001b[1;33m   \u001b[1;32mreturn\u001b[0m \u001b[0mDataHandler\u001b[0m\u001b[1;33m(\u001b[0m\u001b[1;33m*\u001b[0m\u001b[0margs\u001b[0m\u001b[1;33m,\u001b[0m \u001b[1;33m**\u001b[0m\u001b[0mkwargs\u001b[0m\u001b[1;33m)\u001b[0m\u001b[1;33m\u001b[0m\u001b[1;33m\u001b[0m\u001b[0m\n\u001b[0m\u001b[0;32m   1365\u001b[0m \u001b[1;33m\u001b[0m\u001b[0m\n\u001b[0;32m   1366\u001b[0m \u001b[1;33m\u001b[0m\u001b[0m\n",
      "\u001b[1;32m~\\anaconda3\\envs\\gpuEnv\\lib\\site-packages\\tensorflow\\python\\keras\\engine\\data_adapter.py\u001b[0m in \u001b[0;36m__init__\u001b[1;34m(self, x, y, sample_weight, batch_size, steps_per_epoch, initial_epoch, epochs, shuffle, class_weight, max_queue_size, workers, use_multiprocessing, model, steps_per_execution, distribute)\u001b[0m\n\u001b[0;32m   1148\u001b[0m     \u001b[1;32melse\u001b[0m\u001b[1;33m:\u001b[0m\u001b[1;33m\u001b[0m\u001b[1;33m\u001b[0m\u001b[0m\n\u001b[0;32m   1149\u001b[0m       \u001b[0mself\u001b[0m\u001b[1;33m.\u001b[0m\u001b[0m_steps_per_execution\u001b[0m \u001b[1;33m=\u001b[0m \u001b[0msteps_per_execution\u001b[0m\u001b[1;33m\u001b[0m\u001b[1;33m\u001b[0m\u001b[0m\n\u001b[1;32m-> 1150\u001b[1;33m       \u001b[0mself\u001b[0m\u001b[1;33m.\u001b[0m\u001b[0m_steps_per_execution_value\u001b[0m \u001b[1;33m=\u001b[0m \u001b[0msteps_per_execution\u001b[0m\u001b[1;33m.\u001b[0m\u001b[0mnumpy\u001b[0m\u001b[1;33m(\u001b[0m\u001b[1;33m)\u001b[0m\u001b[1;33m.\u001b[0m\u001b[0mitem\u001b[0m\u001b[1;33m(\u001b[0m\u001b[1;33m)\u001b[0m\u001b[1;33m\u001b[0m\u001b[1;33m\u001b[0m\u001b[0m\n\u001b[0m\u001b[0;32m   1151\u001b[0m \u001b[1;33m\u001b[0m\u001b[0m\n\u001b[0;32m   1152\u001b[0m     \u001b[0madapter_cls\u001b[0m \u001b[1;33m=\u001b[0m \u001b[0mselect_data_adapter\u001b[0m\u001b[1;33m(\u001b[0m\u001b[0mx\u001b[0m\u001b[1;33m,\u001b[0m \u001b[0my\u001b[0m\u001b[1;33m)\u001b[0m\u001b[1;33m\u001b[0m\u001b[1;33m\u001b[0m\u001b[0m\n",
      "\u001b[1;32m~\\anaconda3\\envs\\gpuEnv\\lib\\site-packages\\tensorflow\\python\\ops\\resource_variable_ops.py\u001b[0m in \u001b[0;36mnumpy\u001b[1;34m(self)\u001b[0m\n\u001b[0;32m    626\u001b[0m   \u001b[1;32mdef\u001b[0m \u001b[0mnumpy\u001b[0m\u001b[1;33m(\u001b[0m\u001b[0mself\u001b[0m\u001b[1;33m)\u001b[0m\u001b[1;33m:\u001b[0m\u001b[1;33m\u001b[0m\u001b[1;33m\u001b[0m\u001b[0m\n\u001b[0;32m    627\u001b[0m     \u001b[1;32mif\u001b[0m \u001b[0mcontext\u001b[0m\u001b[1;33m.\u001b[0m\u001b[0mexecuting_eagerly\u001b[0m\u001b[1;33m(\u001b[0m\u001b[1;33m)\u001b[0m\u001b[1;33m:\u001b[0m\u001b[1;33m\u001b[0m\u001b[1;33m\u001b[0m\u001b[0m\n\u001b[1;32m--> 628\u001b[1;33m       \u001b[1;32mreturn\u001b[0m \u001b[0mself\u001b[0m\u001b[1;33m.\u001b[0m\u001b[0mread_value\u001b[0m\u001b[1;33m(\u001b[0m\u001b[1;33m)\u001b[0m\u001b[1;33m.\u001b[0m\u001b[0mnumpy\u001b[0m\u001b[1;33m(\u001b[0m\u001b[1;33m)\u001b[0m\u001b[1;33m\u001b[0m\u001b[1;33m\u001b[0m\u001b[0m\n\u001b[0m\u001b[0;32m    629\u001b[0m     raise NotImplementedError(\n\u001b[0;32m    630\u001b[0m         \"numpy() is only available when eager execution is enabled.\")\n",
      "\u001b[1;32m~\\anaconda3\\envs\\gpuEnv\\lib\\site-packages\\tensorflow\\python\\framework\\ops.py\u001b[0m in \u001b[0;36mnumpy\u001b[1;34m(self)\u001b[0m\n\u001b[0;32m   1092\u001b[0m     \"\"\"\n\u001b[0;32m   1093\u001b[0m     \u001b[1;31m# TODO(slebedev): Consider avoiding a copy for non-CPU or remote tensors.\u001b[0m\u001b[1;33m\u001b[0m\u001b[1;33m\u001b[0m\u001b[1;33m\u001b[0m\u001b[0m\n\u001b[1;32m-> 1094\u001b[1;33m     \u001b[0mmaybe_arr\u001b[0m \u001b[1;33m=\u001b[0m \u001b[0mself\u001b[0m\u001b[1;33m.\u001b[0m\u001b[0m_numpy\u001b[0m\u001b[1;33m(\u001b[0m\u001b[1;33m)\u001b[0m  \u001b[1;31m# pylint: disable=protected-access\u001b[0m\u001b[1;33m\u001b[0m\u001b[1;33m\u001b[0m\u001b[0m\n\u001b[0m\u001b[0;32m   1095\u001b[0m     \u001b[1;32mreturn\u001b[0m \u001b[0mmaybe_arr\u001b[0m\u001b[1;33m.\u001b[0m\u001b[0mcopy\u001b[0m\u001b[1;33m(\u001b[0m\u001b[1;33m)\u001b[0m \u001b[1;32mif\u001b[0m \u001b[0misinstance\u001b[0m\u001b[1;33m(\u001b[0m\u001b[0mmaybe_arr\u001b[0m\u001b[1;33m,\u001b[0m \u001b[0mnp\u001b[0m\u001b[1;33m.\u001b[0m\u001b[0mndarray\u001b[0m\u001b[1;33m)\u001b[0m \u001b[1;32melse\u001b[0m \u001b[0mmaybe_arr\u001b[0m\u001b[1;33m\u001b[0m\u001b[1;33m\u001b[0m\u001b[0m\n\u001b[0;32m   1096\u001b[0m \u001b[1;33m\u001b[0m\u001b[0m\n",
      "\u001b[1;32m~\\anaconda3\\envs\\gpuEnv\\lib\\site-packages\\tensorflow\\python\\framework\\ops.py\u001b[0m in \u001b[0;36m_numpy\u001b[1;34m(self)\u001b[0m\n\u001b[0;32m   1060\u001b[0m       \u001b[1;32mreturn\u001b[0m \u001b[0mself\u001b[0m\u001b[1;33m.\u001b[0m\u001b[0m_numpy_internal\u001b[0m\u001b[1;33m(\u001b[0m\u001b[1;33m)\u001b[0m\u001b[1;33m\u001b[0m\u001b[1;33m\u001b[0m\u001b[0m\n\u001b[0;32m   1061\u001b[0m     \u001b[1;32mexcept\u001b[0m \u001b[0mcore\u001b[0m\u001b[1;33m.\u001b[0m\u001b[0m_NotOkStatusException\u001b[0m \u001b[1;32mas\u001b[0m \u001b[0me\u001b[0m\u001b[1;33m:\u001b[0m  \u001b[1;31m# pylint: disable=protected-access\u001b[0m\u001b[1;33m\u001b[0m\u001b[1;33m\u001b[0m\u001b[0m\n\u001b[1;32m-> 1062\u001b[1;33m       \u001b[0msix\u001b[0m\u001b[1;33m.\u001b[0m\u001b[0mraise_from\u001b[0m\u001b[1;33m(\u001b[0m\u001b[0mcore\u001b[0m\u001b[1;33m.\u001b[0m\u001b[0m_status_to_exception\u001b[0m\u001b[1;33m(\u001b[0m\u001b[0me\u001b[0m\u001b[1;33m.\u001b[0m\u001b[0mcode\u001b[0m\u001b[1;33m,\u001b[0m \u001b[0me\u001b[0m\u001b[1;33m.\u001b[0m\u001b[0mmessage\u001b[0m\u001b[1;33m)\u001b[0m\u001b[1;33m,\u001b[0m \u001b[1;32mNone\u001b[0m\u001b[1;33m)\u001b[0m  \u001b[1;31m# pylint: disable=protected-access\u001b[0m\u001b[1;33m\u001b[0m\u001b[1;33m\u001b[0m\u001b[0m\n\u001b[0m\u001b[0;32m   1063\u001b[0m \u001b[1;33m\u001b[0m\u001b[0m\n\u001b[0;32m   1064\u001b[0m   \u001b[1;33m@\u001b[0m\u001b[0mproperty\u001b[0m\u001b[1;33m\u001b[0m\u001b[1;33m\u001b[0m\u001b[0m\n",
      "\u001b[1;32m~\\anaconda3\\envs\\gpuEnv\\lib\\site-packages\\six.py\u001b[0m in \u001b[0;36mraise_from\u001b[1;34m(value, from_value)\u001b[0m\n",
      "\u001b[1;31mInternalError\u001b[0m: stream did not block host until done; was already in an error state"
     ]
    }
   ],
   "source": [
    "lstmcnn_vect_model = tf.keras.Sequential([\n",
    "    layers.LSTM(100, return_sequences=True, dropout=0.5, activation='relu', input_shape=(None,1)),\n",
    "    layers.MaxPooling1D(pool_size=2),\n",
    "    layers.Conv1D(128, 5, activation='relu'),\n",
    "    layers.GlobalMaxPooling1D(),\n",
    "    layers.Dense(10, activation='relu'),\n",
    "    tf.keras.layers.Dense(1, activation='sigmoid')\n",
    "])\n",
    "\n",
    "get_deep_learning_results_vect(lstmcnn_vect_model, \"LSTM+CNN\")"
   ]
  },
  {
   "cell_type": "code",
   "execution_count": 61,
   "metadata": {},
   "outputs": [
    {
     "name": "stdout",
     "output_type": "stream",
     "text": [
      "WARNING:tensorflow:Layer lstm_6 will not use cuDNN kernels since it doesn't meet the criteria. It will use a generic GPU kernel as fallback when running on GPU.\n",
      "\n",
      " >>> Training Word2Vec Model ========================================= \n",
      "\n"
     ]
    },
    {
     "ename": "InternalError",
     "evalue": "stream did not block host until done; was already in an error state",
     "output_type": "error",
     "traceback": [
      "\u001b[1;31m---------------------------------------------------------------------------\u001b[0m",
      "\u001b[1;31mInternalError\u001b[0m                             Traceback (most recent call last)",
      "\u001b[1;32m~\\AppData\\Local\\Temp/ipykernel_25916/621136152.py\u001b[0m in \u001b[0;36m<module>\u001b[1;34m\u001b[0m\n\u001b[0;32m      9\u001b[0m ])\n\u001b[0;32m     10\u001b[0m \u001b[1;33m\u001b[0m\u001b[0m\n\u001b[1;32m---> 11\u001b[1;33m \u001b[0mget_deep_learning_results_w2v\u001b[0m\u001b[1;33m(\u001b[0m\u001b[0mlstmcnn_word2vec_model\u001b[0m\u001b[1;33m,\u001b[0m \u001b[1;34m\"LSTM+CNN\"\u001b[0m\u001b[1;33m)\u001b[0m\u001b[1;33m\u001b[0m\u001b[1;33m\u001b[0m\u001b[0m\n\u001b[0m",
      "\u001b[1;32m~\\AppData\\Local\\Temp/ipykernel_25916/2804540356.py\u001b[0m in \u001b[0;36mget_deep_learning_results_w2v\u001b[1;34m(model, model_name)\u001b[0m\n\u001b[0;32m     85\u001b[0m \u001b[1;33m\u001b[0m\u001b[0m\n\u001b[0;32m     86\u001b[0m     \u001b[0mprint\u001b[0m\u001b[1;33m(\u001b[0m\u001b[1;34m\"\\n >>> Training Word2Vec Model ========================================= \\n\"\u001b[0m\u001b[1;33m)\u001b[0m\u001b[1;33m\u001b[0m\u001b[1;33m\u001b[0m\u001b[0m\n\u001b[1;32m---> 87\u001b[1;33m     fit_word2vec = model.fit(\n\u001b[0m\u001b[0;32m     88\u001b[0m         \u001b[0mx_train_word2vec\u001b[0m \u001b[1;33m,\u001b[0m \u001b[0my_train\u001b[0m \u001b[1;33m,\u001b[0m\u001b[1;33m\u001b[0m\u001b[1;33m\u001b[0m\u001b[0m\n\u001b[0;32m     89\u001b[0m         \u001b[0mbatch_size\u001b[0m\u001b[1;33m=\u001b[0m\u001b[0mBATCH_SIZE\u001b[0m\u001b[1;33m,\u001b[0m\u001b[1;33m\u001b[0m\u001b[1;33m\u001b[0m\u001b[0m\n",
      "\u001b[1;32m~\\anaconda3\\envs\\gpuEnv\\lib\\site-packages\\tensorflow\\python\\keras\\engine\\training.py\u001b[0m in \u001b[0;36mfit\u001b[1;34m(self, x, y, batch_size, epochs, verbose, callbacks, validation_split, validation_data, shuffle, class_weight, sample_weight, initial_epoch, steps_per_epoch, validation_steps, validation_batch_size, validation_freq, max_queue_size, workers, use_multiprocessing)\u001b[0m\n\u001b[0;32m   1131\u001b[0m          \u001b[0mtraining_utils\u001b[0m\u001b[1;33m.\u001b[0m\u001b[0mRespectCompiledTrainableState\u001b[0m\u001b[1;33m(\u001b[0m\u001b[0mself\u001b[0m\u001b[1;33m)\u001b[0m\u001b[1;33m:\u001b[0m\u001b[1;33m\u001b[0m\u001b[1;33m\u001b[0m\u001b[0m\n\u001b[0;32m   1132\u001b[0m       \u001b[1;31m# Creates a `tf.data.Dataset` and handles batch and epoch iteration.\u001b[0m\u001b[1;33m\u001b[0m\u001b[1;33m\u001b[0m\u001b[1;33m\u001b[0m\u001b[0m\n\u001b[1;32m-> 1133\u001b[1;33m       data_handler = data_adapter.get_data_handler(\n\u001b[0m\u001b[0;32m   1134\u001b[0m           \u001b[0mx\u001b[0m\u001b[1;33m=\u001b[0m\u001b[0mx\u001b[0m\u001b[1;33m,\u001b[0m\u001b[1;33m\u001b[0m\u001b[1;33m\u001b[0m\u001b[0m\n\u001b[0;32m   1135\u001b[0m           \u001b[0my\u001b[0m\u001b[1;33m=\u001b[0m\u001b[0my\u001b[0m\u001b[1;33m,\u001b[0m\u001b[1;33m\u001b[0m\u001b[1;33m\u001b[0m\u001b[0m\n",
      "\u001b[1;32m~\\anaconda3\\envs\\gpuEnv\\lib\\site-packages\\tensorflow\\python\\keras\\engine\\data_adapter.py\u001b[0m in \u001b[0;36mget_data_handler\u001b[1;34m(*args, **kwargs)\u001b[0m\n\u001b[0;32m   1362\u001b[0m   \u001b[1;32mif\u001b[0m \u001b[0mgetattr\u001b[0m\u001b[1;33m(\u001b[0m\u001b[0mkwargs\u001b[0m\u001b[1;33m[\u001b[0m\u001b[1;34m\"model\"\u001b[0m\u001b[1;33m]\u001b[0m\u001b[1;33m,\u001b[0m \u001b[1;34m\"_cluster_coordinator\"\u001b[0m\u001b[1;33m,\u001b[0m \u001b[1;32mNone\u001b[0m\u001b[1;33m)\u001b[0m\u001b[1;33m:\u001b[0m\u001b[1;33m\u001b[0m\u001b[1;33m\u001b[0m\u001b[0m\n\u001b[0;32m   1363\u001b[0m     \u001b[1;32mreturn\u001b[0m \u001b[0m_ClusterCoordinatorDataHandler\u001b[0m\u001b[1;33m(\u001b[0m\u001b[1;33m*\u001b[0m\u001b[0margs\u001b[0m\u001b[1;33m,\u001b[0m \u001b[1;33m**\u001b[0m\u001b[0mkwargs\u001b[0m\u001b[1;33m)\u001b[0m\u001b[1;33m\u001b[0m\u001b[1;33m\u001b[0m\u001b[0m\n\u001b[1;32m-> 1364\u001b[1;33m   \u001b[1;32mreturn\u001b[0m \u001b[0mDataHandler\u001b[0m\u001b[1;33m(\u001b[0m\u001b[1;33m*\u001b[0m\u001b[0margs\u001b[0m\u001b[1;33m,\u001b[0m \u001b[1;33m**\u001b[0m\u001b[0mkwargs\u001b[0m\u001b[1;33m)\u001b[0m\u001b[1;33m\u001b[0m\u001b[1;33m\u001b[0m\u001b[0m\n\u001b[0m\u001b[0;32m   1365\u001b[0m \u001b[1;33m\u001b[0m\u001b[0m\n\u001b[0;32m   1366\u001b[0m \u001b[1;33m\u001b[0m\u001b[0m\n",
      "\u001b[1;32m~\\anaconda3\\envs\\gpuEnv\\lib\\site-packages\\tensorflow\\python\\keras\\engine\\data_adapter.py\u001b[0m in \u001b[0;36m__init__\u001b[1;34m(self, x, y, sample_weight, batch_size, steps_per_epoch, initial_epoch, epochs, shuffle, class_weight, max_queue_size, workers, use_multiprocessing, model, steps_per_execution, distribute)\u001b[0m\n\u001b[0;32m   1148\u001b[0m     \u001b[1;32melse\u001b[0m\u001b[1;33m:\u001b[0m\u001b[1;33m\u001b[0m\u001b[1;33m\u001b[0m\u001b[0m\n\u001b[0;32m   1149\u001b[0m       \u001b[0mself\u001b[0m\u001b[1;33m.\u001b[0m\u001b[0m_steps_per_execution\u001b[0m \u001b[1;33m=\u001b[0m \u001b[0msteps_per_execution\u001b[0m\u001b[1;33m\u001b[0m\u001b[1;33m\u001b[0m\u001b[0m\n\u001b[1;32m-> 1150\u001b[1;33m       \u001b[0mself\u001b[0m\u001b[1;33m.\u001b[0m\u001b[0m_steps_per_execution_value\u001b[0m \u001b[1;33m=\u001b[0m \u001b[0msteps_per_execution\u001b[0m\u001b[1;33m.\u001b[0m\u001b[0mnumpy\u001b[0m\u001b[1;33m(\u001b[0m\u001b[1;33m)\u001b[0m\u001b[1;33m.\u001b[0m\u001b[0mitem\u001b[0m\u001b[1;33m(\u001b[0m\u001b[1;33m)\u001b[0m\u001b[1;33m\u001b[0m\u001b[1;33m\u001b[0m\u001b[0m\n\u001b[0m\u001b[0;32m   1151\u001b[0m \u001b[1;33m\u001b[0m\u001b[0m\n\u001b[0;32m   1152\u001b[0m     \u001b[0madapter_cls\u001b[0m \u001b[1;33m=\u001b[0m \u001b[0mselect_data_adapter\u001b[0m\u001b[1;33m(\u001b[0m\u001b[0mx\u001b[0m\u001b[1;33m,\u001b[0m \u001b[0my\u001b[0m\u001b[1;33m)\u001b[0m\u001b[1;33m\u001b[0m\u001b[1;33m\u001b[0m\u001b[0m\n",
      "\u001b[1;32m~\\anaconda3\\envs\\gpuEnv\\lib\\site-packages\\tensorflow\\python\\ops\\resource_variable_ops.py\u001b[0m in \u001b[0;36mnumpy\u001b[1;34m(self)\u001b[0m\n\u001b[0;32m    626\u001b[0m   \u001b[1;32mdef\u001b[0m \u001b[0mnumpy\u001b[0m\u001b[1;33m(\u001b[0m\u001b[0mself\u001b[0m\u001b[1;33m)\u001b[0m\u001b[1;33m:\u001b[0m\u001b[1;33m\u001b[0m\u001b[1;33m\u001b[0m\u001b[0m\n\u001b[0;32m    627\u001b[0m     \u001b[1;32mif\u001b[0m \u001b[0mcontext\u001b[0m\u001b[1;33m.\u001b[0m\u001b[0mexecuting_eagerly\u001b[0m\u001b[1;33m(\u001b[0m\u001b[1;33m)\u001b[0m\u001b[1;33m:\u001b[0m\u001b[1;33m\u001b[0m\u001b[1;33m\u001b[0m\u001b[0m\n\u001b[1;32m--> 628\u001b[1;33m       \u001b[1;32mreturn\u001b[0m \u001b[0mself\u001b[0m\u001b[1;33m.\u001b[0m\u001b[0mread_value\u001b[0m\u001b[1;33m(\u001b[0m\u001b[1;33m)\u001b[0m\u001b[1;33m.\u001b[0m\u001b[0mnumpy\u001b[0m\u001b[1;33m(\u001b[0m\u001b[1;33m)\u001b[0m\u001b[1;33m\u001b[0m\u001b[1;33m\u001b[0m\u001b[0m\n\u001b[0m\u001b[0;32m    629\u001b[0m     raise NotImplementedError(\n\u001b[0;32m    630\u001b[0m         \"numpy() is only available when eager execution is enabled.\")\n",
      "\u001b[1;32m~\\anaconda3\\envs\\gpuEnv\\lib\\site-packages\\tensorflow\\python\\framework\\ops.py\u001b[0m in \u001b[0;36mnumpy\u001b[1;34m(self)\u001b[0m\n\u001b[0;32m   1092\u001b[0m     \"\"\"\n\u001b[0;32m   1093\u001b[0m     \u001b[1;31m# TODO(slebedev): Consider avoiding a copy for non-CPU or remote tensors.\u001b[0m\u001b[1;33m\u001b[0m\u001b[1;33m\u001b[0m\u001b[1;33m\u001b[0m\u001b[0m\n\u001b[1;32m-> 1094\u001b[1;33m     \u001b[0mmaybe_arr\u001b[0m \u001b[1;33m=\u001b[0m \u001b[0mself\u001b[0m\u001b[1;33m.\u001b[0m\u001b[0m_numpy\u001b[0m\u001b[1;33m(\u001b[0m\u001b[1;33m)\u001b[0m  \u001b[1;31m# pylint: disable=protected-access\u001b[0m\u001b[1;33m\u001b[0m\u001b[1;33m\u001b[0m\u001b[0m\n\u001b[0m\u001b[0;32m   1095\u001b[0m     \u001b[1;32mreturn\u001b[0m \u001b[0mmaybe_arr\u001b[0m\u001b[1;33m.\u001b[0m\u001b[0mcopy\u001b[0m\u001b[1;33m(\u001b[0m\u001b[1;33m)\u001b[0m \u001b[1;32mif\u001b[0m \u001b[0misinstance\u001b[0m\u001b[1;33m(\u001b[0m\u001b[0mmaybe_arr\u001b[0m\u001b[1;33m,\u001b[0m \u001b[0mnp\u001b[0m\u001b[1;33m.\u001b[0m\u001b[0mndarray\u001b[0m\u001b[1;33m)\u001b[0m \u001b[1;32melse\u001b[0m \u001b[0mmaybe_arr\u001b[0m\u001b[1;33m\u001b[0m\u001b[1;33m\u001b[0m\u001b[0m\n\u001b[0;32m   1096\u001b[0m \u001b[1;33m\u001b[0m\u001b[0m\n",
      "\u001b[1;32m~\\anaconda3\\envs\\gpuEnv\\lib\\site-packages\\tensorflow\\python\\framework\\ops.py\u001b[0m in \u001b[0;36m_numpy\u001b[1;34m(self)\u001b[0m\n\u001b[0;32m   1060\u001b[0m       \u001b[1;32mreturn\u001b[0m \u001b[0mself\u001b[0m\u001b[1;33m.\u001b[0m\u001b[0m_numpy_internal\u001b[0m\u001b[1;33m(\u001b[0m\u001b[1;33m)\u001b[0m\u001b[1;33m\u001b[0m\u001b[1;33m\u001b[0m\u001b[0m\n\u001b[0;32m   1061\u001b[0m     \u001b[1;32mexcept\u001b[0m \u001b[0mcore\u001b[0m\u001b[1;33m.\u001b[0m\u001b[0m_NotOkStatusException\u001b[0m \u001b[1;32mas\u001b[0m \u001b[0me\u001b[0m\u001b[1;33m:\u001b[0m  \u001b[1;31m# pylint: disable=protected-access\u001b[0m\u001b[1;33m\u001b[0m\u001b[1;33m\u001b[0m\u001b[0m\n\u001b[1;32m-> 1062\u001b[1;33m       \u001b[0msix\u001b[0m\u001b[1;33m.\u001b[0m\u001b[0mraise_from\u001b[0m\u001b[1;33m(\u001b[0m\u001b[0mcore\u001b[0m\u001b[1;33m.\u001b[0m\u001b[0m_status_to_exception\u001b[0m\u001b[1;33m(\u001b[0m\u001b[0me\u001b[0m\u001b[1;33m.\u001b[0m\u001b[0mcode\u001b[0m\u001b[1;33m,\u001b[0m \u001b[0me\u001b[0m\u001b[1;33m.\u001b[0m\u001b[0mmessage\u001b[0m\u001b[1;33m)\u001b[0m\u001b[1;33m,\u001b[0m \u001b[1;32mNone\u001b[0m\u001b[1;33m)\u001b[0m  \u001b[1;31m# pylint: disable=protected-access\u001b[0m\u001b[1;33m\u001b[0m\u001b[1;33m\u001b[0m\u001b[0m\n\u001b[0m\u001b[0;32m   1063\u001b[0m \u001b[1;33m\u001b[0m\u001b[0m\n\u001b[0;32m   1064\u001b[0m   \u001b[1;33m@\u001b[0m\u001b[0mproperty\u001b[0m\u001b[1;33m\u001b[0m\u001b[1;33m\u001b[0m\u001b[0m\n",
      "\u001b[1;32m~\\anaconda3\\envs\\gpuEnv\\lib\\site-packages\\six.py\u001b[0m in \u001b[0;36mraise_from\u001b[1;34m(value, from_value)\u001b[0m\n",
      "\u001b[1;31mInternalError\u001b[0m: stream did not block host until done; was already in an error state"
     ]
    }
   ],
   "source": [
    "lstmcnn_word2vec_model = tf.keras.Sequential([\n",
    "    layers.Embedding(vocab_size, W2V_SIZE, weights=[embedding_matrix], input_length=SEQUENCE_LENGTH, trainable=False),\n",
    "    layers.LSTM(100, return_sequences=True, dropout=0.5, activation='relu'),\n",
    "    layers.MaxPooling1D(pool_size=2),\n",
    "    layers.Conv1D(128, 5, activation='relu'),\n",
    "    layers.GlobalMaxPooling1D(),\n",
    "    layers.Dense(10, activation='relu'),\n",
    "    tf.keras.layers.Dense(1, activation='sigmoid')\n",
    "])\n",
    "            \n",
    "get_deep_learning_results_w2v(lstmcnn_word2vec_model, \"LSTM+CNN\")"
   ]
  },
  {
   "cell_type": "markdown",
   "metadata": {},
   "source": [
    "## Ensemble Models"
   ]
  },
  {
   "cell_type": "markdown",
   "metadata": {},
   "source": [
    "### Helper Methods"
   ]
  },
  {
   "cell_type": "code",
   "execution_count": 75,
   "metadata": {},
   "outputs": [
    {
     "data": {
      "text/plain": [
       "array([[0],\n",
       "       [0],\n",
       "       [0],\n",
       "       ...,\n",
       "       [1],\n",
       "       [0],\n",
       "       [0]])"
      ]
     },
     "execution_count": 75,
     "metadata": {},
     "output_type": "execute_result"
    }
   ],
   "source": [
    "y_train"
   ]
  },
  {
   "cell_type": "code",
   "execution_count": 111,
   "metadata": {},
   "outputs": [],
   "source": [
    "training_data = [x_train_countv, x_train_tfidf, x_train_word2vec]\n",
    "testing_data = [x_test_countv, x_test_tfidf, x_test_word2vec]\n",
    "\n",
    "training_data_array = [x_train_countv.toarray(), x_train_tfidf.toarray(), x_train_word2vec]\n",
    "testing_data_array = [x_test_countv.toarray(), x_test_tfidf.toarray(), x_test_word2vec]\n",
    "\n",
    "names = [\"count\", \"tfidf\", \"word2vec\"]\n",
    "\n",
    "def get_model_results(model, model_name, toarray):\n",
    "    # Countvectorisation\n",
    "    if toarray:\n",
    "        training_data_list = training_data_array\n",
    "        testing_data_list = testing_data_array\n",
    "    else:\n",
    "        training_data_list = training_data\n",
    "        testing_data_list = testing_data\n",
    "    for i in range(len(training_data)):\n",
    "        x_train_iter = training_data_list[i]\n",
    "        x_test_iter = testing_data_list[i]\n",
    "        name = model_name + \" \" + str(names[i])\n",
    "        model.fit(x_train_iter, y_train.ravel())\n",
    "        pred_prob = model.predict_proba(x_test_iter)\n",
    "        pred = model.predict(x_test_iter)\n",
    "        loss = log_loss(y_test, pred_prob[:,1])\n",
    "        accuracy = accuracy_score(y_test, pred)\n",
    "        #accuracy = model.score(x_test_iter, y_test)\n",
    "        precision = precision_score(y_test, pred)\n",
    "        recall = recall_score(y_test, pred)\n",
    "        auc = roc_auc_score(y_test, pred_prob[:,1])\n",
    "        F1 = get_F1(precision,recall)\n",
    "        results = {\n",
    "            \"Loss\": loss,\n",
    "            \"Accuracy\": accuracy,\n",
    "            \"Precision\": precision,\n",
    "            \"Recall\": recall,\n",
    "            \"AUC\": auc,\n",
    "            \"F1 Score\": F1\n",
    "        }\n",
    "\n",
    "        results_store[name] = results\n",
    "    return pd.DataFrame(results_store).T\n",
    "\n",
    "def pac_get_model_results(model, model_name, toarray):\n",
    "    # Countvectorisation\n",
    "    if toarray:\n",
    "        training_data_list = training_data_array\n",
    "        testing_data_list = testing_data_array\n",
    "    else:\n",
    "        training_data_list = training_data\n",
    "        testing_data_list = testing_data\n",
    "    for i in range(len(training_data)):\n",
    "        x_train_iter = training_data_list[i]\n",
    "        x_test_iter = testing_data_list[i]\n",
    "        name = model_name + \" \" + str(names[i])\n",
    "        model.fit(x_train_iter, y_train.ravel())\n",
    "        #pred_prob = model.predict_proba(x_test_iter)\n",
    "        pred = model.predict(x_test_iter)\n",
    "        loss = log_loss(y_test, pred)\n",
    "        accuracy = accuracy_score(y_test, pred)\n",
    "        #accuracy = model.score(x_test_iter, y_test)\n",
    "        precision = precision_score(y_test, pred)\n",
    "        recall = recall_score(y_test, pred)\n",
    "        auc = roc_auc_score(y_test, pred)\n",
    "        F1 = get_F1(precision,recall)\n",
    "        results = {\n",
    "            \"Loss\": loss,\n",
    "            \"Accuracy\": accuracy,\n",
    "            \"Precision\": precision,\n",
    "            \"Recall\": recall,\n",
    "            \"AUC\": auc,\n",
    "            \"F1 Score\": F1\n",
    "        }\n",
    "\n",
    "        results_store[name] = results\n",
    "    return pd.DataFrame(results_store).T"
   ]
  },
  {
   "cell_type": "markdown",
   "metadata": {},
   "source": [
    "### XGBoost"
   ]
  },
  {
   "cell_type": "code",
   "execution_count": 103,
   "metadata": {},
   "outputs": [
    {
     "data": {
      "text/html": [
       "<div>\n",
       "<style scoped>\n",
       "    .dataframe tbody tr th:only-of-type {\n",
       "        vertical-align: middle;\n",
       "    }\n",
       "\n",
       "    .dataframe tbody tr th {\n",
       "        vertical-align: top;\n",
       "    }\n",
       "\n",
       "    .dataframe thead th {\n",
       "        text-align: right;\n",
       "    }\n",
       "</style>\n",
       "<table border=\"1\" class=\"dataframe\">\n",
       "  <thead>\n",
       "    <tr style=\"text-align: right;\">\n",
       "      <th></th>\n",
       "      <th>Loss</th>\n",
       "      <th>Accuracy</th>\n",
       "      <th>Precision</th>\n",
       "      <th>Recall</th>\n",
       "      <th>AUC</th>\n",
       "      <th>F1 Score</th>\n",
       "    </tr>\n",
       "  </thead>\n",
       "  <tbody>\n",
       "    <tr>\n",
       "      <th>CNN count</th>\n",
       "      <td>0.692952</td>\n",
       "      <td>0.509930</td>\n",
       "      <td>0.509930</td>\n",
       "      <td>1.000000</td>\n",
       "      <td>0.500000</td>\n",
       "      <td>0.675435</td>\n",
       "    </tr>\n",
       "    <tr>\n",
       "      <th>CNN tfidf</th>\n",
       "      <td>0.693075</td>\n",
       "      <td>0.509930</td>\n",
       "      <td>0.509930</td>\n",
       "      <td>1.000000</td>\n",
       "      <td>0.500000</td>\n",
       "      <td>0.675435</td>\n",
       "    </tr>\n",
       "    <tr>\n",
       "      <th>CNN word2vec</th>\n",
       "      <td>0.288949</td>\n",
       "      <td>0.880841</td>\n",
       "      <td>0.896797</td>\n",
       "      <td>0.865979</td>\n",
       "      <td>0.949326</td>\n",
       "      <td>0.881119</td>\n",
       "    </tr>\n",
       "    <tr>\n",
       "      <th>LSTM count</th>\n",
       "      <td>0.608992</td>\n",
       "      <td>0.707360</td>\n",
       "      <td>0.709459</td>\n",
       "      <td>0.721649</td>\n",
       "      <td>0.749366</td>\n",
       "      <td>0.715503</td>\n",
       "    </tr>\n",
       "    <tr>\n",
       "      <th>LSTM tfidf</th>\n",
       "      <td>0.692189</td>\n",
       "      <td>0.509930</td>\n",
       "      <td>0.509930</td>\n",
       "      <td>1.000000</td>\n",
       "      <td>0.618570</td>\n",
       "      <td>0.675435</td>\n",
       "    </tr>\n",
       "    <tr>\n",
       "      <th>LSTM word2vec</th>\n",
       "      <td>0.474007</td>\n",
       "      <td>0.811332</td>\n",
       "      <td>0.755102</td>\n",
       "      <td>0.932417</td>\n",
       "      <td>0.932364</td>\n",
       "      <td>0.834444</td>\n",
       "    </tr>\n",
       "    <tr>\n",
       "      <th>BiLSTM count</th>\n",
       "      <td>0.597137</td>\n",
       "      <td>0.706776</td>\n",
       "      <td>0.708193</td>\n",
       "      <td>0.722795</td>\n",
       "      <td>0.756864</td>\n",
       "      <td>0.715420</td>\n",
       "    </tr>\n",
       "    <tr>\n",
       "      <th>BiLSTM tfidf</th>\n",
       "      <td>0.694104</td>\n",
       "      <td>0.509930</td>\n",
       "      <td>0.509930</td>\n",
       "      <td>1.000000</td>\n",
       "      <td>0.501602</td>\n",
       "      <td>0.675435</td>\n",
       "    </tr>\n",
       "    <tr>\n",
       "      <th>xgb count</th>\n",
       "      <td>0.501631</td>\n",
       "      <td>0.833528</td>\n",
       "      <td>0.900545</td>\n",
       "      <td>0.757159</td>\n",
       "      <td>0.912966</td>\n",
       "      <td>0.822651</td>\n",
       "    </tr>\n",
       "    <tr>\n",
       "      <th>xgb tfidf</th>\n",
       "      <td>0.502491</td>\n",
       "      <td>0.837617</td>\n",
       "      <td>0.902571</td>\n",
       "      <td>0.764032</td>\n",
       "      <td>0.911714</td>\n",
       "      <td>0.827543</td>\n",
       "    </tr>\n",
       "    <tr>\n",
       "      <th>xgb word2vec</th>\n",
       "      <td>0.556457</td>\n",
       "      <td>0.771612</td>\n",
       "      <td>0.769575</td>\n",
       "      <td>0.788087</td>\n",
       "      <td>0.846835</td>\n",
       "      <td>0.778721</td>\n",
       "    </tr>\n",
       "    <tr>\n",
       "      <th>rfc count</th>\n",
       "      <td>0.240552</td>\n",
       "      <td>0.923481</td>\n",
       "      <td>0.931395</td>\n",
       "      <td>0.917526</td>\n",
       "      <td>0.976209</td>\n",
       "      <td>0.924409</td>\n",
       "    </tr>\n",
       "    <tr>\n",
       "      <th>rfc tfidf</th>\n",
       "      <td>0.243076</td>\n",
       "      <td>0.924650</td>\n",
       "      <td>0.925629</td>\n",
       "      <td>0.926690</td>\n",
       "      <td>0.977114</td>\n",
       "      <td>0.926159</td>\n",
       "    </tr>\n",
       "    <tr>\n",
       "      <th>rfc word2vec</th>\n",
       "      <td>0.441797</td>\n",
       "      <td>0.789136</td>\n",
       "      <td>0.777657</td>\n",
       "      <td>0.821306</td>\n",
       "      <td>0.880786</td>\n",
       "      <td>0.798886</td>\n",
       "    </tr>\n",
       "    <tr>\n",
       "      <th>gnb count</th>\n",
       "      <td>5.870912</td>\n",
       "      <td>0.830023</td>\n",
       "      <td>0.770446</td>\n",
       "      <td>0.949599</td>\n",
       "      <td>0.827330</td>\n",
       "      <td>0.850693</td>\n",
       "    </tr>\n",
       "    <tr>\n",
       "      <th>gnb tfidf</th>\n",
       "      <td>5.407007</td>\n",
       "      <td>0.843458</td>\n",
       "      <td>0.796860</td>\n",
       "      <td>0.930126</td>\n",
       "      <td>0.842443</td>\n",
       "      <td>0.858351</td>\n",
       "    </tr>\n",
       "    <tr>\n",
       "      <th>gnb word2vec</th>\n",
       "      <td>17.093594</td>\n",
       "      <td>0.504673</td>\n",
       "      <td>0.507340</td>\n",
       "      <td>0.989691</td>\n",
       "      <td>0.494273</td>\n",
       "      <td>0.670807</td>\n",
       "    </tr>\n",
       "    <tr>\n",
       "      <th>mnb count</th>\n",
       "      <td>0.296902</td>\n",
       "      <td>0.918808</td>\n",
       "      <td>0.917995</td>\n",
       "      <td>0.923253</td>\n",
       "      <td>0.976645</td>\n",
       "      <td>0.920617</td>\n",
       "    </tr>\n",
       "    <tr>\n",
       "      <th>mnb tfidf</th>\n",
       "      <td>0.239289</td>\n",
       "      <td>0.914136</td>\n",
       "      <td>0.886170</td>\n",
       "      <td>0.954181</td>\n",
       "      <td>0.978839</td>\n",
       "      <td>0.918919</td>\n",
       "    </tr>\n",
       "    <tr>\n",
       "      <th>mnb word2vec</th>\n",
       "      <td>11.650119</td>\n",
       "      <td>0.660631</td>\n",
       "      <td>0.743333</td>\n",
       "      <td>0.510882</td>\n",
       "      <td>0.704945</td>\n",
       "      <td>0.605567</td>\n",
       "    </tr>\n",
       "  </tbody>\n",
       "</table>\n",
       "</div>"
      ],
      "text/plain": [
       "                    Loss  Accuracy  Precision    Recall       AUC  F1 Score\n",
       "CNN count       0.692952  0.509930   0.509930  1.000000  0.500000  0.675435\n",
       "CNN tfidf       0.693075  0.509930   0.509930  1.000000  0.500000  0.675435\n",
       "CNN word2vec    0.288949  0.880841   0.896797  0.865979  0.949326  0.881119\n",
       "LSTM count      0.608992  0.707360   0.709459  0.721649  0.749366  0.715503\n",
       "LSTM tfidf      0.692189  0.509930   0.509930  1.000000  0.618570  0.675435\n",
       "LSTM word2vec   0.474007  0.811332   0.755102  0.932417  0.932364  0.834444\n",
       "BiLSTM count    0.597137  0.706776   0.708193  0.722795  0.756864  0.715420\n",
       "BiLSTM tfidf    0.694104  0.509930   0.509930  1.000000  0.501602  0.675435\n",
       "xgb count       0.501631  0.833528   0.900545  0.757159  0.912966  0.822651\n",
       "xgb tfidf       0.502491  0.837617   0.902571  0.764032  0.911714  0.827543\n",
       "xgb word2vec    0.556457  0.771612   0.769575  0.788087  0.846835  0.778721\n",
       "rfc count       0.240552  0.923481   0.931395  0.917526  0.976209  0.924409\n",
       "rfc tfidf       0.243076  0.924650   0.925629  0.926690  0.977114  0.926159\n",
       "rfc word2vec    0.441797  0.789136   0.777657  0.821306  0.880786  0.798886\n",
       "gnb count       5.870912  0.830023   0.770446  0.949599  0.827330  0.850693\n",
       "gnb tfidf       5.407007  0.843458   0.796860  0.930126  0.842443  0.858351\n",
       "gnb word2vec   17.093594  0.504673   0.507340  0.989691  0.494273  0.670807\n",
       "mnb count       0.296902  0.918808   0.917995  0.923253  0.976645  0.920617\n",
       "mnb tfidf       0.239289  0.914136   0.886170  0.954181  0.978839  0.918919\n",
       "mnb word2vec   11.650119  0.660631   0.743333  0.510882  0.704945  0.605567"
      ]
     },
     "execution_count": 103,
     "metadata": {},
     "output_type": "execute_result"
    }
   ],
   "source": [
    "xgbmodel = xgboost.XGBClassifier(objective='binary:logistic',  n_estimators = 100, booster = 'gbtree', learning_rate = '0.007', eval_metric = 'auc',use_label_encoder=False)\n",
    "get_model_results(xgbmodel, \"xgb\", toarray=False)"
   ]
  },
  {
   "cell_type": "markdown",
   "metadata": {},
   "source": [
    "### RandomForest"
   ]
  },
  {
   "cell_type": "code",
   "execution_count": 104,
   "metadata": {},
   "outputs": [
    {
     "data": {
      "text/html": [
       "<div>\n",
       "<style scoped>\n",
       "    .dataframe tbody tr th:only-of-type {\n",
       "        vertical-align: middle;\n",
       "    }\n",
       "\n",
       "    .dataframe tbody tr th {\n",
       "        vertical-align: top;\n",
       "    }\n",
       "\n",
       "    .dataframe thead th {\n",
       "        text-align: right;\n",
       "    }\n",
       "</style>\n",
       "<table border=\"1\" class=\"dataframe\">\n",
       "  <thead>\n",
       "    <tr style=\"text-align: right;\">\n",
       "      <th></th>\n",
       "      <th>Loss</th>\n",
       "      <th>Accuracy</th>\n",
       "      <th>Precision</th>\n",
       "      <th>Recall</th>\n",
       "      <th>AUC</th>\n",
       "      <th>F1 Score</th>\n",
       "    </tr>\n",
       "  </thead>\n",
       "  <tbody>\n",
       "    <tr>\n",
       "      <th>CNN count</th>\n",
       "      <td>0.692952</td>\n",
       "      <td>0.509930</td>\n",
       "      <td>0.509930</td>\n",
       "      <td>1.000000</td>\n",
       "      <td>0.500000</td>\n",
       "      <td>0.675435</td>\n",
       "    </tr>\n",
       "    <tr>\n",
       "      <th>CNN tfidf</th>\n",
       "      <td>0.693075</td>\n",
       "      <td>0.509930</td>\n",
       "      <td>0.509930</td>\n",
       "      <td>1.000000</td>\n",
       "      <td>0.500000</td>\n",
       "      <td>0.675435</td>\n",
       "    </tr>\n",
       "    <tr>\n",
       "      <th>CNN word2vec</th>\n",
       "      <td>0.288949</td>\n",
       "      <td>0.880841</td>\n",
       "      <td>0.896797</td>\n",
       "      <td>0.865979</td>\n",
       "      <td>0.949326</td>\n",
       "      <td>0.881119</td>\n",
       "    </tr>\n",
       "    <tr>\n",
       "      <th>LSTM count</th>\n",
       "      <td>0.608992</td>\n",
       "      <td>0.707360</td>\n",
       "      <td>0.709459</td>\n",
       "      <td>0.721649</td>\n",
       "      <td>0.749366</td>\n",
       "      <td>0.715503</td>\n",
       "    </tr>\n",
       "    <tr>\n",
       "      <th>LSTM tfidf</th>\n",
       "      <td>0.692189</td>\n",
       "      <td>0.509930</td>\n",
       "      <td>0.509930</td>\n",
       "      <td>1.000000</td>\n",
       "      <td>0.618570</td>\n",
       "      <td>0.675435</td>\n",
       "    </tr>\n",
       "    <tr>\n",
       "      <th>LSTM word2vec</th>\n",
       "      <td>0.474007</td>\n",
       "      <td>0.811332</td>\n",
       "      <td>0.755102</td>\n",
       "      <td>0.932417</td>\n",
       "      <td>0.932364</td>\n",
       "      <td>0.834444</td>\n",
       "    </tr>\n",
       "    <tr>\n",
       "      <th>BiLSTM count</th>\n",
       "      <td>0.597137</td>\n",
       "      <td>0.706776</td>\n",
       "      <td>0.708193</td>\n",
       "      <td>0.722795</td>\n",
       "      <td>0.756864</td>\n",
       "      <td>0.715420</td>\n",
       "    </tr>\n",
       "    <tr>\n",
       "      <th>BiLSTM tfidf</th>\n",
       "      <td>0.694104</td>\n",
       "      <td>0.509930</td>\n",
       "      <td>0.509930</td>\n",
       "      <td>1.000000</td>\n",
       "      <td>0.501602</td>\n",
       "      <td>0.675435</td>\n",
       "    </tr>\n",
       "    <tr>\n",
       "      <th>xgb count</th>\n",
       "      <td>0.501631</td>\n",
       "      <td>0.833528</td>\n",
       "      <td>0.900545</td>\n",
       "      <td>0.757159</td>\n",
       "      <td>0.912966</td>\n",
       "      <td>0.822651</td>\n",
       "    </tr>\n",
       "    <tr>\n",
       "      <th>xgb tfidf</th>\n",
       "      <td>0.502491</td>\n",
       "      <td>0.837617</td>\n",
       "      <td>0.902571</td>\n",
       "      <td>0.764032</td>\n",
       "      <td>0.911714</td>\n",
       "      <td>0.827543</td>\n",
       "    </tr>\n",
       "    <tr>\n",
       "      <th>xgb word2vec</th>\n",
       "      <td>0.556457</td>\n",
       "      <td>0.771612</td>\n",
       "      <td>0.769575</td>\n",
       "      <td>0.788087</td>\n",
       "      <td>0.846835</td>\n",
       "      <td>0.778721</td>\n",
       "    </tr>\n",
       "    <tr>\n",
       "      <th>rfc count</th>\n",
       "      <td>0.240552</td>\n",
       "      <td>0.923481</td>\n",
       "      <td>0.931395</td>\n",
       "      <td>0.917526</td>\n",
       "      <td>0.976209</td>\n",
       "      <td>0.924409</td>\n",
       "    </tr>\n",
       "    <tr>\n",
       "      <th>rfc tfidf</th>\n",
       "      <td>0.243076</td>\n",
       "      <td>0.924650</td>\n",
       "      <td>0.925629</td>\n",
       "      <td>0.926690</td>\n",
       "      <td>0.977114</td>\n",
       "      <td>0.926159</td>\n",
       "    </tr>\n",
       "    <tr>\n",
       "      <th>rfc word2vec</th>\n",
       "      <td>0.441797</td>\n",
       "      <td>0.789136</td>\n",
       "      <td>0.777657</td>\n",
       "      <td>0.821306</td>\n",
       "      <td>0.880786</td>\n",
       "      <td>0.798886</td>\n",
       "    </tr>\n",
       "    <tr>\n",
       "      <th>gnb count</th>\n",
       "      <td>5.870912</td>\n",
       "      <td>0.830023</td>\n",
       "      <td>0.770446</td>\n",
       "      <td>0.949599</td>\n",
       "      <td>0.827330</td>\n",
       "      <td>0.850693</td>\n",
       "    </tr>\n",
       "    <tr>\n",
       "      <th>gnb tfidf</th>\n",
       "      <td>5.407007</td>\n",
       "      <td>0.843458</td>\n",
       "      <td>0.796860</td>\n",
       "      <td>0.930126</td>\n",
       "      <td>0.842443</td>\n",
       "      <td>0.858351</td>\n",
       "    </tr>\n",
       "    <tr>\n",
       "      <th>gnb word2vec</th>\n",
       "      <td>17.093594</td>\n",
       "      <td>0.504673</td>\n",
       "      <td>0.507340</td>\n",
       "      <td>0.989691</td>\n",
       "      <td>0.494273</td>\n",
       "      <td>0.670807</td>\n",
       "    </tr>\n",
       "    <tr>\n",
       "      <th>mnb count</th>\n",
       "      <td>0.296902</td>\n",
       "      <td>0.918808</td>\n",
       "      <td>0.917995</td>\n",
       "      <td>0.923253</td>\n",
       "      <td>0.976645</td>\n",
       "      <td>0.920617</td>\n",
       "    </tr>\n",
       "    <tr>\n",
       "      <th>mnb tfidf</th>\n",
       "      <td>0.239289</td>\n",
       "      <td>0.914136</td>\n",
       "      <td>0.886170</td>\n",
       "      <td>0.954181</td>\n",
       "      <td>0.978839</td>\n",
       "      <td>0.918919</td>\n",
       "    </tr>\n",
       "    <tr>\n",
       "      <th>mnb word2vec</th>\n",
       "      <td>11.650119</td>\n",
       "      <td>0.660631</td>\n",
       "      <td>0.743333</td>\n",
       "      <td>0.510882</td>\n",
       "      <td>0.704945</td>\n",
       "      <td>0.605567</td>\n",
       "    </tr>\n",
       "  </tbody>\n",
       "</table>\n",
       "</div>"
      ],
      "text/plain": [
       "                    Loss  Accuracy  Precision    Recall       AUC  F1 Score\n",
       "CNN count       0.692952  0.509930   0.509930  1.000000  0.500000  0.675435\n",
       "CNN tfidf       0.693075  0.509930   0.509930  1.000000  0.500000  0.675435\n",
       "CNN word2vec    0.288949  0.880841   0.896797  0.865979  0.949326  0.881119\n",
       "LSTM count      0.608992  0.707360   0.709459  0.721649  0.749366  0.715503\n",
       "LSTM tfidf      0.692189  0.509930   0.509930  1.000000  0.618570  0.675435\n",
       "LSTM word2vec   0.474007  0.811332   0.755102  0.932417  0.932364  0.834444\n",
       "BiLSTM count    0.597137  0.706776   0.708193  0.722795  0.756864  0.715420\n",
       "BiLSTM tfidf    0.694104  0.509930   0.509930  1.000000  0.501602  0.675435\n",
       "xgb count       0.501631  0.833528   0.900545  0.757159  0.912966  0.822651\n",
       "xgb tfidf       0.502491  0.837617   0.902571  0.764032  0.911714  0.827543\n",
       "xgb word2vec    0.556457  0.771612   0.769575  0.788087  0.846835  0.778721\n",
       "rfc count       0.240552  0.923481   0.931395  0.917526  0.976209  0.924409\n",
       "rfc tfidf       0.243076  0.924650   0.925629  0.926690  0.977114  0.926159\n",
       "rfc word2vec    0.441797  0.789136   0.777657  0.821306  0.880786  0.798886\n",
       "gnb count       5.870912  0.830023   0.770446  0.949599  0.827330  0.850693\n",
       "gnb tfidf       5.407007  0.843458   0.796860  0.930126  0.842443  0.858351\n",
       "gnb word2vec   17.093594  0.504673   0.507340  0.989691  0.494273  0.670807\n",
       "mnb count       0.296902  0.918808   0.917995  0.923253  0.976645  0.920617\n",
       "mnb tfidf       0.239289  0.914136   0.886170  0.954181  0.978839  0.918919\n",
       "mnb word2vec   11.650119  0.660631   0.743333  0.510882  0.704945  0.605567"
      ]
     },
     "execution_count": 104,
     "metadata": {},
     "output_type": "execute_result"
    }
   ],
   "source": [
    "rfc = RandomForestClassifier(random_state=RANDOM_STATE)\n",
    "get_model_results(rfc, \"rfc\", toarray=False)"
   ]
  },
  {
   "cell_type": "markdown",
   "metadata": {},
   "source": [
    "## Probabilistic Model"
   ]
  },
  {
   "cell_type": "markdown",
   "metadata": {},
   "source": [
    "### Gaussian Naive Bayes Classifier"
   ]
  },
  {
   "cell_type": "code",
   "execution_count": 105,
   "metadata": {},
   "outputs": [
    {
     "data": {
      "text/html": [
       "<div>\n",
       "<style scoped>\n",
       "    .dataframe tbody tr th:only-of-type {\n",
       "        vertical-align: middle;\n",
       "    }\n",
       "\n",
       "    .dataframe tbody tr th {\n",
       "        vertical-align: top;\n",
       "    }\n",
       "\n",
       "    .dataframe thead th {\n",
       "        text-align: right;\n",
       "    }\n",
       "</style>\n",
       "<table border=\"1\" class=\"dataframe\">\n",
       "  <thead>\n",
       "    <tr style=\"text-align: right;\">\n",
       "      <th></th>\n",
       "      <th>Loss</th>\n",
       "      <th>Accuracy</th>\n",
       "      <th>Precision</th>\n",
       "      <th>Recall</th>\n",
       "      <th>AUC</th>\n",
       "      <th>F1 Score</th>\n",
       "    </tr>\n",
       "  </thead>\n",
       "  <tbody>\n",
       "    <tr>\n",
       "      <th>CNN count</th>\n",
       "      <td>0.692952</td>\n",
       "      <td>0.509930</td>\n",
       "      <td>0.509930</td>\n",
       "      <td>1.000000</td>\n",
       "      <td>0.500000</td>\n",
       "      <td>0.675435</td>\n",
       "    </tr>\n",
       "    <tr>\n",
       "      <th>CNN tfidf</th>\n",
       "      <td>0.693075</td>\n",
       "      <td>0.509930</td>\n",
       "      <td>0.509930</td>\n",
       "      <td>1.000000</td>\n",
       "      <td>0.500000</td>\n",
       "      <td>0.675435</td>\n",
       "    </tr>\n",
       "    <tr>\n",
       "      <th>CNN word2vec</th>\n",
       "      <td>0.288949</td>\n",
       "      <td>0.880841</td>\n",
       "      <td>0.896797</td>\n",
       "      <td>0.865979</td>\n",
       "      <td>0.949326</td>\n",
       "      <td>0.881119</td>\n",
       "    </tr>\n",
       "    <tr>\n",
       "      <th>LSTM count</th>\n",
       "      <td>0.608992</td>\n",
       "      <td>0.707360</td>\n",
       "      <td>0.709459</td>\n",
       "      <td>0.721649</td>\n",
       "      <td>0.749366</td>\n",
       "      <td>0.715503</td>\n",
       "    </tr>\n",
       "    <tr>\n",
       "      <th>LSTM tfidf</th>\n",
       "      <td>0.692189</td>\n",
       "      <td>0.509930</td>\n",
       "      <td>0.509930</td>\n",
       "      <td>1.000000</td>\n",
       "      <td>0.618570</td>\n",
       "      <td>0.675435</td>\n",
       "    </tr>\n",
       "    <tr>\n",
       "      <th>LSTM word2vec</th>\n",
       "      <td>0.474007</td>\n",
       "      <td>0.811332</td>\n",
       "      <td>0.755102</td>\n",
       "      <td>0.932417</td>\n",
       "      <td>0.932364</td>\n",
       "      <td>0.834444</td>\n",
       "    </tr>\n",
       "    <tr>\n",
       "      <th>BiLSTM count</th>\n",
       "      <td>0.597137</td>\n",
       "      <td>0.706776</td>\n",
       "      <td>0.708193</td>\n",
       "      <td>0.722795</td>\n",
       "      <td>0.756864</td>\n",
       "      <td>0.715420</td>\n",
       "    </tr>\n",
       "    <tr>\n",
       "      <th>BiLSTM tfidf</th>\n",
       "      <td>0.694104</td>\n",
       "      <td>0.509930</td>\n",
       "      <td>0.509930</td>\n",
       "      <td>1.000000</td>\n",
       "      <td>0.501602</td>\n",
       "      <td>0.675435</td>\n",
       "    </tr>\n",
       "    <tr>\n",
       "      <th>xgb count</th>\n",
       "      <td>0.501631</td>\n",
       "      <td>0.833528</td>\n",
       "      <td>0.900545</td>\n",
       "      <td>0.757159</td>\n",
       "      <td>0.912966</td>\n",
       "      <td>0.822651</td>\n",
       "    </tr>\n",
       "    <tr>\n",
       "      <th>xgb tfidf</th>\n",
       "      <td>0.502491</td>\n",
       "      <td>0.837617</td>\n",
       "      <td>0.902571</td>\n",
       "      <td>0.764032</td>\n",
       "      <td>0.911714</td>\n",
       "      <td>0.827543</td>\n",
       "    </tr>\n",
       "    <tr>\n",
       "      <th>xgb word2vec</th>\n",
       "      <td>0.556457</td>\n",
       "      <td>0.771612</td>\n",
       "      <td>0.769575</td>\n",
       "      <td>0.788087</td>\n",
       "      <td>0.846835</td>\n",
       "      <td>0.778721</td>\n",
       "    </tr>\n",
       "    <tr>\n",
       "      <th>rfc count</th>\n",
       "      <td>0.240552</td>\n",
       "      <td>0.923481</td>\n",
       "      <td>0.931395</td>\n",
       "      <td>0.917526</td>\n",
       "      <td>0.976209</td>\n",
       "      <td>0.924409</td>\n",
       "    </tr>\n",
       "    <tr>\n",
       "      <th>rfc tfidf</th>\n",
       "      <td>0.243076</td>\n",
       "      <td>0.924650</td>\n",
       "      <td>0.925629</td>\n",
       "      <td>0.926690</td>\n",
       "      <td>0.977114</td>\n",
       "      <td>0.926159</td>\n",
       "    </tr>\n",
       "    <tr>\n",
       "      <th>rfc word2vec</th>\n",
       "      <td>0.441797</td>\n",
       "      <td>0.789136</td>\n",
       "      <td>0.777657</td>\n",
       "      <td>0.821306</td>\n",
       "      <td>0.880786</td>\n",
       "      <td>0.798886</td>\n",
       "    </tr>\n",
       "    <tr>\n",
       "      <th>gnb count</th>\n",
       "      <td>5.870912</td>\n",
       "      <td>0.830023</td>\n",
       "      <td>0.770446</td>\n",
       "      <td>0.949599</td>\n",
       "      <td>0.827330</td>\n",
       "      <td>0.850693</td>\n",
       "    </tr>\n",
       "    <tr>\n",
       "      <th>gnb tfidf</th>\n",
       "      <td>5.407007</td>\n",
       "      <td>0.843458</td>\n",
       "      <td>0.796860</td>\n",
       "      <td>0.930126</td>\n",
       "      <td>0.842443</td>\n",
       "      <td>0.858351</td>\n",
       "    </tr>\n",
       "    <tr>\n",
       "      <th>gnb word2vec</th>\n",
       "      <td>17.093594</td>\n",
       "      <td>0.504673</td>\n",
       "      <td>0.507340</td>\n",
       "      <td>0.989691</td>\n",
       "      <td>0.494273</td>\n",
       "      <td>0.670807</td>\n",
       "    </tr>\n",
       "    <tr>\n",
       "      <th>mnb count</th>\n",
       "      <td>0.296902</td>\n",
       "      <td>0.918808</td>\n",
       "      <td>0.917995</td>\n",
       "      <td>0.923253</td>\n",
       "      <td>0.976645</td>\n",
       "      <td>0.920617</td>\n",
       "    </tr>\n",
       "    <tr>\n",
       "      <th>mnb tfidf</th>\n",
       "      <td>0.239289</td>\n",
       "      <td>0.914136</td>\n",
       "      <td>0.886170</td>\n",
       "      <td>0.954181</td>\n",
       "      <td>0.978839</td>\n",
       "      <td>0.918919</td>\n",
       "    </tr>\n",
       "    <tr>\n",
       "      <th>mnb word2vec</th>\n",
       "      <td>11.650119</td>\n",
       "      <td>0.660631</td>\n",
       "      <td>0.743333</td>\n",
       "      <td>0.510882</td>\n",
       "      <td>0.704945</td>\n",
       "      <td>0.605567</td>\n",
       "    </tr>\n",
       "  </tbody>\n",
       "</table>\n",
       "</div>"
      ],
      "text/plain": [
       "                    Loss  Accuracy  Precision    Recall       AUC  F1 Score\n",
       "CNN count       0.692952  0.509930   0.509930  1.000000  0.500000  0.675435\n",
       "CNN tfidf       0.693075  0.509930   0.509930  1.000000  0.500000  0.675435\n",
       "CNN word2vec    0.288949  0.880841   0.896797  0.865979  0.949326  0.881119\n",
       "LSTM count      0.608992  0.707360   0.709459  0.721649  0.749366  0.715503\n",
       "LSTM tfidf      0.692189  0.509930   0.509930  1.000000  0.618570  0.675435\n",
       "LSTM word2vec   0.474007  0.811332   0.755102  0.932417  0.932364  0.834444\n",
       "BiLSTM count    0.597137  0.706776   0.708193  0.722795  0.756864  0.715420\n",
       "BiLSTM tfidf    0.694104  0.509930   0.509930  1.000000  0.501602  0.675435\n",
       "xgb count       0.501631  0.833528   0.900545  0.757159  0.912966  0.822651\n",
       "xgb tfidf       0.502491  0.837617   0.902571  0.764032  0.911714  0.827543\n",
       "xgb word2vec    0.556457  0.771612   0.769575  0.788087  0.846835  0.778721\n",
       "rfc count       0.240552  0.923481   0.931395  0.917526  0.976209  0.924409\n",
       "rfc tfidf       0.243076  0.924650   0.925629  0.926690  0.977114  0.926159\n",
       "rfc word2vec    0.441797  0.789136   0.777657  0.821306  0.880786  0.798886\n",
       "gnb count       5.870912  0.830023   0.770446  0.949599  0.827330  0.850693\n",
       "gnb tfidf       5.407007  0.843458   0.796860  0.930126  0.842443  0.858351\n",
       "gnb word2vec   17.093594  0.504673   0.507340  0.989691  0.494273  0.670807\n",
       "mnb count       0.296902  0.918808   0.917995  0.923253  0.976645  0.920617\n",
       "mnb tfidf       0.239289  0.914136   0.886170  0.954181  0.978839  0.918919\n",
       "mnb word2vec   11.650119  0.660631   0.743333  0.510882  0.704945  0.605567"
      ]
     },
     "execution_count": 105,
     "metadata": {},
     "output_type": "execute_result"
    }
   ],
   "source": [
    "gnb = GaussianNB()\n",
    "get_model_results(gnb, \"gnb\", toarray=True)"
   ]
  },
  {
   "cell_type": "markdown",
   "metadata": {},
   "source": [
    "### Multinomial Niave Bayes"
   ]
  },
  {
   "cell_type": "code",
   "execution_count": 106,
   "metadata": {},
   "outputs": [
    {
     "data": {
      "text/html": [
       "<div>\n",
       "<style scoped>\n",
       "    .dataframe tbody tr th:only-of-type {\n",
       "        vertical-align: middle;\n",
       "    }\n",
       "\n",
       "    .dataframe tbody tr th {\n",
       "        vertical-align: top;\n",
       "    }\n",
       "\n",
       "    .dataframe thead th {\n",
       "        text-align: right;\n",
       "    }\n",
       "</style>\n",
       "<table border=\"1\" class=\"dataframe\">\n",
       "  <thead>\n",
       "    <tr style=\"text-align: right;\">\n",
       "      <th></th>\n",
       "      <th>Loss</th>\n",
       "      <th>Accuracy</th>\n",
       "      <th>Precision</th>\n",
       "      <th>Recall</th>\n",
       "      <th>AUC</th>\n",
       "      <th>F1 Score</th>\n",
       "    </tr>\n",
       "  </thead>\n",
       "  <tbody>\n",
       "    <tr>\n",
       "      <th>CNN count</th>\n",
       "      <td>0.692952</td>\n",
       "      <td>0.509930</td>\n",
       "      <td>0.509930</td>\n",
       "      <td>1.000000</td>\n",
       "      <td>0.500000</td>\n",
       "      <td>0.675435</td>\n",
       "    </tr>\n",
       "    <tr>\n",
       "      <th>CNN tfidf</th>\n",
       "      <td>0.693075</td>\n",
       "      <td>0.509930</td>\n",
       "      <td>0.509930</td>\n",
       "      <td>1.000000</td>\n",
       "      <td>0.500000</td>\n",
       "      <td>0.675435</td>\n",
       "    </tr>\n",
       "    <tr>\n",
       "      <th>CNN word2vec</th>\n",
       "      <td>0.288949</td>\n",
       "      <td>0.880841</td>\n",
       "      <td>0.896797</td>\n",
       "      <td>0.865979</td>\n",
       "      <td>0.949326</td>\n",
       "      <td>0.881119</td>\n",
       "    </tr>\n",
       "    <tr>\n",
       "      <th>LSTM count</th>\n",
       "      <td>0.608992</td>\n",
       "      <td>0.707360</td>\n",
       "      <td>0.709459</td>\n",
       "      <td>0.721649</td>\n",
       "      <td>0.749366</td>\n",
       "      <td>0.715503</td>\n",
       "    </tr>\n",
       "    <tr>\n",
       "      <th>LSTM tfidf</th>\n",
       "      <td>0.692189</td>\n",
       "      <td>0.509930</td>\n",
       "      <td>0.509930</td>\n",
       "      <td>1.000000</td>\n",
       "      <td>0.618570</td>\n",
       "      <td>0.675435</td>\n",
       "    </tr>\n",
       "    <tr>\n",
       "      <th>LSTM word2vec</th>\n",
       "      <td>0.474007</td>\n",
       "      <td>0.811332</td>\n",
       "      <td>0.755102</td>\n",
       "      <td>0.932417</td>\n",
       "      <td>0.932364</td>\n",
       "      <td>0.834444</td>\n",
       "    </tr>\n",
       "    <tr>\n",
       "      <th>BiLSTM count</th>\n",
       "      <td>0.597137</td>\n",
       "      <td>0.706776</td>\n",
       "      <td>0.708193</td>\n",
       "      <td>0.722795</td>\n",
       "      <td>0.756864</td>\n",
       "      <td>0.715420</td>\n",
       "    </tr>\n",
       "    <tr>\n",
       "      <th>BiLSTM tfidf</th>\n",
       "      <td>0.694104</td>\n",
       "      <td>0.509930</td>\n",
       "      <td>0.509930</td>\n",
       "      <td>1.000000</td>\n",
       "      <td>0.501602</td>\n",
       "      <td>0.675435</td>\n",
       "    </tr>\n",
       "    <tr>\n",
       "      <th>xgb count</th>\n",
       "      <td>0.501631</td>\n",
       "      <td>0.833528</td>\n",
       "      <td>0.900545</td>\n",
       "      <td>0.757159</td>\n",
       "      <td>0.912966</td>\n",
       "      <td>0.822651</td>\n",
       "    </tr>\n",
       "    <tr>\n",
       "      <th>xgb tfidf</th>\n",
       "      <td>0.502491</td>\n",
       "      <td>0.837617</td>\n",
       "      <td>0.902571</td>\n",
       "      <td>0.764032</td>\n",
       "      <td>0.911714</td>\n",
       "      <td>0.827543</td>\n",
       "    </tr>\n",
       "    <tr>\n",
       "      <th>xgb word2vec</th>\n",
       "      <td>0.556457</td>\n",
       "      <td>0.771612</td>\n",
       "      <td>0.769575</td>\n",
       "      <td>0.788087</td>\n",
       "      <td>0.846835</td>\n",
       "      <td>0.778721</td>\n",
       "    </tr>\n",
       "    <tr>\n",
       "      <th>rfc count</th>\n",
       "      <td>0.240552</td>\n",
       "      <td>0.923481</td>\n",
       "      <td>0.931395</td>\n",
       "      <td>0.917526</td>\n",
       "      <td>0.976209</td>\n",
       "      <td>0.924409</td>\n",
       "    </tr>\n",
       "    <tr>\n",
       "      <th>rfc tfidf</th>\n",
       "      <td>0.243076</td>\n",
       "      <td>0.924650</td>\n",
       "      <td>0.925629</td>\n",
       "      <td>0.926690</td>\n",
       "      <td>0.977114</td>\n",
       "      <td>0.926159</td>\n",
       "    </tr>\n",
       "    <tr>\n",
       "      <th>rfc word2vec</th>\n",
       "      <td>0.441797</td>\n",
       "      <td>0.789136</td>\n",
       "      <td>0.777657</td>\n",
       "      <td>0.821306</td>\n",
       "      <td>0.880786</td>\n",
       "      <td>0.798886</td>\n",
       "    </tr>\n",
       "    <tr>\n",
       "      <th>gnb count</th>\n",
       "      <td>5.870912</td>\n",
       "      <td>0.830023</td>\n",
       "      <td>0.770446</td>\n",
       "      <td>0.949599</td>\n",
       "      <td>0.827330</td>\n",
       "      <td>0.850693</td>\n",
       "    </tr>\n",
       "    <tr>\n",
       "      <th>gnb tfidf</th>\n",
       "      <td>5.407007</td>\n",
       "      <td>0.843458</td>\n",
       "      <td>0.796860</td>\n",
       "      <td>0.930126</td>\n",
       "      <td>0.842443</td>\n",
       "      <td>0.858351</td>\n",
       "    </tr>\n",
       "    <tr>\n",
       "      <th>gnb word2vec</th>\n",
       "      <td>17.093594</td>\n",
       "      <td>0.504673</td>\n",
       "      <td>0.507340</td>\n",
       "      <td>0.989691</td>\n",
       "      <td>0.494273</td>\n",
       "      <td>0.670807</td>\n",
       "    </tr>\n",
       "    <tr>\n",
       "      <th>mnb count</th>\n",
       "      <td>0.296902</td>\n",
       "      <td>0.918808</td>\n",
       "      <td>0.917995</td>\n",
       "      <td>0.923253</td>\n",
       "      <td>0.976645</td>\n",
       "      <td>0.920617</td>\n",
       "    </tr>\n",
       "    <tr>\n",
       "      <th>mnb tfidf</th>\n",
       "      <td>0.239289</td>\n",
       "      <td>0.914136</td>\n",
       "      <td>0.886170</td>\n",
       "      <td>0.954181</td>\n",
       "      <td>0.978839</td>\n",
       "      <td>0.918919</td>\n",
       "    </tr>\n",
       "    <tr>\n",
       "      <th>mnb word2vec</th>\n",
       "      <td>11.650119</td>\n",
       "      <td>0.660631</td>\n",
       "      <td>0.743333</td>\n",
       "      <td>0.510882</td>\n",
       "      <td>0.704945</td>\n",
       "      <td>0.605567</td>\n",
       "    </tr>\n",
       "  </tbody>\n",
       "</table>\n",
       "</div>"
      ],
      "text/plain": [
       "                    Loss  Accuracy  Precision    Recall       AUC  F1 Score\n",
       "CNN count       0.692952  0.509930   0.509930  1.000000  0.500000  0.675435\n",
       "CNN tfidf       0.693075  0.509930   0.509930  1.000000  0.500000  0.675435\n",
       "CNN word2vec    0.288949  0.880841   0.896797  0.865979  0.949326  0.881119\n",
       "LSTM count      0.608992  0.707360   0.709459  0.721649  0.749366  0.715503\n",
       "LSTM tfidf      0.692189  0.509930   0.509930  1.000000  0.618570  0.675435\n",
       "LSTM word2vec   0.474007  0.811332   0.755102  0.932417  0.932364  0.834444\n",
       "BiLSTM count    0.597137  0.706776   0.708193  0.722795  0.756864  0.715420\n",
       "BiLSTM tfidf    0.694104  0.509930   0.509930  1.000000  0.501602  0.675435\n",
       "xgb count       0.501631  0.833528   0.900545  0.757159  0.912966  0.822651\n",
       "xgb tfidf       0.502491  0.837617   0.902571  0.764032  0.911714  0.827543\n",
       "xgb word2vec    0.556457  0.771612   0.769575  0.788087  0.846835  0.778721\n",
       "rfc count       0.240552  0.923481   0.931395  0.917526  0.976209  0.924409\n",
       "rfc tfidf       0.243076  0.924650   0.925629  0.926690  0.977114  0.926159\n",
       "rfc word2vec    0.441797  0.789136   0.777657  0.821306  0.880786  0.798886\n",
       "gnb count       5.870912  0.830023   0.770446  0.949599  0.827330  0.850693\n",
       "gnb tfidf       5.407007  0.843458   0.796860  0.930126  0.842443  0.858351\n",
       "gnb word2vec   17.093594  0.504673   0.507340  0.989691  0.494273  0.670807\n",
       "mnb count       0.296902  0.918808   0.917995  0.923253  0.976645  0.920617\n",
       "mnb tfidf       0.239289  0.914136   0.886170  0.954181  0.978839  0.918919\n",
       "mnb word2vec   11.650119  0.660631   0.743333  0.510882  0.704945  0.605567"
      ]
     },
     "execution_count": 106,
     "metadata": {},
     "output_type": "execute_result"
    }
   ],
   "source": [
    "mnb = MultinomialNB()\n",
    "get_model_results(mnb, \"mnb\", toarray=True)"
   ]
  },
  {
   "cell_type": "markdown",
   "metadata": {},
   "source": [
    "## Online Learning Model"
   ]
  },
  {
   "cell_type": "markdown",
   "metadata": {},
   "source": [
    "### Passive Aggressive Classier"
   ]
  },
  {
   "cell_type": "code",
   "execution_count": 112,
   "metadata": {},
   "outputs": [
    {
     "data": {
      "text/html": [
       "<div>\n",
       "<style scoped>\n",
       "    .dataframe tbody tr th:only-of-type {\n",
       "        vertical-align: middle;\n",
       "    }\n",
       "\n",
       "    .dataframe tbody tr th {\n",
       "        vertical-align: top;\n",
       "    }\n",
       "\n",
       "    .dataframe thead th {\n",
       "        text-align: right;\n",
       "    }\n",
       "</style>\n",
       "<table border=\"1\" class=\"dataframe\">\n",
       "  <thead>\n",
       "    <tr style=\"text-align: right;\">\n",
       "      <th></th>\n",
       "      <th>Loss</th>\n",
       "      <th>Accuracy</th>\n",
       "      <th>Precision</th>\n",
       "      <th>Recall</th>\n",
       "      <th>AUC</th>\n",
       "      <th>F1 Score</th>\n",
       "    </tr>\n",
       "  </thead>\n",
       "  <tbody>\n",
       "    <tr>\n",
       "      <th>CNN count</th>\n",
       "      <td>0.692952</td>\n",
       "      <td>0.509930</td>\n",
       "      <td>0.509930</td>\n",
       "      <td>1.000000</td>\n",
       "      <td>0.500000</td>\n",
       "      <td>0.675435</td>\n",
       "    </tr>\n",
       "    <tr>\n",
       "      <th>CNN tfidf</th>\n",
       "      <td>0.693075</td>\n",
       "      <td>0.509930</td>\n",
       "      <td>0.509930</td>\n",
       "      <td>1.000000</td>\n",
       "      <td>0.500000</td>\n",
       "      <td>0.675435</td>\n",
       "    </tr>\n",
       "    <tr>\n",
       "      <th>CNN word2vec</th>\n",
       "      <td>0.288949</td>\n",
       "      <td>0.880841</td>\n",
       "      <td>0.896797</td>\n",
       "      <td>0.865979</td>\n",
       "      <td>0.949326</td>\n",
       "      <td>0.881119</td>\n",
       "    </tr>\n",
       "    <tr>\n",
       "      <th>LSTM count</th>\n",
       "      <td>0.608992</td>\n",
       "      <td>0.707360</td>\n",
       "      <td>0.709459</td>\n",
       "      <td>0.721649</td>\n",
       "      <td>0.749366</td>\n",
       "      <td>0.715503</td>\n",
       "    </tr>\n",
       "    <tr>\n",
       "      <th>LSTM tfidf</th>\n",
       "      <td>0.692189</td>\n",
       "      <td>0.509930</td>\n",
       "      <td>0.509930</td>\n",
       "      <td>1.000000</td>\n",
       "      <td>0.618570</td>\n",
       "      <td>0.675435</td>\n",
       "    </tr>\n",
       "    <tr>\n",
       "      <th>LSTM word2vec</th>\n",
       "      <td>0.474007</td>\n",
       "      <td>0.811332</td>\n",
       "      <td>0.755102</td>\n",
       "      <td>0.932417</td>\n",
       "      <td>0.932364</td>\n",
       "      <td>0.834444</td>\n",
       "    </tr>\n",
       "    <tr>\n",
       "      <th>BiLSTM count</th>\n",
       "      <td>0.597137</td>\n",
       "      <td>0.706776</td>\n",
       "      <td>0.708193</td>\n",
       "      <td>0.722795</td>\n",
       "      <td>0.756864</td>\n",
       "      <td>0.715420</td>\n",
       "    </tr>\n",
       "    <tr>\n",
       "      <th>BiLSTM tfidf</th>\n",
       "      <td>0.694104</td>\n",
       "      <td>0.509930</td>\n",
       "      <td>0.509930</td>\n",
       "      <td>1.000000</td>\n",
       "      <td>0.501602</td>\n",
       "      <td>0.675435</td>\n",
       "    </tr>\n",
       "    <tr>\n",
       "      <th>xgb count</th>\n",
       "      <td>0.501631</td>\n",
       "      <td>0.833528</td>\n",
       "      <td>0.900545</td>\n",
       "      <td>0.757159</td>\n",
       "      <td>0.912966</td>\n",
       "      <td>0.822651</td>\n",
       "    </tr>\n",
       "    <tr>\n",
       "      <th>xgb tfidf</th>\n",
       "      <td>0.502491</td>\n",
       "      <td>0.837617</td>\n",
       "      <td>0.902571</td>\n",
       "      <td>0.764032</td>\n",
       "      <td>0.911714</td>\n",
       "      <td>0.827543</td>\n",
       "    </tr>\n",
       "    <tr>\n",
       "      <th>xgb word2vec</th>\n",
       "      <td>0.556457</td>\n",
       "      <td>0.771612</td>\n",
       "      <td>0.769575</td>\n",
       "      <td>0.788087</td>\n",
       "      <td>0.846835</td>\n",
       "      <td>0.778721</td>\n",
       "    </tr>\n",
       "    <tr>\n",
       "      <th>rfc count</th>\n",
       "      <td>0.240552</td>\n",
       "      <td>0.923481</td>\n",
       "      <td>0.931395</td>\n",
       "      <td>0.917526</td>\n",
       "      <td>0.976209</td>\n",
       "      <td>0.924409</td>\n",
       "    </tr>\n",
       "    <tr>\n",
       "      <th>rfc tfidf</th>\n",
       "      <td>0.243076</td>\n",
       "      <td>0.924650</td>\n",
       "      <td>0.925629</td>\n",
       "      <td>0.926690</td>\n",
       "      <td>0.977114</td>\n",
       "      <td>0.926159</td>\n",
       "    </tr>\n",
       "    <tr>\n",
       "      <th>rfc word2vec</th>\n",
       "      <td>0.441797</td>\n",
       "      <td>0.789136</td>\n",
       "      <td>0.777657</td>\n",
       "      <td>0.821306</td>\n",
       "      <td>0.880786</td>\n",
       "      <td>0.798886</td>\n",
       "    </tr>\n",
       "    <tr>\n",
       "      <th>gnb count</th>\n",
       "      <td>5.870912</td>\n",
       "      <td>0.830023</td>\n",
       "      <td>0.770446</td>\n",
       "      <td>0.949599</td>\n",
       "      <td>0.827330</td>\n",
       "      <td>0.850693</td>\n",
       "    </tr>\n",
       "    <tr>\n",
       "      <th>gnb tfidf</th>\n",
       "      <td>5.407007</td>\n",
       "      <td>0.843458</td>\n",
       "      <td>0.796860</td>\n",
       "      <td>0.930126</td>\n",
       "      <td>0.842443</td>\n",
       "      <td>0.858351</td>\n",
       "    </tr>\n",
       "    <tr>\n",
       "      <th>gnb word2vec</th>\n",
       "      <td>17.093594</td>\n",
       "      <td>0.504673</td>\n",
       "      <td>0.507340</td>\n",
       "      <td>0.989691</td>\n",
       "      <td>0.494273</td>\n",
       "      <td>0.670807</td>\n",
       "    </tr>\n",
       "    <tr>\n",
       "      <th>mnb count</th>\n",
       "      <td>0.296902</td>\n",
       "      <td>0.918808</td>\n",
       "      <td>0.917995</td>\n",
       "      <td>0.923253</td>\n",
       "      <td>0.976645</td>\n",
       "      <td>0.920617</td>\n",
       "    </tr>\n",
       "    <tr>\n",
       "      <th>mnb tfidf</th>\n",
       "      <td>0.239289</td>\n",
       "      <td>0.914136</td>\n",
       "      <td>0.886170</td>\n",
       "      <td>0.954181</td>\n",
       "      <td>0.978839</td>\n",
       "      <td>0.918919</td>\n",
       "    </tr>\n",
       "    <tr>\n",
       "      <th>mnb word2vec</th>\n",
       "      <td>11.650119</td>\n",
       "      <td>0.660631</td>\n",
       "      <td>0.743333</td>\n",
       "      <td>0.510882</td>\n",
       "      <td>0.704945</td>\n",
       "      <td>0.605567</td>\n",
       "    </tr>\n",
       "    <tr>\n",
       "      <th>PAC count</th>\n",
       "      <td>2.542023</td>\n",
       "      <td>0.926402</td>\n",
       "      <td>0.918253</td>\n",
       "      <td>0.939290</td>\n",
       "      <td>0.926141</td>\n",
       "      <td>0.928652</td>\n",
       "    </tr>\n",
       "    <tr>\n",
       "      <th>PAC tfidf</th>\n",
       "      <td>2.299928</td>\n",
       "      <td>0.933411</td>\n",
       "      <td>0.922136</td>\n",
       "      <td>0.949599</td>\n",
       "      <td>0.933083</td>\n",
       "      <td>0.935666</td>\n",
       "    </tr>\n",
       "    <tr>\n",
       "      <th>PAC word2vec</th>\n",
       "      <td>13.315260</td>\n",
       "      <td>0.614486</td>\n",
       "      <td>0.695413</td>\n",
       "      <td>0.434135</td>\n",
       "      <td>0.618140</td>\n",
       "      <td>0.534556</td>\n",
       "    </tr>\n",
       "  </tbody>\n",
       "</table>\n",
       "</div>"
      ],
      "text/plain": [
       "                    Loss  Accuracy  Precision    Recall       AUC  F1 Score\n",
       "CNN count       0.692952  0.509930   0.509930  1.000000  0.500000  0.675435\n",
       "CNN tfidf       0.693075  0.509930   0.509930  1.000000  0.500000  0.675435\n",
       "CNN word2vec    0.288949  0.880841   0.896797  0.865979  0.949326  0.881119\n",
       "LSTM count      0.608992  0.707360   0.709459  0.721649  0.749366  0.715503\n",
       "LSTM tfidf      0.692189  0.509930   0.509930  1.000000  0.618570  0.675435\n",
       "LSTM word2vec   0.474007  0.811332   0.755102  0.932417  0.932364  0.834444\n",
       "BiLSTM count    0.597137  0.706776   0.708193  0.722795  0.756864  0.715420\n",
       "BiLSTM tfidf    0.694104  0.509930   0.509930  1.000000  0.501602  0.675435\n",
       "xgb count       0.501631  0.833528   0.900545  0.757159  0.912966  0.822651\n",
       "xgb tfidf       0.502491  0.837617   0.902571  0.764032  0.911714  0.827543\n",
       "xgb word2vec    0.556457  0.771612   0.769575  0.788087  0.846835  0.778721\n",
       "rfc count       0.240552  0.923481   0.931395  0.917526  0.976209  0.924409\n",
       "rfc tfidf       0.243076  0.924650   0.925629  0.926690  0.977114  0.926159\n",
       "rfc word2vec    0.441797  0.789136   0.777657  0.821306  0.880786  0.798886\n",
       "gnb count       5.870912  0.830023   0.770446  0.949599  0.827330  0.850693\n",
       "gnb tfidf       5.407007  0.843458   0.796860  0.930126  0.842443  0.858351\n",
       "gnb word2vec   17.093594  0.504673   0.507340  0.989691  0.494273  0.670807\n",
       "mnb count       0.296902  0.918808   0.917995  0.923253  0.976645  0.920617\n",
       "mnb tfidf       0.239289  0.914136   0.886170  0.954181  0.978839  0.918919\n",
       "mnb word2vec   11.650119  0.660631   0.743333  0.510882  0.704945  0.605567\n",
       "PAC count       2.542023  0.926402   0.918253  0.939290  0.926141  0.928652\n",
       "PAC tfidf       2.299928  0.933411   0.922136  0.949599  0.933083  0.935666\n",
       "PAC word2vec   13.315260  0.614486   0.695413  0.434135  0.618140  0.534556"
      ]
     },
     "execution_count": 112,
     "metadata": {},
     "output_type": "execute_result"
    }
   ],
   "source": [
    "pac = PassiveAggressiveClassifier(max_iter = 1000, C = 1, early_stopping = True)\n",
    "pac_get_model_results(pac, \"PAC\", toarray=False)"
   ]
  }
 ],
 "metadata": {
  "interpreter": {
   "hash": "c61f45fa4287766d1fe49b974af5d77a1d3358a56f5db6d660bceae78d85026e"
  },
  "kernelspec": {
   "display_name": "Python 3.8.11 64-bit ('gpuEnv': conda)",
   "language": "python",
   "name": "python3"
  },
  "language_info": {
   "codemirror_mode": {
    "name": "ipython",
    "version": 3
   },
   "file_extension": ".py",
   "mimetype": "text/x-python",
   "name": "python",
   "nbconvert_exporter": "python",
   "pygments_lexer": "ipython3",
   "version": "3.8.11"
  },
  "orig_nbformat": 4
 },
 "nbformat": 4,
 "nbformat_minor": 2
}
