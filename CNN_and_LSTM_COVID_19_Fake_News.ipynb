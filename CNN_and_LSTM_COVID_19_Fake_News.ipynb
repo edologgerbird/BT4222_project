{
  "nbformat": 4,
  "nbformat_minor": 0,
  "metadata": {
    "colab": {
      "name": "CNN and LSTM_COVID_19_Fake_News.ipynb",
      "provenance": [],
      "collapsed_sections": [
        "2Cw92UwpUAdx",
        "Uuy-Ic52UPaO",
        "ILHIgrvyUXEV",
        "xO8OGNMVUjmi",
        "E1qidKJlUzjK",
        "bziu5CkWU-Hl",
        "uJ8Pw4-3VwDw",
        "5cgfdmWOV1Bm",
        "5_3mQCluV30G",
        "XzsWqOdeWaFo",
        "x38FS456XOJb",
        "TQKb5HOebHMh",
        "6TI3EzjybRN7",
        "N_q8JkbWgKol",
        "5AEMnVbqvHoW",
        "kv3hIR-bvNXY",
        "G2UVXDBwJnv0",
        "M0a62YOwJ2HA",
        "WDUB9AMZa0DE",
        "z6zjkjEia0DF",
        "OyI1V72Oqeua",
        "JIBgI3KOqsxn",
        "eub-QtQ642TV",
        "utV94B9fIdeq"
      ]
    },
    "interpreter": {
      "hash": "c61f45fa4287766d1fe49b974af5d77a1d3358a56f5db6d660bceae78d85026e"
    },
    "kernelspec": {
      "display_name": "Python 3.8.11 64-bit ('gpuEnv': conda)",
      "name": "python3"
    },
    "language_info": {
      "codemirror_mode": {
        "name": "ipython",
        "version": 3
      },
      "file_extension": ".py",
      "mimetype": "text/x-python",
      "name": "python",
      "nbconvert_exporter": "python",
      "pygments_lexer": "ipython3",
      "version": "3.8.11"
    },
    "accelerator": "GPU"
  },
  "cells": [
    {
      "cell_type": "markdown",
      "metadata": {
        "id": "iIEFfSCvPVnV"
      },
      "source": [
        "## Loading Packages"
      ]
    },
    {
      "cell_type": "code",
      "metadata": {
        "colab": {
          "base_uri": "https://localhost:8080/"
        },
        "id": "8cf_atLcuYOz",
        "outputId": "2f93c0c8-8793-4a90-eb13-8deddea8df0a"
      },
      "source": [
        "# yellowbrick version too old\n",
        "!pip install -U yellowbrick"
      ],
      "execution_count": 2,
      "outputs": [
        {
          "output_type": "stream",
          "name": "stdout",
          "text": [
            "Requirement already satisfied: yellowbrick in /usr/local/lib/python3.7/dist-packages (0.9.1)\n",
            "Collecting yellowbrick\n",
            "  Downloading yellowbrick-1.3.post1-py3-none-any.whl (271 kB)\n",
            "\u001b[K     |████████████████████████████████| 271 kB 5.9 MB/s \n",
            "\u001b[?25hRequirement already satisfied: matplotlib!=3.0.0,>=2.0.2 in /usr/local/lib/python3.7/dist-packages (from yellowbrick) (3.2.2)\n",
            "Requirement already satisfied: scipy>=1.0.0 in /usr/local/lib/python3.7/dist-packages (from yellowbrick) (1.4.1)\n",
            "Requirement already satisfied: scikit-learn>=0.20 in /usr/local/lib/python3.7/dist-packages (from yellowbrick) (0.22.2.post1)\n",
            "Requirement already satisfied: cycler>=0.10.0 in /usr/local/lib/python3.7/dist-packages (from yellowbrick) (0.11.0)\n",
            "Requirement already satisfied: numpy<1.20,>=1.16.0 in /usr/local/lib/python3.7/dist-packages (from yellowbrick) (1.19.5)\n",
            "Requirement already satisfied: kiwisolver>=1.0.1 in /usr/local/lib/python3.7/dist-packages (from matplotlib!=3.0.0,>=2.0.2->yellowbrick) (1.3.2)\n",
            "Requirement already satisfied: python-dateutil>=2.1 in /usr/local/lib/python3.7/dist-packages (from matplotlib!=3.0.0,>=2.0.2->yellowbrick) (2.8.2)\n",
            "Requirement already satisfied: pyparsing!=2.0.4,!=2.1.2,!=2.1.6,>=2.0.1 in /usr/local/lib/python3.7/dist-packages (from matplotlib!=3.0.0,>=2.0.2->yellowbrick) (2.4.7)\n",
            "Requirement already satisfied: six>=1.5 in /usr/local/lib/python3.7/dist-packages (from python-dateutil>=2.1->matplotlib!=3.0.0,>=2.0.2->yellowbrick) (1.15.0)\n",
            "Requirement already satisfied: joblib>=0.11 in /usr/local/lib/python3.7/dist-packages (from scikit-learn>=0.20->yellowbrick) (1.1.0)\n",
            "Installing collected packages: yellowbrick\n",
            "  Attempting uninstall: yellowbrick\n",
            "    Found existing installation: yellowbrick 0.9.1\n",
            "    Uninstalling yellowbrick-0.9.1:\n",
            "      Successfully uninstalled yellowbrick-0.9.1\n",
            "Successfully installed yellowbrick-1.3.post1\n"
          ]
        }
      ]
    },
    {
      "cell_type": "code",
      "metadata": {
        "colab": {
          "base_uri": "https://localhost:8080/"
        },
        "id": "MaVz5lOPYqBb",
        "outputId": "5ce8ecc6-9bf7-4e9f-8706-90443531df43"
      },
      "source": [
        "# EDA\n",
        "import pandas as pd\n",
        "import matplotlib.pyplot as plt\n",
        "import numpy as np\n",
        "from numpy import save,load\n",
        "from yellowbrick.cluster.elbow import kelbow_visualizer\n",
        "import seaborn as sns\n",
        "\n",
        "# NLP \n",
        "from sklearn.model_selection import train_test_split\n",
        "from sklearn.preprocessing import LabelEncoder\n",
        "from sklearn.metrics import confusion_matrix, classification_report, accuracy_score\n",
        "from sklearn.manifold import TSNE\n",
        "from sklearn.feature_extraction.text import TfidfVectorizer\n",
        "from sklearn.cluster import KMeans\n",
        "\n",
        "import nltk\n",
        "from nltk.corpus import stopwords\n",
        "from  nltk.stem import SnowballStemmer\n",
        "from nltk.stem.wordnet import WordNetLemmatizer\n",
        "nltk.download('stopwords')\n",
        "nltk.download('wordnet')\n",
        "\n",
        "from gensim.models import Word2Vec\n",
        "import gensim\n",
        "\n",
        "# Deep Learning\n",
        "import tensorflow as tf\n",
        "from tensorflow import keras\n",
        "from keras.preprocessing.text import Tokenizer\n",
        "from keras.preprocessing.sequence import pad_sequences\n",
        "from keras.models import Sequential\n",
        "from keras import utils, layers\n",
        "from keras.callbacks import ReduceLROnPlateau, EarlyStopping\n",
        "\n",
        "# Ensemble\n",
        "import xgboost\n",
        "from sklearn.ensemble import RandomForestClassifier\n",
        "\n",
        "# Support\n",
        "import re\n",
        "import os\n",
        "from collections import Counter\n",
        "import logging\n",
        "import time\n",
        "import pickle\n",
        "import itertools"
      ],
      "execution_count": 3,
      "outputs": [
        {
          "output_type": "stream",
          "name": "stdout",
          "text": [
            "[nltk_data] Downloading package stopwords to /root/nltk_data...\n",
            "[nltk_data]   Unzipping corpora/stopwords.zip.\n",
            "[nltk_data] Downloading package wordnet to /root/nltk_data...\n",
            "[nltk_data]   Unzipping corpora/wordnet.zip.\n"
          ]
        }
      ]
    },
    {
      "cell_type": "code",
      "metadata": {
        "id": "ABL8NZUpIacA"
      },
      "source": [
        "# wordcloud \n",
        "from wordcloud import WordCloud, STOPWORDS, ImageColorGenerator"
      ],
      "execution_count": 4,
      "outputs": []
    },
    {
      "cell_type": "markdown",
      "metadata": {
        "id": "2Cw92UwpUAdx"
      },
      "source": [
        "## Settings"
      ]
    },
    {
      "cell_type": "code",
      "metadata": {
        "id": "4T_8ZOP3T_vI"
      },
      "source": [
        "#SETTINGS\n",
        "RANDOM_STATE = 42\n",
        "\n",
        "#DATASET\n",
        "TRAIN_SIZE = 0.8\n",
        "\n",
        "# WORD2VEC \n",
        "W2V_SIZE = 300\n",
        "W2V_WINDOW = 7\n",
        "W2V_EPOCH = 32\n",
        "W2V_MIN_COUNT = 10\n",
        "\n",
        "# TENSORFLOW\n",
        "SEQUENCE_LENGTH = 300\n",
        "EPOCHS = 32\n",
        "BATCH_SIZE = 1024"
      ],
      "execution_count": 5,
      "outputs": []
    },
    {
      "cell_type": "markdown",
      "metadata": {
        "id": "mNfBCboKUDeG"
      },
      "source": [
        "## Loading Datasets"
      ]
    },
    {
      "cell_type": "code",
      "metadata": {
        "id": "4PqvYKj6QYkS"
      },
      "source": [
        "train_ds = pd.read_csv(\"https://raw.githubusercontent.com/edologgerbird/BT4222_project/main/data/Constraint_Train.csv\")\n",
        "val_ds = pd.read_csv(\"https://raw.githubusercontent.com/edologgerbird/BT4222_project/main/data/Constraint_Val.csv\")\n",
        "df = pd.concat([train_ds,val_ds]).reset_index()"
      ],
      "execution_count": 6,
      "outputs": []
    },
    {
      "cell_type": "code",
      "metadata": {
        "colab": {
          "base_uri": "https://localhost:8080/",
          "height": 204
        },
        "id": "WOzwYuWkUGfK",
        "outputId": "1a4af21a-faf9-41e9-8807-f5e2297ee6ff"
      },
      "source": [
        "df.head()"
      ],
      "execution_count": 7,
      "outputs": [
        {
          "output_type": "execute_result",
          "data": {
            "text/html": [
              "<div>\n",
              "<style scoped>\n",
              "    .dataframe tbody tr th:only-of-type {\n",
              "        vertical-align: middle;\n",
              "    }\n",
              "\n",
              "    .dataframe tbody tr th {\n",
              "        vertical-align: top;\n",
              "    }\n",
              "\n",
              "    .dataframe thead th {\n",
              "        text-align: right;\n",
              "    }\n",
              "</style>\n",
              "<table border=\"1\" class=\"dataframe\">\n",
              "  <thead>\n",
              "    <tr style=\"text-align: right;\">\n",
              "      <th></th>\n",
              "      <th>index</th>\n",
              "      <th>id</th>\n",
              "      <th>tweet</th>\n",
              "      <th>label</th>\n",
              "    </tr>\n",
              "  </thead>\n",
              "  <tbody>\n",
              "    <tr>\n",
              "      <th>0</th>\n",
              "      <td>0</td>\n",
              "      <td>1</td>\n",
              "      <td>The CDC currently reports 99031 deaths. In gen...</td>\n",
              "      <td>real</td>\n",
              "    </tr>\n",
              "    <tr>\n",
              "      <th>1</th>\n",
              "      <td>1</td>\n",
              "      <td>2</td>\n",
              "      <td>States reported 1121 deaths a small rise from ...</td>\n",
              "      <td>real</td>\n",
              "    </tr>\n",
              "    <tr>\n",
              "      <th>2</th>\n",
              "      <td>2</td>\n",
              "      <td>3</td>\n",
              "      <td>Politically Correct Woman (Almost) Uses Pandem...</td>\n",
              "      <td>fake</td>\n",
              "    </tr>\n",
              "    <tr>\n",
              "      <th>3</th>\n",
              "      <td>3</td>\n",
              "      <td>4</td>\n",
              "      <td>#IndiaFightsCorona: We have 1524 #COVID testin...</td>\n",
              "      <td>real</td>\n",
              "    </tr>\n",
              "    <tr>\n",
              "      <th>4</th>\n",
              "      <td>4</td>\n",
              "      <td>5</td>\n",
              "      <td>Populous states can generate large case counts...</td>\n",
              "      <td>real</td>\n",
              "    </tr>\n",
              "  </tbody>\n",
              "</table>\n",
              "</div>"
            ],
            "text/plain": [
              "   index  id                                              tweet label\n",
              "0      0   1  The CDC currently reports 99031 deaths. In gen...  real\n",
              "1      1   2  States reported 1121 deaths a small rise from ...  real\n",
              "2      2   3  Politically Correct Woman (Almost) Uses Pandem...  fake\n",
              "3      3   4  #IndiaFightsCorona: We have 1524 #COVID testin...  real\n",
              "4      4   5  Populous states can generate large case counts...  real"
            ]
          },
          "metadata": {},
          "execution_count": 7
        }
      ]
    },
    {
      "cell_type": "code",
      "metadata": {
        "colab": {
          "base_uri": "https://localhost:8080/"
        },
        "id": "QIQnueszUNXe",
        "outputId": "444fc73a-2a2b-4738-cbc8-61903be49648"
      },
      "source": [
        "df.label.unique()"
      ],
      "execution_count": 8,
      "outputs": [
        {
          "output_type": "execute_result",
          "data": {
            "text/plain": [
              "array(['real', 'fake'], dtype=object)"
            ]
          },
          "metadata": {},
          "execution_count": 8
        }
      ]
    },
    {
      "cell_type": "code",
      "metadata": {
        "id": "WpQm4JGIUIPi"
      },
      "source": [
        "df = df.drop('id', axis=1)"
      ],
      "execution_count": 9,
      "outputs": []
    },
    {
      "cell_type": "markdown",
      "metadata": {
        "id": "Uuy-Ic52UPaO"
      },
      "source": [
        "## Sanity Check\n",
        "In this section, we check for:\n",
        "1.   Null inputs\n",
        "2.   Duplicated rows\n",
        "\n"
      ]
    },
    {
      "cell_type": "code",
      "metadata": {
        "colab": {
          "base_uri": "https://localhost:8080/"
        },
        "id": "A0vO0npvUPGx",
        "outputId": "1b48a20d-dac9-4557-ac0f-a854d5b992b5"
      },
      "source": [
        "df.info()"
      ],
      "execution_count": 10,
      "outputs": [
        {
          "output_type": "stream",
          "name": "stdout",
          "text": [
            "<class 'pandas.core.frame.DataFrame'>\n",
            "RangeIndex: 8560 entries, 0 to 8559\n",
            "Data columns (total 3 columns):\n",
            " #   Column  Non-Null Count  Dtype \n",
            "---  ------  --------------  ----- \n",
            " 0   index   8560 non-null   int64 \n",
            " 1   tweet   8560 non-null   object\n",
            " 2   label   8560 non-null   object\n",
            "dtypes: int64(1), object(2)\n",
            "memory usage: 200.8+ KB\n"
          ]
        }
      ]
    },
    {
      "cell_type": "markdown",
      "metadata": {
        "id": "kEp6FhYCcZxs"
      },
      "source": [
        "No null inputs were found"
      ]
    },
    {
      "cell_type": "code",
      "metadata": {
        "colab": {
          "base_uri": "https://localhost:8080/"
        },
        "id": "opSdhxmycssP",
        "outputId": "9b431f2f-173e-485b-c500-8d199cebe97a"
      },
      "source": [
        "df.duplicated().sum()"
      ],
      "execution_count": 11,
      "outputs": [
        {
          "output_type": "execute_result",
          "data": {
            "text/plain": [
              "0"
            ]
          },
          "metadata": {},
          "execution_count": 11
        }
      ]
    },
    {
      "cell_type": "markdown",
      "metadata": {
        "id": "PABUUDxdQM-s"
      },
      "source": [
        "Viewing the duplicated entry"
      ]
    },
    {
      "cell_type": "code",
      "metadata": {
        "colab": {
          "base_uri": "https://localhost:8080/",
          "height": 49
        },
        "id": "QiZsFtz8QHaF",
        "outputId": "fb8360cf-cf21-46d4-ef57-7be2d2bc567d"
      },
      "source": [
        " df[df.duplicated(keep=False)]"
      ],
      "execution_count": 12,
      "outputs": [
        {
          "output_type": "execute_result",
          "data": {
            "text/html": [
              "<div>\n",
              "<style scoped>\n",
              "    .dataframe tbody tr th:only-of-type {\n",
              "        vertical-align: middle;\n",
              "    }\n",
              "\n",
              "    .dataframe tbody tr th {\n",
              "        vertical-align: top;\n",
              "    }\n",
              "\n",
              "    .dataframe thead th {\n",
              "        text-align: right;\n",
              "    }\n",
              "</style>\n",
              "<table border=\"1\" class=\"dataframe\">\n",
              "  <thead>\n",
              "    <tr style=\"text-align: right;\">\n",
              "      <th></th>\n",
              "      <th>index</th>\n",
              "      <th>tweet</th>\n",
              "      <th>label</th>\n",
              "    </tr>\n",
              "  </thead>\n",
              "  <tbody>\n",
              "  </tbody>\n",
              "</table>\n",
              "</div>"
            ],
            "text/plain": [
              "Empty DataFrame\n",
              "Columns: [index, tweet, label]\n",
              "Index: []"
            ]
          },
          "metadata": {},
          "execution_count": 12
        }
      ]
    },
    {
      "cell_type": "code",
      "metadata": {
        "id": "fgSupA8mc4wZ"
      },
      "source": [
        "df = df.drop_duplicates()"
      ],
      "execution_count": 13,
      "outputs": []
    },
    {
      "cell_type": "markdown",
      "metadata": {
        "id": "VHS3rkA9cwmg"
      },
      "source": [
        "1 Duplicate was found and dropped"
      ]
    },
    {
      "cell_type": "code",
      "metadata": {
        "colab": {
          "base_uri": "https://localhost:8080/"
        },
        "id": "Qbc9nP_pUJXq",
        "outputId": "227c6816-fe3c-4026-dbed-54f8bacab5c4"
      },
      "source": [
        "df.label.value_counts()"
      ],
      "execution_count": 14,
      "outputs": [
        {
          "output_type": "execute_result",
          "data": {
            "text/plain": [
              "real    4480\n",
              "fake    4080\n",
              "Name: label, dtype: int64"
            ]
          },
          "metadata": {},
          "execution_count": 14
        }
      ]
    },
    {
      "cell_type": "code",
      "metadata": {
        "colab": {
          "base_uri": "https://localhost:8080/",
          "height": 374
        },
        "id": "_tCYU7G7UVhk",
        "outputId": "718e39e2-d8ae-4e42-d23d-b47735d670ba"
      },
      "source": [
        "df.label.value_counts().plot(kind='bar')"
      ],
      "execution_count": 15,
      "outputs": [
        {
          "output_type": "execute_result",
          "data": {
            "text/plain": [
              "<matplotlib.axes._subplots.AxesSubplot at 0x7f1b95aec690>"
            ]
          },
          "metadata": {},
          "execution_count": 15
        },
        {
          "output_type": "display_data",
          "data": {
            "image/png": "[encoded data removed]",
            "text/plain": [
              "<Figure size 576x396 with 1 Axes>"
            ]
          },
          "metadata": {}
        }
      ]
    },
    {
      "cell_type": "markdown",
      "metadata": {
        "id": "ILHIgrvyUXEV"
      },
      "source": [
        "## Pre-processing"
      ]
    },
    {
      "cell_type": "code",
      "metadata": {
        "id": "Lw8gkYKEUa3u"
      },
      "source": [
        "stop_words = stopwords.words(\"english\")\n",
        "stemmer = SnowballStemmer(\"english\")\n",
        "lemmer = WordNetLemmatizer()"
      ],
      "execution_count": 16,
      "outputs": []
    },
    {
      "cell_type": "code",
      "metadata": {
        "colab": {
          "base_uri": "https://localhost:8080/",
          "height": 143
        },
        "id": "_VvM4dtcUh7e",
        "outputId": "edbfdca7-6c30-42e9-eeb4-9dae9a71356c"
      },
      "source": [
        "\", \".join(stop_words)\n"
      ],
      "execution_count": 17,
      "outputs": [
        {
          "output_type": "execute_result",
          "data": {
            "application/vnd.google.colaboratory.intrinsic+json": {
              "type": "string"
            },
            "text/plain": [
              "\"i, me, my, myself, we, our, ours, ourselves, you, you're, you've, you'll, you'd, your, yours, yourself, yourselves, he, him, his, himself, she, she's, her, hers, herself, it, it's, its, itself, they, them, their, theirs, themselves, what, which, who, whom, this, that, that'll, these, those, am, is, are, was, were, be, been, being, have, has, had, having, do, does, did, doing, a, an, the, and, but, if, or, because, as, until, while, of, at, by, for, with, about, against, between, into, through, during, before, after, above, below, to, from, up, down, in, out, on, off, over, under, again, further, then, once, here, there, when, where, why, how, all, any, both, each, few, more, most, other, some, such, no, nor, not, only, own, same, so, than, too, very, s, t, can, will, just, don, don't, should, should've, now, d, ll, m, o, re, ve, y, ain, aren, aren't, couldn, couldn't, didn, didn't, doesn, doesn't, hadn, hadn't, hasn, hasn't, haven, haven't, isn, isn't, ma, mightn, mightn't, mustn, mustn't, needn, needn't, shan, shan't, shouldn, shouldn't, wasn, wasn't, weren, weren't, won, won't, wouldn, wouldn't\""
            ]
          },
          "metadata": {},
          "execution_count": 17
        }
      ]
    },
    {
      "cell_type": "markdown",
      "metadata": {
        "id": "xO8OGNMVUjmi"
      },
      "source": [
        "## Previewing Tweets"
      ]
    },
    {
      "cell_type": "code",
      "metadata": {
        "colab": {
          "base_uri": "https://localhost:8080/"
        },
        "id": "iWnda-jXUkuE",
        "outputId": "12794a47-0802-4961-fc68-3dc500665ac5"
      },
      "source": [
        "print(df.tweet.sample(15).values)"
      ],
      "execution_count": 18,
      "outputs": [
        {
          "output_type": "stream",
          "name": "stdout",
          "text": [
            "['Trump Assigns Meat Loaf &amp; Gary Busey To Covid-19 Team https://t.co/mxXbADxhhH'\n",
            " '594 new cases of #COVID19Nigeria; Lagos-159 Delta-106 Ondo-44 FCT-34 Edo-34 Oyo-33 Kaduna-33 Enugu-28 Katsina-25 Imo-22 Adamawa-15 Ogun-12 Osun-11 Abia-8 Rivers-6 Nasarawa-5 Bauchi-5 Niger-5 Kebbi-4 Ekiti-3 Plateau-1 Taraba-1 22614 confirmed 7822 discharged 549 deaths https://t.co/JaiUIdu56J'\n",
            " '#IndiaFightsCorona: The cumulative testing as on date has reached 37651512. 823992 tests were conducted in the last 24 hours. Such high level of testing on a sustained basis leads to early diagnosis. Details : https://t.co/xI1Zl0U7ZH @MoHFW_INDIA @ICMRDELHI #StaySafe'\n",
            " 'This 3 year old girl is fighting for her life after getting the coronavirus.'\n",
            " 'UPDATE: #covid19science #COVID19 South Korea ➡ Epidemic characterised by large clusters of cases ➡ Shincheonji religious group accounted for 48% of cases ➡️High volume of testing &amp; low number of deaths suggests small epidemic 🔰Report https://t.co/lcFch0FxCt https://t.co/Uefaj1YDtJ'\n",
            " 'Temperature, humidity could affect transmission rate of Covid-19'\n",
            " 'COVID test results that come a week (or more) later are \"useless.\" https://t.co/i5HNG5QbkZ https://t.co/W6uoyRXQ3q'\n",
            " 'As of today total #COVID19 facilities across India are: ▪️ Dedicated #COVID_19 Hospitals: 1252 ▪️ Dedicated #COVID__19 Health Centres: 2756 ▪️ #COVID Care Centres (CCCs): 10382 ▪️ #Quarantine Centres: 12547 #COVID19India #CoronavirusPandemic #CoronaVirusUpdates #Coronavirus https://t.co/hudyelNd0M'\n",
            " 'Twitter took down a pro–United Arab Emirates network of accounts that was pushing propaganda about the coronavirus\"'\n",
            " \"#CoronaVirusUpdates #IndiaFightsCorona India conducts a record high of more than 8.3 lakh tests for #COVID19 in a single day. Week-wise average daily tests saw a sharp increase from around 2.3 lakh in the first week of July '20 to more than 6.3 lakh in the current week. https://t.co/bFVShH7hNZ\"\n",
            " 'Empty hospital lots and waiting rooms are indicative of a coronavirus hoax.'\n",
            " 'The identification on Feb. 26 2020 of a patient with COVID-19 &amp; no travel history indicated the likelihood of community spread. Until late Feb. #COVID19 incidence was too low to be detected by emergency department surveillance. More from @CDCMMWR: https://t.co/wvl3kMiGiv. https://t.co/0JeFWOwRmM'\n",
            " 'As of the last 24 hours this is the protocol regarding masks: Masks \\nshould only be used by healthcare workers, caretakers or by people who \\nare sick with symptoms like fever and cough.'\n",
            " 'Supermarkets in Germany will only open two days a week. A screenshot shows a report from the media outlet Focus.'\n",
            " 'This is not an across-the-board methodological change. For cases like Wyoming where the state reports confirmed and suspected ~cases~ of COVID-19 we will report only the \"confirmed\" in our case count. This is just about current hospitalizations.']\n"
          ]
        }
      ]
    },
    {
      "cell_type": "markdown",
      "metadata": {
        "id": "t0rQeNAbRxsn"
      },
      "source": [
        "Creating a column for word count"
      ]
    },
    {
      "cell_type": "code",
      "metadata": {
        "id": "7_3mL8WcRwPF"
      },
      "source": [
        "df['length'] = df['tweet'].apply(lambda x: len(x.split()))"
      ],
      "execution_count": 19,
      "outputs": []
    },
    {
      "cell_type": "markdown",
      "metadata": {
        "id": "4coCKVXCR14K"
      },
      "source": [
        "Visualising word count"
      ]
    },
    {
      "cell_type": "code",
      "metadata": {
        "colab": {
          "base_uri": "https://localhost:8080/"
        },
        "id": "V-IzDj7mOHSz",
        "outputId": "cfb20d71-3440-4713-d953-b6cb447f40e3"
      },
      "source": [
        "df['length'].describe()"
      ],
      "execution_count": 20,
      "outputs": [
        {
          "output_type": "execute_result",
          "data": {
            "text/plain": [
              "count    8560.00000\n",
              "mean       26.94778\n",
              "std        22.45087\n",
              "min         3.00000\n",
              "25%        15.00000\n",
              "50%        25.00000\n",
              "75%        37.00000\n",
              "max      1456.00000\n",
              "Name: length, dtype: float64"
            ]
          },
          "metadata": {},
          "execution_count": 20
        }
      ]
    },
    {
      "cell_type": "code",
      "metadata": {
        "colab": {
          "base_uri": "https://localhost:8080/",
          "height": 365
        },
        "id": "rShO8TPiOqmB",
        "outputId": "4a45e634-0cd4-427c-d57f-05b483bc0afc"
      },
      "source": [
        "df.boxplot(column=['length'])"
      ],
      "execution_count": 21,
      "outputs": [
        {
          "output_type": "execute_result",
          "data": {
            "text/plain": [
              "<matplotlib.axes._subplots.AxesSubplot at 0x7f1b9463e990>"
            ]
          },
          "metadata": {},
          "execution_count": 21
        },
        {
          "output_type": "display_data",
          "data": {
            "image/png": "[encoded data removed]",
            "text/plain": [
              "<Figure size 576x396 with 1 Axes>"
            ]
          },
          "metadata": {}
        }
      ]
    },
    {
      "cell_type": "markdown",
      "metadata": {
        "id": "b632ZSI4O5OS"
      },
      "source": [
        "We notice outliers with extreme number of words. Previewing outlier articles here."
      ]
    },
    {
      "cell_type": "code",
      "metadata": {
        "colab": {
          "base_uri": "https://localhost:8080/",
          "height": 173
        },
        "id": "W6AmXAP3Pbmr",
        "outputId": "12c3fbfe-64df-4406-a055-43e84093f1ac"
      },
      "source": [
        "df[df['length']>150]"
      ],
      "execution_count": 22,
      "outputs": [
        {
          "output_type": "execute_result",
          "data": {
            "text/html": [
              "<div>\n",
              "<style scoped>\n",
              "    .dataframe tbody tr th:only-of-type {\n",
              "        vertical-align: middle;\n",
              "    }\n",
              "\n",
              "    .dataframe tbody tr th {\n",
              "        vertical-align: top;\n",
              "    }\n",
              "\n",
              "    .dataframe thead th {\n",
              "        text-align: right;\n",
              "    }\n",
              "</style>\n",
              "<table border=\"1\" class=\"dataframe\">\n",
              "  <thead>\n",
              "    <tr style=\"text-align: right;\">\n",
              "      <th></th>\n",
              "      <th>index</th>\n",
              "      <th>tweet</th>\n",
              "      <th>label</th>\n",
              "      <th>length</th>\n",
              "    </tr>\n",
              "  </thead>\n",
              "  <tbody>\n",
              "    <tr>\n",
              "      <th>270</th>\n",
              "      <td>270</td>\n",
              "      <td>Amoxi\" Capsule made in US is the only medicine...</td>\n",
              "      <td>fake</td>\n",
              "      <td>1456</td>\n",
              "    </tr>\n",
              "    <tr>\n",
              "      <th>1109</th>\n",
              "      <td>1109</td>\n",
              "      <td>Actors\" applauded Macron when he visited the s...</td>\n",
              "      <td>fake</td>\n",
              "      <td>847</td>\n",
              "    </tr>\n",
              "    <tr>\n",
              "      <th>6306</th>\n",
              "      <td>6306</td>\n",
              "      <td>Man visited Albany N.Y. days before dying from...</td>\n",
              "      <td>fake</td>\n",
              "      <td>336</td>\n",
              "    </tr>\n",
              "    <tr>\n",
              "      <th>8153</th>\n",
              "      <td>1733</td>\n",
              "      <td>I'm so happy that we’re able to do something v...</td>\n",
              "      <td>real</td>\n",
              "      <td>304</td>\n",
              "    </tr>\n",
              "  </tbody>\n",
              "</table>\n",
              "</div>"
            ],
            "text/plain": [
              "      index                                              tweet label  length\n",
              "270     270  Amoxi\" Capsule made in US is the only medicine...  fake    1456\n",
              "1109   1109  Actors\" applauded Macron when he visited the s...  fake     847\n",
              "6306   6306  Man visited Albany N.Y. days before dying from...  fake     336\n",
              "8153   1733  I'm so happy that we’re able to do something v...  real     304"
            ]
          },
          "metadata": {},
          "execution_count": 22
        }
      ]
    },
    {
      "cell_type": "code",
      "metadata": {
        "colab": {
          "base_uri": "https://localhost:8080/"
        },
        "id": "AaYcVsK0JUiZ",
        "outputId": "b4349fbf-5dd4-4085-d79c-59bc31953ac2"
      },
      "source": [
        "for tweet in df['tweet'][df['length']>150].values:\n",
        "  print(tweet)"
      ],
      "execution_count": 23,
      "outputs": [
        {
          "output_type": "stream",
          "name": "stdout",
          "text": [
            "Amoxi\" Capsule made in US is the only medicine that can completely cure COVID-19.\n",
            "Egyptian Health Minister arrive in Italy with secret coronavirus cure.\n",
            " Dr Charles Lieber a Harvard professor has been arrested in the USA for manufacturing the coronavirus and selling it to China. A video news report from WCVB a TV station in Boston Massachusetts is shared with the Facebook post.\n",
            "Mountain Matterhorn in Switzerland was lit in three colours of Indian flag as a token of gratitude to India for sending Hydroxychloroquine.\n",
            "Al-Azhar Imam said he is considering exceptions on Ramadan fasting as the research says that the mouth must be kept wet to prevent COVID-19\n",
            " Japanese Nobel Tasuku Honjo says coronavirus was created in the Wuhan laboratory\n",
            "A man collapses in 5 minutes after showing COVID-19 symptoms in India.\n",
            "Celebrities spreading misinformation about coronavirus and the Janata curfew in India.\n",
            " Multiple posts shared repeatedly on Facebook and Twitter since March 2020 claim that Israel has reported zero deaths from the novel coronavirus which causes the disease COVID-19. The posts also claim Israeli citizens have protected themselves from COVID-19 by drinking a remedy of hot water lemon and baking soda which purportedly “kills” the virus.\n",
            " CDC suddenly lost 30000 deaths from coronavirus from its data thus proving the virus is not as serious as it seems.\n",
            "Photos of coronavirus patients being treated on the road in Italy.\n",
            "Indian actor Shah Rukh Khan donated money to Pakistan to fight coronavirus and did not help India at all.\n",
            "Russian President Vladimir Putin has ordered Russia’s population to stay at home for 15 days or face five years in jail.\n",
            "Indian Army has set-up a 1000 bed quarantine facility in Rajasthan's Barmer.\n",
            "Leonardo Da Vinci Hospital a COVID-19 reference hospital in Fortaleza Brazil is empty. A video \"proves\" there was no one at the areas open to the public.\n",
            " President Trump's claim that he inherited no ventilators from the Obama administration.\n",
            "An audio where an unidentified person links the virus that causes COVID-19 with the massive flu vaccination campaign.\n",
            "Black body bags being referred to as deaths in New York and the reason a lockdown is essential.\n",
            "Mustard oil prevents a person from getting infected with COVID-19.\n",
            "North Carolina’s health department is \"telling hospitals that if they decide to do elective surgeries they won’t be eligible to receive (protective equipment) from the state.”\n",
            " After coronavirus pandemic Chinese president said it's China's time to lead the world.\n",
            "The nurses that Boris Johnson claimed saved his life are not registered in the UK.\n",
            "A claim that India’s Ministry of Home Affairs has made it a “punishable offense” for citizens to publish posts on social media about the novel coronavirus has been shared repeatedly on Facebook Twitter and WhatsApp.\n",
            " Says Nancy Pelosi was “caught trying to include abortion funding in bill to combat coronavirus.”\n",
            "A video of a man rebuking foreigners has been viewed thousands of times on social media alongside a claim that the Guinean government has ordered the arrest of all Chinese nationals in the country while awaiting the safe return of Guineans from China.\n",
            " The U.S. is the only country on earth that is protesting being locked down.\n",
            "Photo of Kurnool MLA (Hafeez Khan) making a nurse to touch the feet of a religious head in Viswabharathi Medical College who had to come to the COVID-19 quarantine facility.\n",
            "New York State Governor shows data that proves that isolation is ineffective against COVID-19.\n",
            "Homeopathic product Oscillococcinum protects against COVID-19.\n",
            "CDC admitted to lying about COVID-19 death stats.\n",
            "Notice for preparing emergency drugs was released on social media for alumni of Seoul National University College of Medicine.\n",
            "Belgian doctors turn their back on WHO director.\n",
            "Dr. Li Wenliang (the Chinese whistleblower doctor) has proposed that drinking tea can cure COVID-19.\n",
            "Any person arrested for violating lockdown in the night will not get bail until the lockdown is over in the state of Gujarat in India.\n",
            " US President Donald Trump tested positive for COVID-19.\n",
            "A picture with a quote from doctor Vincenzo Puro who allegedly said that asymptomatic people cannot infect others that the virus is not lethal and that the pandemic is a \"hoax\".\n",
            " Prince Charles recovered from COVID-19 with the help of Ayurvedic treatment.\n",
            " A video shows a Superintendent of police announcing the extension of Lokckdown in Maharashtra India till May 30.\n",
            " A WhatsApp audio claims that the Infanta Sofía Hospital in Madrid has 15 children in serious condition due to COVID-19 and that there are three other children in the Talavera de la Reina Hospital.\n",
            "Video shows coronavirus patients and doctors.\n",
            "A video claims to show that the Nigerian government has spent US$2 million to \"import\" Chinese doctors and supplies.\n",
            "Riots in London due to the unavailability of food items. The United Kingdom will be locked down by tonight. Army soldiers take to the UK streets.\n",
            "A set of claims passed as instructions to be followed during the COVID-19 pandemic period.\n",
            " Facebook post claims that the Latvian app Apturi Covid (Stop Covid) which was created to warn people who have been close to an infected person will be used so the government can track all the people from the contact list and record their locations.\n",
            "Aaj Tak channel aired a program that said drinking alcohol or smoking weed can cure COVID-19.\n",
            " President Donald Trump tweeted “Coronavirus vaccine from Israel! Stock market up! Economy even stronger now! Besides US Israel best at inventions: Judaism olives. Wonderful vaccine will stop Corona DEAD around world. Can’t make vaccines when being bombed not have been possible without peace I created in Israel!”\n",
            "Italy official Giulio Gallera: China lies to us. The date China provided is false. Italy has become Wuhan and the medical system has a breakdown.\n",
            "João Doria governor of São Paulo forbade doctors to give chloroquine to COVID-19 patients.\n",
            "A blog post has been shared thousands of times in multiple Facebook posts which claim it shows a video of a baby who died after being infected with the novel coronavirus which causes the disease COVID-19.\n",
            " A vaccine for coronavirus was available since 2001.\n",
            " Video showing policemen picking banknotes with sticks linking it with coronavirus.\n",
            "We can't make a vaccine that works for flu no vaccine for the respiratory syncytial virus (RSV) and we can't cure cancer. Yet somehow scientists can make a vaccine for COVID-19 in six months?\n",
            "Mumbai and Pune is going under military lockdown\n",
            "What we need to do to defeat the coronavirus is to consume more alkaline foods above the virus’ pH level.\n",
            "Indian Actor Aamir Khan gives Rs. 15000 to poor people in 1Kg wheat flour.\n",
            " The photo shows the funeral of Turkish deceased general Aytac Yalman due to COVID-19.\n",
            "The coronavirus responsible for COVID-19 is a mix of SARS and HIV.\n",
            "Two doctors in Bakersfield California said at a press conference that isolation measures affect the immune system and that unrestrictive controls in countries like Sweden have worked.\n",
            " Article says that the Vatican confirmed that the Pope and two assistants have coronavirus.\n",
            "Herbal tea made of malunggay and kamias leaves is a cure for COVID-19 the disease caused by the novel coronavirus.\n",
            "A video of police officers immobilizing a screaming woman. The caption states that they were being beaten by the police because they refuse to go to their houses during lockdown in Minas Gerais Brazil\n",
            " Cuba's low number of COVID-19 deaths is due to its use of hydroxychloroquine to treat patients\n",
            "A video of the doctor linked to the anti-vaccine movement Chinda Brandolino on the origin of COVID-19.\n",
            " There is a confirmed case of coronavirus in a Bogotá hospital.\n",
            "A video showing migrant laborers from Surat city in India are being sent back to Surat after their home states refused to take them back at the state border.\n",
            "Ohio Gov. Mike DeWine released 4300 prisoners and is now warning residents of a possible crime wave.\n",
            " It's not a virus but 5G that is causing disease and deaths\n",
            "An arrest by the Federal Bureau of Investigation (FBI) of a professor who had ties to China is connected to the coronavirus pandemic.\n",
            "A photo of a list of purported symptoms and treatments for the novel coronavirus which causes the disease COVID-19 has been shared hundreds of times in multiple posts on Facebook Twitter and Instagram. The purported remedies include a daily dose of vitamins; exposure to sunlight; and a diet of alkaline foods.\n",
            " Police catches coronavirus positive patient on the road.\n",
            " In the 30-second viral video a man lifts his shirt and challenges aa police officer who is pointing a gun at him. Another police officer kicks the man from behind pins him down on the road and makes an arrest. The text overlaid on the video reads \"Italy says lockdown they mean it.\n",
            "Actors\" applauded Macron when he visited the suburban city of Pantin near Paris.\n",
            " A video of a man in front of the Pacaembu Stadium in São Paulo where a field hospital for COVID-19 patients was built. He claims that since there's no movement in the entrance no one waiting to get in there's no one inside either.\n",
            " The dean of the College of Biologists of Euskadi states that there are a lot of PCR false positives and asymptomatic don't spread coronavirus.\n",
            " In Nagpur's Medical Hospital the kidney of the patient was removed and the excuse was made that the patient had corona.\n",
            " With the novel coronavirus sending the US economy into freefall posts that list phone numbers for job seekers to call and find work have been shared thousands of times on Facebook and Instagram.\n",
            "People in Italy are threw away their money after they lost their family members to coronavirus.\n",
            "COVID-19 is human-made and an American biological weapon\n",
            "“Fish tank additive may treat coronavirus.”\n",
            " “Everyone is only dying of coronavirus now.”\n",
            "There has been no death due to COVID-19 in Israel as they mix lemon and baking soda in their tea. This combination kills coronavirus.\n",
            " A alleged tweet from General Heleno Minister of Institutional Security (sort of like Ministry for the Interior) in Brazil. It says COVID-19 is not strong since he himself and president Jair Bolsonaro had it and recovered easily. Bolsonaro always denied having COVID-19.\n",
            " A post says that Donald Trump has said on March 17th that people who never died before are dying now.\n",
            " There is no home vaccination against coronavirus in Cuba.\n",
            " Picture shows clothes of those who have died of coronavirus in China. Beijing is now shipping these clothes to Africa.\n",
            "An American CEO drew the Indian map comparing the population of each Indian state to that of countries across the world highlighting how India is indirectly handling the COVID-19 crisis of so many countries.\n",
            "A picture showing many hospital beds with patients on it concentrated in very small area. The caption states that this is how public health was like in Brazil in 2016 but the media never talked about it.\n",
            "President Barack Obama “waited six months to call swine flu an emergency after thousands died.”\n",
            " The men of India's railway minister demanding money from helpless workers for walking on the tracks.\n",
            "These are doctors in Tijuana taking a nap on the floor of a hospital.\n",
            "Photo of a mannequin being wheeled into a hospital shows the COVID-19 coverup.\n",
            " Four people have died in Zanzibar after handling a chicken infected with COVID-19.\n",
            "Post says no one has died from the coronavirus in the United States.\n",
            " Video showing a Muslim man throwing notes to spread coronavirus\n",
            "Industrialist Ratan Tata's view on economic downfall due to COVID-19.\n",
            "If you can hold your breath for 10 seconds then you don't have fibrosis and therefore no infection. Picture of text in English describing the method.\n",
            "“Hydroxychloroquine cures this ‘virus.’ It just so happens this is the treatment used for radiation sickness!!”\n",
            " Senegalese doctor says chloroquine is the secret for a very low number of deaths by COVID-19 in Senegal.\n",
            "Medical report of Hospital General Universitario Santa Lucía de Cartagena (Murcia) from a person with possible coronavirus.\n",
            " The NBA is asking President Donald Trump to “resign or we’ll never play again.”\n",
            "Image of a critically ill COVID-19 infected woman hugging her child for the last time before her death\n",
            "“Every election year has a disease” -- SARS in 2004; avian flu in 2008; swine flu in 2010; MERS in 2012; Ebola in 2014 and 2018; Zika in 2016 and the coronavirus in 2020.\n",
            " Details of three coronavirus positive cases reported in Kothapet (Hyderabad India).\n",
            "All social media group admins are requested to close their groups for two days.\n",
            " João Doria governor of São Paulo caught COVID-19 while isolated. He also took a Chinese vaccine that is being tested in Brazil\n",
            "An Instagram post claims Microsoft founder Bill Gates said up to 700000 people could die from a COVID-19 vaccine.\n",
            "Priyanka Gandhi has started buses to help migrants travel during the COVID-19 lockdown.\n",
            "A claim was made that India found a cure to coronavirus\n",
            " Saddam Hussein talked about coronavirus to his cabinet and army in the nineties. He said that America has threatened him to spread this virus if he doesn't follow their command.\n",
            "A photo has been shared hundreds of times on Facebook and Twitter alongside a claim it shows a nurse apologising to a Muslim man after she blamed the Muslim community for spreading COVID-19 in India. The posts claim the nurse was forced to apologise by a local politician.\n",
            "A document that talks about the benefits of wine to prevent coronavirus.\n",
            "Pregnant women must undergo a caesarean section during the pandemic.\n",
            "“All U.S. citizens are entitled to $700 USD per week to stay at home to avoid the spread of COVID-19 novel coronavirus starting 3/17/20.”\n",
            " A picture with a quote attributed to Bill Gates stating: \"The vaccine won't be safe but let's get it out quickly anyway and worry about the consequences later\n",
            "Man visited Albany N.Y. days before dying from coronavirus.”\n",
            "A video (allegedly) of the Hospital das Clínicas São Paulo. It shows an empty waiting room. The person filming says that the government is lying when it says there are COVID-19 patients in the hospital.\n",
            "US state-owned media-services provider Nites TV is now free for everyone to encourage people to stay home.\n",
            " 31 coronavirus patients have recovered in Ghana.\n",
            "Claims that drinking boiled garlic water cures novel coronavirus.\n",
            "The total number of COVID-19 deaths decreased in Manaus Brazil from 150 to 2 after a visit from health minister Nelson Teich. This happened because he started to investigate fraudulent deaths.\n",
            " 30 cases of new coronavirus in the city of Barranquilla in Colombia.\n",
            "Mumbai city's municipal body asks people to drink boiled water as a remedy to coronavirus.\n",
            " Trump claims Speaker Nancy Pelosi deleted a tweet about her visit to Chinatown in February\n",
            " Some reporters visited the British Prime Minister Boris Johnson after he recovered from his illness. His home looks like an old abandoned military hut with very old brick walls. The living room was too small so brought out the tea tray for the reporters. All the cups are different. He met them with disheveled hair and casual clothes but with the confident smile of a Prime Minister\n",
            " The Bill and Melinda Gates Foundation headquarters is called the \"Centre for Global Human Population Reduction\".\n",
            "Doctors cannon lose their professional license for refusing to prescribe hydroxychloroquine.\n",
            "Mass disinfection of people using a chemical solution will eradicate COVID-19 .\n",
            " The image shows COVID-19 patients and the state of coronavirus isolation ward in Pakistan.\n",
            "A viral image of a doctor who died from treating patients with coronavirus at the Llano de Corrientes Hospital Argentina.\n",
            "Fennel tea is a cure against the new coronavirus.\n",
            "Komal Mishra a staff nurse at a hospital in Pune India died while due to coronavirus.\n",
            " Tablik Jamaat Chief Maulana Saad: \"If 70000 people get coronavirus India will be destroyed. The country will be in our possession.\n",
            "I'm so happy that we’re able to do something very concrete that will help people” says Cynthia Ogden who leads a team at the National Health and Nutrition Examination Survey. The team turned their lab vehicles into mobile #COVID19 testing sites: https://t.co/JDbd7PMZ4z. https://t.co/B1pBH5j6ul\n",
            "A statewide survey of Indiana residents in late April estimated that #COVID19 infections were 10 times that of reported cases which is in line with previous antibody studies. Learn more in @CDCMMWR: https://t.co/wsN4MvDIKk. https://t.co/4bcpBPulRN\n",
            "Late April/early May antibody tests from some Atlanta households showed most residents had not been infected with #COVID19. Black residents had higher rates of past infection highlighting the need to address racial &amp; ethnic health inequities. Learn more: https://t.co/LXO2LpafJq. https://t.co/liNvsdrkQ8\n",
            "Parents: Help your grad stay healthy no matter where life takes them. Whether it’s finding a doctor scheduling checkups filling prescriptions or handling emergencies use these tips to help them make their health a priority. https://t.co/t52MyNZwPk #ClassOf2020 https://t.co/7juvWI9U1d\n",
            "New report: Based on a study of the number of people with SARS-CoV-2 antibodies in 10 U.S. metro areas in spring 2020 the estimated number of #COVID19 cases in 7 of the 10 areas studied was 10x higher than the number of reported cases. Read more: https://t.co/fz4OgRsHjI. https://t.co/pwYazN2Iq1\n",
            "Wearing a cloth face covering correctly can help prevent the spread of #COVID19 to others. When you go out on essential trips follow these “do’s”. If you have a child remember those under age 2 should not wear a face covering. See https://t.co/lxWMe4NUBD. https://t.co/tIDUpq6mBO\n",
            "Public health professionals and students: Join us live on Facebook today at 1pm ET for #CDCGrandRounds to hear acute flaccid myelitis (AFM) experts discuss clinical presentation treatment rehabilitation and prevention research updates. https://t.co/uD0xXEe4PR https://t.co/9EjyNX7S13\n",
            "RT @CDC_HIVAIDS: CDC's COVID-19 and HIV\" webpage is updated as new facts and resources become available. Visit today to learn how people w…\n"
          ]
        }
      ]
    },
    {
      "cell_type": "markdown",
      "metadata": {
        "id": "Rqq9KXduQk7d"
      },
      "source": [
        "We will remove the outlier articles."
      ]
    },
    {
      "cell_type": "code",
      "metadata": {
        "id": "LUs-DGUIH2wn"
      },
      "source": [
        "df = df[df['length'] < 150]"
      ],
      "execution_count": 24,
      "outputs": []
    },
    {
      "cell_type": "code",
      "metadata": {
        "colab": {
          "base_uri": "https://localhost:8080/",
          "height": 394
        },
        "id": "1s5lVpyQYpiq",
        "outputId": "a5b956b9-0606-4ea2-ecb3-8a3331a4a9ce"
      },
      "source": [
        "#plt.scatter(df.index,df['length'])\n",
        "plt.hist(df['length'],bins=500)\n",
        "plt.gca().set(title='Frequency Histogram of Article Length', ylabel='Frequency', xlabel='Length')\n",
        "plt.xlim(0,200)\n"
      ],
      "execution_count": 25,
      "outputs": [
        {
          "output_type": "execute_result",
          "data": {
            "text/plain": [
              "(0.0, 200.0)"
            ]
          },
          "metadata": {},
          "execution_count": 25
        },
        {
          "output_type": "display_data",
          "data": {
            "image/png": "[encoded data removed]",
            "text/plain": [
              "<Figure size 576x396 with 1 Axes>"
            ]
          },
          "metadata": {}
        }
      ]
    },
    {
      "cell_type": "markdown",
      "metadata": {
        "id": "E1qidKJlUzjK"
      },
      "source": [
        "## Text Cleaning\n",
        "\n",
        "- Transform to lowercase\n",
        "- Remove trailing white spaces\n",
        "- Remove stopwords\n",
        "- Stem and lemmatize words to root form"
      ]
    },
    {
      "cell_type": "code",
      "metadata": {
        "id": "GsMTFdIoUnxO"
      },
      "source": [
        "TEXT_CLEANING_RE = \"https?:\\S+|http?:\\S|[^A-Za-z0-9]+\"\n",
        "\n",
        "def preprocess(text):\n",
        "    text = re.sub(TEXT_CLEANING_RE, ' ', str(text).lower()).strip()\n",
        "    tokens = []\n",
        "    for token in text.split():\n",
        "        if token not in stop_words:\n",
        "            tokens.append(lemmer.lemmatize(stemmer.stem(token)))\n",
        "    return \" \".join(tokens)"
      ],
      "execution_count": 26,
      "outputs": []
    },
    {
      "cell_type": "code",
      "metadata": {
        "id": "uT6Tti6KUtgW"
      },
      "source": [
        "df.tweet = df.tweet.apply(lambda x:preprocess(x))"
      ],
      "execution_count": 27,
      "outputs": []
    },
    {
      "cell_type": "code",
      "metadata": {
        "colab": {
          "base_uri": "https://localhost:8080/"
        },
        "id": "cw_1oPi-UyzI",
        "outputId": "ab81adb9-9ec3-45f8-a117-c8a4d1cc0adf"
      },
      "source": [
        "print(df.tweet.sample(15).values)"
      ],
      "execution_count": 28,
      "outputs": [
        {
          "output_type": "stream",
          "name": "stdout",
          "text": [
            "['herd immun strategi uneth unlik success uk warn scientist long covid suffer call recognit'\n",
            " 'first night republican nation convent roundup recent claim realdonaldtrump republican covid 19 economi'\n",
            " '338 new case covid19 177 lago 64 kano 21 fct 16 river 14 plateau 11 oyo 9 katsina 4 jigawa 4 kaduna 3 abia 3 bauchi 3 borno 2 gomb 2 akwa ibom 2 delta 1 ondo 1 kebbi 1 sokoto 5959 case covid19 nigeria discharg 1594 death 182'\n",
            " 'covid 19 updat four addit probabl case covid 19 link new outbreak auckland one new case manag isol four probabl case await test result full isol'\n",
            " 'acc peopl wear facemask exercis sweat make mask wet damp may reduc abil breath comfort exercis outsid kind maintain distanc 2m el may workout home covid19 covid 19 covid 19'\n",
            " 'presid done job done job begin peopl would still aliv peopl make look data'\n",
            " 'coronavirus may spread due consumpt bat soup accord scientist'\n",
            " 'ground report arvindkejriw ji plea tell u suffer delhi delhifightscorona arvindkejriw'\n",
            " 'lock 4pm updat talli 1700 new case 778 cumul last tuesday dataset complex make sure use respons need know'\n",
            " 'presid xi jinp visit masjid pray coronavirus victim'\n",
            " 'pmoindia drharshvardhan ashwinikchoubey pib india covidindiaseva covidnewsbymib ddnewsliv airnewsalert indiafightscorona recoveri rate race beyond 72 total recoveri soon cross 2 million'\n",
            " 'one person stab protest govern neighbourhood moratalaz madrid'\n",
            " 'nobodi found dead corona home die hospit'\n",
            " 'video view thousand time facebook twitter instagram youtub march 2020 alongsid claim show polic spain detain peopl lockdown due coronavirus pandem'\n",
            " 'late protest continu flare night portland politifact see lot claim black live matter protest antifa anarchist covid 19 spreader marxist']\n"
          ]
        }
      ]
    },
    {
      "cell_type": "markdown",
      "metadata": {
        "id": "bziu5CkWU-Hl"
      },
      "source": [
        "## Train Test Split"
      ]
    },
    {
      "cell_type": "code",
      "metadata": {
        "colab": {
          "base_uri": "https://localhost:8080/"
        },
        "id": "uDsp3eBWVAmO",
        "outputId": "ed01bcf0-c5f8-408e-9620-f01cbc3c14e8"
      },
      "source": [
        "df_train, df_test = train_test_split(df, test_size=1-TRAIN_SIZE, random_state=RANDOM_STATE)\n",
        "print(\"TRAIN size: \", len(df_train))\n",
        "print(\"TEST size: \", len(df_test))"
      ],
      "execution_count": 29,
      "outputs": [
        {
          "output_type": "stream",
          "name": "stdout",
          "text": [
            "TRAIN size:  6844\n",
            "TEST size:  1712\n"
          ]
        }
      ]
    },
    {
      "cell_type": "code",
      "metadata": {
        "colab": {
          "base_uri": "https://localhost:8080/",
          "height": 204
        },
        "id": "jsfhv7dxVDER",
        "outputId": "717b3bd2-70ae-4485-aa42-2a9692040b08"
      },
      "source": [
        "df_train.head()"
      ],
      "execution_count": 30,
      "outputs": [
        {
          "output_type": "execute_result",
          "data": {
            "text/html": [
              "<div>\n",
              "<style scoped>\n",
              "    .dataframe tbody tr th:only-of-type {\n",
              "        vertical-align: middle;\n",
              "    }\n",
              "\n",
              "    .dataframe tbody tr th {\n",
              "        vertical-align: top;\n",
              "    }\n",
              "\n",
              "    .dataframe thead th {\n",
              "        text-align: right;\n",
              "    }\n",
              "</style>\n",
              "<table border=\"1\" class=\"dataframe\">\n",
              "  <thead>\n",
              "    <tr style=\"text-align: right;\">\n",
              "      <th></th>\n",
              "      <th>index</th>\n",
              "      <th>tweet</th>\n",
              "      <th>label</th>\n",
              "      <th>length</th>\n",
              "    </tr>\n",
              "  </thead>\n",
              "  <tbody>\n",
              "    <tr>\n",
              "      <th>625</th>\n",
              "      <td>625</td>\n",
              "      <td>nasser ziberi test posit covid 19</td>\n",
              "      <td>fake</td>\n",
              "      <td>6</td>\n",
              "    </tr>\n",
              "    <tr>\n",
              "      <th>5520</th>\n",
              "      <td>5520</td>\n",
              "      <td>protect mask five time expens french tobacconi...</td>\n",
              "      <td>fake</td>\n",
              "      <td>15</td>\n",
              "    </tr>\n",
              "    <tr>\n",
              "      <th>3948</th>\n",
              "      <td>3948</td>\n",
              "      <td>captshaktilumba jabalpursafeti free67847229 as...</td>\n",
              "      <td>fake</td>\n",
              "      <td>59</td>\n",
              "    </tr>\n",
              "    <tr>\n",
              "      <th>6996</th>\n",
              "      <td>576</td>\n",
              "      <td>say wisconsin person elect caus surg new coron...</td>\n",
              "      <td>fake</td>\n",
              "      <td>12</td>\n",
              "    </tr>\n",
              "    <tr>\n",
              "      <th>5815</th>\n",
              "      <td>5815</td>\n",
              "      <td>drink pigeon membran slurri cure covid 19</td>\n",
              "      <td>fake</td>\n",
              "      <td>7</td>\n",
              "    </tr>\n",
              "  </tbody>\n",
              "</table>\n",
              "</div>"
            ],
            "text/plain": [
              "      index                                              tweet label  length\n",
              "625     625                  nasser ziberi test posit covid 19  fake       6\n",
              "5520   5520  protect mask five time expens french tobacconi...  fake      15\n",
              "3948   3948  captshaktilumba jabalpursafeti free67847229 as...  fake      59\n",
              "6996    576  say wisconsin person elect caus surg new coron...  fake      12\n",
              "5815   5815          drink pigeon membran slurri cure covid 19  fake       7"
            ]
          },
          "metadata": {},
          "execution_count": 30
        }
      ]
    },
    {
      "cell_type": "markdown",
      "metadata": {
        "id": "4FBxOkeRVFfw"
      },
      "source": [
        "## Word2Vec Model\n",
        "\n",
        "### Building Document"
      ]
    },
    {
      "cell_type": "code",
      "metadata": {
        "id": "zFw_etGWVHqm"
      },
      "source": [
        "documents = [tweet.split() for tweet in df_train.tweet]\n"
      ],
      "execution_count": 31,
      "outputs": []
    },
    {
      "cell_type": "markdown",
      "metadata": {
        "id": "uJ8Pw4-3VwDw"
      },
      "source": [
        "### Initialising word2vec model with hyperparameters"
      ]
    },
    {
      "cell_type": "code",
      "metadata": {
        "id": "Oz_W9PpkVKFn"
      },
      "source": [
        "w2v_model = gensim.models.word2vec.Word2Vec(size=W2V_SIZE, \n",
        "                                            window=W2V_WINDOW, \n",
        "                                            min_count=W2V_MIN_COUNT, \n",
        "                                            workers=8)\n",
        "\n",
        "# For newer version of word2vec\n",
        "# w2v_model = gensim.models.word2vec.Word2Vec(vector_size=W2V_SIZE, \n",
        "#                                             window=W2V_WINDOW, \n",
        "#                                             min_count=W2V_MIN_COUNT, \n",
        "#                                             workers=8)"
      ],
      "execution_count": 32,
      "outputs": []
    },
    {
      "cell_type": "markdown",
      "metadata": {
        "id": "5cgfdmWOV1Bm"
      },
      "source": [
        "### Building Vocab"
      ]
    },
    {
      "cell_type": "code",
      "metadata": {
        "id": "Tk-3f_E1Vq_Y"
      },
      "source": [
        "w2v_model.build_vocab(documents)\n"
      ],
      "execution_count": 33,
      "outputs": []
    },
    {
      "cell_type": "markdown",
      "metadata": {
        "id": "5_3mQCluV30G"
      },
      "source": [
        "### Training word2vec model"
      ]
    },
    {
      "cell_type": "code",
      "metadata": {
        "colab": {
          "base_uri": "https://localhost:8080/"
        },
        "id": "nuHjdJ_iVsg2",
        "outputId": "00409070-04b3-4dbf-c34e-ec07bb1dee5c"
      },
      "source": [
        "w2v_model.train(documents, total_examples=len(documents), epochs=W2V_EPOCH)\n"
      ],
      "execution_count": 34,
      "outputs": [
        {
          "output_type": "execute_result",
          "data": {
            "text/plain": [
              "(2663990, 3787264)"
            ]
          },
          "metadata": {},
          "execution_count": 34
        }
      ]
    },
    {
      "cell_type": "code",
      "metadata": {
        "colab": {
          "base_uri": "https://localhost:8080/"
        },
        "id": "aJnGWnSyV_EL",
        "outputId": "63744663-15ef-4785-8cfe-94af5d9a6e7e"
      },
      "source": [
        "w2v_model.wv.most_similar(\"covid\")\n"
      ],
      "execution_count": 35,
      "outputs": [
        {
          "output_type": "execute_result",
          "data": {
            "text/plain": [
              "[('coronaupd', 0.3602452874183655),\n",
              " ('drhvoffic', 0.31854698061943054),\n",
              " ('admit', 0.29741328954696655),\n",
              " ('acquir', 0.2968937158584595),\n",
              " ('covidupd', 0.29525259137153625),\n",
              " ('coronavirusindia', 0.2921895384788513),\n",
              " ('unknown', 0.2703617811203003),\n",
              " ('main', 0.2661912143230438),\n",
              " ('paulo', 0.2659401297569275),\n",
              " ('link', 0.2657371759414673)]"
            ]
          },
          "metadata": {},
          "execution_count": 35
        }
      ]
    },
    {
      "cell_type": "markdown",
      "metadata": {
        "id": "XzsWqOdeWaFo"
      },
      "source": [
        "## Tokenize Text"
      ]
    },
    {
      "cell_type": "code",
      "metadata": {
        "colab": {
          "base_uri": "https://localhost:8080/"
        },
        "id": "5GYBPLCBWeM7",
        "outputId": "c2e0f718-f215-41b7-ff5b-a5e2b90e298c"
      },
      "source": [
        "tokenizer = Tokenizer()\n",
        "tokenizer.fit_on_texts(df_train.tweet)\n",
        "\n",
        "vocab_size = len(tokenizer.word_index) + 1\n",
        "print(\"Total unique words\", vocab_size)"
      ],
      "execution_count": 36,
      "outputs": [
        {
          "output_type": "stream",
          "name": "stdout",
          "text": [
            "Total unique words 11088\n"
          ]
        }
      ]
    },
    {
      "cell_type": "markdown",
      "metadata": {
        "id": "w_lbEts6bDF4"
      },
      "source": [
        "Previewing top 50 words"
      ]
    },
    {
      "cell_type": "code",
      "metadata": {
        "colab": {
          "base_uri": "https://localhost:8080/",
          "height": 111
        },
        "id": "LyzmKtRrarLl",
        "outputId": "a731234c-3b59-48af-800c-8b649257d47a"
      },
      "source": [
        "token_count = dict(tokenizer.word_counts)\n",
        "token_count_df = pd.DataFrame(dict(sorted(token_count.items(), key=lambda item: item[1], reverse=True)),index=[\"Count\"]).T\n",
        "token_count_df.head(2)"
      ],
      "execution_count": 37,
      "outputs": [
        {
          "output_type": "execute_result",
          "data": {
            "text/html": [
              "<div>\n",
              "<style scoped>\n",
              "    .dataframe tbody tr th:only-of-type {\n",
              "        vertical-align: middle;\n",
              "    }\n",
              "\n",
              "    .dataframe tbody tr th {\n",
              "        vertical-align: top;\n",
              "    }\n",
              "\n",
              "    .dataframe thead th {\n",
              "        text-align: right;\n",
              "    }\n",
              "</style>\n",
              "<table border=\"1\" class=\"dataframe\">\n",
              "  <thead>\n",
              "    <tr style=\"text-align: right;\">\n",
              "      <th></th>\n",
              "      <th>Count</th>\n",
              "    </tr>\n",
              "  </thead>\n",
              "  <tbody>\n",
              "    <tr>\n",
              "      <th>covid</th>\n",
              "      <td>2538</td>\n",
              "    </tr>\n",
              "    <tr>\n",
              "      <th>case</th>\n",
              "      <td>2176</td>\n",
              "    </tr>\n",
              "  </tbody>\n",
              "</table>\n",
              "</div>"
            ],
            "text/plain": [
              "       Count\n",
              "covid   2538\n",
              "case    2176"
            ]
          },
          "metadata": {},
          "execution_count": 37
        }
      ]
    },
    {
      "cell_type": "markdown",
      "metadata": {
        "id": "BKID-YqjWxRd"
      },
      "source": [
        "### Converting text to sequence of integers"
      ]
    },
    {
      "cell_type": "code",
      "metadata": {
        "id": "jvhI_XhOWk0v"
      },
      "source": [
        "x_train_word2vec = tokenizer.texts_to_sequences(df_train.tweet)\n",
        "x_test_word2vec = tokenizer.texts_to_sequences(df_test.tweet)"
      ],
      "execution_count": 38,
      "outputs": []
    },
    {
      "cell_type": "markdown",
      "metadata": {
        "id": "x38FS456XOJb"
      },
      "source": [
        "## Padding"
      ]
    },
    {
      "cell_type": "code",
      "metadata": {
        "id": "YKm5Zhx4W3KW"
      },
      "source": [
        "x_train_word2vec  = pad_sequences(x_train_word2vec , maxlen=SEQUENCE_LENGTH)\n",
        "x_test_word2vec  = pad_sequences(x_test_word2vec , maxlen=SEQUENCE_LENGTH)"
      ],
      "execution_count": 39,
      "outputs": []
    },
    {
      "cell_type": "markdown",
      "metadata": {
        "id": "TQKb5HOebHMh"
      },
      "source": [
        "## Label Encoding"
      ]
    },
    {
      "cell_type": "code",
      "metadata": {
        "colab": {
          "base_uri": "https://localhost:8080/"
        },
        "id": "Z2xCsBBubJgw",
        "outputId": "e47d9567-d5cd-41fa-f9ba-61999fa7dc5f"
      },
      "source": [
        "labels = df_train.label.unique().tolist()\n",
        "labels"
      ],
      "execution_count": 40,
      "outputs": [
        {
          "output_type": "execute_result",
          "data": {
            "text/plain": [
              "['fake', 'real']"
            ]
          },
          "metadata": {},
          "execution_count": 40
        }
      ]
    },
    {
      "cell_type": "code",
      "metadata": {
        "id": "Wty4N4EebLcE"
      },
      "source": [
        "encoder = LabelEncoder()\n",
        "encoder.fit(df_train.label.tolist())\n",
        "\n",
        "y_train_word2vec  = encoder.transform(df_train.label.tolist())\n",
        "y_test_word2vec  = encoder.transform(df_test.label.tolist())\n",
        "\n",
        "y_train_word2vec  = y_train_word2vec .reshape(-1,1)\n",
        "y_test_word2vec  = y_test_word2vec .reshape(-1,1)\n"
      ],
      "execution_count": 41,
      "outputs": []
    },
    {
      "cell_type": "code",
      "metadata": {
        "colab": {
          "base_uri": "https://localhost:8080/"
        },
        "id": "eC3OEWg_bPkT",
        "outputId": "c4a5db11-9754-4ae8-e026-e5b2636b10cf"
      },
      "source": [
        "print(\"x_train\", x_train_word2vec .shape)\n",
        "print(\"y_train\", y_train_word2vec .shape)\n",
        "\n",
        "print(\"x_test\", x_test_word2vec .shape)\n",
        "print(\"y_test\", y_test_word2vec .shape)"
      ],
      "execution_count": 42,
      "outputs": [
        {
          "output_type": "stream",
          "name": "stdout",
          "text": [
            "x_train (6844, 300)\n",
            "y_train (6844, 1)\n",
            "x_test (1712, 300)\n",
            "y_test (1712, 1)\n"
          ]
        }
      ]
    },
    {
      "cell_type": "markdown",
      "metadata": {
        "id": "6TI3EzjybRN7"
      },
      "source": [
        "## Embedding Matrix"
      ]
    },
    {
      "cell_type": "code",
      "metadata": {
        "colab": {
          "base_uri": "https://localhost:8080/"
        },
        "id": "vh4jf2g0hQJD",
        "outputId": "c4acb112-ef24-4ca8-d1e3-86497efdd253"
      },
      "source": [
        "embedding_matrix = np.zeros((vocab_size, W2V_SIZE))\n",
        "embedding_matrix"
      ],
      "execution_count": 43,
      "outputs": [
        {
          "output_type": "execute_result",
          "data": {
            "text/plain": [
              "array([[0., 0., 0., ..., 0., 0., 0.],\n",
              "       [0., 0., 0., ..., 0., 0., 0.],\n",
              "       [0., 0., 0., ..., 0., 0., 0.],\n",
              "       ...,\n",
              "       [0., 0., 0., ..., 0., 0., 0.],\n",
              "       [0., 0., 0., ..., 0., 0., 0.],\n",
              "       [0., 0., 0., ..., 0., 0., 0.]])"
            ]
          },
          "metadata": {},
          "execution_count": 43
        }
      ]
    },
    {
      "cell_type": "markdown",
      "metadata": {
        "id": "NZKbT2OebaAT"
      },
      "source": [
        "Weights for embedding layer"
      ]
    },
    {
      "cell_type": "code",
      "metadata": {
        "colab": {
          "base_uri": "https://localhost:8080/"
        },
        "id": "C2Eu3tUqbTAM",
        "outputId": "948a5966-ce9c-418e-8241-e493ea464806"
      },
      "source": [
        "for word, i in tokenizer.word_index.items():\n",
        "  if word in w2v_model.wv:\n",
        "    embedding_matrix[i] = w2v_model.wv[word]\n",
        "print(embedding_matrix.shape)"
      ],
      "execution_count": 44,
      "outputs": [
        {
          "output_type": "stream",
          "name": "stdout",
          "text": [
            "(11088, 300)\n"
          ]
        }
      ]
    },
    {
      "cell_type": "markdown",
      "metadata": {
        "id": "N_q8JkbWgKol"
      },
      "source": [
        "## TF-IDF Vectorisation"
      ]
    },
    {
      "cell_type": "code",
      "metadata": {
        "id": "wwSv9CZRDHRZ"
      },
      "source": [
        "documents = [tweet.split() for tweet in df_train.tweet]"
      ],
      "execution_count": 45,
      "outputs": []
    },
    {
      "cell_type": "code",
      "metadata": {
        "colab": {
          "base_uri": "https://localhost:8080/",
          "height": 439
        },
        "id": "-cf3wM8hDuBc",
        "outputId": "aebc65c5-87c7-46a7-db69-07b8a5cdc343"
      },
      "source": [
        "from sklearn.feature_extraction.text import TfidfVectorizer\n",
        "tfidf_vectorizer = TfidfVectorizer()\n",
        "x_train_tfidf = tfidf_vectorizer.fit_transform(df_train.tweet)\n",
        "x_test_tfidf = tfidf_vectorizer.transform(df_test.tweet)\n",
        "\n",
        "df_tfidf_sklearn = pd.DataFrame(x_train_tfidf.toarray(),columns=tfidf_vectorizer.get_feature_names())\n",
        "df_tfidf_sklearn.sort_index().round(decimals=5)\n",
        "df_tfidf_sklearn "
      ],
      "execution_count": 46,
      "outputs": [
        {
          "output_type": "execute_result",
          "data": {
            "text/html": [
              "<div>\n",
              "<style scoped>\n",
              "    .dataframe tbody tr th:only-of-type {\n",
              "        vertical-align: middle;\n",
              "    }\n",
              "\n",
              "    .dataframe tbody tr th {\n",
              "        vertical-align: top;\n",
              "    }\n",
              "\n",
              "    .dataframe thead th {\n",
              "        text-align: right;\n",
              "    }\n",
              "</style>\n",
              "<table border=\"1\" class=\"dataframe\">\n",
              "  <thead>\n",
              "    <tr style=\"text-align: right;\">\n",
              "      <th></th>\n",
              "      <th>00</th>\n",
              "      <th>000</th>\n",
              "      <th>006</th>\n",
              "      <th>00ice</th>\n",
              "      <th>00pm</th>\n",
              "      <th>01</th>\n",
              "      <th>011</th>\n",
              "      <th>0141</th>\n",
              "      <th>02</th>\n",
              "      <th>03</th>\n",
              "      <th>033</th>\n",
              "      <th>04</th>\n",
              "      <th>04051952n</th>\n",
              "      <th>041461636</th>\n",
              "      <th>047738491</th>\n",
              "      <th>05</th>\n",
              "      <th>054</th>\n",
              "      <th>056260928</th>\n",
              "      <th>05am</th>\n",
              "      <th>06</th>\n",
              "      <th>062454254</th>\n",
              "      <th>063661060</th>\n",
              "      <th>07</th>\n",
              "      <th>0710</th>\n",
              "      <th>0730</th>\n",
              "      <th>08</th>\n",
              "      <th>0800</th>\n",
              "      <th>0818</th>\n",
              "      <th>0881911</th>\n",
              "      <th>09</th>\n",
              "      <th>0940</th>\n",
              "      <th>10</th>\n",
              "      <th>100</th>\n",
              "      <th>1000</th>\n",
              "      <th>10000</th>\n",
              "      <th>100000</th>\n",
              "      <th>10001</th>\n",
              "      <th>100046</th>\n",
              "      <th>1000frolli</th>\n",
              "      <th>1000th</th>\n",
              "      <th>...</th>\n",
              "      <th>yr</th>\n",
              "      <th>yumzer</th>\n",
              "      <th>yup</th>\n",
              "      <th>yvonn</th>\n",
              "      <th>ywoga</th>\n",
              "      <th>zacbissonnett</th>\n",
              "      <th>zack</th>\n",
              "      <th>zambal</th>\n",
              "      <th>zambia</th>\n",
              "      <th>zamfara</th>\n",
              "      <th>zaria</th>\n",
              "      <th>zealand</th>\n",
              "      <th>zedwar</th>\n",
              "      <th>zee</th>\n",
              "      <th>zeenew</th>\n",
              "      <th>zekiri</th>\n",
              "      <th>zero</th>\n",
              "      <th>zev</th>\n",
              "      <th>zhangzhan</th>\n",
              "      <th>zhoushan</th>\n",
              "      <th>ziberi</th>\n",
              "      <th>zika</th>\n",
              "      <th>zillionair</th>\n",
              "      <th>zinc</th>\n",
              "      <th>zino</th>\n",
              "      <th>ziplock</th>\n",
              "      <th>zithromax</th>\n",
              "      <th>zomato</th>\n",
              "      <th>zombi</th>\n",
              "      <th>zone</th>\n",
              "      <th>zoo</th>\n",
              "      <th>zoodirector</th>\n",
              "      <th>zookeep</th>\n",
              "      <th>zoolog</th>\n",
              "      <th>zoom</th>\n",
              "      <th>zoonot</th>\n",
              "      <th>zuckoff</th>\n",
              "      <th>zurich</th>\n",
              "      <th>zydus</th>\n",
              "      <th>zyphr</th>\n",
              "    </tr>\n",
              "  </thead>\n",
              "  <tbody>\n",
              "    <tr>\n",
              "      <th>0</th>\n",
              "      <td>0.0</td>\n",
              "      <td>0.0</td>\n",
              "      <td>0.0</td>\n",
              "      <td>0.0</td>\n",
              "      <td>0.0</td>\n",
              "      <td>0.0</td>\n",
              "      <td>0.0</td>\n",
              "      <td>0.0</td>\n",
              "      <td>0.0</td>\n",
              "      <td>0.0</td>\n",
              "      <td>0.0</td>\n",
              "      <td>0.0</td>\n",
              "      <td>0.0</td>\n",
              "      <td>0.0</td>\n",
              "      <td>0.0</td>\n",
              "      <td>0.0</td>\n",
              "      <td>0.0</td>\n",
              "      <td>0.0</td>\n",
              "      <td>0.0</td>\n",
              "      <td>0.0</td>\n",
              "      <td>0.0</td>\n",
              "      <td>0.0</td>\n",
              "      <td>0.0</td>\n",
              "      <td>0.0</td>\n",
              "      <td>0.0</td>\n",
              "      <td>0.0</td>\n",
              "      <td>0.0</td>\n",
              "      <td>0.0</td>\n",
              "      <td>0.0</td>\n",
              "      <td>0.0</td>\n",
              "      <td>0.0</td>\n",
              "      <td>0.0</td>\n",
              "      <td>0.0</td>\n",
              "      <td>0.0</td>\n",
              "      <td>0.0</td>\n",
              "      <td>0.0</td>\n",
              "      <td>0.0</td>\n",
              "      <td>0.0</td>\n",
              "      <td>0.0</td>\n",
              "      <td>0.0</td>\n",
              "      <td>...</td>\n",
              "      <td>0.0</td>\n",
              "      <td>0.0</td>\n",
              "      <td>0.0</td>\n",
              "      <td>0.0</td>\n",
              "      <td>0.0</td>\n",
              "      <td>0.0</td>\n",
              "      <td>0.0</td>\n",
              "      <td>0.0</td>\n",
              "      <td>0.0</td>\n",
              "      <td>0.0</td>\n",
              "      <td>0.0</td>\n",
              "      <td>0.0</td>\n",
              "      <td>0.0</td>\n",
              "      <td>0.0</td>\n",
              "      <td>0.0</td>\n",
              "      <td>0.0</td>\n",
              "      <td>0.0</td>\n",
              "      <td>0.0</td>\n",
              "      <td>0.0</td>\n",
              "      <td>0.0</td>\n",
              "      <td>0.644215</td>\n",
              "      <td>0.0</td>\n",
              "      <td>0.0</td>\n",
              "      <td>0.0</td>\n",
              "      <td>0.0</td>\n",
              "      <td>0.0</td>\n",
              "      <td>0.0</td>\n",
              "      <td>0.0</td>\n",
              "      <td>0.0</td>\n",
              "      <td>0.0</td>\n",
              "      <td>0.0</td>\n",
              "      <td>0.0</td>\n",
              "      <td>0.0</td>\n",
              "      <td>0.0</td>\n",
              "      <td>0.0</td>\n",
              "      <td>0.0</td>\n",
              "      <td>0.0</td>\n",
              "      <td>0.0</td>\n",
              "      <td>0.0</td>\n",
              "      <td>0.0</td>\n",
              "    </tr>\n",
              "    <tr>\n",
              "      <th>1</th>\n",
              "      <td>0.0</td>\n",
              "      <td>0.0</td>\n",
              "      <td>0.0</td>\n",
              "      <td>0.0</td>\n",
              "      <td>0.0</td>\n",
              "      <td>0.0</td>\n",
              "      <td>0.0</td>\n",
              "      <td>0.0</td>\n",
              "      <td>0.0</td>\n",
              "      <td>0.0</td>\n",
              "      <td>0.0</td>\n",
              "      <td>0.0</td>\n",
              "      <td>0.0</td>\n",
              "      <td>0.0</td>\n",
              "      <td>0.0</td>\n",
              "      <td>0.0</td>\n",
              "      <td>0.0</td>\n",
              "      <td>0.0</td>\n",
              "      <td>0.0</td>\n",
              "      <td>0.0</td>\n",
              "      <td>0.0</td>\n",
              "      <td>0.0</td>\n",
              "      <td>0.0</td>\n",
              "      <td>0.0</td>\n",
              "      <td>0.0</td>\n",
              "      <td>0.0</td>\n",
              "      <td>0.0</td>\n",
              "      <td>0.0</td>\n",
              "      <td>0.0</td>\n",
              "      <td>0.0</td>\n",
              "      <td>0.0</td>\n",
              "      <td>0.0</td>\n",
              "      <td>0.0</td>\n",
              "      <td>0.0</td>\n",
              "      <td>0.0</td>\n",
              "      <td>0.0</td>\n",
              "      <td>0.0</td>\n",
              "      <td>0.0</td>\n",
              "      <td>0.0</td>\n",
              "      <td>0.0</td>\n",
              "      <td>...</td>\n",
              "      <td>0.0</td>\n",
              "      <td>0.0</td>\n",
              "      <td>0.0</td>\n",
              "      <td>0.0</td>\n",
              "      <td>0.0</td>\n",
              "      <td>0.0</td>\n",
              "      <td>0.0</td>\n",
              "      <td>0.0</td>\n",
              "      <td>0.0</td>\n",
              "      <td>0.0</td>\n",
              "      <td>0.0</td>\n",
              "      <td>0.0</td>\n",
              "      <td>0.0</td>\n",
              "      <td>0.0</td>\n",
              "      <td>0.0</td>\n",
              "      <td>0.0</td>\n",
              "      <td>0.0</td>\n",
              "      <td>0.0</td>\n",
              "      <td>0.0</td>\n",
              "      <td>0.0</td>\n",
              "      <td>0.000000</td>\n",
              "      <td>0.0</td>\n",
              "      <td>0.0</td>\n",
              "      <td>0.0</td>\n",
              "      <td>0.0</td>\n",
              "      <td>0.0</td>\n",
              "      <td>0.0</td>\n",
              "      <td>0.0</td>\n",
              "      <td>0.0</td>\n",
              "      <td>0.0</td>\n",
              "      <td>0.0</td>\n",
              "      <td>0.0</td>\n",
              "      <td>0.0</td>\n",
              "      <td>0.0</td>\n",
              "      <td>0.0</td>\n",
              "      <td>0.0</td>\n",
              "      <td>0.0</td>\n",
              "      <td>0.0</td>\n",
              "      <td>0.0</td>\n",
              "      <td>0.0</td>\n",
              "    </tr>\n",
              "    <tr>\n",
              "      <th>2</th>\n",
              "      <td>0.0</td>\n",
              "      <td>0.0</td>\n",
              "      <td>0.0</td>\n",
              "      <td>0.0</td>\n",
              "      <td>0.0</td>\n",
              "      <td>0.0</td>\n",
              "      <td>0.0</td>\n",
              "      <td>0.0</td>\n",
              "      <td>0.0</td>\n",
              "      <td>0.0</td>\n",
              "      <td>0.0</td>\n",
              "      <td>0.0</td>\n",
              "      <td>0.0</td>\n",
              "      <td>0.0</td>\n",
              "      <td>0.0</td>\n",
              "      <td>0.0</td>\n",
              "      <td>0.0</td>\n",
              "      <td>0.0</td>\n",
              "      <td>0.0</td>\n",
              "      <td>0.0</td>\n",
              "      <td>0.0</td>\n",
              "      <td>0.0</td>\n",
              "      <td>0.0</td>\n",
              "      <td>0.0</td>\n",
              "      <td>0.0</td>\n",
              "      <td>0.0</td>\n",
              "      <td>0.0</td>\n",
              "      <td>0.0</td>\n",
              "      <td>0.0</td>\n",
              "      <td>0.0</td>\n",
              "      <td>0.0</td>\n",
              "      <td>0.0</td>\n",
              "      <td>0.0</td>\n",
              "      <td>0.0</td>\n",
              "      <td>0.0</td>\n",
              "      <td>0.0</td>\n",
              "      <td>0.0</td>\n",
              "      <td>0.0</td>\n",
              "      <td>0.0</td>\n",
              "      <td>0.0</td>\n",
              "      <td>...</td>\n",
              "      <td>0.0</td>\n",
              "      <td>0.0</td>\n",
              "      <td>0.0</td>\n",
              "      <td>0.0</td>\n",
              "      <td>0.0</td>\n",
              "      <td>0.0</td>\n",
              "      <td>0.0</td>\n",
              "      <td>0.0</td>\n",
              "      <td>0.0</td>\n",
              "      <td>0.0</td>\n",
              "      <td>0.0</td>\n",
              "      <td>0.0</td>\n",
              "      <td>0.0</td>\n",
              "      <td>0.0</td>\n",
              "      <td>0.0</td>\n",
              "      <td>0.0</td>\n",
              "      <td>0.0</td>\n",
              "      <td>0.0</td>\n",
              "      <td>0.0</td>\n",
              "      <td>0.0</td>\n",
              "      <td>0.000000</td>\n",
              "      <td>0.0</td>\n",
              "      <td>0.0</td>\n",
              "      <td>0.0</td>\n",
              "      <td>0.0</td>\n",
              "      <td>0.0</td>\n",
              "      <td>0.0</td>\n",
              "      <td>0.0</td>\n",
              "      <td>0.0</td>\n",
              "      <td>0.0</td>\n",
              "      <td>0.0</td>\n",
              "      <td>0.0</td>\n",
              "      <td>0.0</td>\n",
              "      <td>0.0</td>\n",
              "      <td>0.0</td>\n",
              "      <td>0.0</td>\n",
              "      <td>0.0</td>\n",
              "      <td>0.0</td>\n",
              "      <td>0.0</td>\n",
              "      <td>0.0</td>\n",
              "    </tr>\n",
              "    <tr>\n",
              "      <th>3</th>\n",
              "      <td>0.0</td>\n",
              "      <td>0.0</td>\n",
              "      <td>0.0</td>\n",
              "      <td>0.0</td>\n",
              "      <td>0.0</td>\n",
              "      <td>0.0</td>\n",
              "      <td>0.0</td>\n",
              "      <td>0.0</td>\n",
              "      <td>0.0</td>\n",
              "      <td>0.0</td>\n",
              "      <td>0.0</td>\n",
              "      <td>0.0</td>\n",
              "      <td>0.0</td>\n",
              "      <td>0.0</td>\n",
              "      <td>0.0</td>\n",
              "      <td>0.0</td>\n",
              "      <td>0.0</td>\n",
              "      <td>0.0</td>\n",
              "      <td>0.0</td>\n",
              "      <td>0.0</td>\n",
              "      <td>0.0</td>\n",
              "      <td>0.0</td>\n",
              "      <td>0.0</td>\n",
              "      <td>0.0</td>\n",
              "      <td>0.0</td>\n",
              "      <td>0.0</td>\n",
              "      <td>0.0</td>\n",
              "      <td>0.0</td>\n",
              "      <td>0.0</td>\n",
              "      <td>0.0</td>\n",
              "      <td>0.0</td>\n",
              "      <td>0.0</td>\n",
              "      <td>0.0</td>\n",
              "      <td>0.0</td>\n",
              "      <td>0.0</td>\n",
              "      <td>0.0</td>\n",
              "      <td>0.0</td>\n",
              "      <td>0.0</td>\n",
              "      <td>0.0</td>\n",
              "      <td>0.0</td>\n",
              "      <td>...</td>\n",
              "      <td>0.0</td>\n",
              "      <td>0.0</td>\n",
              "      <td>0.0</td>\n",
              "      <td>0.0</td>\n",
              "      <td>0.0</td>\n",
              "      <td>0.0</td>\n",
              "      <td>0.0</td>\n",
              "      <td>0.0</td>\n",
              "      <td>0.0</td>\n",
              "      <td>0.0</td>\n",
              "      <td>0.0</td>\n",
              "      <td>0.0</td>\n",
              "      <td>0.0</td>\n",
              "      <td>0.0</td>\n",
              "      <td>0.0</td>\n",
              "      <td>0.0</td>\n",
              "      <td>0.0</td>\n",
              "      <td>0.0</td>\n",
              "      <td>0.0</td>\n",
              "      <td>0.0</td>\n",
              "      <td>0.000000</td>\n",
              "      <td>0.0</td>\n",
              "      <td>0.0</td>\n",
              "      <td>0.0</td>\n",
              "      <td>0.0</td>\n",
              "      <td>0.0</td>\n",
              "      <td>0.0</td>\n",
              "      <td>0.0</td>\n",
              "      <td>0.0</td>\n",
              "      <td>0.0</td>\n",
              "      <td>0.0</td>\n",
              "      <td>0.0</td>\n",
              "      <td>0.0</td>\n",
              "      <td>0.0</td>\n",
              "      <td>0.0</td>\n",
              "      <td>0.0</td>\n",
              "      <td>0.0</td>\n",
              "      <td>0.0</td>\n",
              "      <td>0.0</td>\n",
              "      <td>0.0</td>\n",
              "    </tr>\n",
              "    <tr>\n",
              "      <th>4</th>\n",
              "      <td>0.0</td>\n",
              "      <td>0.0</td>\n",
              "      <td>0.0</td>\n",
              "      <td>0.0</td>\n",
              "      <td>0.0</td>\n",
              "      <td>0.0</td>\n",
              "      <td>0.0</td>\n",
              "      <td>0.0</td>\n",
              "      <td>0.0</td>\n",
              "      <td>0.0</td>\n",
              "      <td>0.0</td>\n",
              "      <td>0.0</td>\n",
              "      <td>0.0</td>\n",
              "      <td>0.0</td>\n",
              "      <td>0.0</td>\n",
              "      <td>0.0</td>\n",
              "      <td>0.0</td>\n",
              "      <td>0.0</td>\n",
              "      <td>0.0</td>\n",
              "      <td>0.0</td>\n",
              "      <td>0.0</td>\n",
              "      <td>0.0</td>\n",
              "      <td>0.0</td>\n",
              "      <td>0.0</td>\n",
              "      <td>0.0</td>\n",
              "      <td>0.0</td>\n",
              "      <td>0.0</td>\n",
              "      <td>0.0</td>\n",
              "      <td>0.0</td>\n",
              "      <td>0.0</td>\n",
              "      <td>0.0</td>\n",
              "      <td>0.0</td>\n",
              "      <td>0.0</td>\n",
              "      <td>0.0</td>\n",
              "      <td>0.0</td>\n",
              "      <td>0.0</td>\n",
              "      <td>0.0</td>\n",
              "      <td>0.0</td>\n",
              "      <td>0.0</td>\n",
              "      <td>0.0</td>\n",
              "      <td>...</td>\n",
              "      <td>0.0</td>\n",
              "      <td>0.0</td>\n",
              "      <td>0.0</td>\n",
              "      <td>0.0</td>\n",
              "      <td>0.0</td>\n",
              "      <td>0.0</td>\n",
              "      <td>0.0</td>\n",
              "      <td>0.0</td>\n",
              "      <td>0.0</td>\n",
              "      <td>0.0</td>\n",
              "      <td>0.0</td>\n",
              "      <td>0.0</td>\n",
              "      <td>0.0</td>\n",
              "      <td>0.0</td>\n",
              "      <td>0.0</td>\n",
              "      <td>0.0</td>\n",
              "      <td>0.0</td>\n",
              "      <td>0.0</td>\n",
              "      <td>0.0</td>\n",
              "      <td>0.0</td>\n",
              "      <td>0.000000</td>\n",
              "      <td>0.0</td>\n",
              "      <td>0.0</td>\n",
              "      <td>0.0</td>\n",
              "      <td>0.0</td>\n",
              "      <td>0.0</td>\n",
              "      <td>0.0</td>\n",
              "      <td>0.0</td>\n",
              "      <td>0.0</td>\n",
              "      <td>0.0</td>\n",
              "      <td>0.0</td>\n",
              "      <td>0.0</td>\n",
              "      <td>0.0</td>\n",
              "      <td>0.0</td>\n",
              "      <td>0.0</td>\n",
              "      <td>0.0</td>\n",
              "      <td>0.0</td>\n",
              "      <td>0.0</td>\n",
              "      <td>0.0</td>\n",
              "      <td>0.0</td>\n",
              "    </tr>\n",
              "    <tr>\n",
              "      <th>...</th>\n",
              "      <td>...</td>\n",
              "      <td>...</td>\n",
              "      <td>...</td>\n",
              "      <td>...</td>\n",
              "      <td>...</td>\n",
              "      <td>...</td>\n",
              "      <td>...</td>\n",
              "      <td>...</td>\n",
              "      <td>...</td>\n",
              "      <td>...</td>\n",
              "      <td>...</td>\n",
              "      <td>...</td>\n",
              "      <td>...</td>\n",
              "      <td>...</td>\n",
              "      <td>...</td>\n",
              "      <td>...</td>\n",
              "      <td>...</td>\n",
              "      <td>...</td>\n",
              "      <td>...</td>\n",
              "      <td>...</td>\n",
              "      <td>...</td>\n",
              "      <td>...</td>\n",
              "      <td>...</td>\n",
              "      <td>...</td>\n",
              "      <td>...</td>\n",
              "      <td>...</td>\n",
              "      <td>...</td>\n",
              "      <td>...</td>\n",
              "      <td>...</td>\n",
              "      <td>...</td>\n",
              "      <td>...</td>\n",
              "      <td>...</td>\n",
              "      <td>...</td>\n",
              "      <td>...</td>\n",
              "      <td>...</td>\n",
              "      <td>...</td>\n",
              "      <td>...</td>\n",
              "      <td>...</td>\n",
              "      <td>...</td>\n",
              "      <td>...</td>\n",
              "      <td>...</td>\n",
              "      <td>...</td>\n",
              "      <td>...</td>\n",
              "      <td>...</td>\n",
              "      <td>...</td>\n",
              "      <td>...</td>\n",
              "      <td>...</td>\n",
              "      <td>...</td>\n",
              "      <td>...</td>\n",
              "      <td>...</td>\n",
              "      <td>...</td>\n",
              "      <td>...</td>\n",
              "      <td>...</td>\n",
              "      <td>...</td>\n",
              "      <td>...</td>\n",
              "      <td>...</td>\n",
              "      <td>...</td>\n",
              "      <td>...</td>\n",
              "      <td>...</td>\n",
              "      <td>...</td>\n",
              "      <td>...</td>\n",
              "      <td>...</td>\n",
              "      <td>...</td>\n",
              "      <td>...</td>\n",
              "      <td>...</td>\n",
              "      <td>...</td>\n",
              "      <td>...</td>\n",
              "      <td>...</td>\n",
              "      <td>...</td>\n",
              "      <td>...</td>\n",
              "      <td>...</td>\n",
              "      <td>...</td>\n",
              "      <td>...</td>\n",
              "      <td>...</td>\n",
              "      <td>...</td>\n",
              "      <td>...</td>\n",
              "      <td>...</td>\n",
              "      <td>...</td>\n",
              "      <td>...</td>\n",
              "      <td>...</td>\n",
              "      <td>...</td>\n",
              "    </tr>\n",
              "    <tr>\n",
              "      <th>6839</th>\n",
              "      <td>0.0</td>\n",
              "      <td>0.0</td>\n",
              "      <td>0.0</td>\n",
              "      <td>0.0</td>\n",
              "      <td>0.0</td>\n",
              "      <td>0.0</td>\n",
              "      <td>0.0</td>\n",
              "      <td>0.0</td>\n",
              "      <td>0.0</td>\n",
              "      <td>0.0</td>\n",
              "      <td>0.0</td>\n",
              "      <td>0.0</td>\n",
              "      <td>0.0</td>\n",
              "      <td>0.0</td>\n",
              "      <td>0.0</td>\n",
              "      <td>0.0</td>\n",
              "      <td>0.0</td>\n",
              "      <td>0.0</td>\n",
              "      <td>0.0</td>\n",
              "      <td>0.0</td>\n",
              "      <td>0.0</td>\n",
              "      <td>0.0</td>\n",
              "      <td>0.0</td>\n",
              "      <td>0.0</td>\n",
              "      <td>0.0</td>\n",
              "      <td>0.0</td>\n",
              "      <td>0.0</td>\n",
              "      <td>0.0</td>\n",
              "      <td>0.0</td>\n",
              "      <td>0.0</td>\n",
              "      <td>0.0</td>\n",
              "      <td>0.0</td>\n",
              "      <td>0.0</td>\n",
              "      <td>0.0</td>\n",
              "      <td>0.0</td>\n",
              "      <td>0.0</td>\n",
              "      <td>0.0</td>\n",
              "      <td>0.0</td>\n",
              "      <td>0.0</td>\n",
              "      <td>0.0</td>\n",
              "      <td>...</td>\n",
              "      <td>0.0</td>\n",
              "      <td>0.0</td>\n",
              "      <td>0.0</td>\n",
              "      <td>0.0</td>\n",
              "      <td>0.0</td>\n",
              "      <td>0.0</td>\n",
              "      <td>0.0</td>\n",
              "      <td>0.0</td>\n",
              "      <td>0.0</td>\n",
              "      <td>0.0</td>\n",
              "      <td>0.0</td>\n",
              "      <td>0.0</td>\n",
              "      <td>0.0</td>\n",
              "      <td>0.0</td>\n",
              "      <td>0.0</td>\n",
              "      <td>0.0</td>\n",
              "      <td>0.0</td>\n",
              "      <td>0.0</td>\n",
              "      <td>0.0</td>\n",
              "      <td>0.0</td>\n",
              "      <td>0.000000</td>\n",
              "      <td>0.0</td>\n",
              "      <td>0.0</td>\n",
              "      <td>0.0</td>\n",
              "      <td>0.0</td>\n",
              "      <td>0.0</td>\n",
              "      <td>0.0</td>\n",
              "      <td>0.0</td>\n",
              "      <td>0.0</td>\n",
              "      <td>0.0</td>\n",
              "      <td>0.0</td>\n",
              "      <td>0.0</td>\n",
              "      <td>0.0</td>\n",
              "      <td>0.0</td>\n",
              "      <td>0.0</td>\n",
              "      <td>0.0</td>\n",
              "      <td>0.0</td>\n",
              "      <td>0.0</td>\n",
              "      <td>0.0</td>\n",
              "      <td>0.0</td>\n",
              "    </tr>\n",
              "    <tr>\n",
              "      <th>6840</th>\n",
              "      <td>0.0</td>\n",
              "      <td>0.0</td>\n",
              "      <td>0.0</td>\n",
              "      <td>0.0</td>\n",
              "      <td>0.0</td>\n",
              "      <td>0.0</td>\n",
              "      <td>0.0</td>\n",
              "      <td>0.0</td>\n",
              "      <td>0.0</td>\n",
              "      <td>0.0</td>\n",
              "      <td>0.0</td>\n",
              "      <td>0.0</td>\n",
              "      <td>0.0</td>\n",
              "      <td>0.0</td>\n",
              "      <td>0.0</td>\n",
              "      <td>0.0</td>\n",
              "      <td>0.0</td>\n",
              "      <td>0.0</td>\n",
              "      <td>0.0</td>\n",
              "      <td>0.0</td>\n",
              "      <td>0.0</td>\n",
              "      <td>0.0</td>\n",
              "      <td>0.0</td>\n",
              "      <td>0.0</td>\n",
              "      <td>0.0</td>\n",
              "      <td>0.0</td>\n",
              "      <td>0.0</td>\n",
              "      <td>0.0</td>\n",
              "      <td>0.0</td>\n",
              "      <td>0.0</td>\n",
              "      <td>0.0</td>\n",
              "      <td>0.0</td>\n",
              "      <td>0.0</td>\n",
              "      <td>0.0</td>\n",
              "      <td>0.0</td>\n",
              "      <td>0.0</td>\n",
              "      <td>0.0</td>\n",
              "      <td>0.0</td>\n",
              "      <td>0.0</td>\n",
              "      <td>0.0</td>\n",
              "      <td>...</td>\n",
              "      <td>0.0</td>\n",
              "      <td>0.0</td>\n",
              "      <td>0.0</td>\n",
              "      <td>0.0</td>\n",
              "      <td>0.0</td>\n",
              "      <td>0.0</td>\n",
              "      <td>0.0</td>\n",
              "      <td>0.0</td>\n",
              "      <td>0.0</td>\n",
              "      <td>0.0</td>\n",
              "      <td>0.0</td>\n",
              "      <td>0.0</td>\n",
              "      <td>0.0</td>\n",
              "      <td>0.0</td>\n",
              "      <td>0.0</td>\n",
              "      <td>0.0</td>\n",
              "      <td>0.0</td>\n",
              "      <td>0.0</td>\n",
              "      <td>0.0</td>\n",
              "      <td>0.0</td>\n",
              "      <td>0.000000</td>\n",
              "      <td>0.0</td>\n",
              "      <td>0.0</td>\n",
              "      <td>0.0</td>\n",
              "      <td>0.0</td>\n",
              "      <td>0.0</td>\n",
              "      <td>0.0</td>\n",
              "      <td>0.0</td>\n",
              "      <td>0.0</td>\n",
              "      <td>0.0</td>\n",
              "      <td>0.0</td>\n",
              "      <td>0.0</td>\n",
              "      <td>0.0</td>\n",
              "      <td>0.0</td>\n",
              "      <td>0.0</td>\n",
              "      <td>0.0</td>\n",
              "      <td>0.0</td>\n",
              "      <td>0.0</td>\n",
              "      <td>0.0</td>\n",
              "      <td>0.0</td>\n",
              "    </tr>\n",
              "    <tr>\n",
              "      <th>6841</th>\n",
              "      <td>0.0</td>\n",
              "      <td>0.0</td>\n",
              "      <td>0.0</td>\n",
              "      <td>0.0</td>\n",
              "      <td>0.0</td>\n",
              "      <td>0.0</td>\n",
              "      <td>0.0</td>\n",
              "      <td>0.0</td>\n",
              "      <td>0.0</td>\n",
              "      <td>0.0</td>\n",
              "      <td>0.0</td>\n",
              "      <td>0.0</td>\n",
              "      <td>0.0</td>\n",
              "      <td>0.0</td>\n",
              "      <td>0.0</td>\n",
              "      <td>0.0</td>\n",
              "      <td>0.0</td>\n",
              "      <td>0.0</td>\n",
              "      <td>0.0</td>\n",
              "      <td>0.0</td>\n",
              "      <td>0.0</td>\n",
              "      <td>0.0</td>\n",
              "      <td>0.0</td>\n",
              "      <td>0.0</td>\n",
              "      <td>0.0</td>\n",
              "      <td>0.0</td>\n",
              "      <td>0.0</td>\n",
              "      <td>0.0</td>\n",
              "      <td>0.0</td>\n",
              "      <td>0.0</td>\n",
              "      <td>0.0</td>\n",
              "      <td>0.0</td>\n",
              "      <td>0.0</td>\n",
              "      <td>0.0</td>\n",
              "      <td>0.0</td>\n",
              "      <td>0.0</td>\n",
              "      <td>0.0</td>\n",
              "      <td>0.0</td>\n",
              "      <td>0.0</td>\n",
              "      <td>0.0</td>\n",
              "      <td>...</td>\n",
              "      <td>0.0</td>\n",
              "      <td>0.0</td>\n",
              "      <td>0.0</td>\n",
              "      <td>0.0</td>\n",
              "      <td>0.0</td>\n",
              "      <td>0.0</td>\n",
              "      <td>0.0</td>\n",
              "      <td>0.0</td>\n",
              "      <td>0.0</td>\n",
              "      <td>0.0</td>\n",
              "      <td>0.0</td>\n",
              "      <td>0.0</td>\n",
              "      <td>0.0</td>\n",
              "      <td>0.0</td>\n",
              "      <td>0.0</td>\n",
              "      <td>0.0</td>\n",
              "      <td>0.0</td>\n",
              "      <td>0.0</td>\n",
              "      <td>0.0</td>\n",
              "      <td>0.0</td>\n",
              "      <td>0.000000</td>\n",
              "      <td>0.0</td>\n",
              "      <td>0.0</td>\n",
              "      <td>0.0</td>\n",
              "      <td>0.0</td>\n",
              "      <td>0.0</td>\n",
              "      <td>0.0</td>\n",
              "      <td>0.0</td>\n",
              "      <td>0.0</td>\n",
              "      <td>0.0</td>\n",
              "      <td>0.0</td>\n",
              "      <td>0.0</td>\n",
              "      <td>0.0</td>\n",
              "      <td>0.0</td>\n",
              "      <td>0.0</td>\n",
              "      <td>0.0</td>\n",
              "      <td>0.0</td>\n",
              "      <td>0.0</td>\n",
              "      <td>0.0</td>\n",
              "      <td>0.0</td>\n",
              "    </tr>\n",
              "    <tr>\n",
              "      <th>6842</th>\n",
              "      <td>0.0</td>\n",
              "      <td>0.0</td>\n",
              "      <td>0.0</td>\n",
              "      <td>0.0</td>\n",
              "      <td>0.0</td>\n",
              "      <td>0.0</td>\n",
              "      <td>0.0</td>\n",
              "      <td>0.0</td>\n",
              "      <td>0.0</td>\n",
              "      <td>0.0</td>\n",
              "      <td>0.0</td>\n",
              "      <td>0.0</td>\n",
              "      <td>0.0</td>\n",
              "      <td>0.0</td>\n",
              "      <td>0.0</td>\n",
              "      <td>0.0</td>\n",
              "      <td>0.0</td>\n",
              "      <td>0.0</td>\n",
              "      <td>0.0</td>\n",
              "      <td>0.0</td>\n",
              "      <td>0.0</td>\n",
              "      <td>0.0</td>\n",
              "      <td>0.0</td>\n",
              "      <td>0.0</td>\n",
              "      <td>0.0</td>\n",
              "      <td>0.0</td>\n",
              "      <td>0.0</td>\n",
              "      <td>0.0</td>\n",
              "      <td>0.0</td>\n",
              "      <td>0.0</td>\n",
              "      <td>0.0</td>\n",
              "      <td>0.0</td>\n",
              "      <td>0.0</td>\n",
              "      <td>0.0</td>\n",
              "      <td>0.0</td>\n",
              "      <td>0.0</td>\n",
              "      <td>0.0</td>\n",
              "      <td>0.0</td>\n",
              "      <td>0.0</td>\n",
              "      <td>0.0</td>\n",
              "      <td>...</td>\n",
              "      <td>0.0</td>\n",
              "      <td>0.0</td>\n",
              "      <td>0.0</td>\n",
              "      <td>0.0</td>\n",
              "      <td>0.0</td>\n",
              "      <td>0.0</td>\n",
              "      <td>0.0</td>\n",
              "      <td>0.0</td>\n",
              "      <td>0.0</td>\n",
              "      <td>0.0</td>\n",
              "      <td>0.0</td>\n",
              "      <td>0.0</td>\n",
              "      <td>0.0</td>\n",
              "      <td>0.0</td>\n",
              "      <td>0.0</td>\n",
              "      <td>0.0</td>\n",
              "      <td>0.0</td>\n",
              "      <td>0.0</td>\n",
              "      <td>0.0</td>\n",
              "      <td>0.0</td>\n",
              "      <td>0.000000</td>\n",
              "      <td>0.0</td>\n",
              "      <td>0.0</td>\n",
              "      <td>0.0</td>\n",
              "      <td>0.0</td>\n",
              "      <td>0.0</td>\n",
              "      <td>0.0</td>\n",
              "      <td>0.0</td>\n",
              "      <td>0.0</td>\n",
              "      <td>0.0</td>\n",
              "      <td>0.0</td>\n",
              "      <td>0.0</td>\n",
              "      <td>0.0</td>\n",
              "      <td>0.0</td>\n",
              "      <td>0.0</td>\n",
              "      <td>0.0</td>\n",
              "      <td>0.0</td>\n",
              "      <td>0.0</td>\n",
              "      <td>0.0</td>\n",
              "      <td>0.0</td>\n",
              "    </tr>\n",
              "    <tr>\n",
              "      <th>6843</th>\n",
              "      <td>0.0</td>\n",
              "      <td>0.0</td>\n",
              "      <td>0.0</td>\n",
              "      <td>0.0</td>\n",
              "      <td>0.0</td>\n",
              "      <td>0.0</td>\n",
              "      <td>0.0</td>\n",
              "      <td>0.0</td>\n",
              "      <td>0.0</td>\n",
              "      <td>0.0</td>\n",
              "      <td>0.0</td>\n",
              "      <td>0.0</td>\n",
              "      <td>0.0</td>\n",
              "      <td>0.0</td>\n",
              "      <td>0.0</td>\n",
              "      <td>0.0</td>\n",
              "      <td>0.0</td>\n",
              "      <td>0.0</td>\n",
              "      <td>0.0</td>\n",
              "      <td>0.0</td>\n",
              "      <td>0.0</td>\n",
              "      <td>0.0</td>\n",
              "      <td>0.0</td>\n",
              "      <td>0.0</td>\n",
              "      <td>0.0</td>\n",
              "      <td>0.0</td>\n",
              "      <td>0.0</td>\n",
              "      <td>0.0</td>\n",
              "      <td>0.0</td>\n",
              "      <td>0.0</td>\n",
              "      <td>0.0</td>\n",
              "      <td>0.0</td>\n",
              "      <td>0.0</td>\n",
              "      <td>0.0</td>\n",
              "      <td>0.0</td>\n",
              "      <td>0.0</td>\n",
              "      <td>0.0</td>\n",
              "      <td>0.0</td>\n",
              "      <td>0.0</td>\n",
              "      <td>0.0</td>\n",
              "      <td>...</td>\n",
              "      <td>0.0</td>\n",
              "      <td>0.0</td>\n",
              "      <td>0.0</td>\n",
              "      <td>0.0</td>\n",
              "      <td>0.0</td>\n",
              "      <td>0.0</td>\n",
              "      <td>0.0</td>\n",
              "      <td>0.0</td>\n",
              "      <td>0.0</td>\n",
              "      <td>0.0</td>\n",
              "      <td>0.0</td>\n",
              "      <td>0.0</td>\n",
              "      <td>0.0</td>\n",
              "      <td>0.0</td>\n",
              "      <td>0.0</td>\n",
              "      <td>0.0</td>\n",
              "      <td>0.0</td>\n",
              "      <td>0.0</td>\n",
              "      <td>0.0</td>\n",
              "      <td>0.0</td>\n",
              "      <td>0.000000</td>\n",
              "      <td>0.0</td>\n",
              "      <td>0.0</td>\n",
              "      <td>0.0</td>\n",
              "      <td>0.0</td>\n",
              "      <td>0.0</td>\n",
              "      <td>0.0</td>\n",
              "      <td>0.0</td>\n",
              "      <td>0.0</td>\n",
              "      <td>0.0</td>\n",
              "      <td>0.0</td>\n",
              "      <td>0.0</td>\n",
              "      <td>0.0</td>\n",
              "      <td>0.0</td>\n",
              "      <td>0.0</td>\n",
              "      <td>0.0</td>\n",
              "      <td>0.0</td>\n",
              "      <td>0.0</td>\n",
              "      <td>0.0</td>\n",
              "      <td>0.0</td>\n",
              "    </tr>\n",
              "  </tbody>\n",
              "</table>\n",
              "<p>6844 rows × 11056 columns</p>\n",
              "</div>"
            ],
            "text/plain": [
              "       00  000  006  00ice  00pm  ...  zoonot  zuckoff  zurich  zydus  zyphr\n",
              "0     0.0  0.0  0.0    0.0   0.0  ...     0.0      0.0     0.0    0.0    0.0\n",
              "1     0.0  0.0  0.0    0.0   0.0  ...     0.0      0.0     0.0    0.0    0.0\n",
              "2     0.0  0.0  0.0    0.0   0.0  ...     0.0      0.0     0.0    0.0    0.0\n",
              "3     0.0  0.0  0.0    0.0   0.0  ...     0.0      0.0     0.0    0.0    0.0\n",
              "4     0.0  0.0  0.0    0.0   0.0  ...     0.0      0.0     0.0    0.0    0.0\n",
              "...   ...  ...  ...    ...   ...  ...     ...      ...     ...    ...    ...\n",
              "6839  0.0  0.0  0.0    0.0   0.0  ...     0.0      0.0     0.0    0.0    0.0\n",
              "6840  0.0  0.0  0.0    0.0   0.0  ...     0.0      0.0     0.0    0.0    0.0\n",
              "6841  0.0  0.0  0.0    0.0   0.0  ...     0.0      0.0     0.0    0.0    0.0\n",
              "6842  0.0  0.0  0.0    0.0   0.0  ...     0.0      0.0     0.0    0.0    0.0\n",
              "6843  0.0  0.0  0.0    0.0   0.0  ...     0.0      0.0     0.0    0.0    0.0\n",
              "\n",
              "[6844 rows x 11056 columns]"
            ]
          },
          "metadata": {},
          "execution_count": 46
        }
      ]
    },
    {
      "cell_type": "code",
      "metadata": {
        "colab": {
          "base_uri": "https://localhost:8080/",
          "height": 419
        },
        "id": "srvatE-2GHJ2",
        "outputId": "3a297348-0d3b-4e0e-f0bb-6d42ac863cea"
      },
      "source": [
        "df_tfidf_sklearn = df_tfidf_sklearn.stack().reset_index()\n",
        "df_tfidf_sklearn = df_tfidf_sklearn.rename(columns={0:'tfidf', 'level_0': 'id','level_1': 'term', 'level_2': 'term'})\n",
        "df_tfidf_sklearn"
      ],
      "execution_count": 47,
      "outputs": [
        {
          "output_type": "execute_result",
          "data": {
            "text/html": [
              "<div>\n",
              "<style scoped>\n",
              "    .dataframe tbody tr th:only-of-type {\n",
              "        vertical-align: middle;\n",
              "    }\n",
              "\n",
              "    .dataframe tbody tr th {\n",
              "        vertical-align: top;\n",
              "    }\n",
              "\n",
              "    .dataframe thead th {\n",
              "        text-align: right;\n",
              "    }\n",
              "</style>\n",
              "<table border=\"1\" class=\"dataframe\">\n",
              "  <thead>\n",
              "    <tr style=\"text-align: right;\">\n",
              "      <th></th>\n",
              "      <th>id</th>\n",
              "      <th>term</th>\n",
              "      <th>tfidf</th>\n",
              "    </tr>\n",
              "  </thead>\n",
              "  <tbody>\n",
              "    <tr>\n",
              "      <th>0</th>\n",
              "      <td>0</td>\n",
              "      <td>00</td>\n",
              "      <td>0.0</td>\n",
              "    </tr>\n",
              "    <tr>\n",
              "      <th>1</th>\n",
              "      <td>0</td>\n",
              "      <td>000</td>\n",
              "      <td>0.0</td>\n",
              "    </tr>\n",
              "    <tr>\n",
              "      <th>2</th>\n",
              "      <td>0</td>\n",
              "      <td>006</td>\n",
              "      <td>0.0</td>\n",
              "    </tr>\n",
              "    <tr>\n",
              "      <th>3</th>\n",
              "      <td>0</td>\n",
              "      <td>00ice</td>\n",
              "      <td>0.0</td>\n",
              "    </tr>\n",
              "    <tr>\n",
              "      <th>4</th>\n",
              "      <td>0</td>\n",
              "      <td>00pm</td>\n",
              "      <td>0.0</td>\n",
              "    </tr>\n",
              "    <tr>\n",
              "      <th>...</th>\n",
              "      <td>...</td>\n",
              "      <td>...</td>\n",
              "      <td>...</td>\n",
              "    </tr>\n",
              "    <tr>\n",
              "      <th>75667259</th>\n",
              "      <td>6843</td>\n",
              "      <td>zoonot</td>\n",
              "      <td>0.0</td>\n",
              "    </tr>\n",
              "    <tr>\n",
              "      <th>75667260</th>\n",
              "      <td>6843</td>\n",
              "      <td>zuckoff</td>\n",
              "      <td>0.0</td>\n",
              "    </tr>\n",
              "    <tr>\n",
              "      <th>75667261</th>\n",
              "      <td>6843</td>\n",
              "      <td>zurich</td>\n",
              "      <td>0.0</td>\n",
              "    </tr>\n",
              "    <tr>\n",
              "      <th>75667262</th>\n",
              "      <td>6843</td>\n",
              "      <td>zydus</td>\n",
              "      <td>0.0</td>\n",
              "    </tr>\n",
              "    <tr>\n",
              "      <th>75667263</th>\n",
              "      <td>6843</td>\n",
              "      <td>zyphr</td>\n",
              "      <td>0.0</td>\n",
              "    </tr>\n",
              "  </tbody>\n",
              "</table>\n",
              "<p>75667264 rows × 3 columns</p>\n",
              "</div>"
            ],
            "text/plain": [
              "            id     term  tfidf\n",
              "0            0       00    0.0\n",
              "1            0      000    0.0\n",
              "2            0      006    0.0\n",
              "3            0    00ice    0.0\n",
              "4            0     00pm    0.0\n",
              "...        ...      ...    ...\n",
              "75667259  6843   zoonot    0.0\n",
              "75667260  6843  zuckoff    0.0\n",
              "75667261  6843   zurich    0.0\n",
              "75667262  6843    zydus    0.0\n",
              "75667263  6843    zyphr    0.0\n",
              "\n",
              "[75667264 rows x 3 columns]"
            ]
          },
          "metadata": {},
          "execution_count": 47
        }
      ]
    },
    {
      "cell_type": "code",
      "metadata": {
        "colab": {
          "base_uri": "https://localhost:8080/",
          "height": 419
        },
        "id": "vM36ukhTIHox",
        "outputId": "945a3c76-884b-4af8-acf2-2961900418cf"
      },
      "source": [
        "df_tfidf_sklearn.sort_values(by=['id','tfidf'], ascending=[True,False]).groupby(['id']).head(10)\n"
      ],
      "execution_count": 48,
      "outputs": [
        {
          "output_type": "execute_result",
          "data": {
            "text/html": [
              "<div>\n",
              "<style scoped>\n",
              "    .dataframe tbody tr th:only-of-type {\n",
              "        vertical-align: middle;\n",
              "    }\n",
              "\n",
              "    .dataframe tbody tr th {\n",
              "        vertical-align: top;\n",
              "    }\n",
              "\n",
              "    .dataframe thead th {\n",
              "        text-align: right;\n",
              "    }\n",
              "</style>\n",
              "<table border=\"1\" class=\"dataframe\">\n",
              "  <thead>\n",
              "    <tr style=\"text-align: right;\">\n",
              "      <th></th>\n",
              "      <th>id</th>\n",
              "      <th>term</th>\n",
              "      <th>tfidf</th>\n",
              "    </tr>\n",
              "  </thead>\n",
              "  <tbody>\n",
              "    <tr>\n",
              "      <th>7401</th>\n",
              "      <td>0</td>\n",
              "      <td>nasser</td>\n",
              "      <td>0.644215</td>\n",
              "    </tr>\n",
              "    <tr>\n",
              "      <th>11036</th>\n",
              "      <td>0</td>\n",
              "      <td>ziberi</td>\n",
              "      <td>0.644215</td>\n",
              "    </tr>\n",
              "    <tr>\n",
              "      <th>8212</th>\n",
              "      <td>0</td>\n",
              "      <td>posit</td>\n",
              "      <td>0.284045</td>\n",
              "    </tr>\n",
              "    <tr>\n",
              "      <th>10015</th>\n",
              "      <td>0</td>\n",
              "      <td>test</td>\n",
              "      <td>0.196617</td>\n",
              "    </tr>\n",
              "    <tr>\n",
              "      <th>488</th>\n",
              "      <td>0</td>\n",
              "      <td>19</td>\n",
              "      <td>0.164663</td>\n",
              "    </tr>\n",
              "    <tr>\n",
              "      <th>...</th>\n",
              "      <td>...</td>\n",
              "      <td>...</td>\n",
              "      <td>...</td>\n",
              "    </tr>\n",
              "    <tr>\n",
              "      <th>75656208</th>\n",
              "      <td>6843</td>\n",
              "      <td>00</td>\n",
              "      <td>0.000000</td>\n",
              "    </tr>\n",
              "    <tr>\n",
              "      <th>75656209</th>\n",
              "      <td>6843</td>\n",
              "      <td>000</td>\n",
              "      <td>0.000000</td>\n",
              "    </tr>\n",
              "    <tr>\n",
              "      <th>75656210</th>\n",
              "      <td>6843</td>\n",
              "      <td>006</td>\n",
              "      <td>0.000000</td>\n",
              "    </tr>\n",
              "    <tr>\n",
              "      <th>75656211</th>\n",
              "      <td>6843</td>\n",
              "      <td>00ice</td>\n",
              "      <td>0.000000</td>\n",
              "    </tr>\n",
              "    <tr>\n",
              "      <th>75656212</th>\n",
              "      <td>6843</td>\n",
              "      <td>00pm</td>\n",
              "      <td>0.000000</td>\n",
              "    </tr>\n",
              "  </tbody>\n",
              "</table>\n",
              "<p>68440 rows × 3 columns</p>\n",
              "</div>"
            ],
            "text/plain": [
              "            id    term     tfidf\n",
              "7401         0  nasser  0.644215\n",
              "11036        0  ziberi  0.644215\n",
              "8212         0   posit  0.284045\n",
              "10015        0    test  0.196617\n",
              "488          0      19  0.164663\n",
              "...        ...     ...       ...\n",
              "75656208  6843      00  0.000000\n",
              "75656209  6843     000  0.000000\n",
              "75656210  6843     006  0.000000\n",
              "75656211  6843   00ice  0.000000\n",
              "75656212  6843    00pm  0.000000\n",
              "\n",
              "[68440 rows x 3 columns]"
            ]
          },
          "metadata": {},
          "execution_count": 48
        }
      ]
    },
    {
      "cell_type": "code",
      "metadata": {
        "colab": {
          "base_uri": "https://localhost:8080/",
          "height": 669
        },
        "id": "cMr3PeWdIXo2",
        "outputId": "c785900a-19e5-4df8-fb0e-c4c1f070b2c4"
      },
      "source": [
        "specificid = df_tfidf_sklearn.sort_values(by=['id','tfidf'], ascending=[True,False]).groupby(['id']).head(20)\n",
        "specificid[specificid['id'].isin({847})]\n"
      ],
      "execution_count": 49,
      "outputs": [
        {
          "output_type": "execute_result",
          "data": {
            "text/html": [
              "<div>\n",
              "<style scoped>\n",
              "    .dataframe tbody tr th:only-of-type {\n",
              "        vertical-align: middle;\n",
              "    }\n",
              "\n",
              "    .dataframe tbody tr th {\n",
              "        vertical-align: top;\n",
              "    }\n",
              "\n",
              "    .dataframe thead th {\n",
              "        text-align: right;\n",
              "    }\n",
              "</style>\n",
              "<table border=\"1\" class=\"dataframe\">\n",
              "  <thead>\n",
              "    <tr style=\"text-align: right;\">\n",
              "      <th></th>\n",
              "      <th>id</th>\n",
              "      <th>term</th>\n",
              "      <th>tfidf</th>\n",
              "    </tr>\n",
              "  </thead>\n",
              "  <tbody>\n",
              "    <tr>\n",
              "      <th>9364630</th>\n",
              "      <td>847</td>\n",
              "      <td>1215</td>\n",
              "      <td>0.448347</td>\n",
              "    </tr>\n",
              "    <tr>\n",
              "      <th>9372064</th>\n",
              "      <td>847</td>\n",
              "      <td>number</td>\n",
              "      <td>0.337164</td>\n",
              "    </tr>\n",
              "    <tr>\n",
              "      <th>9372196</th>\n",
              "      <td>847</td>\n",
              "      <td>organ</td>\n",
              "      <td>0.268600</td>\n",
              "    </tr>\n",
              "    <tr>\n",
              "      <th>9373044</th>\n",
              "      <td>847</td>\n",
              "      <td>receiv</td>\n",
              "      <td>0.262127</td>\n",
              "    </tr>\n",
              "    <tr>\n",
              "      <th>9371054</th>\n",
              "      <td>847</td>\n",
              "      <td>level</td>\n",
              "      <td>0.240964</td>\n",
              "    </tr>\n",
              "    <tr>\n",
              "      <th>9375459</th>\n",
              "      <td>847</td>\n",
              "      <td>zealand</td>\n",
              "      <td>0.240253</td>\n",
              "    </tr>\n",
              "    <tr>\n",
              "      <th>9367591</th>\n",
              "      <td>847</td>\n",
              "      <td>care</td>\n",
              "      <td>0.230665</td>\n",
              "    </tr>\n",
              "    <tr>\n",
              "      <th>9364920</th>\n",
              "      <td>847</td>\n",
              "      <td>19</td>\n",
              "      <td>0.229197</td>\n",
              "    </tr>\n",
              "    <tr>\n",
              "      <th>9375362</th>\n",
              "      <td>847</td>\n",
              "      <td>world</td>\n",
              "      <td>0.223143</td>\n",
              "    </tr>\n",
              "    <tr>\n",
              "      <th>9368228</th>\n",
              "      <td>847</td>\n",
              "      <td>covid</td>\n",
              "      <td>0.213466</td>\n",
              "    </tr>\n",
              "    <tr>\n",
              "      <th>9372153</th>\n",
              "      <td>847</td>\n",
              "      <td>one</td>\n",
              "      <td>0.191823</td>\n",
              "    </tr>\n",
              "    <tr>\n",
              "      <th>9369971</th>\n",
              "      <td>847</td>\n",
              "      <td>health</td>\n",
              "      <td>0.187906</td>\n",
              "    </tr>\n",
              "    <tr>\n",
              "      <th>9368054</th>\n",
              "      <td>847</td>\n",
              "      <td>confirm</td>\n",
              "      <td>0.181006</td>\n",
              "    </tr>\n",
              "    <tr>\n",
              "      <th>9370118</th>\n",
              "      <td>847</td>\n",
              "      <td>hospit</td>\n",
              "      <td>0.178738</td>\n",
              "    </tr>\n",
              "    <tr>\n",
              "      <th>9374628</th>\n",
              "      <td>847</td>\n",
              "      <td>total</td>\n",
              "      <td>0.175521</td>\n",
              "    </tr>\n",
              "    <tr>\n",
              "      <th>9373162</th>\n",
              "      <td>847</td>\n",
              "      <td>report</td>\n",
              "      <td>0.150214</td>\n",
              "    </tr>\n",
              "    <tr>\n",
              "      <th>9371917</th>\n",
              "      <td>847</td>\n",
              "      <td>new</td>\n",
              "      <td>0.144229</td>\n",
              "    </tr>\n",
              "    <tr>\n",
              "      <th>9367617</th>\n",
              "      <td>847</td>\n",
              "      <td>case</td>\n",
              "      <td>0.128750</td>\n",
              "    </tr>\n",
              "    <tr>\n",
              "      <th>9364432</th>\n",
              "      <td>847</td>\n",
              "      <td>00</td>\n",
              "      <td>0.000000</td>\n",
              "    </tr>\n",
              "    <tr>\n",
              "      <th>9364433</th>\n",
              "      <td>847</td>\n",
              "      <td>000</td>\n",
              "      <td>0.000000</td>\n",
              "    </tr>\n",
              "  </tbody>\n",
              "</table>\n",
              "</div>"
            ],
            "text/plain": [
              "          id     term     tfidf\n",
              "9364630  847     1215  0.448347\n",
              "9372064  847   number  0.337164\n",
              "9372196  847    organ  0.268600\n",
              "9373044  847   receiv  0.262127\n",
              "9371054  847    level  0.240964\n",
              "9375459  847  zealand  0.240253\n",
              "9367591  847     care  0.230665\n",
              "9364920  847       19  0.229197\n",
              "9375362  847    world  0.223143\n",
              "9368228  847    covid  0.213466\n",
              "9372153  847      one  0.191823\n",
              "9369971  847   health  0.187906\n",
              "9368054  847  confirm  0.181006\n",
              "9370118  847   hospit  0.178738\n",
              "9374628  847    total  0.175521\n",
              "9373162  847   report  0.150214\n",
              "9371917  847      new  0.144229\n",
              "9367617  847     case  0.128750\n",
              "9364432  847       00  0.000000\n",
              "9364433  847      000  0.000000"
            ]
          },
          "metadata": {},
          "execution_count": 49
        }
      ]
    },
    {
      "cell_type": "code",
      "metadata": {
        "id": "lGolyzc0gMiK"
      },
      "source": [
        ""
      ],
      "execution_count": 49,
      "outputs": []
    },
    {
      "cell_type": "markdown",
      "metadata": {
        "id": "djhxEmDXlYOY"
      },
      "source": [
        "## Exploratory Data Analysis"
      ]
    },
    {
      "cell_type": "markdown",
      "metadata": {
        "id": "woN7Lxw1o0vc"
      },
      "source": [
        "### Length Analysis"
      ]
    },
    {
      "cell_type": "code",
      "metadata": {
        "colab": {
          "base_uri": "https://localhost:8080/",
          "height": 465
        },
        "id": "nVNu9oqbwqr_",
        "outputId": "fa70cf71-2e48-475c-bb49-3e033113b3e9"
      },
      "source": [
        "df_train[df_train[\"length\"] < 150].boxplot(column=[\"length\"], by=\"label\")"
      ],
      "execution_count": 50,
      "outputs": [
        {
          "output_type": "stream",
          "name": "stderr",
          "text": [
            "/usr/local/lib/python3.7/dist-packages/numpy/core/_asarray.py:83: VisibleDeprecationWarning: Creating an ndarray from ragged nested sequences (which is a list-or-tuple of lists-or-tuples-or ndarrays with different lengths or shapes) is deprecated. If you meant to do this, you must specify 'dtype=object' when creating the ndarray\n",
            "  return array(a, dtype, copy=False, order=order)\n"
          ]
        },
        {
          "output_type": "execute_result",
          "data": {
            "text/plain": [
              "<matplotlib.axes._subplots.AxesSubplot at 0x7f1b8df1b650>"
            ]
          },
          "metadata": {},
          "execution_count": 50
        },
        {
          "output_type": "display_data",
          "data": {
            "image/png": "[encoded data removed]",
            "text/plain": [
              "<Figure size 576x396 with 1 Axes>"
            ]
          },
          "metadata": {}
        }
      ]
    },
    {
      "cell_type": "code",
      "metadata": {
        "colab": {
          "base_uri": "https://localhost:8080/",
          "height": 486
        },
        "id": "kq-wh1hoyrSI",
        "outputId": "64b27e6e-56bc-47c2-8439-5a6322645cf7"
      },
      "source": [
        "labels = ['real','fake']\n",
        "\n",
        "for label in labels:\n",
        "  subset = df_train[df_train[\"label\"] == label]\n",
        "  sns.distplot(subset[subset['length']<150]['length'], hist = False, kde = True,\n",
        "                  kde_kws = {'shade': True, 'linewidth': 3}, label = label)\n",
        "\n",
        "plt.legend(prop={'size': 16}, title = 'Labels')\n",
        "plt.title('Density Plot with Real and Fake News')\n",
        "plt.xlabel('Word Count')\n",
        "plt.ylabel('Density')"
      ],
      "execution_count": 51,
      "outputs": [
        {
          "output_type": "stream",
          "name": "stderr",
          "text": [
            "/usr/local/lib/python3.7/dist-packages/seaborn/distributions.py:2619: FutureWarning: `distplot` is a deprecated function and will be removed in a future version. Please adapt your code to use either `displot` (a figure-level function with similar flexibility) or `kdeplot` (an axes-level function for kernel density plots).\n",
            "  warnings.warn(msg, FutureWarning)\n",
            "/usr/local/lib/python3.7/dist-packages/seaborn/distributions.py:2619: FutureWarning: `distplot` is a deprecated function and will be removed in a future version. Please adapt your code to use either `displot` (a figure-level function with similar flexibility) or `kdeplot` (an axes-level function for kernel density plots).\n",
            "  warnings.warn(msg, FutureWarning)\n"
          ]
        },
        {
          "output_type": "execute_result",
          "data": {
            "text/plain": [
              "Text(0, 0.5, 'Density')"
            ]
          },
          "metadata": {},
          "execution_count": 51
        },
        {
          "output_type": "display_data",
          "data": {
            "image/png": "[encoded data removed]",
            "text/plain": [
              "<Figure size 576x396 with 1 Axes>"
            ]
          },
          "metadata": {}
        }
      ]
    },
    {
      "cell_type": "code",
      "metadata": {
        "colab": {
          "base_uri": "https://localhost:8080/",
          "height": 383
        },
        "id": "znXCb-R012kx",
        "outputId": "b28d1346-6ff7-4ad3-8cf7-2a3cf360bf84"
      },
      "source": [
        "sns.displot(data=df_train[df_train['length']<150], x=\"length\", hue=\"label\", kind=\"kde\")"
      ],
      "execution_count": 52,
      "outputs": [
        {
          "output_type": "execute_result",
          "data": {
            "text/plain": [
              "<seaborn.axisgrid.FacetGrid at 0x7f1b8ea06890>"
            ]
          },
          "metadata": {},
          "execution_count": 52
        },
        {
          "output_type": "display_data",
          "data": {
            "image/png": "[encoded data removed]",
            "text/plain": [
              "<Figure size 415x360 with 1 Axes>"
            ]
          },
          "metadata": {}
        }
      ]
    },
    {
      "cell_type": "markdown",
      "metadata": {
        "id": "uPoa2z6e1ZVm"
      },
      "source": [
        "Fake news tends to be short than real news. "
      ]
    },
    {
      "cell_type": "markdown",
      "metadata": {
        "id": "gkZKQJknvELz"
      },
      "source": [
        "### Kmeans Clustering"
      ]
    },
    {
      "cell_type": "markdown",
      "metadata": {
        "id": "5AEMnVbqvHoW"
      },
      "source": [
        "### Cluster on words"
      ]
    },
    {
      "cell_type": "code",
      "metadata": {
        "id": "MOu6DW9tnb0D"
      },
      "source": [
        "X = w2v_model.wv.vectors\n",
        "kmeans = KMeans(random_state = 42)"
      ],
      "execution_count": 53,
      "outputs": []
    },
    {
      "cell_type": "code",
      "metadata": {
        "id": "eXS6hOCTnM4K",
        "colab": {
          "base_uri": "https://localhost:8080/",
          "height": 558
        },
        "outputId": "ec875687-4ee0-40b0-ea83-6481b9437fa7"
      },
      "source": [
        "kelbow_visualizer(kmeans, X,k=(1,20))"
      ],
      "execution_count": 60,
      "outputs": [
        {
          "output_type": "display_data",
          "data": {
            "image/png": "[encoded data removed]",
            "text/plain": [
              "<Figure size 576x396 with 2 Axes>"
            ]
          },
          "metadata": {}
        },
        {
          "output_type": "stream",
          "name": "stderr",
          "text": [
            "/usr/local/lib/python3.7/dist-packages/sklearn/base.py:197: FutureWarning: From version 0.24, get_params will raise an AttributeError if a parameter cannot be retrieved as an instance attribute. Previously it would return None.\n",
            "  FutureWarning)\n"
          ]
        },
        {
          "output_type": "execute_result",
          "data": {
            "text/plain": [
              "KElbowVisualizer(ax=<matplotlib.axes._subplots.AxesSubplot object at 0x7f1b8e93db90>,\n",
              "                 estimator=KMeans(algorithm='auto', copy_x=True,\n",
              "                                  init='k-means++', max_iter=300, n_clusters=19,\n",
              "                                  n_init=10, n_jobs=None,\n",
              "                                  precompute_distances='auto', random_state=42,\n",
              "                                  tol=0.0001, verbose=0),\n",
              "                 k=None, locate_elbow=True, metric='distortion', timings=True)"
            ]
          },
          "metadata": {},
          "execution_count": 60
        }
      ]
    },
    {
      "cell_type": "markdown",
      "metadata": {
        "id": "kv3hIR-bvNXY"
      },
      "source": [
        "### Cluster on Documents"
      ]
    },
    {
      "cell_type": "code",
      "metadata": {
        "id": "1opa4lecvS4u",
        "colab": {
          "base_uri": "https://localhost:8080/",
          "height": 340
        },
        "outputId": "cbce878a-2ab5-42b2-b309-6071df411a3f"
      },
      "source": [
        "#kelbow_visualizer(kmeans, x_train_tfidf, k=(1,20))"
      ],
      "execution_count": 59,
      "outputs": [
        {
          "output_type": "error",
          "ename": "KeyboardInterrupt",
          "evalue": "ignored",
          "traceback": [
            "\u001b[0;31m---------------------------------------------------------------------------\u001b[0m",
            "\u001b[0;31mKeyboardInterrupt\u001b[0m                         Traceback (most recent call last)",
            "\u001b[0;32m<ipython-input-59-d188a54e6187>\u001b[0m in \u001b[0;36m<module>\u001b[0;34m()\u001b[0m\n\u001b[0;32m----> 1\u001b[0;31m \u001b[0mkelbow_visualizer\u001b[0m\u001b[0;34m(\u001b[0m\u001b[0mkmeans\u001b[0m\u001b[0;34m,\u001b[0m \u001b[0mx_train_tfidf\u001b[0m\u001b[0;34m,\u001b[0m \u001b[0mk\u001b[0m\u001b[0;34m=\u001b[0m\u001b[0;34m(\u001b[0m\u001b[0;36m1\u001b[0m\u001b[0;34m,\u001b[0m\u001b[0;36m20\u001b[0m\u001b[0;34m)\u001b[0m\u001b[0;34m)\u001b[0m\u001b[0;34m\u001b[0m\u001b[0;34m\u001b[0m\u001b[0m\n\u001b[0m",
            "\u001b[0;32m/usr/local/lib/python3.7/dist-packages/yellowbrick/cluster/elbow.py\u001b[0m in \u001b[0;36mkelbow_visualizer\u001b[0;34m(model, X, y, ax, k, metric, timings, locate_elbow, show, **kwargs)\u001b[0m\n\u001b[1;32m    505\u001b[0m         \u001b[0;34m**\u001b[0m\u001b[0mkwargs\u001b[0m\u001b[0;34m\u001b[0m\u001b[0;34m\u001b[0m\u001b[0m\n\u001b[1;32m    506\u001b[0m     )\n\u001b[0;32m--> 507\u001b[0;31m     \u001b[0moz\u001b[0m\u001b[0;34m.\u001b[0m\u001b[0mfit\u001b[0m\u001b[0;34m(\u001b[0m\u001b[0mX\u001b[0m\u001b[0;34m,\u001b[0m \u001b[0my\u001b[0m\u001b[0;34m,\u001b[0m \u001b[0;34m**\u001b[0m\u001b[0mfit_kwargs\u001b[0m\u001b[0;34m)\u001b[0m\u001b[0;34m\u001b[0m\u001b[0;34m\u001b[0m\u001b[0m\n\u001b[0m\u001b[1;32m    508\u001b[0m \u001b[0;34m\u001b[0m\u001b[0m\n\u001b[1;32m    509\u001b[0m     \u001b[0;32mif\u001b[0m \u001b[0mshow\u001b[0m\u001b[0;34m:\u001b[0m\u001b[0;34m\u001b[0m\u001b[0;34m\u001b[0m\u001b[0m\n",
            "\u001b[0;32m/usr/local/lib/python3.7/dist-packages/yellowbrick/cluster/elbow.py\u001b[0m in \u001b[0;36mfit\u001b[0;34m(self, X, y, **kwargs)\u001b[0m\n\u001b[1;32m    310\u001b[0m             \u001b[0;31m# Set the k value and fit the model\u001b[0m\u001b[0;34m\u001b[0m\u001b[0;34m\u001b[0m\u001b[0;34m\u001b[0m\u001b[0m\n\u001b[1;32m    311\u001b[0m             \u001b[0mself\u001b[0m\u001b[0;34m.\u001b[0m\u001b[0mestimator\u001b[0m\u001b[0;34m.\u001b[0m\u001b[0mset_params\u001b[0m\u001b[0;34m(\u001b[0m\u001b[0mn_clusters\u001b[0m\u001b[0;34m=\u001b[0m\u001b[0mk\u001b[0m\u001b[0;34m)\u001b[0m\u001b[0;34m\u001b[0m\u001b[0;34m\u001b[0m\u001b[0m\n\u001b[0;32m--> 312\u001b[0;31m             \u001b[0mself\u001b[0m\u001b[0;34m.\u001b[0m\u001b[0mestimator\u001b[0m\u001b[0;34m.\u001b[0m\u001b[0mfit\u001b[0m\u001b[0;34m(\u001b[0m\u001b[0mX\u001b[0m\u001b[0;34m,\u001b[0m \u001b[0;34m**\u001b[0m\u001b[0mkwargs\u001b[0m\u001b[0;34m)\u001b[0m\u001b[0;34m\u001b[0m\u001b[0;34m\u001b[0m\u001b[0m\n\u001b[0m\u001b[1;32m    313\u001b[0m \u001b[0;34m\u001b[0m\u001b[0m\n\u001b[1;32m    314\u001b[0m             \u001b[0;31m# Append the time and score to our plottable metrics\u001b[0m\u001b[0;34m\u001b[0m\u001b[0;34m\u001b[0m\u001b[0;34m\u001b[0m\u001b[0m\n",
            "\u001b[0;32m/usr/local/lib/python3.7/dist-packages/sklearn/cluster/_kmeans.py\u001b[0m in \u001b[0;36mfit\u001b[0;34m(self, X, y, sample_weight)\u001b[0m\n\u001b[1;32m    935\u001b[0m                     \u001b[0mmax_iter\u001b[0m\u001b[0;34m=\u001b[0m\u001b[0mself\u001b[0m\u001b[0;34m.\u001b[0m\u001b[0mmax_iter\u001b[0m\u001b[0;34m,\u001b[0m \u001b[0minit\u001b[0m\u001b[0;34m=\u001b[0m\u001b[0minit\u001b[0m\u001b[0;34m,\u001b[0m \u001b[0mverbose\u001b[0m\u001b[0;34m=\u001b[0m\u001b[0mself\u001b[0m\u001b[0;34m.\u001b[0m\u001b[0mverbose\u001b[0m\u001b[0;34m,\u001b[0m\u001b[0;34m\u001b[0m\u001b[0;34m\u001b[0m\u001b[0m\n\u001b[1;32m    936\u001b[0m                     \u001b[0mprecompute_distances\u001b[0m\u001b[0;34m=\u001b[0m\u001b[0mprecompute_distances\u001b[0m\u001b[0;34m,\u001b[0m \u001b[0mtol\u001b[0m\u001b[0;34m=\u001b[0m\u001b[0mtol\u001b[0m\u001b[0;34m,\u001b[0m\u001b[0;34m\u001b[0m\u001b[0;34m\u001b[0m\u001b[0m\n\u001b[0;32m--> 937\u001b[0;31m                     x_squared_norms=x_squared_norms, random_state=seed)\n\u001b[0m\u001b[1;32m    938\u001b[0m                 \u001b[0;31m# determine if these results are the best so far\u001b[0m\u001b[0;34m\u001b[0m\u001b[0;34m\u001b[0m\u001b[0;34m\u001b[0m\u001b[0m\n\u001b[1;32m    939\u001b[0m                 \u001b[0;32mif\u001b[0m \u001b[0mbest_inertia\u001b[0m \u001b[0;32mis\u001b[0m \u001b[0;32mNone\u001b[0m \u001b[0;32mor\u001b[0m \u001b[0minertia\u001b[0m \u001b[0;34m<\u001b[0m \u001b[0mbest_inertia\u001b[0m\u001b[0;34m:\u001b[0m\u001b[0;34m\u001b[0m\u001b[0;34m\u001b[0m\u001b[0m\n",
            "\u001b[0;32m/usr/local/lib/python3.7/dist-packages/sklearn/cluster/_kmeans.py\u001b[0m in \u001b[0;36m_kmeans_single_lloyd\u001b[0;34m(X, sample_weight, n_clusters, max_iter, init, verbose, x_squared_norms, random_state, tol, precompute_distances)\u001b[0m\n\u001b[1;32m    422\u001b[0m             _labels_inertia(X, sample_weight, x_squared_norms, centers,\n\u001b[1;32m    423\u001b[0m                             \u001b[0mprecompute_distances\u001b[0m\u001b[0;34m=\u001b[0m\u001b[0mprecompute_distances\u001b[0m\u001b[0;34m,\u001b[0m\u001b[0;34m\u001b[0m\u001b[0;34m\u001b[0m\u001b[0m\n\u001b[0;32m--> 424\u001b[0;31m                             distances=distances)\n\u001b[0m\u001b[1;32m    425\u001b[0m \u001b[0;34m\u001b[0m\u001b[0m\n\u001b[1;32m    426\u001b[0m         \u001b[0;31m# computation of the means is also called the M-step of EM\u001b[0m\u001b[0;34m\u001b[0m\u001b[0;34m\u001b[0m\u001b[0;34m\u001b[0m\u001b[0m\n",
            "\u001b[0;32m/usr/local/lib/python3.7/dist-packages/sklearn/cluster/_kmeans.py\u001b[0m in \u001b[0;36m_labels_inertia\u001b[0;34m(X, sample_weight, x_squared_norms, centers, precompute_distances, distances)\u001b[0m\n\u001b[1;32m    555\u001b[0m         inertia = _k_means._assign_labels_csr(\n\u001b[1;32m    556\u001b[0m             \u001b[0mX\u001b[0m\u001b[0;34m,\u001b[0m \u001b[0msample_weight\u001b[0m\u001b[0;34m,\u001b[0m \u001b[0mx_squared_norms\u001b[0m\u001b[0;34m,\u001b[0m \u001b[0mcenters\u001b[0m\u001b[0;34m,\u001b[0m \u001b[0mlabels\u001b[0m\u001b[0;34m,\u001b[0m\u001b[0;34m\u001b[0m\u001b[0;34m\u001b[0m\u001b[0m\n\u001b[0;32m--> 557\u001b[0;31m             distances=distances)\n\u001b[0m\u001b[1;32m    558\u001b[0m     \u001b[0;32melse\u001b[0m\u001b[0;34m:\u001b[0m\u001b[0;34m\u001b[0m\u001b[0;34m\u001b[0m\u001b[0m\n\u001b[1;32m    559\u001b[0m         \u001b[0;32mif\u001b[0m \u001b[0mprecompute_distances\u001b[0m\u001b[0;34m:\u001b[0m\u001b[0;34m\u001b[0m\u001b[0;34m\u001b[0m\u001b[0m\n",
            "\u001b[0;31mKeyboardInterrupt\u001b[0m: "
          ]
        }
      ]
    },
    {
      "cell_type": "markdown",
      "metadata": {
        "id": "hTG7fO1Xymft"
      },
      "source": [
        "K-means clustering doesn't seem to work sell for both words and documents. The variety in meanings (of words) and topics (for documents) is probably the reason why we get a fairly smooth curve plot with the elbow method"
      ]
    },
    {
      "cell_type": "markdown",
      "metadata": {
        "id": "G2UVXDBwJnv0"
      },
      "source": [
        "### Cluster on words"
      ]
    },
    {
      "cell_type": "markdown",
      "metadata": {
        "id": "U5uYNDGMJnwB"
      },
      "source": [
        "K-means clustering doesn't seem to work sell for both words and documents. The variety in meanings (of words) and topics (for documents) is probably the reason why we get a fairly smooth curve plot with the elbow method"
      ]
    },
    {
      "cell_type": "markdown",
      "metadata": {
        "id": "M0a62YOwJ2HA"
      },
      "source": [
        "### Word Cloud\n"
      ]
    },
    {
      "cell_type": "code",
      "metadata": {
        "id": "FliVA5PTL5H4"
      },
      "source": [
        "#cloud_stop = stop_words.extend([\"covid\", \"coronavirus\", \"case\", \"covid-19\", \"peopl\", \"covid19\"])\n",
        "cloud_stop = set(STOPWORDS)\n",
        "cloud_stop.update([\"covid\", \"coronavirus\", \"case\", \"covid-19\", \"peopl\", \"covid19\", \"amp\"])"
      ],
      "execution_count": 62,
      "outputs": []
    },
    {
      "cell_type": "code",
      "metadata": {
        "id": "XPlOIIfQJ9Ax"
      },
      "source": [
        "# for all text\n",
        "all_text = \" \".join(tweet for tweet in df.tweet)\n",
        "wordcloud = WordCloud(stopwords=cloud_stop, background_color=\"white\").generate(all_text)"
      ],
      "execution_count": 63,
      "outputs": []
    },
    {
      "cell_type": "code",
      "metadata": {
        "colab": {
          "base_uri": "https://localhost:8080/",
          "height": 254
        },
        "id": "K5aAitORKpwc",
        "outputId": "8affe25a-3e67-4b6d-a509-0e0abb7525ab"
      },
      "source": [
        "plt.imshow(wordcloud, interpolation='bilinear')\n",
        "plt.axis(\"off\")\n",
        "plt.show()"
      ],
      "execution_count": 64,
      "outputs": [
        {
          "output_type": "display_data",
          "data": {
            "image/png": "[encoded data removed]",
            "text/plain": [
              "<Figure size 576x396 with 1 Axes>"
            ]
          },
          "metadata": {}
        }
      ]
    },
    {
      "cell_type": "code",
      "metadata": {
        "id": "uEjfcp-_LDf2"
      },
      "source": [
        "# for fakes\n",
        "fake_text = \" \".join(tweet for tweet in df[df['label']== 'fake'].tweet)\n",
        "fake_cloud = WordCloud(stopwords=cloud_stop, background_color=\"white\").generate(fake_text)"
      ],
      "execution_count": 65,
      "outputs": []
    },
    {
      "cell_type": "code",
      "metadata": {
        "colab": {
          "base_uri": "https://localhost:8080/",
          "height": 254
        },
        "id": "Vms-foejLTKZ",
        "outputId": "22100050-5190-4922-9ef4-7e21d7b418b9"
      },
      "source": [
        "plt.imshow(fake_cloud, interpolation='bilinear')\n",
        "plt.axis(\"off\")\n",
        "plt.show()"
      ],
      "execution_count": 66,
      "outputs": [
        {
          "output_type": "display_data",
          "data": {
            "image/png": "[encoded data removed]",
            "text/plain": [
              "<Figure size 576x396 with 1 Axes>"
            ]
          },
          "metadata": {}
        }
      ]
    },
    {
      "cell_type": "code",
      "metadata": {
        "id": "pghIjb93LlQl"
      },
      "source": [
        "# for real\n",
        "real_text = \" \".join(tweet for tweet in df[df['label']== 'real'].tweet)\n",
        "real_cloud = WordCloud(stopwords=cloud_stop, background_color=\"white\").generate(real_text)"
      ],
      "execution_count": 67,
      "outputs": []
    },
    {
      "cell_type": "code",
      "metadata": {
        "colab": {
          "base_uri": "https://localhost:8080/",
          "height": 254
        },
        "id": "ljTsEjULLsaM",
        "outputId": "7059da81-b39a-4a80-a241-43f97f19e32c"
      },
      "source": [
        "plt.imshow(real_cloud, interpolation='bilinear')\n",
        "plt.axis(\"off\")\n",
        "plt.show()"
      ],
      "execution_count": 68,
      "outputs": [
        {
          "output_type": "display_data",
          "data": {
            "image/png": "[encoded data removed]",
            "text/plain": [
              "<Figure size 576x396 with 1 Axes>"
            ]
          },
          "metadata": {}
        }
      ]
    },
    {
      "cell_type": "markdown",
      "metadata": {
        "id": "0HrOa37oa0DE"
      },
      "source": [
        "# Model Building"
      ]
    },
    {
      "cell_type": "markdown",
      "metadata": {
        "id": "WDUB9AMZa0DE"
      },
      "source": [
        "## Deep Learning : TextCNN"
      ]
    },
    {
      "cell_type": "markdown",
      "metadata": {
        "id": "AzlXSyT-a0DF"
      },
      "source": [
        "### Using Word2Vec Vectorisation"
      ]
    },
    {
      "cell_type": "code",
      "metadata": {
        "colab": {
          "base_uri": "https://localhost:8080/"
        },
        "id": "aAaS0zg3a0DF",
        "outputId": "80d435c8-558d-4304-a122-69cdf073b036"
      },
      "source": [
        "cnn_word2vec_model = tf.keras.Sequential([\n",
        "    layers.Embedding(vocab_size, W2V_SIZE, weights=[embedding_matrix], input_length=SEQUENCE_LENGTH, trainable=False),\n",
        "    layers. Conv1D(128, 5, activation='relu'),\n",
        "    layers.GlobalMaxPooling1D(),\n",
        "    layers.Dense(10, activation='relu'),\n",
        "    tf.keras.layers.Dense(1, activation='sigmoid')\n",
        "])\n",
        "\n",
        "cnn_word2vec_model.summary()"
      ],
      "execution_count": 69,
      "outputs": [
        {
          "output_type": "stream",
          "name": "stdout",
          "text": [
            "Model: \"sequential\"\n",
            "_________________________________________________________________\n",
            " Layer (type)                Output Shape              Param #   \n",
            "=================================================================\n",
            " embedding (Embedding)       (None, 300, 300)          3326400   \n",
            "                                                                 \n",
            " conv1d (Conv1D)             (None, 296, 128)          192128    \n",
            "                                                                 \n",
            " global_max_pooling1d (Globa  (None, 128)              0         \n",
            " lMaxPooling1D)                                                  \n",
            "                                                                 \n",
            " dense (Dense)               (None, 10)                1290      \n",
            "                                                                 \n",
            " dense_1 (Dense)             (None, 1)                 11        \n",
            "                                                                 \n",
            "=================================================================\n",
            "Total params: 3,519,829\n",
            "Trainable params: 193,429\n",
            "Non-trainable params: 3,326,400\n",
            "_________________________________________________________________\n"
          ]
        }
      ]
    },
    {
      "cell_type": "code",
      "metadata": {
        "colab": {
          "base_uri": "https://localhost:8080/"
        },
        "id": "ybb6Iqb3a0DF",
        "outputId": "97b6e298-fa73-4a35-aa37-bde4c902b7c8"
      },
      "source": [
        "cnn_word2vec_model.compile(loss='binary_crossentropy',\n",
        "              optimizer=\"adam\",\n",
        "              metrics=['accuracy','Precision','Recall','AUC'])\n",
        "\n",
        "callbacks = [ ReduceLROnPlateau(monitor='val_loss', patience=5, cooldown=0),\n",
        "              EarlyStopping(monitor='val_accuracy', min_delta=1e-4, patience=5)]\n",
        "\n",
        "history = cnn_word2vec_model.fit(x_train_word2vec , y_train_word2vec ,\n",
        "                    batch_size=BATCH_SIZE,\n",
        "                    epochs=EPOCHS,\n",
        "                    validation_split=0.1,\n",
        "                    verbose=1,\n",
        "                    callbacks=callbacks)"
      ],
      "execution_count": 70,
      "outputs": [
        {
          "output_type": "stream",
          "name": "stdout",
          "text": [
            "Epoch 1/32\n",
            "7/7 [==============================] - 34s 356ms/step - loss: 0.5308 - accuracy: 0.7514 - precision: 0.7812 - recall: 0.7307 - auc: 0.8120 - val_loss: 0.3084 - val_accuracy: 0.8628 - val_precision: 0.8507 - val_recall: 0.9096 - val_auc: 0.9459 - lr: 0.0010\n",
            "Epoch 2/32\n",
            "7/7 [==============================] - 2s 215ms/step - loss: 0.2992 - accuracy: 0.8716 - precision: 0.8756 - recall: 0.8802 - auc: 0.9471 - val_loss: 0.2755 - val_accuracy: 0.8847 - val_precision: 0.9046 - val_recall: 0.8830 - val_auc: 0.9544 - lr: 0.0010\n",
            "Epoch 3/32\n",
            "7/7 [==============================] - 2s 214ms/step - loss: 0.2658 - accuracy: 0.8883 - precision: 0.9045 - recall: 0.8799 - auc: 0.9570 - val_loss: 0.2468 - val_accuracy: 0.8920 - val_precision: 0.8974 - val_recall: 0.9069 - val_auc: 0.9628 - lr: 0.0010\n",
            "Epoch 4/32\n",
            "7/7 [==============================] - 1s 212ms/step - loss: 0.2341 - accuracy: 0.9040 - precision: 0.9244 - recall: 0.8898 - auc: 0.9662 - val_loss: 0.2367 - val_accuracy: 0.8905 - val_precision: 0.9013 - val_recall: 0.8989 - val_auc: 0.9659 - lr: 0.0010\n",
            "Epoch 5/32\n",
            "7/7 [==============================] - 2s 213ms/step - loss: 0.2216 - accuracy: 0.9104 - precision: 0.9221 - recall: 0.9056 - auc: 0.9706 - val_loss: 0.2397 - val_accuracy: 0.8832 - val_precision: 0.8756 - val_recall: 0.9176 - val_auc: 0.9673 - lr: 0.0010\n",
            "Epoch 6/32\n",
            "7/7 [==============================] - 1s 212ms/step - loss: 0.2087 - accuracy: 0.9165 - precision: 0.9220 - recall: 0.9186 - auc: 0.9746 - val_loss: 0.2299 - val_accuracy: 0.8949 - val_precision: 0.9086 - val_recall: 0.8989 - val_auc: 0.9680 - lr: 0.0010\n",
            "Epoch 7/32\n",
            "7/7 [==============================] - 2s 215ms/step - loss: 0.1986 - accuracy: 0.9175 - precision: 0.9385 - recall: 0.9019 - auc: 0.9763 - val_loss: 0.2316 - val_accuracy: 0.8920 - val_precision: 0.9081 - val_recall: 0.8936 - val_auc: 0.9673 - lr: 0.0010\n",
            "Epoch 8/32\n",
            "7/7 [==============================] - 1s 212ms/step - loss: 0.1880 - accuracy: 0.9229 - precision: 0.9339 - recall: 0.9180 - auc: 0.9783 - val_loss: 0.2314 - val_accuracy: 0.8964 - val_precision: 0.9045 - val_recall: 0.9069 - val_auc: 0.9685 - lr: 0.0010\n",
            "Epoch 9/32\n",
            "7/7 [==============================] - 2s 214ms/step - loss: 0.1787 - accuracy: 0.9260 - precision: 0.9334 - recall: 0.9248 - auc: 0.9808 - val_loss: 0.2237 - val_accuracy: 0.9007 - val_precision: 0.9208 - val_recall: 0.8963 - val_auc: 0.9699 - lr: 0.0010\n",
            "Epoch 10/32\n",
            "7/7 [==============================] - 2s 213ms/step - loss: 0.1688 - accuracy: 0.9339 - precision: 0.9569 - recall: 0.9152 - auc: 0.9837 - val_loss: 0.2219 - val_accuracy: 0.8949 - val_precision: 0.9176 - val_recall: 0.8883 - val_auc: 0.9704 - lr: 0.0010\n",
            "Epoch 11/32\n",
            "7/7 [==============================] - 2s 214ms/step - loss: 0.1598 - accuracy: 0.9381 - precision: 0.9527 - recall: 0.9282 - auc: 0.9856 - val_loss: 0.2205 - val_accuracy: 0.8993 - val_precision: 0.9137 - val_recall: 0.9016 - val_auc: 0.9707 - lr: 0.0010\n",
            "Epoch 12/32\n",
            "7/7 [==============================] - 1s 211ms/step - loss: 0.1562 - accuracy: 0.9430 - precision: 0.9583 - recall: 0.9319 - auc: 0.9872 - val_loss: 0.2214 - val_accuracy: 0.8964 - val_precision: 0.9067 - val_recall: 0.9043 - val_auc: 0.9709 - lr: 0.0010\n",
            "Epoch 13/32\n",
            "7/7 [==============================] - 1s 212ms/step - loss: 0.1488 - accuracy: 0.9432 - precision: 0.9478 - recall: 0.9437 - auc: 0.9878 - val_loss: 0.2215 - val_accuracy: 0.8891 - val_precision: 0.8989 - val_recall: 0.8989 - val_auc: 0.9710 - lr: 0.0010\n",
            "Epoch 14/32\n",
            "7/7 [==============================] - 2s 213ms/step - loss: 0.1390 - accuracy: 0.9471 - precision: 0.9578 - recall: 0.9406 - auc: 0.9888 - val_loss: 0.2175 - val_accuracy: 0.8949 - val_precision: 0.9086 - val_recall: 0.8989 - val_auc: 0.9721 - lr: 0.0010\n"
          ]
        }
      ]
    },
    {
      "cell_type": "code",
      "metadata": {
        "colab": {
          "base_uri": "https://localhost:8080/"
        },
        "id": "5GXdgoD1a0DF",
        "outputId": "c2c5b947-5d47-4955-ea57-84a92828228e"
      },
      "source": [
        "score_cnn_word2vec = cnn_word2vec_model.evaluate(x_test_word2vec , y_test_word2vec , batch_size=BATCH_SIZE)\n",
        "print()\n",
        "\n",
        "print(\"LOSS:\",score_cnn_word2vec[0])\n",
        "print(\"ACCURACY:\",score_cnn_word2vec[1])\n",
        "print(\"PRECISION:\",score_cnn_word2vec[2])\n",
        "print(\"RECALL:\",score_cnn_word2vec[3])\n",
        "print(\"AUC:\",score_cnn_word2vec[4])"
      ],
      "execution_count": 71,
      "outputs": [
        {
          "output_type": "stream",
          "name": "stdout",
          "text": [
            "2/2 [==============================] - 0s 315ms/step - loss: 0.2075 - accuracy: 0.9130 - precision: 0.9104 - recall: 0.9198 - auc: 0.9749\n",
            "\n",
            "LOSS: 0.20752188563346863\n",
            "ACCURACY: 0.9129672646522522\n",
            "PRECISION: 0.9104308485984802\n",
            "RECALL: 0.9198167324066162\n",
            "AUC: 0.9748678803443909\n"
          ]
        }
      ]
    },
    {
      "cell_type": "markdown",
      "metadata": {
        "id": "z6zjkjEia0DF"
      },
      "source": [
        "### Using TF-IDF Vectorisation"
      ]
    },
    {
      "cell_type": "code",
      "metadata": {
        "colab": {
          "base_uri": "https://localhost:8080/"
        },
        "id": "eHgdgyata0DG",
        "outputId": "97445eda-a3f8-4a27-eaaf-d0299a943e9f"
      },
      "source": [
        "x_train_tfidf.shape"
      ],
      "execution_count": 72,
      "outputs": [
        {
          "output_type": "execute_result",
          "data": {
            "text/plain": [
              "(6844, 11056)"
            ]
          },
          "metadata": {},
          "execution_count": 72
        }
      ]
    },
    {
      "cell_type": "code",
      "metadata": {
        "colab": {
          "base_uri": "https://localhost:8080/"
        },
        "id": "KJIdJkzPa0DH",
        "outputId": "271f86bf-907c-4deb-aad3-498ad3581186"
      },
      "source": [
        "cnn_tfidf_model = tf.keras.Sequential([\n",
        "    layers.Conv1D(128, 5, activation='relu', input_shape=(None,1)),\n",
        "    layers.GlobalMaxPooling1D(),\n",
        "    layers.Dense(10, activation='relu'),\n",
        "    tf.keras.layers.Dense(1, activation='sigmoid')\n",
        "])\n",
        "\n",
        "cnn_tfidf_model.summary()"
      ],
      "execution_count": 73,
      "outputs": [
        {
          "output_type": "stream",
          "name": "stdout",
          "text": [
            "Model: \"sequential_1\"\n",
            "_________________________________________________________________\n",
            " Layer (type)                Output Shape              Param #   \n",
            "=================================================================\n",
            " conv1d_1 (Conv1D)           (None, None, 128)         768       \n",
            "                                                                 \n",
            " global_max_pooling1d_1 (Glo  (None, 128)              0         \n",
            " balMaxPooling1D)                                                \n",
            "                                                                 \n",
            " dense_2 (Dense)             (None, 10)                1290      \n",
            "                                                                 \n",
            " dense_3 (Dense)             (None, 1)                 11        \n",
            "                                                                 \n",
            "=================================================================\n",
            "Total params: 2,069\n",
            "Trainable params: 2,069\n",
            "Non-trainable params: 0\n",
            "_________________________________________________________________\n"
          ]
        }
      ]
    },
    {
      "cell_type": "code",
      "metadata": {
        "id": "qpbt7YSokdxR"
      },
      "source": [
        "def batch_generator(x, y, batch_size):\n",
        "    samples_per_epoch = x.shape[0]\n",
        "    number_of_batches = samples_per_epoch/batch_size\n",
        "    counter=0\n",
        "    index = np.arange(np.shape(y)[0])\n",
        "    while 1:\n",
        "        index_batch = index[batch_size*counter:batch_size*(counter+1)]\n",
        "        x_batch = x[index_batch,:].toarray()\n",
        "        y_batch = y[min(index_batch):max(index_batch)+1]\n",
        "        counter += 1\n",
        "        x_batch = np.expand_dims(x_batch, axis=2)\n",
        "        #print(X_batch.shape)\n",
        "        yield x_batch, np.array(y_batch)\n",
        "        if (counter > number_of_batches):\n",
        "            counter=0"
      ],
      "execution_count": 74,
      "outputs": []
    },
    {
      "cell_type": "code",
      "metadata": {
        "id": "6p7ps50Il_l2"
      },
      "source": [
        "y_train = list(y_train_word2vec)"
      ],
      "execution_count": 75,
      "outputs": []
    },
    {
      "cell_type": "code",
      "metadata": {
        "colab": {
          "base_uri": "https://localhost:8080/"
        },
        "id": "8wxcSAa5a0DI",
        "outputId": "4587826d-f759-4398-a240-3fe237cb11e2"
      },
      "source": [
        "cnn_tfidf_model.compile(loss='binary_crossentropy',\n",
        "              optimizer=\"adam\",\n",
        "              metrics=['accuracy','Precision','Recall','AUC'])\n",
        "\n",
        "callbacks = [ ReduceLROnPlateau(monitor='val_loss', patience=5, cooldown=0),\n",
        "              EarlyStopping(monitor='val_accuracy', min_delta=1e-4, patience=5)]\n",
        "\n",
        "history = cnn_tfidf_model.fit(batch_generator(x_train_tfidf, y_train, 32),epochs=5,steps_per_epoch=x_train_tfidf.shape[0]/32)"
      ],
      "execution_count": 76,
      "outputs": [
        {
          "output_type": "stream",
          "name": "stdout",
          "text": [
            "Epoch 1/5\n",
            "213/213 [==============================] - 14s 60ms/step - loss: 0.6895 - accuracy: 0.5529 - precision: 0.6022 - recall: 0.4462 - auc: 0.5949\n",
            "Epoch 2/5\n",
            "213/213 [==============================] - 13s 60ms/step - loss: 0.6746 - accuracy: 0.6113 - precision: 0.6401 - recall: 0.5993 - auc: 0.6480\n",
            "Epoch 3/5\n",
            "213/213 [==============================] - 13s 60ms/step - loss: 0.6566 - accuracy: 0.6235 - precision: 0.6226 - recall: 0.7243 - auc: 0.6574\n",
            "Epoch 4/5\n",
            "213/213 [==============================] - 13s 60ms/step - loss: 0.6516 - accuracy: 0.6251 - precision: 0.6213 - recall: 0.7388 - auc: 0.6604\n",
            "Epoch 5/5\n",
            "213/213 [==============================] - 13s 60ms/step - loss: 0.6508 - accuracy: 0.6262 - precision: 0.6227 - recall: 0.7377 - auc: 0.6610\n"
          ]
        }
      ]
    },
    {
      "cell_type": "code",
      "metadata": {
        "id": "fn73Myl64JNO",
        "colab": {
          "base_uri": "https://localhost:8080/"
        },
        "outputId": "059b0f26-ed1c-49a8-8a91-2654bc8a910f"
      },
      "source": [
        "x_test_tfidf = np.expand_dims(x_test_tfidf.toarray(), axis=2)\n",
        "score_cnn_tfidf = cnn_tfidf_model.evaluate(x_test_tfidf, y_test_word2vec, batch_size=32)\n",
        "\n",
        "print()\n",
        "\n",
        "print(\"LOSS:\",score_cnn_tfidf [0])\n",
        "print(\"ACCURACY:\",score_cnn_tfidf [1])\n",
        "print(\"PRECISION:\",score_cnn_tfidf [2])\n",
        "print(\"RECALL:\",score_cnn_tfidf [3])\n",
        "print(\"AUC:\",score_cnn_tfidf [4])"
      ],
      "execution_count": 77,
      "outputs": [
        {
          "output_type": "stream",
          "name": "stdout",
          "text": [
            "54/54 [==============================] - 2s 28ms/step - loss: 0.6602 - accuracy: 0.6051 - precision: 0.5807 - recall: 0.8121 - auc: 0.6575\n",
            "\n",
            "LOSS: 0.6602473855018616\n",
            "ACCURACY: 0.605140209197998\n",
            "PRECISION: 0.5806716084480286\n",
            "RECALL: 0.812142014503479\n",
            "AUC: 0.6574912667274475\n"
          ]
        }
      ]
    },
    {
      "cell_type": "markdown",
      "metadata": {
        "id": "OyI1V72Oqeua"
      },
      "source": [
        "## Deep Learning: Directional LSTM\n",
        "Model performed better with a 0.5 dropout."
      ]
    },
    {
      "cell_type": "markdown",
      "metadata": {
        "id": "JAYUXVi9qrRU"
      },
      "source": [
        "### Using Word2Vec Vectorisation"
      ]
    },
    {
      "cell_type": "code",
      "metadata": {
        "colab": {
          "base_uri": "https://localhost:8080/"
        },
        "id": "MYBwcqMhqdxw",
        "outputId": "a058920c-db6e-4bfa-b81b-3baa72eac1d7"
      },
      "source": [
        "lstm_word2vec_model = tf.keras.Sequential([\n",
        "    layers.Embedding(vocab_size, W2V_SIZE, weights=[embedding_matrix], input_length=SEQUENCE_LENGTH, trainable=False),\n",
        "    layers.LSTM(64, return_sequences=True, dropout=0.5, activation='relu'),\n",
        "    layers.GlobalMaxPooling1D(),\n",
        "    layers.Dense(10, activation='relu'),\n",
        "    tf.keras.layers.Dense(1, activation='sigmoid')\n",
        "])\n",
        "\n",
        "lstm_word2vec_model.summary()"
      ],
      "execution_count": 78,
      "outputs": [
        {
          "output_type": "stream",
          "name": "stdout",
          "text": [
            "WARNING:tensorflow:Layer lstm will not use cuDNN kernels since it doesn't meet the criteria. It will use a generic GPU kernel as fallback when running on GPU.\n",
            "Model: \"sequential_2\"\n",
            "_________________________________________________________________\n",
            " Layer (type)                Output Shape              Param #   \n",
            "=================================================================\n",
            " embedding_1 (Embedding)     (None, 300, 300)          3326400   \n",
            "                                                                 \n",
            " lstm (LSTM)                 (None, 300, 64)           93440     \n",
            "                                                                 \n",
            " global_max_pooling1d_2 (Glo  (None, 64)               0         \n",
            " balMaxPooling1D)                                                \n",
            "                                                                 \n",
            " dense_4 (Dense)             (None, 10)                650       \n",
            "                                                                 \n",
            " dense_5 (Dense)             (None, 1)                 11        \n",
            "                                                                 \n",
            "=================================================================\n",
            "Total params: 3,420,501\n",
            "Trainable params: 94,101\n",
            "Non-trainable params: 3,326,400\n",
            "_________________________________________________________________\n"
          ]
        }
      ]
    },
    {
      "cell_type": "code",
      "metadata": {
        "colab": {
          "base_uri": "https://localhost:8080/"
        },
        "id": "ldBpUlRDr7Vr",
        "outputId": "8c4d3c34-a362-43f1-c4d4-8a4d34c1ace4"
      },
      "source": [
        "lstm_word2vec_model.compile(loss='binary_crossentropy',\n",
        "              optimizer=\"adam\",\n",
        "              metrics=['accuracy','Precision','Recall','AUC'])\n",
        "\n",
        "callbacks = [ ReduceLROnPlateau(monitor='val_loss', patience=5, cooldown=0),\n",
        "              EarlyStopping(monitor='val_accuracy', min_delta=1e-4, patience=5)]\n",
        "\n",
        "lstm_word2vec_history = lstm_word2vec_model.fit(x_train_word2vec , y_train_word2vec ,\n",
        "                    batch_size=BATCH_SIZE,\n",
        "                    epochs=EPOCHS,\n",
        "                    validation_split=0.1,\n",
        "                    verbose=1,\n",
        "                    callbacks=callbacks)"
      ],
      "execution_count": 79,
      "outputs": [
        {
          "output_type": "stream",
          "name": "stdout",
          "text": [
            "Epoch 1/32\n",
            "7/7 [==============================] - 9s 983ms/step - loss: 0.5943 - accuracy: 0.6814 - precision: 0.6587 - recall: 0.8149 - auc: 0.7847 - val_loss: 0.4448 - val_accuracy: 0.7927 - val_precision: 0.7840 - val_recall: 0.8590 - val_auc: 0.8993 - lr: 0.0010\n",
            "Epoch 2/32\n",
            "7/7 [==============================] - 6s 887ms/step - loss: 0.4002 - accuracy: 0.8191 - precision: 0.8164 - recall: 0.8452 - auc: 0.9046 - val_loss: 0.3796 - val_accuracy: 0.8467 - val_precision: 0.8974 - val_recall: 0.8138 - val_auc: 0.9297 - lr: 0.0010\n",
            "Epoch 3/32\n",
            "7/7 [==============================] - 6s 913ms/step - loss: 1.7972 - accuracy: 0.8474 - precision: 0.8801 - recall: 0.8207 - auc: 0.9151 - val_loss: 3.6175 - val_accuracy: 0.8482 - val_precision: 0.8953 - val_recall: 0.8191 - val_auc: 0.9125 - lr: 0.0010\n",
            "Epoch 4/32\n",
            "7/7 [==============================] - 6s 920ms/step - loss: 3.4636 - accuracy: 0.8324 - precision: 0.8525 - recall: 0.8229 - auc: 0.8934 - val_loss: 5.9292 - val_accuracy: 0.8015 - val_precision: 0.8614 - val_recall: 0.7606 - val_auc: 0.8353 - lr: 0.0010\n",
            "Epoch 5/32\n",
            "7/7 [==============================] - 6s 926ms/step - loss: 48.9268 - accuracy: 0.7982 - precision: 0.8187 - recall: 0.7901 - auc: 0.8325 - val_loss: 62.0396 - val_accuracy: 0.7839 - val_precision: 0.8314 - val_recall: 0.7606 - val_auc: 0.8200 - lr: 0.0010\n",
            "Epoch 6/32\n",
            "7/7 [==============================] - 6s 914ms/step - loss: 99.1899 - accuracy: 0.7927 - precision: 0.7955 - recall: 0.8139 - auc: 0.8397 - val_loss: 31.8086 - val_accuracy: 0.8204 - val_precision: 0.8447 - val_recall: 0.8245 - val_auc: 0.8794 - lr: 0.0010\n",
            "Epoch 7/32\n",
            "7/7 [==============================] - 6s 917ms/step - loss: 21.8193 - accuracy: 0.8389 - precision: 0.8232 - recall: 0.8824 - auc: 0.9124 - val_loss: 0.3317 - val_accuracy: 0.8540 - val_precision: 0.8651 - val_recall: 0.8697 - val_auc: 0.9343 - lr: 0.0010\n",
            "Epoch 8/32\n",
            "7/7 [==============================] - 7s 940ms/step - loss: 0.3420 - accuracy: 0.8535 - precision: 0.8404 - recall: 0.8898 - auc: 0.9324 - val_loss: 0.3317 - val_accuracy: 0.8482 - val_precision: 0.8736 - val_recall: 0.8457 - val_auc: 0.9339 - lr: 0.0010\n",
            "Epoch 9/32\n",
            "7/7 [==============================] - 6s 934ms/step - loss: 0.3333 - accuracy: 0.8563 - precision: 0.8491 - recall: 0.8830 - auc: 0.9338 - val_loss: 0.3316 - val_accuracy: 0.8540 - val_precision: 0.8855 - val_recall: 0.8431 - val_auc: 0.9337 - lr: 0.0010\n",
            "Epoch 10/32\n",
            "7/7 [==============================] - 6s 934ms/step - loss: 0.3337 - accuracy: 0.8532 - precision: 0.8531 - recall: 0.8700 - auc: 0.9328 - val_loss: 0.3324 - val_accuracy: 0.8584 - val_precision: 0.8997 - val_recall: 0.8351 - val_auc: 0.9337 - lr: 0.0010\n",
            "Epoch 11/32\n",
            "7/7 [==============================] - 6s 924ms/step - loss: 0.3349 - accuracy: 0.8574 - precision: 0.8673 - recall: 0.8598 - auc: 0.9328 - val_loss: 0.3338 - val_accuracy: 0.8584 - val_precision: 0.9020 - val_recall: 0.8324 - val_auc: 0.9337 - lr: 0.0010\n",
            "Epoch 12/32\n",
            "7/7 [==============================] - 7s 938ms/step - loss: 0.3305 - accuracy: 0.8540 - precision: 0.8678 - recall: 0.8514 - auc: 0.9330 - val_loss: 0.3350 - val_accuracy: 0.8599 - val_precision: 0.9070 - val_recall: 0.8298 - val_auc: 0.9340 - lr: 0.0010\n",
            "Epoch 13/32\n",
            "7/7 [==============================] - 7s 965ms/step - loss: 0.3301 - accuracy: 0.8586 - precision: 0.8784 - recall: 0.8477 - auc: 0.9328 - val_loss: 0.3350 - val_accuracy: 0.8599 - val_precision: 0.9070 - val_recall: 0.8298 - val_auc: 0.9341 - lr: 1.0000e-04\n",
            "Epoch 14/32\n",
            "7/7 [==============================] - 7s 954ms/step - loss: 0.3346 - accuracy: 0.8545 - precision: 0.8743 - recall: 0.8440 - auc: 0.9315 - val_loss: 0.3348 - val_accuracy: 0.8599 - val_precision: 0.9070 - val_recall: 0.8298 - val_auc: 0.9341 - lr: 1.0000e-04\n",
            "Epoch 15/32\n",
            "7/7 [==============================] - 7s 957ms/step - loss: 0.3313 - accuracy: 0.8550 - precision: 0.8742 - recall: 0.8452 - auc: 0.9325 - val_loss: 0.3345 - val_accuracy: 0.8599 - val_precision: 0.9070 - val_recall: 0.8298 - val_auc: 0.9341 - lr: 1.0000e-04\n",
            "Epoch 16/32\n",
            "7/7 [==============================] - 7s 934ms/step - loss: 0.3290 - accuracy: 0.8545 - precision: 0.8733 - recall: 0.8452 - auc: 0.9336 - val_loss: 0.3342 - val_accuracy: 0.8599 - val_precision: 0.9070 - val_recall: 0.8298 - val_auc: 0.9342 - lr: 1.0000e-04\n",
            "Epoch 17/32\n",
            "7/7 [==============================] - 7s 952ms/step - loss: 0.3303 - accuracy: 0.8586 - precision: 0.8748 - recall: 0.8523 - auc: 0.9329 - val_loss: 0.3339 - val_accuracy: 0.8599 - val_precision: 0.9070 - val_recall: 0.8298 - val_auc: 0.9343 - lr: 1.0000e-04\n"
          ]
        }
      ]
    },
    {
      "cell_type": "code",
      "metadata": {
        "id": "BU9YQ-ZLsMG4",
        "colab": {
          "base_uri": "https://localhost:8080/"
        },
        "outputId": "f4241b99-a3c3-415f-90bf-6f6013031dbc"
      },
      "source": [
        "score_lstm_word2vec = lstm_word2vec_model.evaluate(x_test_word2vec , y_test_word2vec , batch_size=BATCH_SIZE)\n",
        "print()\n",
        "\n",
        "print(\"LOSS:\",score_lstm_word2vec[0])\n",
        "print(\"ACCURACY:\",score_lstm_word2vec[1])\n",
        "print(\"PRECISION:\",score_lstm_word2vec[2])\n",
        "print(\"RECALL:\",score_lstm_word2vec[3])\n",
        "print(\"AUC:\",score_lstm_word2vec[4])"
      ],
      "execution_count": 80,
      "outputs": [
        {
          "output_type": "stream",
          "name": "stdout",
          "text": [
            "2/2 [==============================] - 0s 133ms/step - loss: 0.3088 - accuracy: 0.8697 - precision: 0.9062 - recall: 0.8305 - auc: 0.9437\n",
            "\n",
            "LOSS: 0.3087557852268219\n",
            "ACCURACY: 0.8697429895401001\n",
            "PRECISION: 0.90625\n",
            "RECALL: 0.8304696679115295\n",
            "AUC: 0.9437242150306702\n"
          ]
        }
      ]
    },
    {
      "cell_type": "markdown",
      "metadata": {
        "id": "JIBgI3KOqsxn"
      },
      "source": [
        "### Using TF-IDF Vectorisation "
      ]
    },
    {
      "cell_type": "code",
      "metadata": {
        "id": "Wxk6jGlI42TW"
      },
      "source": [
        "# Prepare data\n",
        "y_train = list(y_train_word2vec)\n",
        "x_test_tfidf = np.expand_dims(x_test_tfidf, axis=2)"
      ],
      "execution_count": 85,
      "outputs": []
    },
    {
      "cell_type": "code",
      "metadata": {
        "colab": {
          "base_uri": "https://localhost:8080/"
        },
        "id": "CBS3w1yZsden",
        "outputId": "f51134e9-d5e9-4d6a-a6d5-d3c64cd38e44"
      },
      "source": [
        "lstm_tfidf_model = tf.keras.Sequential([\n",
        "    layers.LSTM(64, return_sequences=True, dropout=0.5, activation='relu', input_shape=(None,1)),\n",
        "    layers.GlobalMaxPooling1D(),\n",
        "    layers.Dense(10, activation='relu'),\n",
        "    tf.keras.layers.Dense(1, activation='sigmoid')\n",
        "])\n",
        "\n",
        "lstm_tfidf_model.summary()"
      ],
      "execution_count": 86,
      "outputs": [
        {
          "output_type": "stream",
          "name": "stdout",
          "text": [
            "WARNING:tensorflow:Layer lstm_1 will not use cuDNN kernels since it doesn't meet the criteria. It will use a generic GPU kernel as fallback when running on GPU.\n",
            "Model: \"sequential_3\"\n",
            "_________________________________________________________________\n",
            " Layer (type)                Output Shape              Param #   \n",
            "=================================================================\n",
            " lstm_1 (LSTM)               (None, None, 64)          16896     \n",
            "                                                                 \n",
            " global_max_pooling1d_3 (Glo  (None, 64)               0         \n",
            " balMaxPooling1D)                                                \n",
            "                                                                 \n",
            " dense_6 (Dense)             (None, 10)                650       \n",
            "                                                                 \n",
            " dense_7 (Dense)             (None, 1)                 11        \n",
            "                                                                 \n",
            "=================================================================\n",
            "Total params: 17,557\n",
            "Trainable params: 17,557\n",
            "Non-trainable params: 0\n",
            "_________________________________________________________________\n"
          ]
        }
      ]
    },
    {
      "cell_type": "code",
      "metadata": {
        "colab": {
          "base_uri": "https://localhost:8080/"
        },
        "id": "MFsp6R1Osdep",
        "outputId": "9ab2556f-dd80-436c-9eb1-f43f79b15e7e"
      },
      "source": [
        "lstm_tfidf_model.compile(loss='binary_crossentropy',\n",
        "              optimizer=\"adam\",\n",
        "              metrics=['accuracy','Precision','Recall','AUC'])\n",
        "\n",
        "callbacks = [ ReduceLROnPlateau(monitor='val_loss', patience=5, cooldown=0),\n",
        "              EarlyStopping(monitor='val_accuracy', min_delta=1e-4, patience=5)]\n",
        "\n",
        "bilstm_word2vec_history = lstm_tfidf_model.fit(batch_generator(x_train_tfidf, y_train, 32),epochs=5,steps_per_epoch=x_train_tfidf.shape[0]/32)"
      ],
      "execution_count": null,
      "outputs": [
        {
          "output_type": "stream",
          "name": "stdout",
          "text": [
            "Epoch 1/5\n",
            " 13/213 [>.............................] - ETA: 1:36:23 - loss: 0.6939 - accuracy: 0.4615 - precision: 0.4750 - recall: 0.8301 - auc: 0.4103"
          ]
        }
      ]
    },
    {
      "cell_type": "code",
      "metadata": {
        "id": "VLZYKvZPsdep"
      },
      "source": [
        "score_lstm_tfidf = lstm_tfidf_model.evaluate(x_test_tfidf, y_test_word2vec, batch_size=32)\n",
        "\n",
        "print()\n",
        "\n",
        "print(\"LOSS:\",score_lstm_tfidf [0])\n",
        "print(\"ACCURACY:\",score_lstm_tfidf [1])\n",
        "print(\"PRECISION:\",score_lstm_tfidf [2])\n",
        "print(\"RECALL:\",score_lstm_tfidf [3])\n",
        "print(\"AUC:\",score_lstm_tfidf [4])"
      ],
      "execution_count": null,
      "outputs": []
    },
    {
      "cell_type": "markdown",
      "metadata": {
        "id": "eub-QtQ642TV"
      },
      "source": [
        "## Deep Learning: Bi-Directional LSTM"
      ]
    },
    {
      "cell_type": "markdown",
      "metadata": {
        "id": "8P9ckWTA42TV"
      },
      "source": [
        "### Using Word2Vec Vectorisation"
      ]
    },
    {
      "cell_type": "code",
      "metadata": {
        "id": "bT7xAV2K42TV"
      },
      "source": [
        "bilstm_word2vec_model = tf.keras.Sequential([\n",
        "    layers.Embedding(vocab_size, W2V_SIZE, weights=[embedding_matrix], input_length=SEQUENCE_LENGTH, trainable=False),\n",
        "    layers.Bidirectional(layers.LSTM(64, return_sequences=True, dropout=0.5, activation='relu')),\n",
        "    layers.GlobalMaxPooling1D(),\n",
        "    layers.Dense(10, activation='relu'),\n",
        "    tf.keras.layers.Dense(1, activation='sigmoid')\n",
        "])\n",
        "\n",
        "bilstm_word2vec_model.summary()"
      ],
      "execution_count": null,
      "outputs": []
    },
    {
      "cell_type": "code",
      "metadata": {
        "id": "dHJQM_qB42TV"
      },
      "source": [
        "bilstm_word2vec_model.compile(loss='binary_crossentropy',\n",
        "              optimizer=\"adam\",\n",
        "              metrics=['accuracy','Precision','Recall','AUC'])\n",
        "\n",
        "callbacks = [ ReduceLROnPlateau(monitor='val_loss', patience=5, cooldown=0),\n",
        "              EarlyStopping(monitor='val_accuracy', min_delta=1e-4, patience=5)]\n",
        "\n",
        "bilstm_word2vec_history = bilstm_word2vec_model.fit(x_train_word2vec , y_train_word2vec ,\n",
        "                    batch_size=BATCH_SIZE,\n",
        "                    epochs=EPOCHS,\n",
        "                    validation_split=0.1,\n",
        "                    verbose=1,\n",
        "                    callbacks=callbacks)"
      ],
      "execution_count": null,
      "outputs": []
    },
    {
      "cell_type": "code",
      "metadata": {
        "id": "VDau8BrZ42TW"
      },
      "source": [
        "score_bilstm_word2vec = bilstm_word2vec_model.evaluate(x_test_word2vec , y_test_word2vec , batch_size=BATCH_SIZE)\n",
        "print()\n",
        "\n",
        "print(\"LOSS:\",score_bilstm_word2vec[0])\n",
        "print(\"ACCURACY:\",score_bilstm_word2vec[1])\n",
        "print(\"PRECISION:\",score_bilstm_word2vec[2])\n",
        "print(\"RECALL:\",score_bilstm_word2vec[3])\n",
        "print(\"AUC:\",score_bilstm_word2vec[4])"
      ],
      "execution_count": null,
      "outputs": []
    },
    {
      "cell_type": "markdown",
      "metadata": {
        "id": "YKil9lYt42TW"
      },
      "source": [
        "### Using TF-IDF Vectorisation "
      ]
    },
    {
      "cell_type": "code",
      "metadata": {
        "id": "xlhStEGS42TW"
      },
      "source": [
        "bilstm_tfidf_model = tf.keras.Sequential([\n",
        "    layers.Bidirectional(layers.LSTM(100, return_sequences=True, activation='relu')),\n",
        "    layers.GlobalMaxPooling1D(),\n",
        "    layers.Dense(10, activation='relu'),\n",
        "    tf.keras.layers.Dense(1, activation='sigmoid')\n",
        "])\n",
        "\n",
        "bilstm_tfidf_model.summary()"
      ],
      "execution_count": null,
      "outputs": []
    },
    {
      "cell_type": "code",
      "metadata": {
        "id": "xolrSeOe42TW"
      },
      "source": [
        "bilstm_tfidf_model.compile(loss='binary_crossentropy',\n",
        "              optimizer=\"adam\",\n",
        "              metrics=['accuracy','Precision','Recall','AUC'])\n",
        "\n",
        "callbacks = [ ReduceLROnPlateau(monitor='val_loss', patience=5, cooldown=0),\n",
        "              EarlyStopping(monitor='val_accuracy', min_delta=1e-4, patience=5)]\n",
        "\n",
        "bilstm_word2vec_history = bilstm_tfidf_model.fit(batch_generator(x_train_tfidf, y_train, 32),epochs=5,steps_per_epoch=x_train_tfidf.shape[0]/32)"
      ],
      "execution_count": null,
      "outputs": []
    },
    {
      "cell_type": "code",
      "metadata": {
        "id": "yuXucQlB42TW"
      },
      "source": [
        "score_bilstm_tfidf = bilstm_tfidf_model.evaluate(x_test_tfidf, y_test_word2vec, batch_size=32)\n",
        "\n",
        "print()\n",
        "\n",
        "print(\"LOSS:\",score_bilstm_tfidf [0])\n",
        "print(\"ACCURACY:\",score_bilstm_tfidf [1])\n",
        "print(\"PRECISION:\",score_bilstm_tfidf [2])\n",
        "print(\"RECALL:\",score_bilstm_tfidf [3])\n",
        "print(\"AUC:\",score_bilstm_tfidf [4])"
      ],
      "execution_count": null,
      "outputs": []
    },
    {
      "cell_type": "code",
      "metadata": {
        "id": "p8FEUZwUIdNA"
      },
      "source": [
        ""
      ],
      "execution_count": null,
      "outputs": []
    },
    {
      "cell_type": "markdown",
      "metadata": {
        "id": "utV94B9fIdeq"
      },
      "source": [
        "## Deep Learning: CNN-LSTM"
      ]
    },
    {
      "cell_type": "markdown",
      "metadata": {
        "id": "n8ocCTT7Ider"
      },
      "source": [
        "### Using Word2Vec Vectorisation"
      ]
    },
    {
      "cell_type": "code",
      "metadata": {
        "id": "8-TVRtVVIder"
      },
      "source": [
        "cnnlstm_word2vec_model = tf.keras.Sequential([\n",
        "    layers.Embedding(vocab_size, W2V_SIZE, weights=[embedding_matrix], input_length=SEQUENCE_LENGTH, trainable=False),\n",
        "    layers.Conv1D(128, 5, activation='relu'),\n",
        "    layers.MaxPooling1D(pool_size=2),\n",
        "    layers.LSTM(100, return_sequences=True, dropout=0.5, activation='relu'),\n",
        "    layers.GlobalMaxPooling1D(),\n",
        "    layers.Dense(10, activation='relu'),\n",
        "    tf.keras.layers.Dense(1, activation='sigmoid')\n",
        "])\n",
        "\n",
        "cnnlstm_word2vec_model.summary()"
      ],
      "execution_count": null,
      "outputs": []
    },
    {
      "cell_type": "code",
      "metadata": {
        "id": "AXy0JixoIder"
      },
      "source": [
        "cnnlstm_word2vec_model.compile(loss='binary_crossentropy',\n",
        "              optimizer=\"adam\",\n",
        "              metrics=['accuracy','Precision','Recall','AUC'])\n",
        "\n",
        "callbacks = [ ReduceLROnPlateau(monitor='val_loss', patience=5, cooldown=0),\n",
        "              EarlyStopping(monitor='val_accuracy', min_delta=1e-4, patience=5)]\n",
        "\n",
        "cnnlstm_word2vec_history = cnnlstm_word2vec_model.fit(x_train_word2vec , y_train_word2vec ,\n",
        "                    batch_size=BATCH_SIZE,\n",
        "                    epochs=EPOCHS,\n",
        "                    validation_split=0.1,\n",
        "                    verbose=1,\n",
        "                    callbacks=callbacks)"
      ],
      "execution_count": null,
      "outputs": []
    },
    {
      "cell_type": "code",
      "metadata": {
        "id": "zhpxddgFIder"
      },
      "source": [
        "score_cnnlstm_word2vec = cnnlstm_word2vec_model.evaluate(x_test_word2vec , y_test_word2vec , batch_size=BATCH_SIZE)\n",
        "print()\n",
        "\n",
        "print(\"LOSS:\",score_cnnlstm_word2vec[0])\n",
        "print(\"ACCURACY:\",score_cnnlstm_word2vec[1])\n",
        "print(\"PRECISION:\",score_cnnlstm_word2vec[2])\n",
        "print(\"RECALL:\",score_cnnlstm_word2vec[3])\n",
        "print(\"AUC:\",score_cnnlstm_word2vec[4])"
      ],
      "execution_count": null,
      "outputs": []
    },
    {
      "cell_type": "markdown",
      "metadata": {
        "id": "CraIE5n1eJqI"
      },
      "source": [
        "## Deep Learning: LSTM-CNN"
      ]
    },
    {
      "cell_type": "markdown",
      "metadata": {
        "id": "vBkTiELmeJqJ"
      },
      "source": [
        "### Using Word2Vec Vectorisation"
      ]
    },
    {
      "cell_type": "code",
      "metadata": {
        "id": "5nKqT8FueJqJ"
      },
      "source": [
        "lstmcnn_word2vec_model = tf.keras.Sequential([\n",
        "    layers.Embedding(vocab_size, W2V_SIZE, weights=[embedding_matrix], input_length=SEQUENCE_LENGTH, trainable=False),\n",
        "    layers.LSTM(100, return_sequences=True, dropout=0.5, activation='relu'),\n",
        "    layers.MaxPooling1D(pool_size=2),\n",
        "    layers.Conv1D(128, 5, activation='relu'),\n",
        "    layers.GlobalMaxPooling1D(),\n",
        "    layers.Dense(10, activation='relu'),\n",
        "    tf.keras.layers.Dense(1, activation='sigmoid')\n",
        "])\n",
        "\n",
        "lstmcnn_word2vec_model.summary()"
      ],
      "execution_count": null,
      "outputs": []
    },
    {
      "cell_type": "code",
      "metadata": {
        "id": "IzMvz1t5eJqJ"
      },
      "source": [
        "lstmcnn_word2vec_model.compile(loss='binary_crossentropy',\n",
        "              optimizer=\"adam\",\n",
        "              metrics=['accuracy','Precision','Recall','AUC'])\n",
        "\n",
        "callbacks = [ ReduceLROnPlateau(monitor='val_loss', patience=5, cooldown=0),\n",
        "              EarlyStopping(monitor='val_accuracy', min_delta=1e-4, patience=5)]\n",
        "\n",
        "lstmcnn_word2vec_history = lstmcnn_word2vec_model.fit(x_train_word2vec , y_train_word2vec ,\n",
        "                    batch_size=BATCH_SIZE,\n",
        "                    epochs=EPOCHS,\n",
        "                    validation_split=0.1,\n",
        "                    verbose=1,\n",
        "                    callbacks=callbacks)"
      ],
      "execution_count": null,
      "outputs": []
    },
    {
      "cell_type": "code",
      "metadata": {
        "id": "E5k4et89eJqJ"
      },
      "source": [
        "score_lstmcnn_word2vec = lstmcnn_word2vec_model.evaluate(x_test_word2vec , y_test_word2vec , batch_size=BATCH_SIZE)\n",
        "print()\n",
        "\n",
        "print(\"LOSS:\",score_lstmcnn_word2vec[0])\n",
        "print(\"ACCURACY:\",score_lstmcnn_word2vec[1])\n",
        "print(\"PRECISION:\",score_lstmcnn_word2vec[2])\n",
        "print(\"RECALL:\",score_lstmcnn_word2vec[3])\n",
        "print(\"AUC:\",score_lstmcnn_word2vec[4])"
      ],
      "execution_count": null,
      "outputs": []
    }
  ]
}